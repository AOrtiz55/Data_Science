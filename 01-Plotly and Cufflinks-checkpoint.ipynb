{
 "cells": [
  {
   "cell_type": "markdown",
   "metadata": {},
   "source": [
    "___\n",
    "\n",
    "<a href='http://www.pieriandata.com'> <img src='../Pierian_Data_Logo.png' /></a>\n",
    "___\n",
    "# Plotly and Cufflinks"
   ]
  },
  {
   "cell_type": "markdown",
   "metadata": {},
   "source": [
    "Plotly is a library that allows you to create interactive plots that you can use in dashboards or websites (you can save them as html files or static images).\n",
    "\n",
    "## Installation\n",
    "\n",
    "In order for this all to work, you'll need to install plotly and cufflinks to call plots directly off of a pandas dataframe. These libraries are not currently available through **conda** but are available through **pip**. Install the libraries at your command line/terminal using:\n",
    "\n",
    "    pip install plotly\n",
    "    pip install cufflinks\n",
    "\n",
    "** NOTE: Make sure you only have one installation of Python on your computer when you do this, otherwise the installation may not work. **\n",
    "\n",
    "## Imports and Set-up"
   ]
  },
  {
   "cell_type": "code",
   "execution_count": 1,
   "metadata": {},
   "outputs": [],
   "source": [
    "import pandas as pd\n",
    "import numpy as np\n",
    "import chart_studio.plotly as py\n",
    "\n",
    "\n",
    "%matplotlib inline"
   ]
  },
  {
   "cell_type": "code",
   "execution_count": 2,
   "metadata": {},
   "outputs": [
    {
     "name": "stdout",
     "output_type": "stream",
     "text": [
      "5.2.2\n"
     ]
    }
   ],
   "source": [
    "from plotly import __version__\n",
    "from plotly.offline import download_plotlyjs, init_notebook_mode, plot, iplot\n",
    "\n",
    "print(__version__) # requires version >= 1.9.0"
   ]
  },
  {
   "cell_type": "code",
   "execution_count": 3,
   "metadata": {},
   "outputs": [],
   "source": [
    "import cufflinks as cf"
   ]
  },
  {
   "cell_type": "code",
   "execution_count": 4,
   "metadata": {},
   "outputs": [
    {
     "data": {
      "text/html": [
       "        <script type=\"text/javascript\">\n",
       "        window.PlotlyConfig = {MathJaxConfig: 'local'};\n",
       "        if (window.MathJax) {MathJax.Hub.Config({SVG: {font: \"STIX-Web\"}});}\n",
       "        if (typeof require !== 'undefined') {\n",
       "        require.undef(\"plotly\");\n",
       "        requirejs.config({\n",
       "            paths: {\n",
       "                'plotly': ['https://cdn.plot.ly/plotly-2.3.1.min']\n",
       "            }\n",
       "        });\n",
       "        require(['plotly'], function(Plotly) {\n",
       "            window._Plotly = Plotly;\n",
       "        });\n",
       "        }\n",
       "        </script>\n",
       "        "
      ]
     },
     "metadata": {},
     "output_type": "display_data"
    }
   ],
   "source": [
    "# For Notebooks\n",
    "init_notebook_mode(connected=True)"
   ]
  },
  {
   "cell_type": "code",
   "execution_count": 5,
   "metadata": {},
   "outputs": [
    {
     "data": {
      "text/html": [
       "        <script type=\"text/javascript\">\n",
       "        window.PlotlyConfig = {MathJaxConfig: 'local'};\n",
       "        if (window.MathJax) {MathJax.Hub.Config({SVG: {font: \"STIX-Web\"}});}\n",
       "        if (typeof require !== 'undefined') {\n",
       "        require.undef(\"plotly\");\n",
       "        requirejs.config({\n",
       "            paths: {\n",
       "                'plotly': ['https://cdn.plot.ly/plotly-2.3.1.min']\n",
       "            }\n",
       "        });\n",
       "        require(['plotly'], function(Plotly) {\n",
       "            window._Plotly = Plotly;\n",
       "        });\n",
       "        }\n",
       "        </script>\n",
       "        "
      ]
     },
     "metadata": {},
     "output_type": "display_data"
    }
   ],
   "source": [
    "# For offline use\n",
    "cf.go_offline()"
   ]
  },
  {
   "cell_type": "markdown",
   "metadata": {},
   "source": [
    "### Fake Data"
   ]
  },
  {
   "cell_type": "code",
   "execution_count": 6,
   "metadata": {},
   "outputs": [],
   "source": [
    "df = pd.DataFrame(np.random.randn(100,4),columns='A B C D'.split())"
   ]
  },
  {
   "cell_type": "code",
   "execution_count": 7,
   "metadata": {},
   "outputs": [
    {
     "data": {
      "text/html": [
       "<div>\n",
       "<style scoped>\n",
       "    .dataframe tbody tr th:only-of-type {\n",
       "        vertical-align: middle;\n",
       "    }\n",
       "\n",
       "    .dataframe tbody tr th {\n",
       "        vertical-align: top;\n",
       "    }\n",
       "\n",
       "    .dataframe thead th {\n",
       "        text-align: right;\n",
       "    }\n",
       "</style>\n",
       "<table border=\"1\" class=\"dataframe\">\n",
       "  <thead>\n",
       "    <tr style=\"text-align: right;\">\n",
       "      <th></th>\n",
       "      <th>A</th>\n",
       "      <th>B</th>\n",
       "      <th>C</th>\n",
       "      <th>D</th>\n",
       "    </tr>\n",
       "  </thead>\n",
       "  <tbody>\n",
       "    <tr>\n",
       "      <th>0</th>\n",
       "      <td>-0.128603</td>\n",
       "      <td>0.818563</td>\n",
       "      <td>-0.893034</td>\n",
       "      <td>1.109047</td>\n",
       "    </tr>\n",
       "    <tr>\n",
       "      <th>1</th>\n",
       "      <td>-1.635076</td>\n",
       "      <td>1.250082</td>\n",
       "      <td>0.321428</td>\n",
       "      <td>0.337118</td>\n",
       "    </tr>\n",
       "    <tr>\n",
       "      <th>2</th>\n",
       "      <td>-0.586823</td>\n",
       "      <td>0.116654</td>\n",
       "      <td>-0.346192</td>\n",
       "      <td>0.282968</td>\n",
       "    </tr>\n",
       "    <tr>\n",
       "      <th>3</th>\n",
       "      <td>0.205365</td>\n",
       "      <td>-0.281990</td>\n",
       "      <td>1.656192</td>\n",
       "      <td>0.614969</td>\n",
       "    </tr>\n",
       "    <tr>\n",
       "      <th>4</th>\n",
       "      <td>-0.770415</td>\n",
       "      <td>-0.663018</td>\n",
       "      <td>-1.816633</td>\n",
       "      <td>0.721173</td>\n",
       "    </tr>\n",
       "  </tbody>\n",
       "</table>\n",
       "</div>"
      ],
      "text/plain": [
       "          A         B         C         D\n",
       "0 -0.128603  0.818563 -0.893034  1.109047\n",
       "1 -1.635076  1.250082  0.321428  0.337118\n",
       "2 -0.586823  0.116654 -0.346192  0.282968\n",
       "3  0.205365 -0.281990  1.656192  0.614969\n",
       "4 -0.770415 -0.663018 -1.816633  0.721173"
      ]
     },
     "execution_count": 7,
     "metadata": {},
     "output_type": "execute_result"
    }
   ],
   "source": [
    "df.head()"
   ]
  },
  {
   "cell_type": "code",
   "execution_count": 8,
   "metadata": {},
   "outputs": [],
   "source": [
    "df2 = pd.DataFrame({'Category':['A','B','C'],'Values':[32,43,50]})"
   ]
  },
  {
   "cell_type": "code",
   "execution_count": 11,
   "metadata": {},
   "outputs": [
    {
     "data": {
      "text/html": [
       "<div>\n",
       "<style scoped>\n",
       "    .dataframe tbody tr th:only-of-type {\n",
       "        vertical-align: middle;\n",
       "    }\n",
       "\n",
       "    .dataframe tbody tr th {\n",
       "        vertical-align: top;\n",
       "    }\n",
       "\n",
       "    .dataframe thead th {\n",
       "        text-align: right;\n",
       "    }\n",
       "</style>\n",
       "<table border=\"1\" class=\"dataframe\">\n",
       "  <thead>\n",
       "    <tr style=\"text-align: right;\">\n",
       "      <th></th>\n",
       "      <th>Category</th>\n",
       "      <th>Values</th>\n",
       "    </tr>\n",
       "  </thead>\n",
       "  <tbody>\n",
       "    <tr>\n",
       "      <th>0</th>\n",
       "      <td>A</td>\n",
       "      <td>32</td>\n",
       "    </tr>\n",
       "    <tr>\n",
       "      <th>1</th>\n",
       "      <td>B</td>\n",
       "      <td>43</td>\n",
       "    </tr>\n",
       "    <tr>\n",
       "      <th>2</th>\n",
       "      <td>C</td>\n",
       "      <td>50</td>\n",
       "    </tr>\n",
       "  </tbody>\n",
       "</table>\n",
       "</div>"
      ],
      "text/plain": [
       "  Category  Values\n",
       "0        A      32\n",
       "1        B      43\n",
       "2        C      50"
      ]
     },
     "execution_count": 11,
     "metadata": {},
     "output_type": "execute_result"
    }
   ],
   "source": [
    "df2.head()"
   ]
  },
  {
   "cell_type": "code",
   "execution_count": 14,
   "metadata": {},
   "outputs": [
    {
     "data": {
      "text/plain": [
       "<AxesSubplot:>"
      ]
     },
     "execution_count": 14,
     "metadata": {},
     "output_type": "execute_result"
    },
    {
     "data": {
      "image/png": "[encoded data removed]",
      "text/plain": [
       "<Figure size 432x288 with 1 Axes>"
      ]
     },
     "metadata": {
      "needs_background": "light"
     },
     "output_type": "display_data"
    }
   ],
   "source": [
    "df.plot()"
   ]
  },
  {
   "cell_type": "code",
   "execution_count": 16,
   "metadata": {},
   "outputs": [
    {
     "data": {
      "application/vnd.plotly.v1+json": {
       "config": {
        "linkText": "Export to plot.ly",
        "plotlyServerURL": "https://plot.ly",
        "showLink": true
       },
       "data": [
        {
         "line": {
          "color": "rgba(255, 153, 51, 1.0)",
          "dash": "solid",
          "shape": "linear",
          "width": 1.3
         },
         "mode": "lines",
         "name": "A",
         "text": "",
         "type": "scatter",
         "x": [
          0,
          1,
          2,
          3,
          4,
          5,
          6,
          7,
          8,
          9,
          10,
          11,
          12,
          13,
          14,
          15,
          16,
          17,
          18,
          19,
          20,
          21,
          22,
          23,
          24,
          25,
          26,
          27,
          28,
          29,
          30,
          31,
          32,
          33,
          34,
          35,
          36,
          37,
          38,
          39,
          40,
          41,
          42,
          43,
          44,
          45,
          46,
          47,
          48,
          49,
          50,
          51,
          52,
          53,
          54,
          55,
          56,
          57,
          58,
          59,
          60,
          61,
          62,
          63,
          64,
          65,
          66,
          67,
          68,
          69,
          70,
          71,
          72,
          73,
          74,
          75,
          76,
          77,
          78,
          79,
          80,
          81,
          82,
          83,
          84,
          85,
          86,
          87,
          88,
          89,
          90,
          91,
          92,
          93,
          94,
          95,
          96,
          97,
          98,
          99
         ],
         "y": [
          -0.12860260964606524,
          -1.635076306921547,
          -0.5868234739317386,
          0.20536526213217854,
          -0.7704148764243725,
          -0.608403118302665,
          -0.7771802124507576,
          0.8638616806968181,
          0.1987514763826788,
          0.5357468318854114,
          -0.805512501779021,
          2.818642095345587,
          -2.240429562821057,
          -0.9088716508414676,
          0.7688400036889937,
          1.3756705159878135,
          -0.14107448240173198,
          0.08435939863095848,
          -0.47542973557415535,
          -0.1674320741073042,
          -0.9928036010743042,
          -0.7456484563065178,
          0.3635481444242281,
          -0.5882618454120682,
          0.25414012281316667,
          0.8075350123432112,
          -2.17954988460998,
          1.0844212767816042,
          -0.6155401327201286,
          -0.8120677127265419,
          2.682095463168087,
          -0.8861062679388414,
          1.469866879622548,
          0.5739384835339598,
          -0.23539355790992364,
          0.3855826865292886,
          0.7186966464917793,
          0.3410797855162574,
          0.5082102613681312,
          -1.0232298776039623,
          0.094534363966649,
          -0.7468149471682591,
          0.6229276400590422,
          -1.006463292187963,
          0.43942570432402883,
          0.13999106174426013,
          -0.18938672474156987,
          -2.1591422816985486,
          -0.7712419228767906,
          -0.13630277784588765,
          1.8808542077379922,
          -0.03716927274838659,
          1.2639943341550404,
          -1.9816255138725716,
          -0.9559184241340777,
          0.3247446560710932,
          0.18749271902478037,
          0.07551280173086344,
          -0.49192181482586333,
          -0.4064583434602699,
          0.37686420304300106,
          -1.2662705459050974,
          0.8542971275153713,
          0.29222986412994945,
          -0.4357575569598363,
          -0.5029881280728328,
          -0.07342481701123633,
          -0.580731972963385,
          0.16814525256958246,
          0.7540617088613196,
          -2.807357263191882,
          0.2943652315452601,
          -0.9074105640013431,
          0.15419826504650516,
          -0.4020928330168706,
          -1.101935671902682,
          1.0590467937942818,
          -0.3873084367063922,
          0.850415751157854,
          -1.5268134381322997,
          0.17885452056056642,
          0.8598113461865062,
          -0.5332477857304616,
          0.42630320958643003,
          1.4763273314038519,
          1.0445069006882544,
          -2.029088486467021,
          -0.029734088032628603,
          -0.6745514583669592,
          -0.42394470279379776,
          -0.36594863842629466,
          -0.19923259224542597,
          -1.3006374051023517,
          -0.07018709569337656,
          -0.06322920059030304,
          0.09020414160573006,
          -0.42177867349612475,
          -1.4466636968930875,
          0.39394302890355015,
          -0.16504994921024868
         ]
        },
        {
         "line": {
          "color": "rgba(55, 128, 191, 1.0)",
          "dash": "solid",
          "shape": "linear",
          "width": 1.3
         },
         "mode": "lines",
         "name": "B",
         "text": "",
         "type": "scatter",
         "x": [
          0,
          1,
          2,
          3,
          4,
          5,
          6,
          7,
          8,
          9,
          10,
          11,
          12,
          13,
          14,
          15,
          16,
          17,
          18,
          19,
          20,
          21,
          22,
          23,
          24,
          25,
          26,
          27,
          28,
          29,
          30,
          31,
          32,
          33,
          34,
          35,
          36,
          37,
          38,
          39,
          40,
          41,
          42,
          43,
          44,
          45,
          46,
          47,
          48,
          49,
          50,
          51,
          52,
          53,
          54,
          55,
          56,
          57,
          58,
          59,
          60,
          61,
          62,
          63,
          64,
          65,
          66,
          67,
          68,
          69,
          70,
          71,
          72,
          73,
          74,
          75,
          76,
          77,
          78,
          79,
          80,
          81,
          82,
          83,
          84,
          85,
          86,
          87,
          88,
          89,
          90,
          91,
          92,
          93,
          94,
          95,
          96,
          97,
          98,
          99
         ],
         "y": [
          0.8185633845691501,
          1.250081636706017,
          0.11665422761436443,
          -0.2819901305478438,
          -0.6630182612897098,
          -0.3976453012974691,
          -0.5142082474577344,
          1.432976072008938,
          -2.614656326430859,
          2.142350309515806,
          0.6315409739127879,
          -0.708523285057641,
          0.5887555771349915,
          -1.4670398225476153,
          0.38477474395597316,
          2.1580945911705522,
          -0.6516882359233838,
          -1.6072549511834457,
          1.9364025334076367,
          -0.3729478015325837,
          1.456366286150059,
          0.5439429577293267,
          -0.06266508726016042,
          0.08840851093159466,
          0.525358281417997,
          -0.3415948287709737,
          0.2782395112701509,
          -0.17363095306504372,
          1.6475287341175775,
          -0.6562329183539691,
          -0.606666583795318,
          0.8233227456549621,
          -1.1006792057121941,
          -0.6038368427675496,
          -2.0685312197481656,
          -1.986812049601142,
          0.8016485809681733,
          0.08165263911139128,
          0.3018568326471051,
          1.4093206296813823,
          -0.1419959788866885,
          1.0068346160490198,
          -0.2135577872229478,
          -0.6212130211754662,
          2.91751459596935,
          -0.987940120823154,
          -0.9635950028352653,
          1.527761807710861,
          -2.660145662991958,
          0.9936137813400049,
          0.19720730910200923,
          1.9220446213364466,
          -1.9824981561511965,
          0.9563612107483108,
          1.2114572878639558,
          1.6761627962728234,
          1.1172822968710148,
          -0.852556826829526,
          0.5588420880177051,
          -0.48081412546774405,
          0.21619630678914495,
          0.28570481398274655,
          -0.26149968424397974,
          0.11408904413161775,
          1.2445996688810668,
          0.5878519772306224,
          0.03640300202301524,
          1.3429085752990346,
          0.31823227538228843,
          -0.44676448115245726,
          -0.32530669262862044,
          0.9727877924250453,
          -0.0016704124674436116,
          -1.704903047178396,
          0.06066998774211031,
          0.28333312677425526,
          -0.5461410231171553,
          1.1876633432998498,
          1.823974612474308,
          0.3496133196099635,
          1.447369161868816,
          -0.14884505603801926,
          0.2162416080437122,
          -0.5313346616861173,
          2.1559149096145016,
          0.4148938103042243,
          -0.07700947991227261,
          -0.17273927058773778,
          1.34532358448916,
          1.234205040365912,
          2.044149009033562,
          -0.009843940123830736,
          0.9337939733849073,
          1.087400634796986,
          0.3308251839280632,
          0.21105526600770663,
          1.1130421977450977,
          0.6499386149537946,
          -1.782007975306854,
          0.12607299045661263
         ]
        },
        {
         "line": {
          "color": "rgba(50, 171, 96, 1.0)",
          "dash": "solid",
          "shape": "linear",
          "width": 1.3
         },
         "mode": "lines",
         "name": "C",
         "text": "",
         "type": "scatter",
         "x": [
          0,
          1,
          2,
          3,
          4,
          5,
          6,
          7,
          8,
          9,
          10,
          11,
          12,
          13,
          14,
          15,
          16,
          17,
          18,
          19,
          20,
          21,
          22,
          23,
          24,
          25,
          26,
          27,
          28,
          29,
          30,
          31,
          32,
          33,
          34,
          35,
          36,
          37,
          38,
          39,
          40,
          41,
          42,
          43,
          44,
          45,
          46,
          47,
          48,
          49,
          50,
          51,
          52,
          53,
          54,
          55,
          56,
          57,
          58,
          59,
          60,
          61,
          62,
          63,
          64,
          65,
          66,
          67,
          68,
          69,
          70,
          71,
          72,
          73,
          74,
          75,
          76,
          77,
          78,
          79,
          80,
          81,
          82,
          83,
          84,
          85,
          86,
          87,
          88,
          89,
          90,
          91,
          92,
          93,
          94,
          95,
          96,
          97,
          98,
          99
         ],
         "y": [
          -0.893034094052463,
          0.32142774154723863,
          -0.3461919868219022,
          1.6561915760000439,
          -1.8166327223963545,
          1.040524839747155,
          0.9933425557883019,
          0.74754787649467,
          -1.3697550864677888,
          0.9475525316175184,
          0.5903154036144674,
          -0.7193204284641453,
          -1.9706838414463923,
          1.424327904930943,
          1.9116607052143617,
          -0.7403230847455231,
          0.32122402861502725,
          0.2666188237967878,
          -1.2472844827286877,
          -0.9864156678890039,
          -1.5740847455847609,
          2.4053623963015944,
          -0.18380770754266082,
          1.0100927924209668,
          0.008227393622940006,
          1.5040658984836761,
          0.35984666317500086,
          -0.010621694922587542,
          -0.9994973288590799,
          2.595693886950609,
          0.2353111613525256,
          0.6381246998827086,
          -0.817931135113251,
          -0.7312839667532411,
          -0.9516835966826418,
          0.9423829522251238,
          -0.49790466411485795,
          0.8650948398809166,
          -0.9622854165672089,
          -1.0009942771582916,
          -0.12384188866053221,
          -1.2762267019310556,
          0.7712920222160783,
          0.7201184409510004,
          0.779483744367753,
          -1.762828670711382,
          -0.0038623199058505603,
          -0.873829783639345,
          0.5522355139598802,
          -1.3762138498922944,
          -1.1066194220310017,
          1.2152314341907116,
          0.05727901067260451,
          0.15114641295756395,
          0.29208588700478477,
          -1.2926987542555897,
          0.9792888922932551,
          -0.9463140974925113,
          0.883439595680161,
          0.3706456171106732,
          -0.08177682307403422,
          -0.47332294991059815,
          1.3951761743033302,
          -1.6761156446064684,
          0.6266946201967991,
          0.2418690971931785,
          0.9757683977975071,
          -0.12448811651009352,
          0.5995728523890195,
          -0.32181688438111844,
          -0.3465102167045141,
          0.7450924421626615,
          -0.06462150137038737,
          -0.9730558453768658,
          -1.803169972606296,
          -1.415646240961098,
          -1.197401565341801,
          0.9075922706514219,
          -0.7091205077971906,
          -1.0276347737760627,
          0.5380829806883355,
          -1.3678380610816991,
          -0.384241833930092,
          1.0254937487462035,
          -1.0654007272260546,
          1.2815424921644067,
          -1.6442022248361263,
          1.1045538065374758,
          0.16939116563923345,
          -0.05036027322015534,
          0.1748085662363392,
          -0.8618252699045826,
          -0.2934214357447494,
          0.5215076797551154,
          0.6967115919183898,
          0.5030398497295235,
          -1.3726691115386644,
          -0.48476916140777454,
          -1.4189375538405415,
          -0.6137861683516325
         ]
        },
        {
         "line": {
          "color": "rgba(128, 0, 128, 1.0)",
          "dash": "solid",
          "shape": "linear",
          "width": 1.3
         },
         "mode": "lines",
         "name": "D",
         "text": "",
         "type": "scatter",
         "x": [
          0,
          1,
          2,
          3,
          4,
          5,
          6,
          7,
          8,
          9,
          10,
          11,
          12,
          13,
          14,
          15,
          16,
          17,
          18,
          19,
          20,
          21,
          22,
          23,
          24,
          25,
          26,
          27,
          28,
          29,
          30,
          31,
          32,
          33,
          34,
          35,
          36,
          37,
          38,
          39,
          40,
          41,
          42,
          43,
          44,
          45,
          46,
          47,
          48,
          49,
          50,
          51,
          52,
          53,
          54,
          55,
          56,
          57,
          58,
          59,
          60,
          61,
          62,
          63,
          64,
          65,
          66,
          67,
          68,
          69,
          70,
          71,
          72,
          73,
          74,
          75,
          76,
          77,
          78,
          79,
          80,
          81,
          82,
          83,
          84,
          85,
          86,
          87,
          88,
          89,
          90,
          91,
          92,
          93,
          94,
          95,
          96,
          97,
          98,
          99
         ],
         "y": [
          1.1090472642363909,
          0.3371178180290584,
          0.28296765784076466,
          0.6149689457809169,
          0.7211730147563021,
          -1.931355800765621,
          0.03680030435616002,
          1.2813817922133333,
          1.416789465032888,
          0.008902683668203053,
          1.8631248309084487,
          -1.1801272473457742,
          0.04401416854001588,
          0.4743579555480905,
          -0.21738334375790233,
          1.1026659700438266,
          0.29241381541813016,
          1.9837903562943187,
          -0.6046270328586335,
          -0.208238480202482,
          -1.2956492020082484,
          -0.37442784874958635,
          -1.003657298561281,
          1.3352433678906408,
          0.8956244986767935,
          0.5599092583174339,
          1.982762838089537,
          0.5291275601716697,
          1.1339893735070545,
          0.2102874001458619,
          1.2137571986048645,
          1.072855331697689,
          -0.3872297527707569,
          0.9522421483503503,
          -0.2483481445228857,
          0.9895580848046946,
          0.518066626851122,
          0.2371795910475936,
          1.093349591901714,
          -0.3405701235063494,
          1.0175990051495523,
          -0.2952900676832008,
          -1.8938460290296366,
          1.620709125112299,
          -0.5388766183964406,
          -0.01374413684704235,
          -1.265764045922524,
          0.9828292540798076,
          0.578019867098778,
          0.7479627043288422,
          0.44680889106332966,
          -0.049622289294041756,
          -1.8675176393309336,
          0.41784058977742944,
          -0.78069049218744,
          -0.05023129981822584,
          0.9259084674694911,
          0.6079049195138972,
          -0.39550342315557996,
          0.810143942297103,
          0.18919567905140158,
          -0.060299398658938505,
          -0.5525599961640696,
          1.7448446554934378,
          1.2423299530024818,
          -0.7695859381636041,
          2.6974847759337393,
          -0.07989190730872778,
          -1.2611950165908241,
          1.2276507805607053,
          -0.6760775174913568,
          -0.19419234359693743,
          -1.0456515261340296,
          0.930610378884731,
          -0.6337624543021817,
          1.1934863057915028,
          -0.46446474733013593,
          0.9204170401886379,
          -0.3590193707293201,
          0.9154528331732662,
          -0.8434896435775322,
          -0.05709711280818407,
          -1.1696974727005032,
          0.3806656393442269,
          0.10647308023301408,
          -1.8337572800242365,
          0.6746856155101841,
          0.36735808876414183,
          -0.009142462456620622,
          -0.6159435399443982,
          0.4399981957217681,
          -0.6886887756599419,
          -0.8040263573259767,
          1.8087612711383865,
          1.0287037258388427,
          -4.637040204721781,
          1.7028759081582905,
          2.150505776094501,
          0.7446413266198268,
          0.15277915723958443
         ]
        }
       ],
       "layout": {
        "legend": {
         "bgcolor": "#F5F6F9",
         "font": {
          "color": "#4D5663"
         }
        },
        "paper_bgcolor": "#F5F6F9",
        "plot_bgcolor": "#F5F6F9",
        "template": {
         "data": {
          "bar": [
           {
            "error_x": {
             "color": "#2a3f5f"
            },
            "error_y": {
             "color": "#2a3f5f"
            },
            "marker": {
             "line": {
              "color": "#E5ECF6",
              "width": 0.5
             },
             "pattern": {
              "fillmode": "overlay",
              "size": 10,
              "solidity": 0.2
             }
            },
            "type": "bar"
           }
          ],
          "barpolar": [
           {
            "marker": {
             "line": {
              "color": "#E5ECF6",
              "width": 0.5
             },
             "pattern": {
              "fillmode": "overlay",
              "size": 10,
              "solidity": 0.2
             }
            },
            "type": "barpolar"
           }
          ],
          "carpet": [
           {
            "aaxis": {
             "endlinecolor": "#2a3f5f",
             "gridcolor": "white",
             "linecolor": "white",
             "minorgridcolor": "white",
             "startlinecolor": "#2a3f5f"
            },
            "baxis": {
             "endlinecolor": "#2a3f5f",
             "gridcolor": "white",
             "linecolor": "white",
             "minorgridcolor": "white",
             "startlinecolor": "#2a3f5f"
            },
            "type": "carpet"
           }
          ],
          "choropleth": [
           {
            "colorbar": {
             "outlinewidth": 0,
             "ticks": ""
            },
            "type": "choropleth"
           }
          ],
          "contour": [
           {
            "colorbar": {
             "outlinewidth": 0,
             "ticks": ""
            },
            "colorscale": [
             [
              0,
              "#0d0887"
             ],
             [
              0.1111111111111111,
              "#46039f"
             ],
             [
              0.2222222222222222,
              "#7201a8"
             ],
             [
              0.3333333333333333,
              "#9c179e"
             ],
             [
              0.4444444444444444,
              "#bd3786"
             ],
             [
              0.5555555555555556,
              "#d8576b"
             ],
             [
              0.6666666666666666,
              "#ed7953"
             ],
             [
              0.7777777777777778,
              "#fb9f3a"
             ],
             [
              0.8888888888888888,
              "#fdca26"
             ],
             [
              1,
              "#f0f921"
             ]
            ],
            "type": "contour"
           }
          ],
          "contourcarpet": [
           {
            "colorbar": {
             "outlinewidth": 0,
             "ticks": ""
            },
            "type": "contourcarpet"
           }
          ],
          "heatmap": [
           {
            "colorbar": {
             "outlinewidth": 0,
             "ticks": ""
            },
            "colorscale": [
             [
              0,
              "#0d0887"
             ],
             [
              0.1111111111111111,
              "#46039f"
             ],
             [
              0.2222222222222222,
              "#7201a8"
             ],
             [
              0.3333333333333333,
              "#9c179e"
             ],
             [
              0.4444444444444444,
              "#bd3786"
             ],
             [
              0.5555555555555556,
              "#d8576b"
             ],
             [
              0.6666666666666666,
              "#ed7953"
             ],
             [
              0.7777777777777778,
              "#fb9f3a"
             ],
             [
              0.8888888888888888,
              "#fdca26"
             ],
             [
              1,
              "#f0f921"
             ]
            ],
            "type": "heatmap"
           }
          ],
          "heatmapgl": [
           {
            "colorbar": {
             "outlinewidth": 0,
             "ticks": ""
            },
            "colorscale": [
             [
              0,
              "#0d0887"
             ],
             [
              0.1111111111111111,
              "#46039f"
             ],
             [
              0.2222222222222222,
              "#7201a8"
             ],
             [
              0.3333333333333333,
              "#9c179e"
             ],
             [
              0.4444444444444444,
              "#bd3786"
             ],
             [
              0.5555555555555556,
              "#d8576b"
             ],
             [
              0.6666666666666666,
              "#ed7953"
             ],
             [
              0.7777777777777778,
              "#fb9f3a"
             ],
             [
              0.8888888888888888,
              "#fdca26"
             ],
             [
              1,
              "#f0f921"
             ]
            ],
            "type": "heatmapgl"
           }
          ],
          "histogram": [
           {
            "marker": {
             "pattern": {
              "fillmode": "overlay",
              "size": 10,
              "solidity": 0.2
             }
            },
            "type": "histogram"
           }
          ],
          "histogram2d": [
           {
            "colorbar": {
             "outlinewidth": 0,
             "ticks": ""
            },
            "colorscale": [
             [
              0,
              "#0d0887"
             ],
             [
              0.1111111111111111,
              "#46039f"
             ],
             [
              0.2222222222222222,
              "#7201a8"
             ],
             [
              0.3333333333333333,
              "#9c179e"
             ],
             [
              0.4444444444444444,
              "#bd3786"
             ],
             [
              0.5555555555555556,
              "#d8576b"
             ],
             [
              0.6666666666666666,
              "#ed7953"
             ],
             [
              0.7777777777777778,
              "#fb9f3a"
             ],
             [
              0.8888888888888888,
              "#fdca26"
             ],
             [
              1,
              "#f0f921"
             ]
            ],
            "type": "histogram2d"
           }
          ],
          "histogram2dcontour": [
           {
            "colorbar": {
             "outlinewidth": 0,
             "ticks": ""
            },
            "colorscale": [
             [
              0,
              "#0d0887"
             ],
             [
              0.1111111111111111,
              "#46039f"
             ],
             [
              0.2222222222222222,
              "#7201a8"
             ],
             [
              0.3333333333333333,
              "#9c179e"
             ],
             [
              0.4444444444444444,
              "#bd3786"
             ],
             [
              0.5555555555555556,
              "#d8576b"
             ],
             [
              0.6666666666666666,
              "#ed7953"
             ],
             [
              0.7777777777777778,
              "#fb9f3a"
             ],
             [
              0.8888888888888888,
              "#fdca26"
             ],
             [
              1,
              "#f0f921"
             ]
            ],
            "type": "histogram2dcontour"
           }
          ],
          "mesh3d": [
           {
            "colorbar": {
             "outlinewidth": 0,
             "ticks": ""
            },
            "type": "mesh3d"
           }
          ],
          "parcoords": [
           {
            "line": {
             "colorbar": {
              "outlinewidth": 0,
              "ticks": ""
             }
            },
            "type": "parcoords"
           }
          ],
          "pie": [
           {
            "automargin": true,
            "type": "pie"
           }
          ],
          "scatter": [
           {
            "marker": {
             "colorbar": {
              "outlinewidth": 0,
              "ticks": ""
             }
            },
            "type": "scatter"
           }
          ],
          "scatter3d": [
           {
            "line": {
             "colorbar": {
              "outlinewidth": 0,
              "ticks": ""
             }
            },
            "marker": {
             "colorbar": {
              "outlinewidth": 0,
              "ticks": ""
             }
            },
            "type": "scatter3d"
           }
          ],
          "scattercarpet": [
           {
            "marker": {
             "colorbar": {
              "outlinewidth": 0,
              "ticks": ""
             }
            },
            "type": "scattercarpet"
           }
          ],
          "scattergeo": [
           {
            "marker": {
             "colorbar": {
              "outlinewidth": 0,
              "ticks": ""
             }
            },
            "type": "scattergeo"
           }
          ],
          "scattergl": [
           {
            "marker": {
             "colorbar": {
              "outlinewidth": 0,
              "ticks": ""
             }
            },
            "type": "scattergl"
           }
          ],
          "scattermapbox": [
           {
            "marker": {
             "colorbar": {
              "outlinewidth": 0,
              "ticks": ""
             }
            },
            "type": "scattermapbox"
           }
          ],
          "scatterpolar": [
           {
            "marker": {
             "colorbar": {
              "outlinewidth": 0,
              "ticks": ""
             }
            },
            "type": "scatterpolar"
           }
          ],
          "scatterpolargl": [
           {
            "marker": {
             "colorbar": {
              "outlinewidth": 0,
              "ticks": ""
             }
            },
            "type": "scatterpolargl"
           }
          ],
          "scatterternary": [
           {
            "marker": {
             "colorbar": {
              "outlinewidth": 0,
              "ticks": ""
             }
            },
            "type": "scatterternary"
           }
          ],
          "surface": [
           {
            "colorbar": {
             "outlinewidth": 0,
             "ticks": ""
            },
            "colorscale": [
             [
              0,
              "#0d0887"
             ],
             [
              0.1111111111111111,
              "#46039f"
             ],
             [
              0.2222222222222222,
              "#7201a8"
             ],
             [
              0.3333333333333333,
              "#9c179e"
             ],
             [
              0.4444444444444444,
              "#bd3786"
             ],
             [
              0.5555555555555556,
              "#d8576b"
             ],
             [
              0.6666666666666666,
              "#ed7953"
             ],
             [
              0.7777777777777778,
              "#fb9f3a"
             ],
             [
              0.8888888888888888,
              "#fdca26"
             ],
             [
              1,
              "#f0f921"
             ]
            ],
            "type": "surface"
           }
          ],
          "table": [
           {
            "cells": {
             "fill": {
              "color": "#EBF0F8"
             },
             "line": {
              "color": "white"
             }
            },
            "header": {
             "fill": {
              "color": "#C8D4E3"
             },
             "line": {
              "color": "white"
             }
            },
            "type": "table"
           }
          ]
         },
         "layout": {
          "annotationdefaults": {
           "arrowcolor": "#2a3f5f",
           "arrowhead": 0,
           "arrowwidth": 1
          },
          "autotypenumbers": "strict",
          "coloraxis": {
           "colorbar": {
            "outlinewidth": 0,
            "ticks": ""
           }
          },
          "colorscale": {
           "diverging": [
            [
             0,
             "#8e0152"
            ],
            [
             0.1,
             "#c51b7d"
            ],
            [
             0.2,
             "#de77ae"
            ],
            [
             0.3,
             "#f1b6da"
            ],
            [
             0.4,
             "#fde0ef"
            ],
            [
             0.5,
             "#f7f7f7"
            ],
            [
             0.6,
             "#e6f5d0"
            ],
            [
             0.7,
             "#b8e186"
            ],
            [
             0.8,
             "#7fbc41"
            ],
            [
             0.9,
             "#4d9221"
            ],
            [
             1,
             "#276419"
            ]
           ],
           "sequential": [
            [
             0,
             "#0d0887"
            ],
            [
             0.1111111111111111,
             "#46039f"
            ],
            [
             0.2222222222222222,
             "#7201a8"
            ],
            [
             0.3333333333333333,
             "#9c179e"
            ],
            [
             0.4444444444444444,
             "#bd3786"
            ],
            [
             0.5555555555555556,
             "#d8576b"
            ],
            [
             0.6666666666666666,
             "#ed7953"
            ],
            [
             0.7777777777777778,
             "#fb9f3a"
            ],
            [
             0.8888888888888888,
             "#fdca26"
            ],
            [
             1,
             "#f0f921"
            ]
           ],
           "sequentialminus": [
            [
             0,
             "#0d0887"
            ],
            [
             0.1111111111111111,
             "#46039f"
            ],
            [
             0.2222222222222222,
             "#7201a8"
            ],
            [
             0.3333333333333333,
             "#9c179e"
            ],
            [
             0.4444444444444444,
             "#bd3786"
            ],
            [
             0.5555555555555556,
             "#d8576b"
            ],
            [
             0.6666666666666666,
             "#ed7953"
            ],
            [
             0.7777777777777778,
             "#fb9f3a"
            ],
            [
             0.8888888888888888,
             "#fdca26"
            ],
            [
             1,
             "#f0f921"
            ]
           ]
          },
          "colorway": [
           "#636efa",
           "#EF553B",
           "#00cc96",
           "#ab63fa",
           "#FFA15A",
           "#19d3f3",
           "#FF6692",
           "#B6E880",
           "#FF97FF",
           "#FECB52"
          ],
          "font": {
           "color": "#2a3f5f"
          },
          "geo": {
           "bgcolor": "white",
           "lakecolor": "white",
           "landcolor": "#E5ECF6",
           "showlakes": true,
           "showland": true,
           "subunitcolor": "white"
          },
          "hoverlabel": {
           "align": "left"
          },
          "hovermode": "closest",
          "mapbox": {
           "style": "light"
          },
          "paper_bgcolor": "white",
          "plot_bgcolor": "#E5ECF6",
          "polar": {
           "angularaxis": {
            "gridcolor": "white",
            "linecolor": "white",
            "ticks": ""
           },
           "bgcolor": "#E5ECF6",
           "radialaxis": {
            "gridcolor": "white",
            "linecolor": "white",
            "ticks": ""
           }
          },
          "scene": {
           "xaxis": {
            "backgroundcolor": "#E5ECF6",
            "gridcolor": "white",
            "gridwidth": 2,
            "linecolor": "white",
            "showbackground": true,
            "ticks": "",
            "zerolinecolor": "white"
           },
           "yaxis": {
            "backgroundcolor": "#E5ECF6",
            "gridcolor": "white",
            "gridwidth": 2,
            "linecolor": "white",
            "showbackground": true,
            "ticks": "",
            "zerolinecolor": "white"
           },
           "zaxis": {
            "backgroundcolor": "#E5ECF6",
            "gridcolor": "white",
            "gridwidth": 2,
            "linecolor": "white",
            "showbackground": true,
            "ticks": "",
            "zerolinecolor": "white"
           }
          },
          "shapedefaults": {
           "line": {
            "color": "#2a3f5f"
           }
          },
          "ternary": {
           "aaxis": {
            "gridcolor": "white",
            "linecolor": "white",
            "ticks": ""
           },
           "baxis": {
            "gridcolor": "white",
            "linecolor": "white",
            "ticks": ""
           },
           "bgcolor": "#E5ECF6",
           "caxis": {
            "gridcolor": "white",
            "linecolor": "white",
            "ticks": ""
           }
          },
          "title": {
           "x": 0.05
          },
          "xaxis": {
           "automargin": true,
           "gridcolor": "white",
           "linecolor": "white",
           "ticks": "",
           "title": {
            "standoff": 15
           },
           "zerolinecolor": "white",
           "zerolinewidth": 2
          },
          "yaxis": {
           "automargin": true,
           "gridcolor": "white",
           "linecolor": "white",
           "ticks": "",
           "title": {
            "standoff": 15
           },
           "zerolinecolor": "white",
           "zerolinewidth": 2
          }
         }
        },
        "title": {
         "font": {
          "color": "#4D5663"
         }
        },
        "xaxis": {
         "gridcolor": "#E1E5ED",
         "showgrid": true,
         "tickfont": {
          "color": "#4D5663"
         },
         "title": {
          "font": {
           "color": "#4D5663"
          },
          "text": ""
         },
         "zerolinecolor": "#E1E5ED"
        },
        "yaxis": {
         "gridcolor": "#E1E5ED",
         "showgrid": true,
         "tickfont": {
          "color": "#4D5663"
         },
         "title": {
          "font": {
           "color": "#4D5663"
          },
          "text": ""
         },
         "zerolinecolor": "#E1E5ED"
        }
       }
      },
      "text/html": [
       "<div>                            <div id=\"9490757c-bc56-4722-a95f-d0026bc65db9\" class=\"plotly-graph-div\" style=\"height:525px; width:100%;\"></div>            <script type=\"text/javascript\">                require([\"plotly\"], function(Plotly) {                    window.PLOTLYENV=window.PLOTLYENV || {};\n",
       "                    window.PLOTLYENV.BASE_URL='https://plot.ly';                                    if (document.getElementById(\"9490757c-bc56-4722-a95f-d0026bc65db9\")) {                    Plotly.newPlot(                        \"9490757c-bc56-4722-a95f-d0026bc65db9\",                        [{\"line\":{\"color\":\"rgba(255, 153, 51, 1.0)\",\"dash\":\"solid\",\"shape\":\"linear\",\"width\":1.3},\"mode\":\"lines\",\"name\":\"A\",\"text\":\"\",\"type\":\"scatter\",\"x\":[0,1,2,3,4,5,6,7,8,9,10,11,12,13,14,15,16,17,18,19,20,21,22,23,24,25,26,27,28,29,30,31,32,33,34,35,36,37,38,39,40,41,42,43,44,45,46,47,48,49,50,51,52,53,54,55,56,57,58,59,60,61,62,63,64,65,66,67,68,69,70,71,72,73,74,75,76,77,78,79,80,81,82,83,84,85,86,87,88,89,90,91,92,93,94,95,96,97,98,99],\"y\":[-0.12860260964606524,-1.635076306921547,-0.5868234739317386,0.20536526213217854,-0.7704148764243725,-0.608403118302665,-0.7771802124507576,0.8638616806968181,0.1987514763826788,0.5357468318854114,-0.805512501779021,2.818642095345587,-2.240429562821057,-0.9088716508414676,0.7688400036889937,1.3756705159878135,-0.14107448240173198,0.08435939863095848,-0.47542973557415535,-0.1674320741073042,-0.9928036010743042,-0.7456484563065178,0.3635481444242281,-0.5882618454120682,0.25414012281316667,0.8075350123432112,-2.17954988460998,1.0844212767816042,-0.6155401327201286,-0.8120677127265419,2.682095463168087,-0.8861062679388414,1.469866879622548,0.5739384835339598,-0.23539355790992364,0.3855826865292886,0.7186966464917793,0.3410797855162574,0.5082102613681312,-1.0232298776039623,0.094534363966649,-0.7468149471682591,0.6229276400590422,-1.006463292187963,0.43942570432402883,0.13999106174426013,-0.18938672474156987,-2.1591422816985486,-0.7712419228767906,-0.13630277784588765,1.8808542077379922,-0.03716927274838659,1.2639943341550404,-1.9816255138725716,-0.9559184241340777,0.3247446560710932,0.18749271902478037,0.07551280173086344,-0.49192181482586333,-0.4064583434602699,0.37686420304300106,-1.2662705459050974,0.8542971275153713,0.29222986412994945,-0.4357575569598363,-0.5029881280728328,-0.07342481701123633,-0.580731972963385,0.16814525256958246,0.7540617088613196,-2.807357263191882,0.2943652315452601,-0.9074105640013431,0.15419826504650516,-0.4020928330168706,-1.101935671902682,1.0590467937942818,-0.3873084367063922,0.850415751157854,-1.5268134381322997,0.17885452056056642,0.8598113461865062,-0.5332477857304616,0.42630320958643003,1.4763273314038519,1.0445069006882544,-2.029088486467021,-0.029734088032628603,-0.6745514583669592,-0.42394470279379776,-0.36594863842629466,-0.19923259224542597,-1.3006374051023517,-0.07018709569337656,-0.06322920059030304,0.09020414160573006,-0.42177867349612475,-1.4466636968930875,0.39394302890355015,-0.16504994921024868]},{\"line\":{\"color\":\"rgba(55, 128, 191, 1.0)\",\"dash\":\"solid\",\"shape\":\"linear\",\"width\":1.3},\"mode\":\"lines\",\"name\":\"B\",\"text\":\"\",\"type\":\"scatter\",\"x\":[0,1,2,3,4,5,6,7,8,9,10,11,12,13,14,15,16,17,18,19,20,21,22,23,24,25,26,27,28,29,30,31,32,33,34,35,36,37,38,39,40,41,42,43,44,45,46,47,48,49,50,51,52,53,54,55,56,57,58,59,60,61,62,63,64,65,66,67,68,69,70,71,72,73,74,75,76,77,78,79,80,81,82,83,84,85,86,87,88,89,90,91,92,93,94,95,96,97,98,99],\"y\":[0.8185633845691501,1.250081636706017,0.11665422761436443,-0.2819901305478438,-0.6630182612897098,-0.3976453012974691,-0.5142082474577344,1.432976072008938,-2.614656326430859,2.142350309515806,0.6315409739127879,-0.708523285057641,0.5887555771349915,-1.4670398225476153,0.38477474395597316,2.1580945911705522,-0.6516882359233838,-1.6072549511834457,1.9364025334076367,-0.3729478015325837,1.456366286150059,0.5439429577293267,-0.06266508726016042,0.08840851093159466,0.525358281417997,-0.3415948287709737,0.2782395112701509,-0.17363095306504372,1.6475287341175775,-0.6562329183539691,-0.606666583795318,0.8233227456549621,-1.1006792057121941,-0.6038368427675496,-2.0685312197481656,-1.986812049601142,0.8016485809681733,0.08165263911139128,0.3018568326471051,1.4093206296813823,-0.1419959788866885,1.0068346160490198,-0.2135577872229478,-0.6212130211754662,2.91751459596935,-0.987940120823154,-0.9635950028352653,1.527761807710861,-2.660145662991958,0.9936137813400049,0.19720730910200923,1.9220446213364466,-1.9824981561511965,0.9563612107483108,1.2114572878639558,1.6761627962728234,1.1172822968710148,-0.852556826829526,0.5588420880177051,-0.48081412546774405,0.21619630678914495,0.28570481398274655,-0.26149968424397974,0.11408904413161775,1.2445996688810668,0.5878519772306224,0.03640300202301524,1.3429085752990346,0.31823227538228843,-0.44676448115245726,-0.32530669262862044,0.9727877924250453,-0.0016704124674436116,-1.704903047178396,0.06066998774211031,0.28333312677425526,-0.5461410231171553,1.1876633432998498,1.823974612474308,0.3496133196099635,1.447369161868816,-0.14884505603801926,0.2162416080437122,-0.5313346616861173,2.1559149096145016,0.4148938103042243,-0.07700947991227261,-0.17273927058773778,1.34532358448916,1.234205040365912,2.044149009033562,-0.009843940123830736,0.9337939733849073,1.087400634796986,0.3308251839280632,0.21105526600770663,1.1130421977450977,0.6499386149537946,-1.782007975306854,0.12607299045661263]},{\"line\":{\"color\":\"rgba(50, 171, 96, 1.0)\",\"dash\":\"solid\",\"shape\":\"linear\",\"width\":1.3},\"mode\":\"lines\",\"name\":\"C\",\"text\":\"\",\"type\":\"scatter\",\"x\":[0,1,2,3,4,5,6,7,8,9,10,11,12,13,14,15,16,17,18,19,20,21,22,23,24,25,26,27,28,29,30,31,32,33,34,35,36,37,38,39,40,41,42,43,44,45,46,47,48,49,50,51,52,53,54,55,56,57,58,59,60,61,62,63,64,65,66,67,68,69,70,71,72,73,74,75,76,77,78,79,80,81,82,83,84,85,86,87,88,89,90,91,92,93,94,95,96,97,98,99],\"y\":[-0.893034094052463,0.32142774154723863,-0.3461919868219022,1.6561915760000439,-1.8166327223963545,1.040524839747155,0.9933425557883019,0.74754787649467,-1.3697550864677888,0.9475525316175184,0.5903154036144674,-0.7193204284641453,-1.9706838414463923,1.424327904930943,1.9116607052143617,-0.7403230847455231,0.32122402861502725,0.2666188237967878,-1.2472844827286877,-0.9864156678890039,-1.5740847455847609,2.4053623963015944,-0.18380770754266082,1.0100927924209668,0.008227393622940006,1.5040658984836761,0.35984666317500086,-0.010621694922587542,-0.9994973288590799,2.595693886950609,0.2353111613525256,0.6381246998827086,-0.817931135113251,-0.7312839667532411,-0.9516835966826418,0.9423829522251238,-0.49790466411485795,0.8650948398809166,-0.9622854165672089,-1.0009942771582916,-0.12384188866053221,-1.2762267019310556,0.7712920222160783,0.7201184409510004,0.779483744367753,-1.762828670711382,-0.0038623199058505603,-0.873829783639345,0.5522355139598802,-1.3762138498922944,-1.1066194220310017,1.2152314341907116,0.05727901067260451,0.15114641295756395,0.29208588700478477,-1.2926987542555897,0.9792888922932551,-0.9463140974925113,0.883439595680161,0.3706456171106732,-0.08177682307403422,-0.47332294991059815,1.3951761743033302,-1.6761156446064684,0.6266946201967991,0.2418690971931785,0.9757683977975071,-0.12448811651009352,0.5995728523890195,-0.32181688438111844,-0.3465102167045141,0.7450924421626615,-0.06462150137038737,-0.9730558453768658,-1.803169972606296,-1.415646240961098,-1.197401565341801,0.9075922706514219,-0.7091205077971906,-1.0276347737760627,0.5380829806883355,-1.3678380610816991,-0.384241833930092,1.0254937487462035,-1.0654007272260546,1.2815424921644067,-1.6442022248361263,1.1045538065374758,0.16939116563923345,-0.05036027322015534,0.1748085662363392,-0.8618252699045826,-0.2934214357447494,0.5215076797551154,0.6967115919183898,0.5030398497295235,-1.3726691115386644,-0.48476916140777454,-1.4189375538405415,-0.6137861683516325]},{\"line\":{\"color\":\"rgba(128, 0, 128, 1.0)\",\"dash\":\"solid\",\"shape\":\"linear\",\"width\":1.3},\"mode\":\"lines\",\"name\":\"D\",\"text\":\"\",\"type\":\"scatter\",\"x\":[0,1,2,3,4,5,6,7,8,9,10,11,12,13,14,15,16,17,18,19,20,21,22,23,24,25,26,27,28,29,30,31,32,33,34,35,36,37,38,39,40,41,42,43,44,45,46,47,48,49,50,51,52,53,54,55,56,57,58,59,60,61,62,63,64,65,66,67,68,69,70,71,72,73,74,75,76,77,78,79,80,81,82,83,84,85,86,87,88,89,90,91,92,93,94,95,96,97,98,99],\"y\":[1.1090472642363909,0.3371178180290584,0.28296765784076466,0.6149689457809169,0.7211730147563021,-1.931355800765621,0.03680030435616002,1.2813817922133333,1.416789465032888,0.008902683668203053,1.8631248309084487,-1.1801272473457742,0.04401416854001588,0.4743579555480905,-0.21738334375790233,1.1026659700438266,0.29241381541813016,1.9837903562943187,-0.6046270328586335,-0.208238480202482,-1.2956492020082484,-0.37442784874958635,-1.003657298561281,1.3352433678906408,0.8956244986767935,0.5599092583174339,1.982762838089537,0.5291275601716697,1.1339893735070545,0.2102874001458619,1.2137571986048645,1.072855331697689,-0.3872297527707569,0.9522421483503503,-0.2483481445228857,0.9895580848046946,0.518066626851122,0.2371795910475936,1.093349591901714,-0.3405701235063494,1.0175990051495523,-0.2952900676832008,-1.8938460290296366,1.620709125112299,-0.5388766183964406,-0.01374413684704235,-1.265764045922524,0.9828292540798076,0.578019867098778,0.7479627043288422,0.44680889106332966,-0.049622289294041756,-1.8675176393309336,0.41784058977742944,-0.78069049218744,-0.05023129981822584,0.9259084674694911,0.6079049195138972,-0.39550342315557996,0.810143942297103,0.18919567905140158,-0.060299398658938505,-0.5525599961640696,1.7448446554934378,1.2423299530024818,-0.7695859381636041,2.6974847759337393,-0.07989190730872778,-1.2611950165908241,1.2276507805607053,-0.6760775174913568,-0.19419234359693743,-1.0456515261340296,0.930610378884731,-0.6337624543021817,1.1934863057915028,-0.46446474733013593,0.9204170401886379,-0.3590193707293201,0.9154528331732662,-0.8434896435775322,-0.05709711280818407,-1.1696974727005032,0.3806656393442269,0.10647308023301408,-1.8337572800242365,0.6746856155101841,0.36735808876414183,-0.009142462456620622,-0.6159435399443982,0.4399981957217681,-0.6886887756599419,-0.8040263573259767,1.8087612711383865,1.0287037258388427,-4.637040204721781,1.7028759081582905,2.150505776094501,0.7446413266198268,0.15277915723958443]}],                        {\"legend\":{\"bgcolor\":\"#F5F6F9\",\"font\":{\"color\":\"#4D5663\"}},\"paper_bgcolor\":\"#F5F6F9\",\"plot_bgcolor\":\"#F5F6F9\",\"template\":{\"data\":{\"bar\":[{\"error_x\":{\"color\":\"#2a3f5f\"},\"error_y\":{\"color\":\"#2a3f5f\"},\"marker\":{\"line\":{\"color\":\"#E5ECF6\",\"width\":0.5},\"pattern\":{\"fillmode\":\"overlay\",\"size\":10,\"solidity\":0.2}},\"type\":\"bar\"}],\"barpolar\":[{\"marker\":{\"line\":{\"color\":\"#E5ECF6\",\"width\":0.5},\"pattern\":{\"fillmode\":\"overlay\",\"size\":10,\"solidity\":0.2}},\"type\":\"barpolar\"}],\"carpet\":[{\"aaxis\":{\"endlinecolor\":\"#2a3f5f\",\"gridcolor\":\"white\",\"linecolor\":\"white\",\"minorgridcolor\":\"white\",\"startlinecolor\":\"#2a3f5f\"},\"baxis\":{\"endlinecolor\":\"#2a3f5f\",\"gridcolor\":\"white\",\"linecolor\":\"white\",\"minorgridcolor\":\"white\",\"startlinecolor\":\"#2a3f5f\"},\"type\":\"carpet\"}],\"choropleth\":[{\"colorbar\":{\"outlinewidth\":0,\"ticks\":\"\"},\"type\":\"choropleth\"}],\"contour\":[{\"colorbar\":{\"outlinewidth\":0,\"ticks\":\"\"},\"colorscale\":[[0.0,\"#0d0887\"],[0.1111111111111111,\"#46039f\"],[0.2222222222222222,\"#7201a8\"],[0.3333333333333333,\"#9c179e\"],[0.4444444444444444,\"#bd3786\"],[0.5555555555555556,\"#d8576b\"],[0.6666666666666666,\"#ed7953\"],[0.7777777777777778,\"#fb9f3a\"],[0.8888888888888888,\"#fdca26\"],[1.0,\"#f0f921\"]],\"type\":\"contour\"}],\"contourcarpet\":[{\"colorbar\":{\"outlinewidth\":0,\"ticks\":\"\"},\"type\":\"contourcarpet\"}],\"heatmap\":[{\"colorbar\":{\"outlinewidth\":0,\"ticks\":\"\"},\"colorscale\":[[0.0,\"#0d0887\"],[0.1111111111111111,\"#46039f\"],[0.2222222222222222,\"#7201a8\"],[0.3333333333333333,\"#9c179e\"],[0.4444444444444444,\"#bd3786\"],[0.5555555555555556,\"#d8576b\"],[0.6666666666666666,\"#ed7953\"],[0.7777777777777778,\"#fb9f3a\"],[0.8888888888888888,\"#fdca26\"],[1.0,\"#f0f921\"]],\"type\":\"heatmap\"}],\"heatmapgl\":[{\"colorbar\":{\"outlinewidth\":0,\"ticks\":\"\"},\"colorscale\":[[0.0,\"#0d0887\"],[0.1111111111111111,\"#46039f\"],[0.2222222222222222,\"#7201a8\"],[0.3333333333333333,\"#9c179e\"],[0.4444444444444444,\"#bd3786\"],[0.5555555555555556,\"#d8576b\"],[0.6666666666666666,\"#ed7953\"],[0.7777777777777778,\"#fb9f3a\"],[0.8888888888888888,\"#fdca26\"],[1.0,\"#f0f921\"]],\"type\":\"heatmapgl\"}],\"histogram\":[{\"marker\":{\"pattern\":{\"fillmode\":\"overlay\",\"size\":10,\"solidity\":0.2}},\"type\":\"histogram\"}],\"histogram2d\":[{\"colorbar\":{\"outlinewidth\":0,\"ticks\":\"\"},\"colorscale\":[[0.0,\"#0d0887\"],[0.1111111111111111,\"#46039f\"],[0.2222222222222222,\"#7201a8\"],[0.3333333333333333,\"#9c179e\"],[0.4444444444444444,\"#bd3786\"],[0.5555555555555556,\"#d8576b\"],[0.6666666666666666,\"#ed7953\"],[0.7777777777777778,\"#fb9f3a\"],[0.8888888888888888,\"#fdca26\"],[1.0,\"#f0f921\"]],\"type\":\"histogram2d\"}],\"histogram2dcontour\":[{\"colorbar\":{\"outlinewidth\":0,\"ticks\":\"\"},\"colorscale\":[[0.0,\"#0d0887\"],[0.1111111111111111,\"#46039f\"],[0.2222222222222222,\"#7201a8\"],[0.3333333333333333,\"#9c179e\"],[0.4444444444444444,\"#bd3786\"],[0.5555555555555556,\"#d8576b\"],[0.6666666666666666,\"#ed7953\"],[0.7777777777777778,\"#fb9f3a\"],[0.8888888888888888,\"#fdca26\"],[1.0,\"#f0f921\"]],\"type\":\"histogram2dcontour\"}],\"mesh3d\":[{\"colorbar\":{\"outlinewidth\":0,\"ticks\":\"\"},\"type\":\"mesh3d\"}],\"parcoords\":[{\"line\":{\"colorbar\":{\"outlinewidth\":0,\"ticks\":\"\"}},\"type\":\"parcoords\"}],\"pie\":[{\"automargin\":true,\"type\":\"pie\"}],\"scatter\":[{\"marker\":{\"colorbar\":{\"outlinewidth\":0,\"ticks\":\"\"}},\"type\":\"scatter\"}],\"scatter3d\":[{\"line\":{\"colorbar\":{\"outlinewidth\":0,\"ticks\":\"\"}},\"marker\":{\"colorbar\":{\"outlinewidth\":0,\"ticks\":\"\"}},\"type\":\"scatter3d\"}],\"scattercarpet\":[{\"marker\":{\"colorbar\":{\"outlinewidth\":0,\"ticks\":\"\"}},\"type\":\"scattercarpet\"}],\"scattergeo\":[{\"marker\":{\"colorbar\":{\"outlinewidth\":0,\"ticks\":\"\"}},\"type\":\"scattergeo\"}],\"scattergl\":[{\"marker\":{\"colorbar\":{\"outlinewidth\":0,\"ticks\":\"\"}},\"type\":\"scattergl\"}],\"scattermapbox\":[{\"marker\":{\"colorbar\":{\"outlinewidth\":0,\"ticks\":\"\"}},\"type\":\"scattermapbox\"}],\"scatterpolar\":[{\"marker\":{\"colorbar\":{\"outlinewidth\":0,\"ticks\":\"\"}},\"type\":\"scatterpolar\"}],\"scatterpolargl\":[{\"marker\":{\"colorbar\":{\"outlinewidth\":0,\"ticks\":\"\"}},\"type\":\"scatterpolargl\"}],\"scatterternary\":[{\"marker\":{\"colorbar\":{\"outlinewidth\":0,\"ticks\":\"\"}},\"type\":\"scatterternary\"}],\"surface\":[{\"colorbar\":{\"outlinewidth\":0,\"ticks\":\"\"},\"colorscale\":[[0.0,\"#0d0887\"],[0.1111111111111111,\"#46039f\"],[0.2222222222222222,\"#7201a8\"],[0.3333333333333333,\"#9c179e\"],[0.4444444444444444,\"#bd3786\"],[0.5555555555555556,\"#d8576b\"],[0.6666666666666666,\"#ed7953\"],[0.7777777777777778,\"#fb9f3a\"],[0.8888888888888888,\"#fdca26\"],[1.0,\"#f0f921\"]],\"type\":\"surface\"}],\"table\":[{\"cells\":{\"fill\":{\"color\":\"#EBF0F8\"},\"line\":{\"color\":\"white\"}},\"header\":{\"fill\":{\"color\":\"#C8D4E3\"},\"line\":{\"color\":\"white\"}},\"type\":\"table\"}]},\"layout\":{\"annotationdefaults\":{\"arrowcolor\":\"#2a3f5f\",\"arrowhead\":0,\"arrowwidth\":1},\"autotypenumbers\":\"strict\",\"coloraxis\":{\"colorbar\":{\"outlinewidth\":0,\"ticks\":\"\"}},\"colorscale\":{\"diverging\":[[0,\"#8e0152\"],[0.1,\"#c51b7d\"],[0.2,\"#de77ae\"],[0.3,\"#f1b6da\"],[0.4,\"#fde0ef\"],[0.5,\"#f7f7f7\"],[0.6,\"#e6f5d0\"],[0.7,\"#b8e186\"],[0.8,\"#7fbc41\"],[0.9,\"#4d9221\"],[1,\"#276419\"]],\"sequential\":[[0.0,\"#0d0887\"],[0.1111111111111111,\"#46039f\"],[0.2222222222222222,\"#7201a8\"],[0.3333333333333333,\"#9c179e\"],[0.4444444444444444,\"#bd3786\"],[0.5555555555555556,\"#d8576b\"],[0.6666666666666666,\"#ed7953\"],[0.7777777777777778,\"#fb9f3a\"],[0.8888888888888888,\"#fdca26\"],[1.0,\"#f0f921\"]],\"sequentialminus\":[[0.0,\"#0d0887\"],[0.1111111111111111,\"#46039f\"],[0.2222222222222222,\"#7201a8\"],[0.3333333333333333,\"#9c179e\"],[0.4444444444444444,\"#bd3786\"],[0.5555555555555556,\"#d8576b\"],[0.6666666666666666,\"#ed7953\"],[0.7777777777777778,\"#fb9f3a\"],[0.8888888888888888,\"#fdca26\"],[1.0,\"#f0f921\"]]},\"colorway\":[\"#636efa\",\"#EF553B\",\"#00cc96\",\"#ab63fa\",\"#FFA15A\",\"#19d3f3\",\"#FF6692\",\"#B6E880\",\"#FF97FF\",\"#FECB52\"],\"font\":{\"color\":\"#2a3f5f\"},\"geo\":{\"bgcolor\":\"white\",\"lakecolor\":\"white\",\"landcolor\":\"#E5ECF6\",\"showlakes\":true,\"showland\":true,\"subunitcolor\":\"white\"},\"hoverlabel\":{\"align\":\"left\"},\"hovermode\":\"closest\",\"mapbox\":{\"style\":\"light\"},\"paper_bgcolor\":\"white\",\"plot_bgcolor\":\"#E5ECF6\",\"polar\":{\"angularaxis\":{\"gridcolor\":\"white\",\"linecolor\":\"white\",\"ticks\":\"\"},\"bgcolor\":\"#E5ECF6\",\"radialaxis\":{\"gridcolor\":\"white\",\"linecolor\":\"white\",\"ticks\":\"\"}},\"scene\":{\"xaxis\":{\"backgroundcolor\":\"#E5ECF6\",\"gridcolor\":\"white\",\"gridwidth\":2,\"linecolor\":\"white\",\"showbackground\":true,\"ticks\":\"\",\"zerolinecolor\":\"white\"},\"yaxis\":{\"backgroundcolor\":\"#E5ECF6\",\"gridcolor\":\"white\",\"gridwidth\":2,\"linecolor\":\"white\",\"showbackground\":true,\"ticks\":\"\",\"zerolinecolor\":\"white\"},\"zaxis\":{\"backgroundcolor\":\"#E5ECF6\",\"gridcolor\":\"white\",\"gridwidth\":2,\"linecolor\":\"white\",\"showbackground\":true,\"ticks\":\"\",\"zerolinecolor\":\"white\"}},\"shapedefaults\":{\"line\":{\"color\":\"#2a3f5f\"}},\"ternary\":{\"aaxis\":{\"gridcolor\":\"white\",\"linecolor\":\"white\",\"ticks\":\"\"},\"baxis\":{\"gridcolor\":\"white\",\"linecolor\":\"white\",\"ticks\":\"\"},\"bgcolor\":\"#E5ECF6\",\"caxis\":{\"gridcolor\":\"white\",\"linecolor\":\"white\",\"ticks\":\"\"}},\"title\":{\"x\":0.05},\"xaxis\":{\"automargin\":true,\"gridcolor\":\"white\",\"linecolor\":\"white\",\"ticks\":\"\",\"title\":{\"standoff\":15},\"zerolinecolor\":\"white\",\"zerolinewidth\":2},\"yaxis\":{\"automargin\":true,\"gridcolor\":\"white\",\"linecolor\":\"white\",\"ticks\":\"\",\"title\":{\"standoff\":15},\"zerolinecolor\":\"white\",\"zerolinewidth\":2}}},\"title\":{\"font\":{\"color\":\"#4D5663\"}},\"xaxis\":{\"gridcolor\":\"#E1E5ED\",\"showgrid\":true,\"tickfont\":{\"color\":\"#4D5663\"},\"title\":{\"font\":{\"color\":\"#4D5663\"},\"text\":\"\"},\"zerolinecolor\":\"#E1E5ED\"},\"yaxis\":{\"gridcolor\":\"#E1E5ED\",\"showgrid\":true,\"tickfont\":{\"color\":\"#4D5663\"},\"title\":{\"font\":{\"color\":\"#4D5663\"},\"text\":\"\"},\"zerolinecolor\":\"#E1E5ED\"}},                        {\"showLink\": true, \"linkText\": \"Export to plot.ly\", \"plotlyServerURL\": \"https://plot.ly\", \"responsive\": true}                    ).then(function(){\n",
       "                            \n",
       "var gd = document.getElementById('9490757c-bc56-4722-a95f-d0026bc65db9');\n",
       "var x = new MutationObserver(function (mutations, observer) {{\n",
       "        var display = window.getComputedStyle(gd).display;\n",
       "        if (!display || display === 'none') {{\n",
       "            console.log([gd, 'removed!']);\n",
       "            Plotly.purge(gd);\n",
       "            observer.disconnect();\n",
       "        }}\n",
       "}});\n",
       "\n",
       "// Listen for the removal of the full notebook cells\n",
       "var notebookContainer = gd.closest('#notebook-container');\n",
       "if (notebookContainer) {{\n",
       "    x.observe(notebookContainer, {childList: true});\n",
       "}}\n",
       "\n",
       "// Listen for the clearing of the current output cell\n",
       "var outputEl = gd.closest('.output');\n",
       "if (outputEl) {{\n",
       "    x.observe(outputEl, {childList: true});\n",
       "}}\n",
       "\n",
       "                        })                };                });            </script>        </div>"
      ]
     },
     "metadata": {},
     "output_type": "display_data"
    }
   ],
   "source": [
    "df.iplot()#interactive program"
   ]
  },
  {
   "cell_type": "code",
   "execution_count": null,
   "metadata": {},
   "outputs": [],
   "source": []
  },
  {
   "cell_type": "markdown",
   "metadata": {},
   "source": [
    "## Using Cufflinks and iplot()\n",
    "\n",
    "* scatter\n",
    "* bar\n",
    "* box\n",
    "* spread\n",
    "* ratio\n",
    "* heatmap\n",
    "* surface\n",
    "* histogram\n",
    "* bubble"
   ]
  },
  {
   "cell_type": "markdown",
   "metadata": {},
   "source": [
    "## Scatter"
   ]
  },
  {
   "cell_type": "code",
   "execution_count": 18,
   "metadata": {},
   "outputs": [
    {
     "data": {
      "application/vnd.plotly.v1+json": {
       "config": {
        "linkText": "Export to plot.ly",
        "plotlyServerURL": "https://plot.ly",
        "showLink": true
       },
       "data": [
        {
         "line": {
          "color": "rgba(255, 153, 51, 1.0)",
          "dash": "solid",
          "shape": "linear",
          "width": 1.3
         },
         "marker": {
          "size": 15,
          "symbol": "circle"
         },
         "mode": "markers",
         "name": "B",
         "text": "",
         "type": "scatter",
         "x": [
          -0.12860260964606524,
          -1.635076306921547,
          -0.5868234739317386,
          0.20536526213217854,
          -0.7704148764243725,
          -0.608403118302665,
          -0.7771802124507576,
          0.8638616806968181,
          0.1987514763826788,
          0.5357468318854114,
          -0.805512501779021,
          2.818642095345587,
          -2.240429562821057,
          -0.9088716508414676,
          0.7688400036889937,
          1.3756705159878135,
          -0.14107448240173198,
          0.08435939863095848,
          -0.47542973557415535,
          -0.1674320741073042,
          -0.9928036010743042,
          -0.7456484563065178,
          0.3635481444242281,
          -0.5882618454120682,
          0.25414012281316667,
          0.8075350123432112,
          -2.17954988460998,
          1.0844212767816042,
          -0.6155401327201286,
          -0.8120677127265419,
          2.682095463168087,
          -0.8861062679388414,
          1.469866879622548,
          0.5739384835339598,
          -0.23539355790992364,
          0.3855826865292886,
          0.7186966464917793,
          0.3410797855162574,
          0.5082102613681312,
          -1.0232298776039623,
          0.094534363966649,
          -0.7468149471682591,
          0.6229276400590422,
          -1.006463292187963,
          0.43942570432402883,
          0.13999106174426013,
          -0.18938672474156987,
          -2.1591422816985486,
          -0.7712419228767906,
          -0.13630277784588765,
          1.8808542077379922,
          -0.03716927274838659,
          1.2639943341550404,
          -1.9816255138725716,
          -0.9559184241340777,
          0.3247446560710932,
          0.18749271902478037,
          0.07551280173086344,
          -0.49192181482586333,
          -0.4064583434602699,
          0.37686420304300106,
          -1.2662705459050974,
          0.8542971275153713,
          0.29222986412994945,
          -0.4357575569598363,
          -0.5029881280728328,
          -0.07342481701123633,
          -0.580731972963385,
          0.16814525256958246,
          0.7540617088613196,
          -2.807357263191882,
          0.2943652315452601,
          -0.9074105640013431,
          0.15419826504650516,
          -0.4020928330168706,
          -1.101935671902682,
          1.0590467937942818,
          -0.3873084367063922,
          0.850415751157854,
          -1.5268134381322997,
          0.17885452056056642,
          0.8598113461865062,
          -0.5332477857304616,
          0.42630320958643003,
          1.4763273314038519,
          1.0445069006882544,
          -2.029088486467021,
          -0.029734088032628603,
          -0.6745514583669592,
          -0.42394470279379776,
          -0.36594863842629466,
          -0.19923259224542597,
          -1.3006374051023517,
          -0.07018709569337656,
          -0.06322920059030304,
          0.09020414160573006,
          -0.42177867349612475,
          -1.4466636968930875,
          0.39394302890355015,
          -0.16504994921024868
         ],
         "y": [
          0.8185633845691501,
          1.250081636706017,
          0.11665422761436443,
          -0.2819901305478438,
          -0.6630182612897098,
          -0.3976453012974691,
          -0.5142082474577344,
          1.432976072008938,
          -2.614656326430859,
          2.142350309515806,
          0.6315409739127879,
          -0.708523285057641,
          0.5887555771349915,
          -1.4670398225476153,
          0.38477474395597316,
          2.1580945911705522,
          -0.6516882359233838,
          -1.6072549511834457,
          1.9364025334076367,
          -0.3729478015325837,
          1.456366286150059,
          0.5439429577293267,
          -0.06266508726016042,
          0.08840851093159466,
          0.525358281417997,
          -0.3415948287709737,
          0.2782395112701509,
          -0.17363095306504372,
          1.6475287341175775,
          -0.6562329183539691,
          -0.606666583795318,
          0.8233227456549621,
          -1.1006792057121941,
          -0.6038368427675496,
          -2.0685312197481656,
          -1.986812049601142,
          0.8016485809681733,
          0.08165263911139128,
          0.3018568326471051,
          1.4093206296813823,
          -0.1419959788866885,
          1.0068346160490198,
          -0.2135577872229478,
          -0.6212130211754662,
          2.91751459596935,
          -0.987940120823154,
          -0.9635950028352653,
          1.527761807710861,
          -2.660145662991958,
          0.9936137813400049,
          0.19720730910200923,
          1.9220446213364466,
          -1.9824981561511965,
          0.9563612107483108,
          1.2114572878639558,
          1.6761627962728234,
          1.1172822968710148,
          -0.852556826829526,
          0.5588420880177051,
          -0.48081412546774405,
          0.21619630678914495,
          0.28570481398274655,
          -0.26149968424397974,
          0.11408904413161775,
          1.2445996688810668,
          0.5878519772306224,
          0.03640300202301524,
          1.3429085752990346,
          0.31823227538228843,
          -0.44676448115245726,
          -0.32530669262862044,
          0.9727877924250453,
          -0.0016704124674436116,
          -1.704903047178396,
          0.06066998774211031,
          0.28333312677425526,
          -0.5461410231171553,
          1.1876633432998498,
          1.823974612474308,
          0.3496133196099635,
          1.447369161868816,
          -0.14884505603801926,
          0.2162416080437122,
          -0.5313346616861173,
          2.1559149096145016,
          0.4148938103042243,
          -0.07700947991227261,
          -0.17273927058773778,
          1.34532358448916,
          1.234205040365912,
          2.044149009033562,
          -0.009843940123830736,
          0.9337939733849073,
          1.087400634796986,
          0.3308251839280632,
          0.21105526600770663,
          1.1130421977450977,
          0.6499386149537946,
          -1.782007975306854,
          0.12607299045661263
         ]
        }
       ],
       "layout": {
        "legend": {
         "bgcolor": "#F5F6F9",
         "font": {
          "color": "#4D5663"
         }
        },
        "paper_bgcolor": "#F5F6F9",
        "plot_bgcolor": "#F5F6F9",
        "template": {
         "data": {
          "bar": [
           {
            "error_x": {
             "color": "#2a3f5f"
            },
            "error_y": {
             "color": "#2a3f5f"
            },
            "marker": {
             "line": {
              "color": "#E5ECF6",
              "width": 0.5
             },
             "pattern": {
              "fillmode": "overlay",
              "size": 10,
              "solidity": 0.2
             }
            },
            "type": "bar"
           }
          ],
          "barpolar": [
           {
            "marker": {
             "line": {
              "color": "#E5ECF6",
              "width": 0.5
             },
             "pattern": {
              "fillmode": "overlay",
              "size": 10,
              "solidity": 0.2
             }
            },
            "type": "barpolar"
           }
          ],
          "carpet": [
           {
            "aaxis": {
             "endlinecolor": "#2a3f5f",
             "gridcolor": "white",
             "linecolor": "white",
             "minorgridcolor": "white",
             "startlinecolor": "#2a3f5f"
            },
            "baxis": {
             "endlinecolor": "#2a3f5f",
             "gridcolor": "white",
             "linecolor": "white",
             "minorgridcolor": "white",
             "startlinecolor": "#2a3f5f"
            },
            "type": "carpet"
           }
          ],
          "choropleth": [
           {
            "colorbar": {
             "outlinewidth": 0,
             "ticks": ""
            },
            "type": "choropleth"
           }
          ],
          "contour": [
           {
            "colorbar": {
             "outlinewidth": 0,
             "ticks": ""
            },
            "colorscale": [
             [
              0,
              "#0d0887"
             ],
             [
              0.1111111111111111,
              "#46039f"
             ],
             [
              0.2222222222222222,
              "#7201a8"
             ],
             [
              0.3333333333333333,
              "#9c179e"
             ],
             [
              0.4444444444444444,
              "#bd3786"
             ],
             [
              0.5555555555555556,
              "#d8576b"
             ],
             [
              0.6666666666666666,
              "#ed7953"
             ],
             [
              0.7777777777777778,
              "#fb9f3a"
             ],
             [
              0.8888888888888888,
              "#fdca26"
             ],
             [
              1,
              "#f0f921"
             ]
            ],
            "type": "contour"
           }
          ],
          "contourcarpet": [
           {
            "colorbar": {
             "outlinewidth": 0,
             "ticks": ""
            },
            "type": "contourcarpet"
           }
          ],
          "heatmap": [
           {
            "colorbar": {
             "outlinewidth": 0,
             "ticks": ""
            },
            "colorscale": [
             [
              0,
              "#0d0887"
             ],
             [
              0.1111111111111111,
              "#46039f"
             ],
             [
              0.2222222222222222,
              "#7201a8"
             ],
             [
              0.3333333333333333,
              "#9c179e"
             ],
             [
              0.4444444444444444,
              "#bd3786"
             ],
             [
              0.5555555555555556,
              "#d8576b"
             ],
             [
              0.6666666666666666,
              "#ed7953"
             ],
             [
              0.7777777777777778,
              "#fb9f3a"
             ],
             [
              0.8888888888888888,
              "#fdca26"
             ],
             [
              1,
              "#f0f921"
             ]
            ],
            "type": "heatmap"
           }
          ],
          "heatmapgl": [
           {
            "colorbar": {
             "outlinewidth": 0,
             "ticks": ""
            },
            "colorscale": [
             [
              0,
              "#0d0887"
             ],
             [
              0.1111111111111111,
              "#46039f"
             ],
             [
              0.2222222222222222,
              "#7201a8"
             ],
             [
              0.3333333333333333,
              "#9c179e"
             ],
             [
              0.4444444444444444,
              "#bd3786"
             ],
             [
              0.5555555555555556,
              "#d8576b"
             ],
             [
              0.6666666666666666,
              "#ed7953"
             ],
             [
              0.7777777777777778,
              "#fb9f3a"
             ],
             [
              0.8888888888888888,
              "#fdca26"
             ],
             [
              1,
              "#f0f921"
             ]
            ],
            "type": "heatmapgl"
           }
          ],
          "histogram": [
           {
            "marker": {
             "pattern": {
              "fillmode": "overlay",
              "size": 10,
              "solidity": 0.2
             }
            },
            "type": "histogram"
           }
          ],
          "histogram2d": [
           {
            "colorbar": {
             "outlinewidth": 0,
             "ticks": ""
            },
            "colorscale": [
             [
              0,
              "#0d0887"
             ],
             [
              0.1111111111111111,
              "#46039f"
             ],
             [
              0.2222222222222222,
              "#7201a8"
             ],
             [
              0.3333333333333333,
              "#9c179e"
             ],
             [
              0.4444444444444444,
              "#bd3786"
             ],
             [
              0.5555555555555556,
              "#d8576b"
             ],
             [
              0.6666666666666666,
              "#ed7953"
             ],
             [
              0.7777777777777778,
              "#fb9f3a"
             ],
             [
              0.8888888888888888,
              "#fdca26"
             ],
             [
              1,
              "#f0f921"
             ]
            ],
            "type": "histogram2d"
           }
          ],
          "histogram2dcontour": [
           {
            "colorbar": {
             "outlinewidth": 0,
             "ticks": ""
            },
            "colorscale": [
             [
              0,
              "#0d0887"
             ],
             [
              0.1111111111111111,
              "#46039f"
             ],
             [
              0.2222222222222222,
              "#7201a8"
             ],
             [
              0.3333333333333333,
              "#9c179e"
             ],
             [
              0.4444444444444444,
              "#bd3786"
             ],
             [
              0.5555555555555556,
              "#d8576b"
             ],
             [
              0.6666666666666666,
              "#ed7953"
             ],
             [
              0.7777777777777778,
              "#fb9f3a"
             ],
             [
              0.8888888888888888,
              "#fdca26"
             ],
             [
              1,
              "#f0f921"
             ]
            ],
            "type": "histogram2dcontour"
           }
          ],
          "mesh3d": [
           {
            "colorbar": {
             "outlinewidth": 0,
             "ticks": ""
            },
            "type": "mesh3d"
           }
          ],
          "parcoords": [
           {
            "line": {
             "colorbar": {
              "outlinewidth": 0,
              "ticks": ""
             }
            },
            "type": "parcoords"
           }
          ],
          "pie": [
           {
            "automargin": true,
            "type": "pie"
           }
          ],
          "scatter": [
           {
            "marker": {
             "colorbar": {
              "outlinewidth": 0,
              "ticks": ""
             }
            },
            "type": "scatter"
           }
          ],
          "scatter3d": [
           {
            "line": {
             "colorbar": {
              "outlinewidth": 0,
              "ticks": ""
             }
            },
            "marker": {
             "colorbar": {
              "outlinewidth": 0,
              "ticks": ""
             }
            },
            "type": "scatter3d"
           }
          ],
          "scattercarpet": [
           {
            "marker": {
             "colorbar": {
              "outlinewidth": 0,
              "ticks": ""
             }
            },
            "type": "scattercarpet"
           }
          ],
          "scattergeo": [
           {
            "marker": {
             "colorbar": {
              "outlinewidth": 0,
              "ticks": ""
             }
            },
            "type": "scattergeo"
           }
          ],
          "scattergl": [
           {
            "marker": {
             "colorbar": {
              "outlinewidth": 0,
              "ticks": ""
             }
            },
            "type": "scattergl"
           }
          ],
          "scattermapbox": [
           {
            "marker": {
             "colorbar": {
              "outlinewidth": 0,
              "ticks": ""
             }
            },
            "type": "scattermapbox"
           }
          ],
          "scatterpolar": [
           {
            "marker": {
             "colorbar": {
              "outlinewidth": 0,
              "ticks": ""
             }
            },
            "type": "scatterpolar"
           }
          ],
          "scatterpolargl": [
           {
            "marker": {
             "colorbar": {
              "outlinewidth": 0,
              "ticks": ""
             }
            },
            "type": "scatterpolargl"
           }
          ],
          "scatterternary": [
           {
            "marker": {
             "colorbar": {
              "outlinewidth": 0,
              "ticks": ""
             }
            },
            "type": "scatterternary"
           }
          ],
          "surface": [
           {
            "colorbar": {
             "outlinewidth": 0,
             "ticks": ""
            },
            "colorscale": [
             [
              0,
              "#0d0887"
             ],
             [
              0.1111111111111111,
              "#46039f"
             ],
             [
              0.2222222222222222,
              "#7201a8"
             ],
             [
              0.3333333333333333,
              "#9c179e"
             ],
             [
              0.4444444444444444,
              "#bd3786"
             ],
             [
              0.5555555555555556,
              "#d8576b"
             ],
             [
              0.6666666666666666,
              "#ed7953"
             ],
             [
              0.7777777777777778,
              "#fb9f3a"
             ],
             [
              0.8888888888888888,
              "#fdca26"
             ],
             [
              1,
              "#f0f921"
             ]
            ],
            "type": "surface"
           }
          ],
          "table": [
           {
            "cells": {
             "fill": {
              "color": "#EBF0F8"
             },
             "line": {
              "color": "white"
             }
            },
            "header": {
             "fill": {
              "color": "#C8D4E3"
             },
             "line": {
              "color": "white"
             }
            },
            "type": "table"
           }
          ]
         },
         "layout": {
          "annotationdefaults": {
           "arrowcolor": "#2a3f5f",
           "arrowhead": 0,
           "arrowwidth": 1
          },
          "autotypenumbers": "strict",
          "coloraxis": {
           "colorbar": {
            "outlinewidth": 0,
            "ticks": ""
           }
          },
          "colorscale": {
           "diverging": [
            [
             0,
             "#8e0152"
            ],
            [
             0.1,
             "#c51b7d"
            ],
            [
             0.2,
             "#de77ae"
            ],
            [
             0.3,
             "#f1b6da"
            ],
            [
             0.4,
             "#fde0ef"
            ],
            [
             0.5,
             "#f7f7f7"
            ],
            [
             0.6,
             "#e6f5d0"
            ],
            [
             0.7,
             "#b8e186"
            ],
            [
             0.8,
             "#7fbc41"
            ],
            [
             0.9,
             "#4d9221"
            ],
            [
             1,
             "#276419"
            ]
           ],
           "sequential": [
            [
             0,
             "#0d0887"
            ],
            [
             0.1111111111111111,
             "#46039f"
            ],
            [
             0.2222222222222222,
             "#7201a8"
            ],
            [
             0.3333333333333333,
             "#9c179e"
            ],
            [
             0.4444444444444444,
             "#bd3786"
            ],
            [
             0.5555555555555556,
             "#d8576b"
            ],
            [
             0.6666666666666666,
             "#ed7953"
            ],
            [
             0.7777777777777778,
             "#fb9f3a"
            ],
            [
             0.8888888888888888,
             "#fdca26"
            ],
            [
             1,
             "#f0f921"
            ]
           ],
           "sequentialminus": [
            [
             0,
             "#0d0887"
            ],
            [
             0.1111111111111111,
             "#46039f"
            ],
            [
             0.2222222222222222,
             "#7201a8"
            ],
            [
             0.3333333333333333,
             "#9c179e"
            ],
            [
             0.4444444444444444,
             "#bd3786"
            ],
            [
             0.5555555555555556,
             "#d8576b"
            ],
            [
             0.6666666666666666,
             "#ed7953"
            ],
            [
             0.7777777777777778,
             "#fb9f3a"
            ],
            [
             0.8888888888888888,
             "#fdca26"
            ],
            [
             1,
             "#f0f921"
            ]
           ]
          },
          "colorway": [
           "#636efa",
           "#EF553B",
           "#00cc96",
           "#ab63fa",
           "#FFA15A",
           "#19d3f3",
           "#FF6692",
           "#B6E880",
           "#FF97FF",
           "#FECB52"
          ],
          "font": {
           "color": "#2a3f5f"
          },
          "geo": {
           "bgcolor": "white",
           "lakecolor": "white",
           "landcolor": "#E5ECF6",
           "showlakes": true,
           "showland": true,
           "subunitcolor": "white"
          },
          "hoverlabel": {
           "align": "left"
          },
          "hovermode": "closest",
          "mapbox": {
           "style": "light"
          },
          "paper_bgcolor": "white",
          "plot_bgcolor": "#E5ECF6",
          "polar": {
           "angularaxis": {
            "gridcolor": "white",
            "linecolor": "white",
            "ticks": ""
           },
           "bgcolor": "#E5ECF6",
           "radialaxis": {
            "gridcolor": "white",
            "linecolor": "white",
            "ticks": ""
           }
          },
          "scene": {
           "xaxis": {
            "backgroundcolor": "#E5ECF6",
            "gridcolor": "white",
            "gridwidth": 2,
            "linecolor": "white",
            "showbackground": true,
            "ticks": "",
            "zerolinecolor": "white"
           },
           "yaxis": {
            "backgroundcolor": "#E5ECF6",
            "gridcolor": "white",
            "gridwidth": 2,
            "linecolor": "white",
            "showbackground": true,
            "ticks": "",
            "zerolinecolor": "white"
           },
           "zaxis": {
            "backgroundcolor": "#E5ECF6",
            "gridcolor": "white",
            "gridwidth": 2,
            "linecolor": "white",
            "showbackground": true,
            "ticks": "",
            "zerolinecolor": "white"
           }
          },
          "shapedefaults": {
           "line": {
            "color": "#2a3f5f"
           }
          },
          "ternary": {
           "aaxis": {
            "gridcolor": "white",
            "linecolor": "white",
            "ticks": ""
           },
           "baxis": {
            "gridcolor": "white",
            "linecolor": "white",
            "ticks": ""
           },
           "bgcolor": "#E5ECF6",
           "caxis": {
            "gridcolor": "white",
            "linecolor": "white",
            "ticks": ""
           }
          },
          "title": {
           "x": 0.05
          },
          "xaxis": {
           "automargin": true,
           "gridcolor": "white",
           "linecolor": "white",
           "ticks": "",
           "title": {
            "standoff": 15
           },
           "zerolinecolor": "white",
           "zerolinewidth": 2
          },
          "yaxis": {
           "automargin": true,
           "gridcolor": "white",
           "linecolor": "white",
           "ticks": "",
           "title": {
            "standoff": 15
           },
           "zerolinecolor": "white",
           "zerolinewidth": 2
          }
         }
        },
        "title": {
         "font": {
          "color": "#4D5663"
         }
        },
        "xaxis": {
         "gridcolor": "#E1E5ED",
         "showgrid": true,
         "tickfont": {
          "color": "#4D5663"
         },
         "title": {
          "font": {
           "color": "#4D5663"
          },
          "text": ""
         },
         "zerolinecolor": "#E1E5ED"
        },
        "yaxis": {
         "gridcolor": "#E1E5ED",
         "showgrid": true,
         "tickfont": {
          "color": "#4D5663"
         },
         "title": {
          "font": {
           "color": "#4D5663"
          },
          "text": ""
         },
         "zerolinecolor": "#E1E5ED"
        }
       }
      },
      "text/html": [
       "<div>                            <div id=\"47173599-ad20-4e1e-bbaf-bfcf4c99e4af\" class=\"plotly-graph-div\" style=\"height:525px; width:100%;\"></div>            <script type=\"text/javascript\">                require([\"plotly\"], function(Plotly) {                    window.PLOTLYENV=window.PLOTLYENV || {};\n",
       "                    window.PLOTLYENV.BASE_URL='https://plot.ly';                                    if (document.getElementById(\"47173599-ad20-4e1e-bbaf-bfcf4c99e4af\")) {                    Plotly.newPlot(                        \"47173599-ad20-4e1e-bbaf-bfcf4c99e4af\",                        [{\"line\":{\"color\":\"rgba(255, 153, 51, 1.0)\",\"dash\":\"solid\",\"shape\":\"linear\",\"width\":1.3},\"marker\":{\"size\":15,\"symbol\":\"circle\"},\"mode\":\"markers\",\"name\":\"B\",\"text\":\"\",\"type\":\"scatter\",\"x\":[-0.12860260964606524,-1.635076306921547,-0.5868234739317386,0.20536526213217854,-0.7704148764243725,-0.608403118302665,-0.7771802124507576,0.8638616806968181,0.1987514763826788,0.5357468318854114,-0.805512501779021,2.818642095345587,-2.240429562821057,-0.9088716508414676,0.7688400036889937,1.3756705159878135,-0.14107448240173198,0.08435939863095848,-0.47542973557415535,-0.1674320741073042,-0.9928036010743042,-0.7456484563065178,0.3635481444242281,-0.5882618454120682,0.25414012281316667,0.8075350123432112,-2.17954988460998,1.0844212767816042,-0.6155401327201286,-0.8120677127265419,2.682095463168087,-0.8861062679388414,1.469866879622548,0.5739384835339598,-0.23539355790992364,0.3855826865292886,0.7186966464917793,0.3410797855162574,0.5082102613681312,-1.0232298776039623,0.094534363966649,-0.7468149471682591,0.6229276400590422,-1.006463292187963,0.43942570432402883,0.13999106174426013,-0.18938672474156987,-2.1591422816985486,-0.7712419228767906,-0.13630277784588765,1.8808542077379922,-0.03716927274838659,1.2639943341550404,-1.9816255138725716,-0.9559184241340777,0.3247446560710932,0.18749271902478037,0.07551280173086344,-0.49192181482586333,-0.4064583434602699,0.37686420304300106,-1.2662705459050974,0.8542971275153713,0.29222986412994945,-0.4357575569598363,-0.5029881280728328,-0.07342481701123633,-0.580731972963385,0.16814525256958246,0.7540617088613196,-2.807357263191882,0.2943652315452601,-0.9074105640013431,0.15419826504650516,-0.4020928330168706,-1.101935671902682,1.0590467937942818,-0.3873084367063922,0.850415751157854,-1.5268134381322997,0.17885452056056642,0.8598113461865062,-0.5332477857304616,0.42630320958643003,1.4763273314038519,1.0445069006882544,-2.029088486467021,-0.029734088032628603,-0.6745514583669592,-0.42394470279379776,-0.36594863842629466,-0.19923259224542597,-1.3006374051023517,-0.07018709569337656,-0.06322920059030304,0.09020414160573006,-0.42177867349612475,-1.4466636968930875,0.39394302890355015,-0.16504994921024868],\"y\":[0.8185633845691501,1.250081636706017,0.11665422761436443,-0.2819901305478438,-0.6630182612897098,-0.3976453012974691,-0.5142082474577344,1.432976072008938,-2.614656326430859,2.142350309515806,0.6315409739127879,-0.708523285057641,0.5887555771349915,-1.4670398225476153,0.38477474395597316,2.1580945911705522,-0.6516882359233838,-1.6072549511834457,1.9364025334076367,-0.3729478015325837,1.456366286150059,0.5439429577293267,-0.06266508726016042,0.08840851093159466,0.525358281417997,-0.3415948287709737,0.2782395112701509,-0.17363095306504372,1.6475287341175775,-0.6562329183539691,-0.606666583795318,0.8233227456549621,-1.1006792057121941,-0.6038368427675496,-2.0685312197481656,-1.986812049601142,0.8016485809681733,0.08165263911139128,0.3018568326471051,1.4093206296813823,-0.1419959788866885,1.0068346160490198,-0.2135577872229478,-0.6212130211754662,2.91751459596935,-0.987940120823154,-0.9635950028352653,1.527761807710861,-2.660145662991958,0.9936137813400049,0.19720730910200923,1.9220446213364466,-1.9824981561511965,0.9563612107483108,1.2114572878639558,1.6761627962728234,1.1172822968710148,-0.852556826829526,0.5588420880177051,-0.48081412546774405,0.21619630678914495,0.28570481398274655,-0.26149968424397974,0.11408904413161775,1.2445996688810668,0.5878519772306224,0.03640300202301524,1.3429085752990346,0.31823227538228843,-0.44676448115245726,-0.32530669262862044,0.9727877924250453,-0.0016704124674436116,-1.704903047178396,0.06066998774211031,0.28333312677425526,-0.5461410231171553,1.1876633432998498,1.823974612474308,0.3496133196099635,1.447369161868816,-0.14884505603801926,0.2162416080437122,-0.5313346616861173,2.1559149096145016,0.4148938103042243,-0.07700947991227261,-0.17273927058773778,1.34532358448916,1.234205040365912,2.044149009033562,-0.009843940123830736,0.9337939733849073,1.087400634796986,0.3308251839280632,0.21105526600770663,1.1130421977450977,0.6499386149537946,-1.782007975306854,0.12607299045661263]}],                        {\"legend\":{\"bgcolor\":\"#F5F6F9\",\"font\":{\"color\":\"#4D5663\"}},\"paper_bgcolor\":\"#F5F6F9\",\"plot_bgcolor\":\"#F5F6F9\",\"template\":{\"data\":{\"bar\":[{\"error_x\":{\"color\":\"#2a3f5f\"},\"error_y\":{\"color\":\"#2a3f5f\"},\"marker\":{\"line\":{\"color\":\"#E5ECF6\",\"width\":0.5},\"pattern\":{\"fillmode\":\"overlay\",\"size\":10,\"solidity\":0.2}},\"type\":\"bar\"}],\"barpolar\":[{\"marker\":{\"line\":{\"color\":\"#E5ECF6\",\"width\":0.5},\"pattern\":{\"fillmode\":\"overlay\",\"size\":10,\"solidity\":0.2}},\"type\":\"barpolar\"}],\"carpet\":[{\"aaxis\":{\"endlinecolor\":\"#2a3f5f\",\"gridcolor\":\"white\",\"linecolor\":\"white\",\"minorgridcolor\":\"white\",\"startlinecolor\":\"#2a3f5f\"},\"baxis\":{\"endlinecolor\":\"#2a3f5f\",\"gridcolor\":\"white\",\"linecolor\":\"white\",\"minorgridcolor\":\"white\",\"startlinecolor\":\"#2a3f5f\"},\"type\":\"carpet\"}],\"choropleth\":[{\"colorbar\":{\"outlinewidth\":0,\"ticks\":\"\"},\"type\":\"choropleth\"}],\"contour\":[{\"colorbar\":{\"outlinewidth\":0,\"ticks\":\"\"},\"colorscale\":[[0.0,\"#0d0887\"],[0.1111111111111111,\"#46039f\"],[0.2222222222222222,\"#7201a8\"],[0.3333333333333333,\"#9c179e\"],[0.4444444444444444,\"#bd3786\"],[0.5555555555555556,\"#d8576b\"],[0.6666666666666666,\"#ed7953\"],[0.7777777777777778,\"#fb9f3a\"],[0.8888888888888888,\"#fdca26\"],[1.0,\"#f0f921\"]],\"type\":\"contour\"}],\"contourcarpet\":[{\"colorbar\":{\"outlinewidth\":0,\"ticks\":\"\"},\"type\":\"contourcarpet\"}],\"heatmap\":[{\"colorbar\":{\"outlinewidth\":0,\"ticks\":\"\"},\"colorscale\":[[0.0,\"#0d0887\"],[0.1111111111111111,\"#46039f\"],[0.2222222222222222,\"#7201a8\"],[0.3333333333333333,\"#9c179e\"],[0.4444444444444444,\"#bd3786\"],[0.5555555555555556,\"#d8576b\"],[0.6666666666666666,\"#ed7953\"],[0.7777777777777778,\"#fb9f3a\"],[0.8888888888888888,\"#fdca26\"],[1.0,\"#f0f921\"]],\"type\":\"heatmap\"}],\"heatmapgl\":[{\"colorbar\":{\"outlinewidth\":0,\"ticks\":\"\"},\"colorscale\":[[0.0,\"#0d0887\"],[0.1111111111111111,\"#46039f\"],[0.2222222222222222,\"#7201a8\"],[0.3333333333333333,\"#9c179e\"],[0.4444444444444444,\"#bd3786\"],[0.5555555555555556,\"#d8576b\"],[0.6666666666666666,\"#ed7953\"],[0.7777777777777778,\"#fb9f3a\"],[0.8888888888888888,\"#fdca26\"],[1.0,\"#f0f921\"]],\"type\":\"heatmapgl\"}],\"histogram\":[{\"marker\":{\"pattern\":{\"fillmode\":\"overlay\",\"size\":10,\"solidity\":0.2}},\"type\":\"histogram\"}],\"histogram2d\":[{\"colorbar\":{\"outlinewidth\":0,\"ticks\":\"\"},\"colorscale\":[[0.0,\"#0d0887\"],[0.1111111111111111,\"#46039f\"],[0.2222222222222222,\"#7201a8\"],[0.3333333333333333,\"#9c179e\"],[0.4444444444444444,\"#bd3786\"],[0.5555555555555556,\"#d8576b\"],[0.6666666666666666,\"#ed7953\"],[0.7777777777777778,\"#fb9f3a\"],[0.8888888888888888,\"#fdca26\"],[1.0,\"#f0f921\"]],\"type\":\"histogram2d\"}],\"histogram2dcontour\":[{\"colorbar\":{\"outlinewidth\":0,\"ticks\":\"\"},\"colorscale\":[[0.0,\"#0d0887\"],[0.1111111111111111,\"#46039f\"],[0.2222222222222222,\"#7201a8\"],[0.3333333333333333,\"#9c179e\"],[0.4444444444444444,\"#bd3786\"],[0.5555555555555556,\"#d8576b\"],[0.6666666666666666,\"#ed7953\"],[0.7777777777777778,\"#fb9f3a\"],[0.8888888888888888,\"#fdca26\"],[1.0,\"#f0f921\"]],\"type\":\"histogram2dcontour\"}],\"mesh3d\":[{\"colorbar\":{\"outlinewidth\":0,\"ticks\":\"\"},\"type\":\"mesh3d\"}],\"parcoords\":[{\"line\":{\"colorbar\":{\"outlinewidth\":0,\"ticks\":\"\"}},\"type\":\"parcoords\"}],\"pie\":[{\"automargin\":true,\"type\":\"pie\"}],\"scatter\":[{\"marker\":{\"colorbar\":{\"outlinewidth\":0,\"ticks\":\"\"}},\"type\":\"scatter\"}],\"scatter3d\":[{\"line\":{\"colorbar\":{\"outlinewidth\":0,\"ticks\":\"\"}},\"marker\":{\"colorbar\":{\"outlinewidth\":0,\"ticks\":\"\"}},\"type\":\"scatter3d\"}],\"scattercarpet\":[{\"marker\":{\"colorbar\":{\"outlinewidth\":0,\"ticks\":\"\"}},\"type\":\"scattercarpet\"}],\"scattergeo\":[{\"marker\":{\"colorbar\":{\"outlinewidth\":0,\"ticks\":\"\"}},\"type\":\"scattergeo\"}],\"scattergl\":[{\"marker\":{\"colorbar\":{\"outlinewidth\":0,\"ticks\":\"\"}},\"type\":\"scattergl\"}],\"scattermapbox\":[{\"marker\":{\"colorbar\":{\"outlinewidth\":0,\"ticks\":\"\"}},\"type\":\"scattermapbox\"}],\"scatterpolar\":[{\"marker\":{\"colorbar\":{\"outlinewidth\":0,\"ticks\":\"\"}},\"type\":\"scatterpolar\"}],\"scatterpolargl\":[{\"marker\":{\"colorbar\":{\"outlinewidth\":0,\"ticks\":\"\"}},\"type\":\"scatterpolargl\"}],\"scatterternary\":[{\"marker\":{\"colorbar\":{\"outlinewidth\":0,\"ticks\":\"\"}},\"type\":\"scatterternary\"}],\"surface\":[{\"colorbar\":{\"outlinewidth\":0,\"ticks\":\"\"},\"colorscale\":[[0.0,\"#0d0887\"],[0.1111111111111111,\"#46039f\"],[0.2222222222222222,\"#7201a8\"],[0.3333333333333333,\"#9c179e\"],[0.4444444444444444,\"#bd3786\"],[0.5555555555555556,\"#d8576b\"],[0.6666666666666666,\"#ed7953\"],[0.7777777777777778,\"#fb9f3a\"],[0.8888888888888888,\"#fdca26\"],[1.0,\"#f0f921\"]],\"type\":\"surface\"}],\"table\":[{\"cells\":{\"fill\":{\"color\":\"#EBF0F8\"},\"line\":{\"color\":\"white\"}},\"header\":{\"fill\":{\"color\":\"#C8D4E3\"},\"line\":{\"color\":\"white\"}},\"type\":\"table\"}]},\"layout\":{\"annotationdefaults\":{\"arrowcolor\":\"#2a3f5f\",\"arrowhead\":0,\"arrowwidth\":1},\"autotypenumbers\":\"strict\",\"coloraxis\":{\"colorbar\":{\"outlinewidth\":0,\"ticks\":\"\"}},\"colorscale\":{\"diverging\":[[0,\"#8e0152\"],[0.1,\"#c51b7d\"],[0.2,\"#de77ae\"],[0.3,\"#f1b6da\"],[0.4,\"#fde0ef\"],[0.5,\"#f7f7f7\"],[0.6,\"#e6f5d0\"],[0.7,\"#b8e186\"],[0.8,\"#7fbc41\"],[0.9,\"#4d9221\"],[1,\"#276419\"]],\"sequential\":[[0.0,\"#0d0887\"],[0.1111111111111111,\"#46039f\"],[0.2222222222222222,\"#7201a8\"],[0.3333333333333333,\"#9c179e\"],[0.4444444444444444,\"#bd3786\"],[0.5555555555555556,\"#d8576b\"],[0.6666666666666666,\"#ed7953\"],[0.7777777777777778,\"#fb9f3a\"],[0.8888888888888888,\"#fdca26\"],[1.0,\"#f0f921\"]],\"sequentialminus\":[[0.0,\"#0d0887\"],[0.1111111111111111,\"#46039f\"],[0.2222222222222222,\"#7201a8\"],[0.3333333333333333,\"#9c179e\"],[0.4444444444444444,\"#bd3786\"],[0.5555555555555556,\"#d8576b\"],[0.6666666666666666,\"#ed7953\"],[0.7777777777777778,\"#fb9f3a\"],[0.8888888888888888,\"#fdca26\"],[1.0,\"#f0f921\"]]},\"colorway\":[\"#636efa\",\"#EF553B\",\"#00cc96\",\"#ab63fa\",\"#FFA15A\",\"#19d3f3\",\"#FF6692\",\"#B6E880\",\"#FF97FF\",\"#FECB52\"],\"font\":{\"color\":\"#2a3f5f\"},\"geo\":{\"bgcolor\":\"white\",\"lakecolor\":\"white\",\"landcolor\":\"#E5ECF6\",\"showlakes\":true,\"showland\":true,\"subunitcolor\":\"white\"},\"hoverlabel\":{\"align\":\"left\"},\"hovermode\":\"closest\",\"mapbox\":{\"style\":\"light\"},\"paper_bgcolor\":\"white\",\"plot_bgcolor\":\"#E5ECF6\",\"polar\":{\"angularaxis\":{\"gridcolor\":\"white\",\"linecolor\":\"white\",\"ticks\":\"\"},\"bgcolor\":\"#E5ECF6\",\"radialaxis\":{\"gridcolor\":\"white\",\"linecolor\":\"white\",\"ticks\":\"\"}},\"scene\":{\"xaxis\":{\"backgroundcolor\":\"#E5ECF6\",\"gridcolor\":\"white\",\"gridwidth\":2,\"linecolor\":\"white\",\"showbackground\":true,\"ticks\":\"\",\"zerolinecolor\":\"white\"},\"yaxis\":{\"backgroundcolor\":\"#E5ECF6\",\"gridcolor\":\"white\",\"gridwidth\":2,\"linecolor\":\"white\",\"showbackground\":true,\"ticks\":\"\",\"zerolinecolor\":\"white\"},\"zaxis\":{\"backgroundcolor\":\"#E5ECF6\",\"gridcolor\":\"white\",\"gridwidth\":2,\"linecolor\":\"white\",\"showbackground\":true,\"ticks\":\"\",\"zerolinecolor\":\"white\"}},\"shapedefaults\":{\"line\":{\"color\":\"#2a3f5f\"}},\"ternary\":{\"aaxis\":{\"gridcolor\":\"white\",\"linecolor\":\"white\",\"ticks\":\"\"},\"baxis\":{\"gridcolor\":\"white\",\"linecolor\":\"white\",\"ticks\":\"\"},\"bgcolor\":\"#E5ECF6\",\"caxis\":{\"gridcolor\":\"white\",\"linecolor\":\"white\",\"ticks\":\"\"}},\"title\":{\"x\":0.05},\"xaxis\":{\"automargin\":true,\"gridcolor\":\"white\",\"linecolor\":\"white\",\"ticks\":\"\",\"title\":{\"standoff\":15},\"zerolinecolor\":\"white\",\"zerolinewidth\":2},\"yaxis\":{\"automargin\":true,\"gridcolor\":\"white\",\"linecolor\":\"white\",\"ticks\":\"\",\"title\":{\"standoff\":15},\"zerolinecolor\":\"white\",\"zerolinewidth\":2}}},\"title\":{\"font\":{\"color\":\"#4D5663\"}},\"xaxis\":{\"gridcolor\":\"#E1E5ED\",\"showgrid\":true,\"tickfont\":{\"color\":\"#4D5663\"},\"title\":{\"font\":{\"color\":\"#4D5663\"},\"text\":\"\"},\"zerolinecolor\":\"#E1E5ED\"},\"yaxis\":{\"gridcolor\":\"#E1E5ED\",\"showgrid\":true,\"tickfont\":{\"color\":\"#4D5663\"},\"title\":{\"font\":{\"color\":\"#4D5663\"},\"text\":\"\"},\"zerolinecolor\":\"#E1E5ED\"}},                        {\"showLink\": true, \"linkText\": \"Export to plot.ly\", \"plotlyServerURL\": \"https://plot.ly\", \"responsive\": true}                    ).then(function(){\n",
       "                            \n",
       "var gd = document.getElementById('47173599-ad20-4e1e-bbaf-bfcf4c99e4af');\n",
       "var x = new MutationObserver(function (mutations, observer) {{\n",
       "        var display = window.getComputedStyle(gd).display;\n",
       "        if (!display || display === 'none') {{\n",
       "            console.log([gd, 'removed!']);\n",
       "            Plotly.purge(gd);\n",
       "            observer.disconnect();\n",
       "        }}\n",
       "}});\n",
       "\n",
       "// Listen for the removal of the full notebook cells\n",
       "var notebookContainer = gd.closest('#notebook-container');\n",
       "if (notebookContainer) {{\n",
       "    x.observe(notebookContainer, {childList: true});\n",
       "}}\n",
       "\n",
       "// Listen for the clearing of the current output cell\n",
       "var outputEl = gd.closest('.output');\n",
       "if (outputEl) {{\n",
       "    x.observe(outputEl, {childList: true});\n",
       "}}\n",
       "\n",
       "                        })                };                });            </script>        </div>"
      ]
     },
     "metadata": {},
     "output_type": "display_data"
    }
   ],
   "source": [
    "df.iplot(kind='scatter',x='A',y='B',mode='markers',size=15)#kind is how you choose what kind of plot,mode makes it dot"
   ]
  },
  {
   "cell_type": "markdown",
   "metadata": {},
   "source": [
    "## Bar Plots"
   ]
  },
  {
   "cell_type": "code",
   "execution_count": 19,
   "metadata": {},
   "outputs": [
    {
     "data": {
      "application/vnd.plotly.v1+json": {
       "config": {
        "linkText": "Export to plot.ly",
        "plotlyServerURL": "https://plot.ly",
        "showLink": true
       },
       "data": [
        {
         "marker": {
          "color": "rgba(255, 153, 51, 0.6)",
          "line": {
           "color": "rgba(255, 153, 51, 1.0)",
           "width": 1
          }
         },
         "name": "Values",
         "orientation": "v",
         "text": "",
         "type": "bar",
         "x": [
          "A",
          "B",
          "C"
         ],
         "y": [
          32,
          43,
          50
         ]
        }
       ],
       "layout": {
        "legend": {
         "bgcolor": "#F5F6F9",
         "font": {
          "color": "#4D5663"
         }
        },
        "paper_bgcolor": "#F5F6F9",
        "plot_bgcolor": "#F5F6F9",
        "template": {
         "data": {
          "bar": [
           {
            "error_x": {
             "color": "#2a3f5f"
            },
            "error_y": {
             "color": "#2a3f5f"
            },
            "marker": {
             "line": {
              "color": "#E5ECF6",
              "width": 0.5
             },
             "pattern": {
              "fillmode": "overlay",
              "size": 10,
              "solidity": 0.2
             }
            },
            "type": "bar"
           }
          ],
          "barpolar": [
           {
            "marker": {
             "line": {
              "color": "#E5ECF6",
              "width": 0.5
             },
             "pattern": {
              "fillmode": "overlay",
              "size": 10,
              "solidity": 0.2
             }
            },
            "type": "barpolar"
           }
          ],
          "carpet": [
           {
            "aaxis": {
             "endlinecolor": "#2a3f5f",
             "gridcolor": "white",
             "linecolor": "white",
             "minorgridcolor": "white",
             "startlinecolor": "#2a3f5f"
            },
            "baxis": {
             "endlinecolor": "#2a3f5f",
             "gridcolor": "white",
             "linecolor": "white",
             "minorgridcolor": "white",
             "startlinecolor": "#2a3f5f"
            },
            "type": "carpet"
           }
          ],
          "choropleth": [
           {
            "colorbar": {
             "outlinewidth": 0,
             "ticks": ""
            },
            "type": "choropleth"
           }
          ],
          "contour": [
           {
            "colorbar": {
             "outlinewidth": 0,
             "ticks": ""
            },
            "colorscale": [
             [
              0,
              "#0d0887"
             ],
             [
              0.1111111111111111,
              "#46039f"
             ],
             [
              0.2222222222222222,
              "#7201a8"
             ],
             [
              0.3333333333333333,
              "#9c179e"
             ],
             [
              0.4444444444444444,
              "#bd3786"
             ],
             [
              0.5555555555555556,
              "#d8576b"
             ],
             [
              0.6666666666666666,
              "#ed7953"
             ],
             [
              0.7777777777777778,
              "#fb9f3a"
             ],
             [
              0.8888888888888888,
              "#fdca26"
             ],
             [
              1,
              "#f0f921"
             ]
            ],
            "type": "contour"
           }
          ],
          "contourcarpet": [
           {
            "colorbar": {
             "outlinewidth": 0,
             "ticks": ""
            },
            "type": "contourcarpet"
           }
          ],
          "heatmap": [
           {
            "colorbar": {
             "outlinewidth": 0,
             "ticks": ""
            },
            "colorscale": [
             [
              0,
              "#0d0887"
             ],
             [
              0.1111111111111111,
              "#46039f"
             ],
             [
              0.2222222222222222,
              "#7201a8"
             ],
             [
              0.3333333333333333,
              "#9c179e"
             ],
             [
              0.4444444444444444,
              "#bd3786"
             ],
             [
              0.5555555555555556,
              "#d8576b"
             ],
             [
              0.6666666666666666,
              "#ed7953"
             ],
             [
              0.7777777777777778,
              "#fb9f3a"
             ],
             [
              0.8888888888888888,
              "#fdca26"
             ],
             [
              1,
              "#f0f921"
             ]
            ],
            "type": "heatmap"
           }
          ],
          "heatmapgl": [
           {
            "colorbar": {
             "outlinewidth": 0,
             "ticks": ""
            },
            "colorscale": [
             [
              0,
              "#0d0887"
             ],
             [
              0.1111111111111111,
              "#46039f"
             ],
             [
              0.2222222222222222,
              "#7201a8"
             ],
             [
              0.3333333333333333,
              "#9c179e"
             ],
             [
              0.4444444444444444,
              "#bd3786"
             ],
             [
              0.5555555555555556,
              "#d8576b"
             ],
             [
              0.6666666666666666,
              "#ed7953"
             ],
             [
              0.7777777777777778,
              "#fb9f3a"
             ],
             [
              0.8888888888888888,
              "#fdca26"
             ],
             [
              1,
              "#f0f921"
             ]
            ],
            "type": "heatmapgl"
           }
          ],
          "histogram": [
           {
            "marker": {
             "pattern": {
              "fillmode": "overlay",
              "size": 10,
              "solidity": 0.2
             }
            },
            "type": "histogram"
           }
          ],
          "histogram2d": [
           {
            "colorbar": {
             "outlinewidth": 0,
             "ticks": ""
            },
            "colorscale": [
             [
              0,
              "#0d0887"
             ],
             [
              0.1111111111111111,
              "#46039f"
             ],
             [
              0.2222222222222222,
              "#7201a8"
             ],
             [
              0.3333333333333333,
              "#9c179e"
             ],
             [
              0.4444444444444444,
              "#bd3786"
             ],
             [
              0.5555555555555556,
              "#d8576b"
             ],
             [
              0.6666666666666666,
              "#ed7953"
             ],
             [
              0.7777777777777778,
              "#fb9f3a"
             ],
             [
              0.8888888888888888,
              "#fdca26"
             ],
             [
              1,
              "#f0f921"
             ]
            ],
            "type": "histogram2d"
           }
          ],
          "histogram2dcontour": [
           {
            "colorbar": {
             "outlinewidth": 0,
             "ticks": ""
            },
            "colorscale": [
             [
              0,
              "#0d0887"
             ],
             [
              0.1111111111111111,
              "#46039f"
             ],
             [
              0.2222222222222222,
              "#7201a8"
             ],
             [
              0.3333333333333333,
              "#9c179e"
             ],
             [
              0.4444444444444444,
              "#bd3786"
             ],
             [
              0.5555555555555556,
              "#d8576b"
             ],
             [
              0.6666666666666666,
              "#ed7953"
             ],
             [
              0.7777777777777778,
              "#fb9f3a"
             ],
             [
              0.8888888888888888,
              "#fdca26"
             ],
             [
              1,
              "#f0f921"
             ]
            ],
            "type": "histogram2dcontour"
           }
          ],
          "mesh3d": [
           {
            "colorbar": {
             "outlinewidth": 0,
             "ticks": ""
            },
            "type": "mesh3d"
           }
          ],
          "parcoords": [
           {
            "line": {
             "colorbar": {
              "outlinewidth": 0,
              "ticks": ""
             }
            },
            "type": "parcoords"
           }
          ],
          "pie": [
           {
            "automargin": true,
            "type": "pie"
           }
          ],
          "scatter": [
           {
            "marker": {
             "colorbar": {
              "outlinewidth": 0,
              "ticks": ""
             }
            },
            "type": "scatter"
           }
          ],
          "scatter3d": [
           {
            "line": {
             "colorbar": {
              "outlinewidth": 0,
              "ticks": ""
             }
            },
            "marker": {
             "colorbar": {
              "outlinewidth": 0,
              "ticks": ""
             }
            },
            "type": "scatter3d"
           }
          ],
          "scattercarpet": [
           {
            "marker": {
             "colorbar": {
              "outlinewidth": 0,
              "ticks": ""
             }
            },
            "type": "scattercarpet"
           }
          ],
          "scattergeo": [
           {
            "marker": {
             "colorbar": {
              "outlinewidth": 0,
              "ticks": ""
             }
            },
            "type": "scattergeo"
           }
          ],
          "scattergl": [
           {
            "marker": {
             "colorbar": {
              "outlinewidth": 0,
              "ticks": ""
             }
            },
            "type": "scattergl"
           }
          ],
          "scattermapbox": [
           {
            "marker": {
             "colorbar": {
              "outlinewidth": 0,
              "ticks": ""
             }
            },
            "type": "scattermapbox"
           }
          ],
          "scatterpolar": [
           {
            "marker": {
             "colorbar": {
              "outlinewidth": 0,
              "ticks": ""
             }
            },
            "type": "scatterpolar"
           }
          ],
          "scatterpolargl": [
           {
            "marker": {
             "colorbar": {
              "outlinewidth": 0,
              "ticks": ""
             }
            },
            "type": "scatterpolargl"
           }
          ],
          "scatterternary": [
           {
            "marker": {
             "colorbar": {
              "outlinewidth": 0,
              "ticks": ""
             }
            },
            "type": "scatterternary"
           }
          ],
          "surface": [
           {
            "colorbar": {
             "outlinewidth": 0,
             "ticks": ""
            },
            "colorscale": [
             [
              0,
              "#0d0887"
             ],
             [
              0.1111111111111111,
              "#46039f"
             ],
             [
              0.2222222222222222,
              "#7201a8"
             ],
             [
              0.3333333333333333,
              "#9c179e"
             ],
             [
              0.4444444444444444,
              "#bd3786"
             ],
             [
              0.5555555555555556,
              "#d8576b"
             ],
             [
              0.6666666666666666,
              "#ed7953"
             ],
             [
              0.7777777777777778,
              "#fb9f3a"
             ],
             [
              0.8888888888888888,
              "#fdca26"
             ],
             [
              1,
              "#f0f921"
             ]
            ],
            "type": "surface"
           }
          ],
          "table": [
           {
            "cells": {
             "fill": {
              "color": "#EBF0F8"
             },
             "line": {
              "color": "white"
             }
            },
            "header": {
             "fill": {
              "color": "#C8D4E3"
             },
             "line": {
              "color": "white"
             }
            },
            "type": "table"
           }
          ]
         },
         "layout": {
          "annotationdefaults": {
           "arrowcolor": "#2a3f5f",
           "arrowhead": 0,
           "arrowwidth": 1
          },
          "autotypenumbers": "strict",
          "coloraxis": {
           "colorbar": {
            "outlinewidth": 0,
            "ticks": ""
           }
          },
          "colorscale": {
           "diverging": [
            [
             0,
             "#8e0152"
            ],
            [
             0.1,
             "#c51b7d"
            ],
            [
             0.2,
             "#de77ae"
            ],
            [
             0.3,
             "#f1b6da"
            ],
            [
             0.4,
             "#fde0ef"
            ],
            [
             0.5,
             "#f7f7f7"
            ],
            [
             0.6,
             "#e6f5d0"
            ],
            [
             0.7,
             "#b8e186"
            ],
            [
             0.8,
             "#7fbc41"
            ],
            [
             0.9,
             "#4d9221"
            ],
            [
             1,
             "#276419"
            ]
           ],
           "sequential": [
            [
             0,
             "#0d0887"
            ],
            [
             0.1111111111111111,
             "#46039f"
            ],
            [
             0.2222222222222222,
             "#7201a8"
            ],
            [
             0.3333333333333333,
             "#9c179e"
            ],
            [
             0.4444444444444444,
             "#bd3786"
            ],
            [
             0.5555555555555556,
             "#d8576b"
            ],
            [
             0.6666666666666666,
             "#ed7953"
            ],
            [
             0.7777777777777778,
             "#fb9f3a"
            ],
            [
             0.8888888888888888,
             "#fdca26"
            ],
            [
             1,
             "#f0f921"
            ]
           ],
           "sequentialminus": [
            [
             0,
             "#0d0887"
            ],
            [
             0.1111111111111111,
             "#46039f"
            ],
            [
             0.2222222222222222,
             "#7201a8"
            ],
            [
             0.3333333333333333,
             "#9c179e"
            ],
            [
             0.4444444444444444,
             "#bd3786"
            ],
            [
             0.5555555555555556,
             "#d8576b"
            ],
            [
             0.6666666666666666,
             "#ed7953"
            ],
            [
             0.7777777777777778,
             "#fb9f3a"
            ],
            [
             0.8888888888888888,
             "#fdca26"
            ],
            [
             1,
             "#f0f921"
            ]
           ]
          },
          "colorway": [
           "#636efa",
           "#EF553B",
           "#00cc96",
           "#ab63fa",
           "#FFA15A",
           "#19d3f3",
           "#FF6692",
           "#B6E880",
           "#FF97FF",
           "#FECB52"
          ],
          "font": {
           "color": "#2a3f5f"
          },
          "geo": {
           "bgcolor": "white",
           "lakecolor": "white",
           "landcolor": "#E5ECF6",
           "showlakes": true,
           "showland": true,
           "subunitcolor": "white"
          },
          "hoverlabel": {
           "align": "left"
          },
          "hovermode": "closest",
          "mapbox": {
           "style": "light"
          },
          "paper_bgcolor": "white",
          "plot_bgcolor": "#E5ECF6",
          "polar": {
           "angularaxis": {
            "gridcolor": "white",
            "linecolor": "white",
            "ticks": ""
           },
           "bgcolor": "#E5ECF6",
           "radialaxis": {
            "gridcolor": "white",
            "linecolor": "white",
            "ticks": ""
           }
          },
          "scene": {
           "xaxis": {
            "backgroundcolor": "#E5ECF6",
            "gridcolor": "white",
            "gridwidth": 2,
            "linecolor": "white",
            "showbackground": true,
            "ticks": "",
            "zerolinecolor": "white"
           },
           "yaxis": {
            "backgroundcolor": "#E5ECF6",
            "gridcolor": "white",
            "gridwidth": 2,
            "linecolor": "white",
            "showbackground": true,
            "ticks": "",
            "zerolinecolor": "white"
           },
           "zaxis": {
            "backgroundcolor": "#E5ECF6",
            "gridcolor": "white",
            "gridwidth": 2,
            "linecolor": "white",
            "showbackground": true,
            "ticks": "",
            "zerolinecolor": "white"
           }
          },
          "shapedefaults": {
           "line": {
            "color": "#2a3f5f"
           }
          },
          "ternary": {
           "aaxis": {
            "gridcolor": "white",
            "linecolor": "white",
            "ticks": ""
           },
           "baxis": {
            "gridcolor": "white",
            "linecolor": "white",
            "ticks": ""
           },
           "bgcolor": "#E5ECF6",
           "caxis": {
            "gridcolor": "white",
            "linecolor": "white",
            "ticks": ""
           }
          },
          "title": {
           "x": 0.05
          },
          "xaxis": {
           "automargin": true,
           "gridcolor": "white",
           "linecolor": "white",
           "ticks": "",
           "title": {
            "standoff": 15
           },
           "zerolinecolor": "white",
           "zerolinewidth": 2
          },
          "yaxis": {
           "automargin": true,
           "gridcolor": "white",
           "linecolor": "white",
           "ticks": "",
           "title": {
            "standoff": 15
           },
           "zerolinecolor": "white",
           "zerolinewidth": 2
          }
         }
        },
        "title": {
         "font": {
          "color": "#4D5663"
         }
        },
        "xaxis": {
         "gridcolor": "#E1E5ED",
         "showgrid": true,
         "tickfont": {
          "color": "#4D5663"
         },
         "title": {
          "font": {
           "color": "#4D5663"
          },
          "text": ""
         },
         "zerolinecolor": "#E1E5ED"
        },
        "yaxis": {
         "gridcolor": "#E1E5ED",
         "showgrid": true,
         "tickfont": {
          "color": "#4D5663"
         },
         "title": {
          "font": {
           "color": "#4D5663"
          },
          "text": ""
         },
         "zerolinecolor": "#E1E5ED"
        }
       }
      },
      "text/html": [
       "<div>                            <div id=\"9637c413-94b8-4c71-b5b3-af95f0270300\" class=\"plotly-graph-div\" style=\"height:525px; width:100%;\"></div>            <script type=\"text/javascript\">                require([\"plotly\"], function(Plotly) {                    window.PLOTLYENV=window.PLOTLYENV || {};\n",
       "                    window.PLOTLYENV.BASE_URL='https://plot.ly';                                    if (document.getElementById(\"9637c413-94b8-4c71-b5b3-af95f0270300\")) {                    Plotly.newPlot(                        \"9637c413-94b8-4c71-b5b3-af95f0270300\",                        [{\"marker\":{\"color\":\"rgba(255, 153, 51, 0.6)\",\"line\":{\"color\":\"rgba(255, 153, 51, 1.0)\",\"width\":1}},\"name\":\"Values\",\"orientation\":\"v\",\"text\":\"\",\"type\":\"bar\",\"x\":[\"A\",\"B\",\"C\"],\"y\":[32,43,50]}],                        {\"legend\":{\"bgcolor\":\"#F5F6F9\",\"font\":{\"color\":\"#4D5663\"}},\"paper_bgcolor\":\"#F5F6F9\",\"plot_bgcolor\":\"#F5F6F9\",\"template\":{\"data\":{\"bar\":[{\"error_x\":{\"color\":\"#2a3f5f\"},\"error_y\":{\"color\":\"#2a3f5f\"},\"marker\":{\"line\":{\"color\":\"#E5ECF6\",\"width\":0.5},\"pattern\":{\"fillmode\":\"overlay\",\"size\":10,\"solidity\":0.2}},\"type\":\"bar\"}],\"barpolar\":[{\"marker\":{\"line\":{\"color\":\"#E5ECF6\",\"width\":0.5},\"pattern\":{\"fillmode\":\"overlay\",\"size\":10,\"solidity\":0.2}},\"type\":\"barpolar\"}],\"carpet\":[{\"aaxis\":{\"endlinecolor\":\"#2a3f5f\",\"gridcolor\":\"white\",\"linecolor\":\"white\",\"minorgridcolor\":\"white\",\"startlinecolor\":\"#2a3f5f\"},\"baxis\":{\"endlinecolor\":\"#2a3f5f\",\"gridcolor\":\"white\",\"linecolor\":\"white\",\"minorgridcolor\":\"white\",\"startlinecolor\":\"#2a3f5f\"},\"type\":\"carpet\"}],\"choropleth\":[{\"colorbar\":{\"outlinewidth\":0,\"ticks\":\"\"},\"type\":\"choropleth\"}],\"contour\":[{\"colorbar\":{\"outlinewidth\":0,\"ticks\":\"\"},\"colorscale\":[[0.0,\"#0d0887\"],[0.1111111111111111,\"#46039f\"],[0.2222222222222222,\"#7201a8\"],[0.3333333333333333,\"#9c179e\"],[0.4444444444444444,\"#bd3786\"],[0.5555555555555556,\"#d8576b\"],[0.6666666666666666,\"#ed7953\"],[0.7777777777777778,\"#fb9f3a\"],[0.8888888888888888,\"#fdca26\"],[1.0,\"#f0f921\"]],\"type\":\"contour\"}],\"contourcarpet\":[{\"colorbar\":{\"outlinewidth\":0,\"ticks\":\"\"},\"type\":\"contourcarpet\"}],\"heatmap\":[{\"colorbar\":{\"outlinewidth\":0,\"ticks\":\"\"},\"colorscale\":[[0.0,\"#0d0887\"],[0.1111111111111111,\"#46039f\"],[0.2222222222222222,\"#7201a8\"],[0.3333333333333333,\"#9c179e\"],[0.4444444444444444,\"#bd3786\"],[0.5555555555555556,\"#d8576b\"],[0.6666666666666666,\"#ed7953\"],[0.7777777777777778,\"#fb9f3a\"],[0.8888888888888888,\"#fdca26\"],[1.0,\"#f0f921\"]],\"type\":\"heatmap\"}],\"heatmapgl\":[{\"colorbar\":{\"outlinewidth\":0,\"ticks\":\"\"},\"colorscale\":[[0.0,\"#0d0887\"],[0.1111111111111111,\"#46039f\"],[0.2222222222222222,\"#7201a8\"],[0.3333333333333333,\"#9c179e\"],[0.4444444444444444,\"#bd3786\"],[0.5555555555555556,\"#d8576b\"],[0.6666666666666666,\"#ed7953\"],[0.7777777777777778,\"#fb9f3a\"],[0.8888888888888888,\"#fdca26\"],[1.0,\"#f0f921\"]],\"type\":\"heatmapgl\"}],\"histogram\":[{\"marker\":{\"pattern\":{\"fillmode\":\"overlay\",\"size\":10,\"solidity\":0.2}},\"type\":\"histogram\"}],\"histogram2d\":[{\"colorbar\":{\"outlinewidth\":0,\"ticks\":\"\"},\"colorscale\":[[0.0,\"#0d0887\"],[0.1111111111111111,\"#46039f\"],[0.2222222222222222,\"#7201a8\"],[0.3333333333333333,\"#9c179e\"],[0.4444444444444444,\"#bd3786\"],[0.5555555555555556,\"#d8576b\"],[0.6666666666666666,\"#ed7953\"],[0.7777777777777778,\"#fb9f3a\"],[0.8888888888888888,\"#fdca26\"],[1.0,\"#f0f921\"]],\"type\":\"histogram2d\"}],\"histogram2dcontour\":[{\"colorbar\":{\"outlinewidth\":0,\"ticks\":\"\"},\"colorscale\":[[0.0,\"#0d0887\"],[0.1111111111111111,\"#46039f\"],[0.2222222222222222,\"#7201a8\"],[0.3333333333333333,\"#9c179e\"],[0.4444444444444444,\"#bd3786\"],[0.5555555555555556,\"#d8576b\"],[0.6666666666666666,\"#ed7953\"],[0.7777777777777778,\"#fb9f3a\"],[0.8888888888888888,\"#fdca26\"],[1.0,\"#f0f921\"]],\"type\":\"histogram2dcontour\"}],\"mesh3d\":[{\"colorbar\":{\"outlinewidth\":0,\"ticks\":\"\"},\"type\":\"mesh3d\"}],\"parcoords\":[{\"line\":{\"colorbar\":{\"outlinewidth\":0,\"ticks\":\"\"}},\"type\":\"parcoords\"}],\"pie\":[{\"automargin\":true,\"type\":\"pie\"}],\"scatter\":[{\"marker\":{\"colorbar\":{\"outlinewidth\":0,\"ticks\":\"\"}},\"type\":\"scatter\"}],\"scatter3d\":[{\"line\":{\"colorbar\":{\"outlinewidth\":0,\"ticks\":\"\"}},\"marker\":{\"colorbar\":{\"outlinewidth\":0,\"ticks\":\"\"}},\"type\":\"scatter3d\"}],\"scattercarpet\":[{\"marker\":{\"colorbar\":{\"outlinewidth\":0,\"ticks\":\"\"}},\"type\":\"scattercarpet\"}],\"scattergeo\":[{\"marker\":{\"colorbar\":{\"outlinewidth\":0,\"ticks\":\"\"}},\"type\":\"scattergeo\"}],\"scattergl\":[{\"marker\":{\"colorbar\":{\"outlinewidth\":0,\"ticks\":\"\"}},\"type\":\"scattergl\"}],\"scattermapbox\":[{\"marker\":{\"colorbar\":{\"outlinewidth\":0,\"ticks\":\"\"}},\"type\":\"scattermapbox\"}],\"scatterpolar\":[{\"marker\":{\"colorbar\":{\"outlinewidth\":0,\"ticks\":\"\"}},\"type\":\"scatterpolar\"}],\"scatterpolargl\":[{\"marker\":{\"colorbar\":{\"outlinewidth\":0,\"ticks\":\"\"}},\"type\":\"scatterpolargl\"}],\"scatterternary\":[{\"marker\":{\"colorbar\":{\"outlinewidth\":0,\"ticks\":\"\"}},\"type\":\"scatterternary\"}],\"surface\":[{\"colorbar\":{\"outlinewidth\":0,\"ticks\":\"\"},\"colorscale\":[[0.0,\"#0d0887\"],[0.1111111111111111,\"#46039f\"],[0.2222222222222222,\"#7201a8\"],[0.3333333333333333,\"#9c179e\"],[0.4444444444444444,\"#bd3786\"],[0.5555555555555556,\"#d8576b\"],[0.6666666666666666,\"#ed7953\"],[0.7777777777777778,\"#fb9f3a\"],[0.8888888888888888,\"#fdca26\"],[1.0,\"#f0f921\"]],\"type\":\"surface\"}],\"table\":[{\"cells\":{\"fill\":{\"color\":\"#EBF0F8\"},\"line\":{\"color\":\"white\"}},\"header\":{\"fill\":{\"color\":\"#C8D4E3\"},\"line\":{\"color\":\"white\"}},\"type\":\"table\"}]},\"layout\":{\"annotationdefaults\":{\"arrowcolor\":\"#2a3f5f\",\"arrowhead\":0,\"arrowwidth\":1},\"autotypenumbers\":\"strict\",\"coloraxis\":{\"colorbar\":{\"outlinewidth\":0,\"ticks\":\"\"}},\"colorscale\":{\"diverging\":[[0,\"#8e0152\"],[0.1,\"#c51b7d\"],[0.2,\"#de77ae\"],[0.3,\"#f1b6da\"],[0.4,\"#fde0ef\"],[0.5,\"#f7f7f7\"],[0.6,\"#e6f5d0\"],[0.7,\"#b8e186\"],[0.8,\"#7fbc41\"],[0.9,\"#4d9221\"],[1,\"#276419\"]],\"sequential\":[[0.0,\"#0d0887\"],[0.1111111111111111,\"#46039f\"],[0.2222222222222222,\"#7201a8\"],[0.3333333333333333,\"#9c179e\"],[0.4444444444444444,\"#bd3786\"],[0.5555555555555556,\"#d8576b\"],[0.6666666666666666,\"#ed7953\"],[0.7777777777777778,\"#fb9f3a\"],[0.8888888888888888,\"#fdca26\"],[1.0,\"#f0f921\"]],\"sequentialminus\":[[0.0,\"#0d0887\"],[0.1111111111111111,\"#46039f\"],[0.2222222222222222,\"#7201a8\"],[0.3333333333333333,\"#9c179e\"],[0.4444444444444444,\"#bd3786\"],[0.5555555555555556,\"#d8576b\"],[0.6666666666666666,\"#ed7953\"],[0.7777777777777778,\"#fb9f3a\"],[0.8888888888888888,\"#fdca26\"],[1.0,\"#f0f921\"]]},\"colorway\":[\"#636efa\",\"#EF553B\",\"#00cc96\",\"#ab63fa\",\"#FFA15A\",\"#19d3f3\",\"#FF6692\",\"#B6E880\",\"#FF97FF\",\"#FECB52\"],\"font\":{\"color\":\"#2a3f5f\"},\"geo\":{\"bgcolor\":\"white\",\"lakecolor\":\"white\",\"landcolor\":\"#E5ECF6\",\"showlakes\":true,\"showland\":true,\"subunitcolor\":\"white\"},\"hoverlabel\":{\"align\":\"left\"},\"hovermode\":\"closest\",\"mapbox\":{\"style\":\"light\"},\"paper_bgcolor\":\"white\",\"plot_bgcolor\":\"#E5ECF6\",\"polar\":{\"angularaxis\":{\"gridcolor\":\"white\",\"linecolor\":\"white\",\"ticks\":\"\"},\"bgcolor\":\"#E5ECF6\",\"radialaxis\":{\"gridcolor\":\"white\",\"linecolor\":\"white\",\"ticks\":\"\"}},\"scene\":{\"xaxis\":{\"backgroundcolor\":\"#E5ECF6\",\"gridcolor\":\"white\",\"gridwidth\":2,\"linecolor\":\"white\",\"showbackground\":true,\"ticks\":\"\",\"zerolinecolor\":\"white\"},\"yaxis\":{\"backgroundcolor\":\"#E5ECF6\",\"gridcolor\":\"white\",\"gridwidth\":2,\"linecolor\":\"white\",\"showbackground\":true,\"ticks\":\"\",\"zerolinecolor\":\"white\"},\"zaxis\":{\"backgroundcolor\":\"#E5ECF6\",\"gridcolor\":\"white\",\"gridwidth\":2,\"linecolor\":\"white\",\"showbackground\":true,\"ticks\":\"\",\"zerolinecolor\":\"white\"}},\"shapedefaults\":{\"line\":{\"color\":\"#2a3f5f\"}},\"ternary\":{\"aaxis\":{\"gridcolor\":\"white\",\"linecolor\":\"white\",\"ticks\":\"\"},\"baxis\":{\"gridcolor\":\"white\",\"linecolor\":\"white\",\"ticks\":\"\"},\"bgcolor\":\"#E5ECF6\",\"caxis\":{\"gridcolor\":\"white\",\"linecolor\":\"white\",\"ticks\":\"\"}},\"title\":{\"x\":0.05},\"xaxis\":{\"automargin\":true,\"gridcolor\":\"white\",\"linecolor\":\"white\",\"ticks\":\"\",\"title\":{\"standoff\":15},\"zerolinecolor\":\"white\",\"zerolinewidth\":2},\"yaxis\":{\"automargin\":true,\"gridcolor\":\"white\",\"linecolor\":\"white\",\"ticks\":\"\",\"title\":{\"standoff\":15},\"zerolinecolor\":\"white\",\"zerolinewidth\":2}}},\"title\":{\"font\":{\"color\":\"#4D5663\"}},\"xaxis\":{\"gridcolor\":\"#E1E5ED\",\"showgrid\":true,\"tickfont\":{\"color\":\"#4D5663\"},\"title\":{\"font\":{\"color\":\"#4D5663\"},\"text\":\"\"},\"zerolinecolor\":\"#E1E5ED\"},\"yaxis\":{\"gridcolor\":\"#E1E5ED\",\"showgrid\":true,\"tickfont\":{\"color\":\"#4D5663\"},\"title\":{\"font\":{\"color\":\"#4D5663\"},\"text\":\"\"},\"zerolinecolor\":\"#E1E5ED\"}},                        {\"showLink\": true, \"linkText\": \"Export to plot.ly\", \"plotlyServerURL\": \"https://plot.ly\", \"responsive\": true}                    ).then(function(){\n",
       "                            \n",
       "var gd = document.getElementById('9637c413-94b8-4c71-b5b3-af95f0270300');\n",
       "var x = new MutationObserver(function (mutations, observer) {{\n",
       "        var display = window.getComputedStyle(gd).display;\n",
       "        if (!display || display === 'none') {{\n",
       "            console.log([gd, 'removed!']);\n",
       "            Plotly.purge(gd);\n",
       "            observer.disconnect();\n",
       "        }}\n",
       "}});\n",
       "\n",
       "// Listen for the removal of the full notebook cells\n",
       "var notebookContainer = gd.closest('#notebook-container');\n",
       "if (notebookContainer) {{\n",
       "    x.observe(notebookContainer, {childList: true});\n",
       "}}\n",
       "\n",
       "// Listen for the clearing of the current output cell\n",
       "var outputEl = gd.closest('.output');\n",
       "if (outputEl) {{\n",
       "    x.observe(outputEl, {childList: true});\n",
       "}}\n",
       "\n",
       "                        })                };                });            </script>        </div>"
      ]
     },
     "metadata": {},
     "output_type": "display_data"
    }
   ],
   "source": [
    "df2.iplot(kind='bar',x='Category',y='Values')"
   ]
  },
  {
   "cell_type": "code",
   "execution_count": 20,
   "metadata": {},
   "outputs": [
    {
     "data": {
      "application/vnd.plotly.v1+json": {
       "config": {
        "linkText": "Export to plot.ly",
        "plotlyServerURL": "https://plot.ly",
        "showLink": true
       },
       "data": [
        {
         "marker": {
          "color": "rgba(255, 153, 51, 0.6)",
          "line": {
           "color": "rgba(255, 153, 51, 1.0)",
           "width": 1
          }
         },
         "name": "None",
         "orientation": "v",
         "text": "",
         "type": "bar",
         "x": [
          "A",
          "B",
          "C",
          "D"
         ],
         "y": [
          100,
          100,
          100,
          100
         ]
        }
       ],
       "layout": {
        "legend": {
         "bgcolor": "#F5F6F9",
         "font": {
          "color": "#4D5663"
         }
        },
        "paper_bgcolor": "#F5F6F9",
        "plot_bgcolor": "#F5F6F9",
        "template": {
         "data": {
          "bar": [
           {
            "error_x": {
             "color": "#2a3f5f"
            },
            "error_y": {
             "color": "#2a3f5f"
            },
            "marker": {
             "line": {
              "color": "#E5ECF6",
              "width": 0.5
             },
             "pattern": {
              "fillmode": "overlay",
              "size": 10,
              "solidity": 0.2
             }
            },
            "type": "bar"
           }
          ],
          "barpolar": [
           {
            "marker": {
             "line": {
              "color": "#E5ECF6",
              "width": 0.5
             },
             "pattern": {
              "fillmode": "overlay",
              "size": 10,
              "solidity": 0.2
             }
            },
            "type": "barpolar"
           }
          ],
          "carpet": [
           {
            "aaxis": {
             "endlinecolor": "#2a3f5f",
             "gridcolor": "white",
             "linecolor": "white",
             "minorgridcolor": "white",
             "startlinecolor": "#2a3f5f"
            },
            "baxis": {
             "endlinecolor": "#2a3f5f",
             "gridcolor": "white",
             "linecolor": "white",
             "minorgridcolor": "white",
             "startlinecolor": "#2a3f5f"
            },
            "type": "carpet"
           }
          ],
          "choropleth": [
           {
            "colorbar": {
             "outlinewidth": 0,
             "ticks": ""
            },
            "type": "choropleth"
           }
          ],
          "contour": [
           {
            "colorbar": {
             "outlinewidth": 0,
             "ticks": ""
            },
            "colorscale": [
             [
              0,
              "#0d0887"
             ],
             [
              0.1111111111111111,
              "#46039f"
             ],
             [
              0.2222222222222222,
              "#7201a8"
             ],
             [
              0.3333333333333333,
              "#9c179e"
             ],
             [
              0.4444444444444444,
              "#bd3786"
             ],
             [
              0.5555555555555556,
              "#d8576b"
             ],
             [
              0.6666666666666666,
              "#ed7953"
             ],
             [
              0.7777777777777778,
              "#fb9f3a"
             ],
             [
              0.8888888888888888,
              "#fdca26"
             ],
             [
              1,
              "#f0f921"
             ]
            ],
            "type": "contour"
           }
          ],
          "contourcarpet": [
           {
            "colorbar": {
             "outlinewidth": 0,
             "ticks": ""
            },
            "type": "contourcarpet"
           }
          ],
          "heatmap": [
           {
            "colorbar": {
             "outlinewidth": 0,
             "ticks": ""
            },
            "colorscale": [
             [
              0,
              "#0d0887"
             ],
             [
              0.1111111111111111,
              "#46039f"
             ],
             [
              0.2222222222222222,
              "#7201a8"
             ],
             [
              0.3333333333333333,
              "#9c179e"
             ],
             [
              0.4444444444444444,
              "#bd3786"
             ],
             [
              0.5555555555555556,
              "#d8576b"
             ],
             [
              0.6666666666666666,
              "#ed7953"
             ],
             [
              0.7777777777777778,
              "#fb9f3a"
             ],
             [
              0.8888888888888888,
              "#fdca26"
             ],
             [
              1,
              "#f0f921"
             ]
            ],
            "type": "heatmap"
           }
          ],
          "heatmapgl": [
           {
            "colorbar": {
             "outlinewidth": 0,
             "ticks": ""
            },
            "colorscale": [
             [
              0,
              "#0d0887"
             ],
             [
              0.1111111111111111,
              "#46039f"
             ],
             [
              0.2222222222222222,
              "#7201a8"
             ],
             [
              0.3333333333333333,
              "#9c179e"
             ],
             [
              0.4444444444444444,
              "#bd3786"
             ],
             [
              0.5555555555555556,
              "#d8576b"
             ],
             [
              0.6666666666666666,
              "#ed7953"
             ],
             [
              0.7777777777777778,
              "#fb9f3a"
             ],
             [
              0.8888888888888888,
              "#fdca26"
             ],
             [
              1,
              "#f0f921"
             ]
            ],
            "type": "heatmapgl"
           }
          ],
          "histogram": [
           {
            "marker": {
             "pattern": {
              "fillmode": "overlay",
              "size": 10,
              "solidity": 0.2
             }
            },
            "type": "histogram"
           }
          ],
          "histogram2d": [
           {
            "colorbar": {
             "outlinewidth": 0,
             "ticks": ""
            },
            "colorscale": [
             [
              0,
              "#0d0887"
             ],
             [
              0.1111111111111111,
              "#46039f"
             ],
             [
              0.2222222222222222,
              "#7201a8"
             ],
             [
              0.3333333333333333,
              "#9c179e"
             ],
             [
              0.4444444444444444,
              "#bd3786"
             ],
             [
              0.5555555555555556,
              "#d8576b"
             ],
             [
              0.6666666666666666,
              "#ed7953"
             ],
             [
              0.7777777777777778,
              "#fb9f3a"
             ],
             [
              0.8888888888888888,
              "#fdca26"
             ],
             [
              1,
              "#f0f921"
             ]
            ],
            "type": "histogram2d"
           }
          ],
          "histogram2dcontour": [
           {
            "colorbar": {
             "outlinewidth": 0,
             "ticks": ""
            },
            "colorscale": [
             [
              0,
              "#0d0887"
             ],
             [
              0.1111111111111111,
              "#46039f"
             ],
             [
              0.2222222222222222,
              "#7201a8"
             ],
             [
              0.3333333333333333,
              "#9c179e"
             ],
             [
              0.4444444444444444,
              "#bd3786"
             ],
             [
              0.5555555555555556,
              "#d8576b"
             ],
             [
              0.6666666666666666,
              "#ed7953"
             ],
             [
              0.7777777777777778,
              "#fb9f3a"
             ],
             [
              0.8888888888888888,
              "#fdca26"
             ],
             [
              1,
              "#f0f921"
             ]
            ],
            "type": "histogram2dcontour"
           }
          ],
          "mesh3d": [
           {
            "colorbar": {
             "outlinewidth": 0,
             "ticks": ""
            },
            "type": "mesh3d"
           }
          ],
          "parcoords": [
           {
            "line": {
             "colorbar": {
              "outlinewidth": 0,
              "ticks": ""
             }
            },
            "type": "parcoords"
           }
          ],
          "pie": [
           {
            "automargin": true,
            "type": "pie"
           }
          ],
          "scatter": [
           {
            "marker": {
             "colorbar": {
              "outlinewidth": 0,
              "ticks": ""
             }
            },
            "type": "scatter"
           }
          ],
          "scatter3d": [
           {
            "line": {
             "colorbar": {
              "outlinewidth": 0,
              "ticks": ""
             }
            },
            "marker": {
             "colorbar": {
              "outlinewidth": 0,
              "ticks": ""
             }
            },
            "type": "scatter3d"
           }
          ],
          "scattercarpet": [
           {
            "marker": {
             "colorbar": {
              "outlinewidth": 0,
              "ticks": ""
             }
            },
            "type": "scattercarpet"
           }
          ],
          "scattergeo": [
           {
            "marker": {
             "colorbar": {
              "outlinewidth": 0,
              "ticks": ""
             }
            },
            "type": "scattergeo"
           }
          ],
          "scattergl": [
           {
            "marker": {
             "colorbar": {
              "outlinewidth": 0,
              "ticks": ""
             }
            },
            "type": "scattergl"
           }
          ],
          "scattermapbox": [
           {
            "marker": {
             "colorbar": {
              "outlinewidth": 0,
              "ticks": ""
             }
            },
            "type": "scattermapbox"
           }
          ],
          "scatterpolar": [
           {
            "marker": {
             "colorbar": {
              "outlinewidth": 0,
              "ticks": ""
             }
            },
            "type": "scatterpolar"
           }
          ],
          "scatterpolargl": [
           {
            "marker": {
             "colorbar": {
              "outlinewidth": 0,
              "ticks": ""
             }
            },
            "type": "scatterpolargl"
           }
          ],
          "scatterternary": [
           {
            "marker": {
             "colorbar": {
              "outlinewidth": 0,
              "ticks": ""
             }
            },
            "type": "scatterternary"
           }
          ],
          "surface": [
           {
            "colorbar": {
             "outlinewidth": 0,
             "ticks": ""
            },
            "colorscale": [
             [
              0,
              "#0d0887"
             ],
             [
              0.1111111111111111,
              "#46039f"
             ],
             [
              0.2222222222222222,
              "#7201a8"
             ],
             [
              0.3333333333333333,
              "#9c179e"
             ],
             [
              0.4444444444444444,
              "#bd3786"
             ],
             [
              0.5555555555555556,
              "#d8576b"
             ],
             [
              0.6666666666666666,
              "#ed7953"
             ],
             [
              0.7777777777777778,
              "#fb9f3a"
             ],
             [
              0.8888888888888888,
              "#fdca26"
             ],
             [
              1,
              "#f0f921"
             ]
            ],
            "type": "surface"
           }
          ],
          "table": [
           {
            "cells": {
             "fill": {
              "color": "#EBF0F8"
             },
             "line": {
              "color": "white"
             }
            },
            "header": {
             "fill": {
              "color": "#C8D4E3"
             },
             "line": {
              "color": "white"
             }
            },
            "type": "table"
           }
          ]
         },
         "layout": {
          "annotationdefaults": {
           "arrowcolor": "#2a3f5f",
           "arrowhead": 0,
           "arrowwidth": 1
          },
          "autotypenumbers": "strict",
          "coloraxis": {
           "colorbar": {
            "outlinewidth": 0,
            "ticks": ""
           }
          },
          "colorscale": {
           "diverging": [
            [
             0,
             "#8e0152"
            ],
            [
             0.1,
             "#c51b7d"
            ],
            [
             0.2,
             "#de77ae"
            ],
            [
             0.3,
             "#f1b6da"
            ],
            [
             0.4,
             "#fde0ef"
            ],
            [
             0.5,
             "#f7f7f7"
            ],
            [
             0.6,
             "#e6f5d0"
            ],
            [
             0.7,
             "#b8e186"
            ],
            [
             0.8,
             "#7fbc41"
            ],
            [
             0.9,
             "#4d9221"
            ],
            [
             1,
             "#276419"
            ]
           ],
           "sequential": [
            [
             0,
             "#0d0887"
            ],
            [
             0.1111111111111111,
             "#46039f"
            ],
            [
             0.2222222222222222,
             "#7201a8"
            ],
            [
             0.3333333333333333,
             "#9c179e"
            ],
            [
             0.4444444444444444,
             "#bd3786"
            ],
            [
             0.5555555555555556,
             "#d8576b"
            ],
            [
             0.6666666666666666,
             "#ed7953"
            ],
            [
             0.7777777777777778,
             "#fb9f3a"
            ],
            [
             0.8888888888888888,
             "#fdca26"
            ],
            [
             1,
             "#f0f921"
            ]
           ],
           "sequentialminus": [
            [
             0,
             "#0d0887"
            ],
            [
             0.1111111111111111,
             "#46039f"
            ],
            [
             0.2222222222222222,
             "#7201a8"
            ],
            [
             0.3333333333333333,
             "#9c179e"
            ],
            [
             0.4444444444444444,
             "#bd3786"
            ],
            [
             0.5555555555555556,
             "#d8576b"
            ],
            [
             0.6666666666666666,
             "#ed7953"
            ],
            [
             0.7777777777777778,
             "#fb9f3a"
            ],
            [
             0.8888888888888888,
             "#fdca26"
            ],
            [
             1,
             "#f0f921"
            ]
           ]
          },
          "colorway": [
           "#636efa",
           "#EF553B",
           "#00cc96",
           "#ab63fa",
           "#FFA15A",
           "#19d3f3",
           "#FF6692",
           "#B6E880",
           "#FF97FF",
           "#FECB52"
          ],
          "font": {
           "color": "#2a3f5f"
          },
          "geo": {
           "bgcolor": "white",
           "lakecolor": "white",
           "landcolor": "#E5ECF6",
           "showlakes": true,
           "showland": true,
           "subunitcolor": "white"
          },
          "hoverlabel": {
           "align": "left"
          },
          "hovermode": "closest",
          "mapbox": {
           "style": "light"
          },
          "paper_bgcolor": "white",
          "plot_bgcolor": "#E5ECF6",
          "polar": {
           "angularaxis": {
            "gridcolor": "white",
            "linecolor": "white",
            "ticks": ""
           },
           "bgcolor": "#E5ECF6",
           "radialaxis": {
            "gridcolor": "white",
            "linecolor": "white",
            "ticks": ""
           }
          },
          "scene": {
           "xaxis": {
            "backgroundcolor": "#E5ECF6",
            "gridcolor": "white",
            "gridwidth": 2,
            "linecolor": "white",
            "showbackground": true,
            "ticks": "",
            "zerolinecolor": "white"
           },
           "yaxis": {
            "backgroundcolor": "#E5ECF6",
            "gridcolor": "white",
            "gridwidth": 2,
            "linecolor": "white",
            "showbackground": true,
            "ticks": "",
            "zerolinecolor": "white"
           },
           "zaxis": {
            "backgroundcolor": "#E5ECF6",
            "gridcolor": "white",
            "gridwidth": 2,
            "linecolor": "white",
            "showbackground": true,
            "ticks": "",
            "zerolinecolor": "white"
           }
          },
          "shapedefaults": {
           "line": {
            "color": "#2a3f5f"
           }
          },
          "ternary": {
           "aaxis": {
            "gridcolor": "white",
            "linecolor": "white",
            "ticks": ""
           },
           "baxis": {
            "gridcolor": "white",
            "linecolor": "white",
            "ticks": ""
           },
           "bgcolor": "#E5ECF6",
           "caxis": {
            "gridcolor": "white",
            "linecolor": "white",
            "ticks": ""
           }
          },
          "title": {
           "x": 0.05
          },
          "xaxis": {
           "automargin": true,
           "gridcolor": "white",
           "linecolor": "white",
           "ticks": "",
           "title": {
            "standoff": 15
           },
           "zerolinecolor": "white",
           "zerolinewidth": 2
          },
          "yaxis": {
           "automargin": true,
           "gridcolor": "white",
           "linecolor": "white",
           "ticks": "",
           "title": {
            "standoff": 15
           },
           "zerolinecolor": "white",
           "zerolinewidth": 2
          }
         }
        },
        "title": {
         "font": {
          "color": "#4D5663"
         }
        },
        "xaxis": {
         "gridcolor": "#E1E5ED",
         "showgrid": true,
         "tickfont": {
          "color": "#4D5663"
         },
         "title": {
          "font": {
           "color": "#4D5663"
          },
          "text": ""
         },
         "zerolinecolor": "#E1E5ED"
        },
        "yaxis": {
         "gridcolor": "#E1E5ED",
         "showgrid": true,
         "tickfont": {
          "color": "#4D5663"
         },
         "title": {
          "font": {
           "color": "#4D5663"
          },
          "text": ""
         },
         "zerolinecolor": "#E1E5ED"
        }
       }
      },
      "text/html": [
       "<div>                            <div id=\"ec3746f5-b674-4586-854f-a14ab8d683dd\" class=\"plotly-graph-div\" style=\"height:525px; width:100%;\"></div>            <script type=\"text/javascript\">                require([\"plotly\"], function(Plotly) {                    window.PLOTLYENV=window.PLOTLYENV || {};\n",
       "                    window.PLOTLYENV.BASE_URL='https://plot.ly';                                    if (document.getElementById(\"ec3746f5-b674-4586-854f-a14ab8d683dd\")) {                    Plotly.newPlot(                        \"ec3746f5-b674-4586-854f-a14ab8d683dd\",                        [{\"marker\":{\"color\":\"rgba(255, 153, 51, 0.6)\",\"line\":{\"color\":\"rgba(255, 153, 51, 1.0)\",\"width\":1}},\"name\":\"None\",\"orientation\":\"v\",\"text\":\"\",\"type\":\"bar\",\"x\":[\"A\",\"B\",\"C\",\"D\"],\"y\":[100,100,100,100]}],                        {\"legend\":{\"bgcolor\":\"#F5F6F9\",\"font\":{\"color\":\"#4D5663\"}},\"paper_bgcolor\":\"#F5F6F9\",\"plot_bgcolor\":\"#F5F6F9\",\"template\":{\"data\":{\"bar\":[{\"error_x\":{\"color\":\"#2a3f5f\"},\"error_y\":{\"color\":\"#2a3f5f\"},\"marker\":{\"line\":{\"color\":\"#E5ECF6\",\"width\":0.5},\"pattern\":{\"fillmode\":\"overlay\",\"size\":10,\"solidity\":0.2}},\"type\":\"bar\"}],\"barpolar\":[{\"marker\":{\"line\":{\"color\":\"#E5ECF6\",\"width\":0.5},\"pattern\":{\"fillmode\":\"overlay\",\"size\":10,\"solidity\":0.2}},\"type\":\"barpolar\"}],\"carpet\":[{\"aaxis\":{\"endlinecolor\":\"#2a3f5f\",\"gridcolor\":\"white\",\"linecolor\":\"white\",\"minorgridcolor\":\"white\",\"startlinecolor\":\"#2a3f5f\"},\"baxis\":{\"endlinecolor\":\"#2a3f5f\",\"gridcolor\":\"white\",\"linecolor\":\"white\",\"minorgridcolor\":\"white\",\"startlinecolor\":\"#2a3f5f\"},\"type\":\"carpet\"}],\"choropleth\":[{\"colorbar\":{\"outlinewidth\":0,\"ticks\":\"\"},\"type\":\"choropleth\"}],\"contour\":[{\"colorbar\":{\"outlinewidth\":0,\"ticks\":\"\"},\"colorscale\":[[0.0,\"#0d0887\"],[0.1111111111111111,\"#46039f\"],[0.2222222222222222,\"#7201a8\"],[0.3333333333333333,\"#9c179e\"],[0.4444444444444444,\"#bd3786\"],[0.5555555555555556,\"#d8576b\"],[0.6666666666666666,\"#ed7953\"],[0.7777777777777778,\"#fb9f3a\"],[0.8888888888888888,\"#fdca26\"],[1.0,\"#f0f921\"]],\"type\":\"contour\"}],\"contourcarpet\":[{\"colorbar\":{\"outlinewidth\":0,\"ticks\":\"\"},\"type\":\"contourcarpet\"}],\"heatmap\":[{\"colorbar\":{\"outlinewidth\":0,\"ticks\":\"\"},\"colorscale\":[[0.0,\"#0d0887\"],[0.1111111111111111,\"#46039f\"],[0.2222222222222222,\"#7201a8\"],[0.3333333333333333,\"#9c179e\"],[0.4444444444444444,\"#bd3786\"],[0.5555555555555556,\"#d8576b\"],[0.6666666666666666,\"#ed7953\"],[0.7777777777777778,\"#fb9f3a\"],[0.8888888888888888,\"#fdca26\"],[1.0,\"#f0f921\"]],\"type\":\"heatmap\"}],\"heatmapgl\":[{\"colorbar\":{\"outlinewidth\":0,\"ticks\":\"\"},\"colorscale\":[[0.0,\"#0d0887\"],[0.1111111111111111,\"#46039f\"],[0.2222222222222222,\"#7201a8\"],[0.3333333333333333,\"#9c179e\"],[0.4444444444444444,\"#bd3786\"],[0.5555555555555556,\"#d8576b\"],[0.6666666666666666,\"#ed7953\"],[0.7777777777777778,\"#fb9f3a\"],[0.8888888888888888,\"#fdca26\"],[1.0,\"#f0f921\"]],\"type\":\"heatmapgl\"}],\"histogram\":[{\"marker\":{\"pattern\":{\"fillmode\":\"overlay\",\"size\":10,\"solidity\":0.2}},\"type\":\"histogram\"}],\"histogram2d\":[{\"colorbar\":{\"outlinewidth\":0,\"ticks\":\"\"},\"colorscale\":[[0.0,\"#0d0887\"],[0.1111111111111111,\"#46039f\"],[0.2222222222222222,\"#7201a8\"],[0.3333333333333333,\"#9c179e\"],[0.4444444444444444,\"#bd3786\"],[0.5555555555555556,\"#d8576b\"],[0.6666666666666666,\"#ed7953\"],[0.7777777777777778,\"#fb9f3a\"],[0.8888888888888888,\"#fdca26\"],[1.0,\"#f0f921\"]],\"type\":\"histogram2d\"}],\"histogram2dcontour\":[{\"colorbar\":{\"outlinewidth\":0,\"ticks\":\"\"},\"colorscale\":[[0.0,\"#0d0887\"],[0.1111111111111111,\"#46039f\"],[0.2222222222222222,\"#7201a8\"],[0.3333333333333333,\"#9c179e\"],[0.4444444444444444,\"#bd3786\"],[0.5555555555555556,\"#d8576b\"],[0.6666666666666666,\"#ed7953\"],[0.7777777777777778,\"#fb9f3a\"],[0.8888888888888888,\"#fdca26\"],[1.0,\"#f0f921\"]],\"type\":\"histogram2dcontour\"}],\"mesh3d\":[{\"colorbar\":{\"outlinewidth\":0,\"ticks\":\"\"},\"type\":\"mesh3d\"}],\"parcoords\":[{\"line\":{\"colorbar\":{\"outlinewidth\":0,\"ticks\":\"\"}},\"type\":\"parcoords\"}],\"pie\":[{\"automargin\":true,\"type\":\"pie\"}],\"scatter\":[{\"marker\":{\"colorbar\":{\"outlinewidth\":0,\"ticks\":\"\"}},\"type\":\"scatter\"}],\"scatter3d\":[{\"line\":{\"colorbar\":{\"outlinewidth\":0,\"ticks\":\"\"}},\"marker\":{\"colorbar\":{\"outlinewidth\":0,\"ticks\":\"\"}},\"type\":\"scatter3d\"}],\"scattercarpet\":[{\"marker\":{\"colorbar\":{\"outlinewidth\":0,\"ticks\":\"\"}},\"type\":\"scattercarpet\"}],\"scattergeo\":[{\"marker\":{\"colorbar\":{\"outlinewidth\":0,\"ticks\":\"\"}},\"type\":\"scattergeo\"}],\"scattergl\":[{\"marker\":{\"colorbar\":{\"outlinewidth\":0,\"ticks\":\"\"}},\"type\":\"scattergl\"}],\"scattermapbox\":[{\"marker\":{\"colorbar\":{\"outlinewidth\":0,\"ticks\":\"\"}},\"type\":\"scattermapbox\"}],\"scatterpolar\":[{\"marker\":{\"colorbar\":{\"outlinewidth\":0,\"ticks\":\"\"}},\"type\":\"scatterpolar\"}],\"scatterpolargl\":[{\"marker\":{\"colorbar\":{\"outlinewidth\":0,\"ticks\":\"\"}},\"type\":\"scatterpolargl\"}],\"scatterternary\":[{\"marker\":{\"colorbar\":{\"outlinewidth\":0,\"ticks\":\"\"}},\"type\":\"scatterternary\"}],\"surface\":[{\"colorbar\":{\"outlinewidth\":0,\"ticks\":\"\"},\"colorscale\":[[0.0,\"#0d0887\"],[0.1111111111111111,\"#46039f\"],[0.2222222222222222,\"#7201a8\"],[0.3333333333333333,\"#9c179e\"],[0.4444444444444444,\"#bd3786\"],[0.5555555555555556,\"#d8576b\"],[0.6666666666666666,\"#ed7953\"],[0.7777777777777778,\"#fb9f3a\"],[0.8888888888888888,\"#fdca26\"],[1.0,\"#f0f921\"]],\"type\":\"surface\"}],\"table\":[{\"cells\":{\"fill\":{\"color\":\"#EBF0F8\"},\"line\":{\"color\":\"white\"}},\"header\":{\"fill\":{\"color\":\"#C8D4E3\"},\"line\":{\"color\":\"white\"}},\"type\":\"table\"}]},\"layout\":{\"annotationdefaults\":{\"arrowcolor\":\"#2a3f5f\",\"arrowhead\":0,\"arrowwidth\":1},\"autotypenumbers\":\"strict\",\"coloraxis\":{\"colorbar\":{\"outlinewidth\":0,\"ticks\":\"\"}},\"colorscale\":{\"diverging\":[[0,\"#8e0152\"],[0.1,\"#c51b7d\"],[0.2,\"#de77ae\"],[0.3,\"#f1b6da\"],[0.4,\"#fde0ef\"],[0.5,\"#f7f7f7\"],[0.6,\"#e6f5d0\"],[0.7,\"#b8e186\"],[0.8,\"#7fbc41\"],[0.9,\"#4d9221\"],[1,\"#276419\"]],\"sequential\":[[0.0,\"#0d0887\"],[0.1111111111111111,\"#46039f\"],[0.2222222222222222,\"#7201a8\"],[0.3333333333333333,\"#9c179e\"],[0.4444444444444444,\"#bd3786\"],[0.5555555555555556,\"#d8576b\"],[0.6666666666666666,\"#ed7953\"],[0.7777777777777778,\"#fb9f3a\"],[0.8888888888888888,\"#fdca26\"],[1.0,\"#f0f921\"]],\"sequentialminus\":[[0.0,\"#0d0887\"],[0.1111111111111111,\"#46039f\"],[0.2222222222222222,\"#7201a8\"],[0.3333333333333333,\"#9c179e\"],[0.4444444444444444,\"#bd3786\"],[0.5555555555555556,\"#d8576b\"],[0.6666666666666666,\"#ed7953\"],[0.7777777777777778,\"#fb9f3a\"],[0.8888888888888888,\"#fdca26\"],[1.0,\"#f0f921\"]]},\"colorway\":[\"#636efa\",\"#EF553B\",\"#00cc96\",\"#ab63fa\",\"#FFA15A\",\"#19d3f3\",\"#FF6692\",\"#B6E880\",\"#FF97FF\",\"#FECB52\"],\"font\":{\"color\":\"#2a3f5f\"},\"geo\":{\"bgcolor\":\"white\",\"lakecolor\":\"white\",\"landcolor\":\"#E5ECF6\",\"showlakes\":true,\"showland\":true,\"subunitcolor\":\"white\"},\"hoverlabel\":{\"align\":\"left\"},\"hovermode\":\"closest\",\"mapbox\":{\"style\":\"light\"},\"paper_bgcolor\":\"white\",\"plot_bgcolor\":\"#E5ECF6\",\"polar\":{\"angularaxis\":{\"gridcolor\":\"white\",\"linecolor\":\"white\",\"ticks\":\"\"},\"bgcolor\":\"#E5ECF6\",\"radialaxis\":{\"gridcolor\":\"white\",\"linecolor\":\"white\",\"ticks\":\"\"}},\"scene\":{\"xaxis\":{\"backgroundcolor\":\"#E5ECF6\",\"gridcolor\":\"white\",\"gridwidth\":2,\"linecolor\":\"white\",\"showbackground\":true,\"ticks\":\"\",\"zerolinecolor\":\"white\"},\"yaxis\":{\"backgroundcolor\":\"#E5ECF6\",\"gridcolor\":\"white\",\"gridwidth\":2,\"linecolor\":\"white\",\"showbackground\":true,\"ticks\":\"\",\"zerolinecolor\":\"white\"},\"zaxis\":{\"backgroundcolor\":\"#E5ECF6\",\"gridcolor\":\"white\",\"gridwidth\":2,\"linecolor\":\"white\",\"showbackground\":true,\"ticks\":\"\",\"zerolinecolor\":\"white\"}},\"shapedefaults\":{\"line\":{\"color\":\"#2a3f5f\"}},\"ternary\":{\"aaxis\":{\"gridcolor\":\"white\",\"linecolor\":\"white\",\"ticks\":\"\"},\"baxis\":{\"gridcolor\":\"white\",\"linecolor\":\"white\",\"ticks\":\"\"},\"bgcolor\":\"#E5ECF6\",\"caxis\":{\"gridcolor\":\"white\",\"linecolor\":\"white\",\"ticks\":\"\"}},\"title\":{\"x\":0.05},\"xaxis\":{\"automargin\":true,\"gridcolor\":\"white\",\"linecolor\":\"white\",\"ticks\":\"\",\"title\":{\"standoff\":15},\"zerolinecolor\":\"white\",\"zerolinewidth\":2},\"yaxis\":{\"automargin\":true,\"gridcolor\":\"white\",\"linecolor\":\"white\",\"ticks\":\"\",\"title\":{\"standoff\":15},\"zerolinecolor\":\"white\",\"zerolinewidth\":2}}},\"title\":{\"font\":{\"color\":\"#4D5663\"}},\"xaxis\":{\"gridcolor\":\"#E1E5ED\",\"showgrid\":true,\"tickfont\":{\"color\":\"#4D5663\"},\"title\":{\"font\":{\"color\":\"#4D5663\"},\"text\":\"\"},\"zerolinecolor\":\"#E1E5ED\"},\"yaxis\":{\"gridcolor\":\"#E1E5ED\",\"showgrid\":true,\"tickfont\":{\"color\":\"#4D5663\"},\"title\":{\"font\":{\"color\":\"#4D5663\"},\"text\":\"\"},\"zerolinecolor\":\"#E1E5ED\"}},                        {\"showLink\": true, \"linkText\": \"Export to plot.ly\", \"plotlyServerURL\": \"https://plot.ly\", \"responsive\": true}                    ).then(function(){\n",
       "                            \n",
       "var gd = document.getElementById('ec3746f5-b674-4586-854f-a14ab8d683dd');\n",
       "var x = new MutationObserver(function (mutations, observer) {{\n",
       "        var display = window.getComputedStyle(gd).display;\n",
       "        if (!display || display === 'none') {{\n",
       "            console.log([gd, 'removed!']);\n",
       "            Plotly.purge(gd);\n",
       "            observer.disconnect();\n",
       "        }}\n",
       "}});\n",
       "\n",
       "// Listen for the removal of the full notebook cells\n",
       "var notebookContainer = gd.closest('#notebook-container');\n",
       "if (notebookContainer) {{\n",
       "    x.observe(notebookContainer, {childList: true});\n",
       "}}\n",
       "\n",
       "// Listen for the clearing of the current output cell\n",
       "var outputEl = gd.closest('.output');\n",
       "if (outputEl) {{\n",
       "    x.observe(outputEl, {childList: true});\n",
       "}}\n",
       "\n",
       "                        })                };                });            </script>        </div>"
      ]
     },
     "metadata": {},
     "output_type": "display_data"
    }
   ],
   "source": [
    "df.count().iplot(kind='bar')"
   ]
  },
  {
   "cell_type": "markdown",
   "metadata": {},
   "source": [
    "## Boxplots"
   ]
  },
  {
   "cell_type": "code",
   "execution_count": 21,
   "metadata": {},
   "outputs": [
    {
     "data": {
      "application/vnd.plotly.v1+json": {
       "config": {
        "linkText": "Export to plot.ly",
        "plotlyServerURL": "https://plot.ly",
        "showLink": true
       },
       "data": [
        {
         "boxpoints": false,
         "line": {
          "width": 1.3
         },
         "marker": {
          "color": "rgba(255, 153, 51, 1.0)"
         },
         "name": "A",
         "orientation": "v",
         "type": "box",
         "y": [
          -0.12860260964606524,
          -1.635076306921547,
          -0.5868234739317386,
          0.20536526213217854,
          -0.7704148764243725,
          -0.608403118302665,
          -0.7771802124507576,
          0.8638616806968181,
          0.1987514763826788,
          0.5357468318854114,
          -0.805512501779021,
          2.818642095345587,
          -2.240429562821057,
          -0.9088716508414676,
          0.7688400036889937,
          1.3756705159878135,
          -0.14107448240173198,
          0.08435939863095848,
          -0.47542973557415535,
          -0.1674320741073042,
          -0.9928036010743042,
          -0.7456484563065178,
          0.3635481444242281,
          -0.5882618454120682,
          0.25414012281316667,
          0.8075350123432112,
          -2.17954988460998,
          1.0844212767816042,
          -0.6155401327201286,
          -0.8120677127265419,
          2.682095463168087,
          -0.8861062679388414,
          1.469866879622548,
          0.5739384835339598,
          -0.23539355790992364,
          0.3855826865292886,
          0.7186966464917793,
          0.3410797855162574,
          0.5082102613681312,
          -1.0232298776039623,
          0.094534363966649,
          -0.7468149471682591,
          0.6229276400590422,
          -1.006463292187963,
          0.43942570432402883,
          0.13999106174426013,
          -0.18938672474156987,
          -2.1591422816985486,
          -0.7712419228767906,
          -0.13630277784588765,
          1.8808542077379922,
          -0.03716927274838659,
          1.2639943341550404,
          -1.9816255138725716,
          -0.9559184241340777,
          0.3247446560710932,
          0.18749271902478037,
          0.07551280173086344,
          -0.49192181482586333,
          -0.4064583434602699,
          0.37686420304300106,
          -1.2662705459050974,
          0.8542971275153713,
          0.29222986412994945,
          -0.4357575569598363,
          -0.5029881280728328,
          -0.07342481701123633,
          -0.580731972963385,
          0.16814525256958246,
          0.7540617088613196,
          -2.807357263191882,
          0.2943652315452601,
          -0.9074105640013431,
          0.15419826504650516,
          -0.4020928330168706,
          -1.101935671902682,
          1.0590467937942818,
          -0.3873084367063922,
          0.850415751157854,
          -1.5268134381322997,
          0.17885452056056642,
          0.8598113461865062,
          -0.5332477857304616,
          0.42630320958643003,
          1.4763273314038519,
          1.0445069006882544,
          -2.029088486467021,
          -0.029734088032628603,
          -0.6745514583669592,
          -0.42394470279379776,
          -0.36594863842629466,
          -0.19923259224542597,
          -1.3006374051023517,
          -0.07018709569337656,
          -0.06322920059030304,
          0.09020414160573006,
          -0.42177867349612475,
          -1.4466636968930875,
          0.39394302890355015,
          -0.16504994921024868
         ]
        },
        {
         "boxpoints": false,
         "line": {
          "width": 1.3
         },
         "marker": {
          "color": "rgba(55, 128, 191, 1.0)"
         },
         "name": "B",
         "orientation": "v",
         "type": "box",
         "y": [
          0.8185633845691501,
          1.250081636706017,
          0.11665422761436443,
          -0.2819901305478438,
          -0.6630182612897098,
          -0.3976453012974691,
          -0.5142082474577344,
          1.432976072008938,
          -2.614656326430859,
          2.142350309515806,
          0.6315409739127879,
          -0.708523285057641,
          0.5887555771349915,
          -1.4670398225476153,
          0.38477474395597316,
          2.1580945911705522,
          -0.6516882359233838,
          -1.6072549511834457,
          1.9364025334076367,
          -0.3729478015325837,
          1.456366286150059,
          0.5439429577293267,
          -0.06266508726016042,
          0.08840851093159466,
          0.525358281417997,
          -0.3415948287709737,
          0.2782395112701509,
          -0.17363095306504372,
          1.6475287341175775,
          -0.6562329183539691,
          -0.606666583795318,
          0.8233227456549621,
          -1.1006792057121941,
          -0.6038368427675496,
          -2.0685312197481656,
          -1.986812049601142,
          0.8016485809681733,
          0.08165263911139128,
          0.3018568326471051,
          1.4093206296813823,
          -0.1419959788866885,
          1.0068346160490198,
          -0.2135577872229478,
          -0.6212130211754662,
          2.91751459596935,
          -0.987940120823154,
          -0.9635950028352653,
          1.527761807710861,
          -2.660145662991958,
          0.9936137813400049,
          0.19720730910200923,
          1.9220446213364466,
          -1.9824981561511965,
          0.9563612107483108,
          1.2114572878639558,
          1.6761627962728234,
          1.1172822968710148,
          -0.852556826829526,
          0.5588420880177051,
          -0.48081412546774405,
          0.21619630678914495,
          0.28570481398274655,
          -0.26149968424397974,
          0.11408904413161775,
          1.2445996688810668,
          0.5878519772306224,
          0.03640300202301524,
          1.3429085752990346,
          0.31823227538228843,
          -0.44676448115245726,
          -0.32530669262862044,
          0.9727877924250453,
          -0.0016704124674436116,
          -1.704903047178396,
          0.06066998774211031,
          0.28333312677425526,
          -0.5461410231171553,
          1.1876633432998498,
          1.823974612474308,
          0.3496133196099635,
          1.447369161868816,
          -0.14884505603801926,
          0.2162416080437122,
          -0.5313346616861173,
          2.1559149096145016,
          0.4148938103042243,
          -0.07700947991227261,
          -0.17273927058773778,
          1.34532358448916,
          1.234205040365912,
          2.044149009033562,
          -0.009843940123830736,
          0.9337939733849073,
          1.087400634796986,
          0.3308251839280632,
          0.21105526600770663,
          1.1130421977450977,
          0.6499386149537946,
          -1.782007975306854,
          0.12607299045661263
         ]
        },
        {
         "boxpoints": false,
         "line": {
          "width": 1.3
         },
         "marker": {
          "color": "rgba(50, 171, 96, 1.0)"
         },
         "name": "C",
         "orientation": "v",
         "type": "box",
         "y": [
          -0.893034094052463,
          0.32142774154723863,
          -0.3461919868219022,
          1.6561915760000439,
          -1.8166327223963545,
          1.040524839747155,
          0.9933425557883019,
          0.74754787649467,
          -1.3697550864677888,
          0.9475525316175184,
          0.5903154036144674,
          -0.7193204284641453,
          -1.9706838414463923,
          1.424327904930943,
          1.9116607052143617,
          -0.7403230847455231,
          0.32122402861502725,
          0.2666188237967878,
          -1.2472844827286877,
          -0.9864156678890039,
          -1.5740847455847609,
          2.4053623963015944,
          -0.18380770754266082,
          1.0100927924209668,
          0.008227393622940006,
          1.5040658984836761,
          0.35984666317500086,
          -0.010621694922587542,
          -0.9994973288590799,
          2.595693886950609,
          0.2353111613525256,
          0.6381246998827086,
          -0.817931135113251,
          -0.7312839667532411,
          -0.9516835966826418,
          0.9423829522251238,
          -0.49790466411485795,
          0.8650948398809166,
          -0.9622854165672089,
          -1.0009942771582916,
          -0.12384188866053221,
          -1.2762267019310556,
          0.7712920222160783,
          0.7201184409510004,
          0.779483744367753,
          -1.762828670711382,
          -0.0038623199058505603,
          -0.873829783639345,
          0.5522355139598802,
          -1.3762138498922944,
          -1.1066194220310017,
          1.2152314341907116,
          0.05727901067260451,
          0.15114641295756395,
          0.29208588700478477,
          -1.2926987542555897,
          0.9792888922932551,
          -0.9463140974925113,
          0.883439595680161,
          0.3706456171106732,
          -0.08177682307403422,
          -0.47332294991059815,
          1.3951761743033302,
          -1.6761156446064684,
          0.6266946201967991,
          0.2418690971931785,
          0.9757683977975071,
          -0.12448811651009352,
          0.5995728523890195,
          -0.32181688438111844,
          -0.3465102167045141,
          0.7450924421626615,
          -0.06462150137038737,
          -0.9730558453768658,
          -1.803169972606296,
          -1.415646240961098,
          -1.197401565341801,
          0.9075922706514219,
          -0.7091205077971906,
          -1.0276347737760627,
          0.5380829806883355,
          -1.3678380610816991,
          -0.384241833930092,
          1.0254937487462035,
          -1.0654007272260546,
          1.2815424921644067,
          -1.6442022248361263,
          1.1045538065374758,
          0.16939116563923345,
          -0.05036027322015534,
          0.1748085662363392,
          -0.8618252699045826,
          -0.2934214357447494,
          0.5215076797551154,
          0.6967115919183898,
          0.5030398497295235,
          -1.3726691115386644,
          -0.48476916140777454,
          -1.4189375538405415,
          -0.6137861683516325
         ]
        },
        {
         "boxpoints": false,
         "line": {
          "width": 1.3
         },
         "marker": {
          "color": "rgba(128, 0, 128, 1.0)"
         },
         "name": "D",
         "orientation": "v",
         "type": "box",
         "y": [
          1.1090472642363909,
          0.3371178180290584,
          0.28296765784076466,
          0.6149689457809169,
          0.7211730147563021,
          -1.931355800765621,
          0.03680030435616002,
          1.2813817922133333,
          1.416789465032888,
          0.008902683668203053,
          1.8631248309084487,
          -1.1801272473457742,
          0.04401416854001588,
          0.4743579555480905,
          -0.21738334375790233,
          1.1026659700438266,
          0.29241381541813016,
          1.9837903562943187,
          -0.6046270328586335,
          -0.208238480202482,
          -1.2956492020082484,
          -0.37442784874958635,
          -1.003657298561281,
          1.3352433678906408,
          0.8956244986767935,
          0.5599092583174339,
          1.982762838089537,
          0.5291275601716697,
          1.1339893735070545,
          0.2102874001458619,
          1.2137571986048645,
          1.072855331697689,
          -0.3872297527707569,
          0.9522421483503503,
          -0.2483481445228857,
          0.9895580848046946,
          0.518066626851122,
          0.2371795910475936,
          1.093349591901714,
          -0.3405701235063494,
          1.0175990051495523,
          -0.2952900676832008,
          -1.8938460290296366,
          1.620709125112299,
          -0.5388766183964406,
          -0.01374413684704235,
          -1.265764045922524,
          0.9828292540798076,
          0.578019867098778,
          0.7479627043288422,
          0.44680889106332966,
          -0.049622289294041756,
          -1.8675176393309336,
          0.41784058977742944,
          -0.78069049218744,
          -0.05023129981822584,
          0.9259084674694911,
          0.6079049195138972,
          -0.39550342315557996,
          0.810143942297103,
          0.18919567905140158,
          -0.060299398658938505,
          -0.5525599961640696,
          1.7448446554934378,
          1.2423299530024818,
          -0.7695859381636041,
          2.6974847759337393,
          -0.07989190730872778,
          -1.2611950165908241,
          1.2276507805607053,
          -0.6760775174913568,
          -0.19419234359693743,
          -1.0456515261340296,
          0.930610378884731,
          -0.6337624543021817,
          1.1934863057915028,
          -0.46446474733013593,
          0.9204170401886379,
          -0.3590193707293201,
          0.9154528331732662,
          -0.8434896435775322,
          -0.05709711280818407,
          -1.1696974727005032,
          0.3806656393442269,
          0.10647308023301408,
          -1.8337572800242365,
          0.6746856155101841,
          0.36735808876414183,
          -0.009142462456620622,
          -0.6159435399443982,
          0.4399981957217681,
          -0.6886887756599419,
          -0.8040263573259767,
          1.8087612711383865,
          1.0287037258388427,
          -4.637040204721781,
          1.7028759081582905,
          2.150505776094501,
          0.7446413266198268,
          0.15277915723958443
         ]
        }
       ],
       "layout": {
        "legend": {
         "bgcolor": "#F5F6F9",
         "font": {
          "color": "#4D5663"
         }
        },
        "paper_bgcolor": "#F5F6F9",
        "plot_bgcolor": "#F5F6F9",
        "template": {
         "data": {
          "bar": [
           {
            "error_x": {
             "color": "#2a3f5f"
            },
            "error_y": {
             "color": "#2a3f5f"
            },
            "marker": {
             "line": {
              "color": "#E5ECF6",
              "width": 0.5
             },
             "pattern": {
              "fillmode": "overlay",
              "size": 10,
              "solidity": 0.2
             }
            },
            "type": "bar"
           }
          ],
          "barpolar": [
           {
            "marker": {
             "line": {
              "color": "#E5ECF6",
              "width": 0.5
             },
             "pattern": {
              "fillmode": "overlay",
              "size": 10,
              "solidity": 0.2
             }
            },
            "type": "barpolar"
           }
          ],
          "carpet": [
           {
            "aaxis": {
             "endlinecolor": "#2a3f5f",
             "gridcolor": "white",
             "linecolor": "white",
             "minorgridcolor": "white",
             "startlinecolor": "#2a3f5f"
            },
            "baxis": {
             "endlinecolor": "#2a3f5f",
             "gridcolor": "white",
             "linecolor": "white",
             "minorgridcolor": "white",
             "startlinecolor": "#2a3f5f"
            },
            "type": "carpet"
           }
          ],
          "choropleth": [
           {
            "colorbar": {
             "outlinewidth": 0,
             "ticks": ""
            },
            "type": "choropleth"
           }
          ],
          "contour": [
           {
            "colorbar": {
             "outlinewidth": 0,
             "ticks": ""
            },
            "colorscale": [
             [
              0,
              "#0d0887"
             ],
             [
              0.1111111111111111,
              "#46039f"
             ],
             [
              0.2222222222222222,
              "#7201a8"
             ],
             [
              0.3333333333333333,
              "#9c179e"
             ],
             [
              0.4444444444444444,
              "#bd3786"
             ],
             [
              0.5555555555555556,
              "#d8576b"
             ],
             [
              0.6666666666666666,
              "#ed7953"
             ],
             [
              0.7777777777777778,
              "#fb9f3a"
             ],
             [
              0.8888888888888888,
              "#fdca26"
             ],
             [
              1,
              "#f0f921"
             ]
            ],
            "type": "contour"
           }
          ],
          "contourcarpet": [
           {
            "colorbar": {
             "outlinewidth": 0,
             "ticks": ""
            },
            "type": "contourcarpet"
           }
          ],
          "heatmap": [
           {
            "colorbar": {
             "outlinewidth": 0,
             "ticks": ""
            },
            "colorscale": [
             [
              0,
              "#0d0887"
             ],
             [
              0.1111111111111111,
              "#46039f"
             ],
             [
              0.2222222222222222,
              "#7201a8"
             ],
             [
              0.3333333333333333,
              "#9c179e"
             ],
             [
              0.4444444444444444,
              "#bd3786"
             ],
             [
              0.5555555555555556,
              "#d8576b"
             ],
             [
              0.6666666666666666,
              "#ed7953"
             ],
             [
              0.7777777777777778,
              "#fb9f3a"
             ],
             [
              0.8888888888888888,
              "#fdca26"
             ],
             [
              1,
              "#f0f921"
             ]
            ],
            "type": "heatmap"
           }
          ],
          "heatmapgl": [
           {
            "colorbar": {
             "outlinewidth": 0,
             "ticks": ""
            },
            "colorscale": [
             [
              0,
              "#0d0887"
             ],
             [
              0.1111111111111111,
              "#46039f"
             ],
             [
              0.2222222222222222,
              "#7201a8"
             ],
             [
              0.3333333333333333,
              "#9c179e"
             ],
             [
              0.4444444444444444,
              "#bd3786"
             ],
             [
              0.5555555555555556,
              "#d8576b"
             ],
             [
              0.6666666666666666,
              "#ed7953"
             ],
             [
              0.7777777777777778,
              "#fb9f3a"
             ],
             [
              0.8888888888888888,
              "#fdca26"
             ],
             [
              1,
              "#f0f921"
             ]
            ],
            "type": "heatmapgl"
           }
          ],
          "histogram": [
           {
            "marker": {
             "pattern": {
              "fillmode": "overlay",
              "size": 10,
              "solidity": 0.2
             }
            },
            "type": "histogram"
           }
          ],
          "histogram2d": [
           {
            "colorbar": {
             "outlinewidth": 0,
             "ticks": ""
            },
            "colorscale": [
             [
              0,
              "#0d0887"
             ],
             [
              0.1111111111111111,
              "#46039f"
             ],
             [
              0.2222222222222222,
              "#7201a8"
             ],
             [
              0.3333333333333333,
              "#9c179e"
             ],
             [
              0.4444444444444444,
              "#bd3786"
             ],
             [
              0.5555555555555556,
              "#d8576b"
             ],
             [
              0.6666666666666666,
              "#ed7953"
             ],
             [
              0.7777777777777778,
              "#fb9f3a"
             ],
             [
              0.8888888888888888,
              "#fdca26"
             ],
             [
              1,
              "#f0f921"
             ]
            ],
            "type": "histogram2d"
           }
          ],
          "histogram2dcontour": [
           {
            "colorbar": {
             "outlinewidth": 0,
             "ticks": ""
            },
            "colorscale": [
             [
              0,
              "#0d0887"
             ],
             [
              0.1111111111111111,
              "#46039f"
             ],
             [
              0.2222222222222222,
              "#7201a8"
             ],
             [
              0.3333333333333333,
              "#9c179e"
             ],
             [
              0.4444444444444444,
              "#bd3786"
             ],
             [
              0.5555555555555556,
              "#d8576b"
             ],
             [
              0.6666666666666666,
              "#ed7953"
             ],
             [
              0.7777777777777778,
              "#fb9f3a"
             ],
             [
              0.8888888888888888,
              "#fdca26"
             ],
             [
              1,
              "#f0f921"
             ]
            ],
            "type": "histogram2dcontour"
           }
          ],
          "mesh3d": [
           {
            "colorbar": {
             "outlinewidth": 0,
             "ticks": ""
            },
            "type": "mesh3d"
           }
          ],
          "parcoords": [
           {
            "line": {
             "colorbar": {
              "outlinewidth": 0,
              "ticks": ""
             }
            },
            "type": "parcoords"
           }
          ],
          "pie": [
           {
            "automargin": true,
            "type": "pie"
           }
          ],
          "scatter": [
           {
            "marker": {
             "colorbar": {
              "outlinewidth": 0,
              "ticks": ""
             }
            },
            "type": "scatter"
           }
          ],
          "scatter3d": [
           {
            "line": {
             "colorbar": {
              "outlinewidth": 0,
              "ticks": ""
             }
            },
            "marker": {
             "colorbar": {
              "outlinewidth": 0,
              "ticks": ""
             }
            },
            "type": "scatter3d"
           }
          ],
          "scattercarpet": [
           {
            "marker": {
             "colorbar": {
              "outlinewidth": 0,
              "ticks": ""
             }
            },
            "type": "scattercarpet"
           }
          ],
          "scattergeo": [
           {
            "marker": {
             "colorbar": {
              "outlinewidth": 0,
              "ticks": ""
             }
            },
            "type": "scattergeo"
           }
          ],
          "scattergl": [
           {
            "marker": {
             "colorbar": {
              "outlinewidth": 0,
              "ticks": ""
             }
            },
            "type": "scattergl"
           }
          ],
          "scattermapbox": [
           {
            "marker": {
             "colorbar": {
              "outlinewidth": 0,
              "ticks": ""
             }
            },
            "type": "scattermapbox"
           }
          ],
          "scatterpolar": [
           {
            "marker": {
             "colorbar": {
              "outlinewidth": 0,
              "ticks": ""
             }
            },
            "type": "scatterpolar"
           }
          ],
          "scatterpolargl": [
           {
            "marker": {
             "colorbar": {
              "outlinewidth": 0,
              "ticks": ""
             }
            },
            "type": "scatterpolargl"
           }
          ],
          "scatterternary": [
           {
            "marker": {
             "colorbar": {
              "outlinewidth": 0,
              "ticks": ""
             }
            },
            "type": "scatterternary"
           }
          ],
          "surface": [
           {
            "colorbar": {
             "outlinewidth": 0,
             "ticks": ""
            },
            "colorscale": [
             [
              0,
              "#0d0887"
             ],
             [
              0.1111111111111111,
              "#46039f"
             ],
             [
              0.2222222222222222,
              "#7201a8"
             ],
             [
              0.3333333333333333,
              "#9c179e"
             ],
             [
              0.4444444444444444,
              "#bd3786"
             ],
             [
              0.5555555555555556,
              "#d8576b"
             ],
             [
              0.6666666666666666,
              "#ed7953"
             ],
             [
              0.7777777777777778,
              "#fb9f3a"
             ],
             [
              0.8888888888888888,
              "#fdca26"
             ],
             [
              1,
              "#f0f921"
             ]
            ],
            "type": "surface"
           }
          ],
          "table": [
           {
            "cells": {
             "fill": {
              "color": "#EBF0F8"
             },
             "line": {
              "color": "white"
             }
            },
            "header": {
             "fill": {
              "color": "#C8D4E3"
             },
             "line": {
              "color": "white"
             }
            },
            "type": "table"
           }
          ]
         },
         "layout": {
          "annotationdefaults": {
           "arrowcolor": "#2a3f5f",
           "arrowhead": 0,
           "arrowwidth": 1
          },
          "autotypenumbers": "strict",
          "coloraxis": {
           "colorbar": {
            "outlinewidth": 0,
            "ticks": ""
           }
          },
          "colorscale": {
           "diverging": [
            [
             0,
             "#8e0152"
            ],
            [
             0.1,
             "#c51b7d"
            ],
            [
             0.2,
             "#de77ae"
            ],
            [
             0.3,
             "#f1b6da"
            ],
            [
             0.4,
             "#fde0ef"
            ],
            [
             0.5,
             "#f7f7f7"
            ],
            [
             0.6,
             "#e6f5d0"
            ],
            [
             0.7,
             "#b8e186"
            ],
            [
             0.8,
             "#7fbc41"
            ],
            [
             0.9,
             "#4d9221"
            ],
            [
             1,
             "#276419"
            ]
           ],
           "sequential": [
            [
             0,
             "#0d0887"
            ],
            [
             0.1111111111111111,
             "#46039f"
            ],
            [
             0.2222222222222222,
             "#7201a8"
            ],
            [
             0.3333333333333333,
             "#9c179e"
            ],
            [
             0.4444444444444444,
             "#bd3786"
            ],
            [
             0.5555555555555556,
             "#d8576b"
            ],
            [
             0.6666666666666666,
             "#ed7953"
            ],
            [
             0.7777777777777778,
             "#fb9f3a"
            ],
            [
             0.8888888888888888,
             "#fdca26"
            ],
            [
             1,
             "#f0f921"
            ]
           ],
           "sequentialminus": [
            [
             0,
             "#0d0887"
            ],
            [
             0.1111111111111111,
             "#46039f"
            ],
            [
             0.2222222222222222,
             "#7201a8"
            ],
            [
             0.3333333333333333,
             "#9c179e"
            ],
            [
             0.4444444444444444,
             "#bd3786"
            ],
            [
             0.5555555555555556,
             "#d8576b"
            ],
            [
             0.6666666666666666,
             "#ed7953"
            ],
            [
             0.7777777777777778,
             "#fb9f3a"
            ],
            [
             0.8888888888888888,
             "#fdca26"
            ],
            [
             1,
             "#f0f921"
            ]
           ]
          },
          "colorway": [
           "#636efa",
           "#EF553B",
           "#00cc96",
           "#ab63fa",
           "#FFA15A",
           "#19d3f3",
           "#FF6692",
           "#B6E880",
           "#FF97FF",
           "#FECB52"
          ],
          "font": {
           "color": "#2a3f5f"
          },
          "geo": {
           "bgcolor": "white",
           "lakecolor": "white",
           "landcolor": "#E5ECF6",
           "showlakes": true,
           "showland": true,
           "subunitcolor": "white"
          },
          "hoverlabel": {
           "align": "left"
          },
          "hovermode": "closest",
          "mapbox": {
           "style": "light"
          },
          "paper_bgcolor": "white",
          "plot_bgcolor": "#E5ECF6",
          "polar": {
           "angularaxis": {
            "gridcolor": "white",
            "linecolor": "white",
            "ticks": ""
           },
           "bgcolor": "#E5ECF6",
           "radialaxis": {
            "gridcolor": "white",
            "linecolor": "white",
            "ticks": ""
           }
          },
          "scene": {
           "xaxis": {
            "backgroundcolor": "#E5ECF6",
            "gridcolor": "white",
            "gridwidth": 2,
            "linecolor": "white",
            "showbackground": true,
            "ticks": "",
            "zerolinecolor": "white"
           },
           "yaxis": {
            "backgroundcolor": "#E5ECF6",
            "gridcolor": "white",
            "gridwidth": 2,
            "linecolor": "white",
            "showbackground": true,
            "ticks": "",
            "zerolinecolor": "white"
           },
           "zaxis": {
            "backgroundcolor": "#E5ECF6",
            "gridcolor": "white",
            "gridwidth": 2,
            "linecolor": "white",
            "showbackground": true,
            "ticks": "",
            "zerolinecolor": "white"
           }
          },
          "shapedefaults": {
           "line": {
            "color": "#2a3f5f"
           }
          },
          "ternary": {
           "aaxis": {
            "gridcolor": "white",
            "linecolor": "white",
            "ticks": ""
           },
           "baxis": {
            "gridcolor": "white",
            "linecolor": "white",
            "ticks": ""
           },
           "bgcolor": "#E5ECF6",
           "caxis": {
            "gridcolor": "white",
            "linecolor": "white",
            "ticks": ""
           }
          },
          "title": {
           "x": 0.05
          },
          "xaxis": {
           "automargin": true,
           "gridcolor": "white",
           "linecolor": "white",
           "ticks": "",
           "title": {
            "standoff": 15
           },
           "zerolinecolor": "white",
           "zerolinewidth": 2
          },
          "yaxis": {
           "automargin": true,
           "gridcolor": "white",
           "linecolor": "white",
           "ticks": "",
           "title": {
            "standoff": 15
           },
           "zerolinecolor": "white",
           "zerolinewidth": 2
          }
         }
        },
        "title": {
         "font": {
          "color": "#4D5663"
         }
        },
        "xaxis": {
         "gridcolor": "#E1E5ED",
         "showgrid": true,
         "tickfont": {
          "color": "#4D5663"
         },
         "title": {
          "font": {
           "color": "#4D5663"
          },
          "text": ""
         },
         "zerolinecolor": "#E1E5ED"
        },
        "yaxis": {
         "gridcolor": "#E1E5ED",
         "showgrid": true,
         "tickfont": {
          "color": "#4D5663"
         },
         "title": {
          "font": {
           "color": "#4D5663"
          },
          "text": ""
         },
         "zerolinecolor": "#E1E5ED"
        }
       }
      },
      "text/html": [
       "<div>                            <div id=\"69e596c2-ab35-4370-b853-0978c2e0a2bb\" class=\"plotly-graph-div\" style=\"height:525px; width:100%;\"></div>            <script type=\"text/javascript\">                require([\"plotly\"], function(Plotly) {                    window.PLOTLYENV=window.PLOTLYENV || {};\n",
       "                    window.PLOTLYENV.BASE_URL='https://plot.ly';                                    if (document.getElementById(\"69e596c2-ab35-4370-b853-0978c2e0a2bb\")) {                    Plotly.newPlot(                        \"69e596c2-ab35-4370-b853-0978c2e0a2bb\",                        [{\"boxpoints\":false,\"line\":{\"width\":1.3},\"marker\":{\"color\":\"rgba(255, 153, 51, 1.0)\"},\"name\":\"A\",\"orientation\":\"v\",\"type\":\"box\",\"y\":[-0.12860260964606524,-1.635076306921547,-0.5868234739317386,0.20536526213217854,-0.7704148764243725,-0.608403118302665,-0.7771802124507576,0.8638616806968181,0.1987514763826788,0.5357468318854114,-0.805512501779021,2.818642095345587,-2.240429562821057,-0.9088716508414676,0.7688400036889937,1.3756705159878135,-0.14107448240173198,0.08435939863095848,-0.47542973557415535,-0.1674320741073042,-0.9928036010743042,-0.7456484563065178,0.3635481444242281,-0.5882618454120682,0.25414012281316667,0.8075350123432112,-2.17954988460998,1.0844212767816042,-0.6155401327201286,-0.8120677127265419,2.682095463168087,-0.8861062679388414,1.469866879622548,0.5739384835339598,-0.23539355790992364,0.3855826865292886,0.7186966464917793,0.3410797855162574,0.5082102613681312,-1.0232298776039623,0.094534363966649,-0.7468149471682591,0.6229276400590422,-1.006463292187963,0.43942570432402883,0.13999106174426013,-0.18938672474156987,-2.1591422816985486,-0.7712419228767906,-0.13630277784588765,1.8808542077379922,-0.03716927274838659,1.2639943341550404,-1.9816255138725716,-0.9559184241340777,0.3247446560710932,0.18749271902478037,0.07551280173086344,-0.49192181482586333,-0.4064583434602699,0.37686420304300106,-1.2662705459050974,0.8542971275153713,0.29222986412994945,-0.4357575569598363,-0.5029881280728328,-0.07342481701123633,-0.580731972963385,0.16814525256958246,0.7540617088613196,-2.807357263191882,0.2943652315452601,-0.9074105640013431,0.15419826504650516,-0.4020928330168706,-1.101935671902682,1.0590467937942818,-0.3873084367063922,0.850415751157854,-1.5268134381322997,0.17885452056056642,0.8598113461865062,-0.5332477857304616,0.42630320958643003,1.4763273314038519,1.0445069006882544,-2.029088486467021,-0.029734088032628603,-0.6745514583669592,-0.42394470279379776,-0.36594863842629466,-0.19923259224542597,-1.3006374051023517,-0.07018709569337656,-0.06322920059030304,0.09020414160573006,-0.42177867349612475,-1.4466636968930875,0.39394302890355015,-0.16504994921024868]},{\"boxpoints\":false,\"line\":{\"width\":1.3},\"marker\":{\"color\":\"rgba(55, 128, 191, 1.0)\"},\"name\":\"B\",\"orientation\":\"v\",\"type\":\"box\",\"y\":[0.8185633845691501,1.250081636706017,0.11665422761436443,-0.2819901305478438,-0.6630182612897098,-0.3976453012974691,-0.5142082474577344,1.432976072008938,-2.614656326430859,2.142350309515806,0.6315409739127879,-0.708523285057641,0.5887555771349915,-1.4670398225476153,0.38477474395597316,2.1580945911705522,-0.6516882359233838,-1.6072549511834457,1.9364025334076367,-0.3729478015325837,1.456366286150059,0.5439429577293267,-0.06266508726016042,0.08840851093159466,0.525358281417997,-0.3415948287709737,0.2782395112701509,-0.17363095306504372,1.6475287341175775,-0.6562329183539691,-0.606666583795318,0.8233227456549621,-1.1006792057121941,-0.6038368427675496,-2.0685312197481656,-1.986812049601142,0.8016485809681733,0.08165263911139128,0.3018568326471051,1.4093206296813823,-0.1419959788866885,1.0068346160490198,-0.2135577872229478,-0.6212130211754662,2.91751459596935,-0.987940120823154,-0.9635950028352653,1.527761807710861,-2.660145662991958,0.9936137813400049,0.19720730910200923,1.9220446213364466,-1.9824981561511965,0.9563612107483108,1.2114572878639558,1.6761627962728234,1.1172822968710148,-0.852556826829526,0.5588420880177051,-0.48081412546774405,0.21619630678914495,0.28570481398274655,-0.26149968424397974,0.11408904413161775,1.2445996688810668,0.5878519772306224,0.03640300202301524,1.3429085752990346,0.31823227538228843,-0.44676448115245726,-0.32530669262862044,0.9727877924250453,-0.0016704124674436116,-1.704903047178396,0.06066998774211031,0.28333312677425526,-0.5461410231171553,1.1876633432998498,1.823974612474308,0.3496133196099635,1.447369161868816,-0.14884505603801926,0.2162416080437122,-0.5313346616861173,2.1559149096145016,0.4148938103042243,-0.07700947991227261,-0.17273927058773778,1.34532358448916,1.234205040365912,2.044149009033562,-0.009843940123830736,0.9337939733849073,1.087400634796986,0.3308251839280632,0.21105526600770663,1.1130421977450977,0.6499386149537946,-1.782007975306854,0.12607299045661263]},{\"boxpoints\":false,\"line\":{\"width\":1.3},\"marker\":{\"color\":\"rgba(50, 171, 96, 1.0)\"},\"name\":\"C\",\"orientation\":\"v\",\"type\":\"box\",\"y\":[-0.893034094052463,0.32142774154723863,-0.3461919868219022,1.6561915760000439,-1.8166327223963545,1.040524839747155,0.9933425557883019,0.74754787649467,-1.3697550864677888,0.9475525316175184,0.5903154036144674,-0.7193204284641453,-1.9706838414463923,1.424327904930943,1.9116607052143617,-0.7403230847455231,0.32122402861502725,0.2666188237967878,-1.2472844827286877,-0.9864156678890039,-1.5740847455847609,2.4053623963015944,-0.18380770754266082,1.0100927924209668,0.008227393622940006,1.5040658984836761,0.35984666317500086,-0.010621694922587542,-0.9994973288590799,2.595693886950609,0.2353111613525256,0.6381246998827086,-0.817931135113251,-0.7312839667532411,-0.9516835966826418,0.9423829522251238,-0.49790466411485795,0.8650948398809166,-0.9622854165672089,-1.0009942771582916,-0.12384188866053221,-1.2762267019310556,0.7712920222160783,0.7201184409510004,0.779483744367753,-1.762828670711382,-0.0038623199058505603,-0.873829783639345,0.5522355139598802,-1.3762138498922944,-1.1066194220310017,1.2152314341907116,0.05727901067260451,0.15114641295756395,0.29208588700478477,-1.2926987542555897,0.9792888922932551,-0.9463140974925113,0.883439595680161,0.3706456171106732,-0.08177682307403422,-0.47332294991059815,1.3951761743033302,-1.6761156446064684,0.6266946201967991,0.2418690971931785,0.9757683977975071,-0.12448811651009352,0.5995728523890195,-0.32181688438111844,-0.3465102167045141,0.7450924421626615,-0.06462150137038737,-0.9730558453768658,-1.803169972606296,-1.415646240961098,-1.197401565341801,0.9075922706514219,-0.7091205077971906,-1.0276347737760627,0.5380829806883355,-1.3678380610816991,-0.384241833930092,1.0254937487462035,-1.0654007272260546,1.2815424921644067,-1.6442022248361263,1.1045538065374758,0.16939116563923345,-0.05036027322015534,0.1748085662363392,-0.8618252699045826,-0.2934214357447494,0.5215076797551154,0.6967115919183898,0.5030398497295235,-1.3726691115386644,-0.48476916140777454,-1.4189375538405415,-0.6137861683516325]},{\"boxpoints\":false,\"line\":{\"width\":1.3},\"marker\":{\"color\":\"rgba(128, 0, 128, 1.0)\"},\"name\":\"D\",\"orientation\":\"v\",\"type\":\"box\",\"y\":[1.1090472642363909,0.3371178180290584,0.28296765784076466,0.6149689457809169,0.7211730147563021,-1.931355800765621,0.03680030435616002,1.2813817922133333,1.416789465032888,0.008902683668203053,1.8631248309084487,-1.1801272473457742,0.04401416854001588,0.4743579555480905,-0.21738334375790233,1.1026659700438266,0.29241381541813016,1.9837903562943187,-0.6046270328586335,-0.208238480202482,-1.2956492020082484,-0.37442784874958635,-1.003657298561281,1.3352433678906408,0.8956244986767935,0.5599092583174339,1.982762838089537,0.5291275601716697,1.1339893735070545,0.2102874001458619,1.2137571986048645,1.072855331697689,-0.3872297527707569,0.9522421483503503,-0.2483481445228857,0.9895580848046946,0.518066626851122,0.2371795910475936,1.093349591901714,-0.3405701235063494,1.0175990051495523,-0.2952900676832008,-1.8938460290296366,1.620709125112299,-0.5388766183964406,-0.01374413684704235,-1.265764045922524,0.9828292540798076,0.578019867098778,0.7479627043288422,0.44680889106332966,-0.049622289294041756,-1.8675176393309336,0.41784058977742944,-0.78069049218744,-0.05023129981822584,0.9259084674694911,0.6079049195138972,-0.39550342315557996,0.810143942297103,0.18919567905140158,-0.060299398658938505,-0.5525599961640696,1.7448446554934378,1.2423299530024818,-0.7695859381636041,2.6974847759337393,-0.07989190730872778,-1.2611950165908241,1.2276507805607053,-0.6760775174913568,-0.19419234359693743,-1.0456515261340296,0.930610378884731,-0.6337624543021817,1.1934863057915028,-0.46446474733013593,0.9204170401886379,-0.3590193707293201,0.9154528331732662,-0.8434896435775322,-0.05709711280818407,-1.1696974727005032,0.3806656393442269,0.10647308023301408,-1.8337572800242365,0.6746856155101841,0.36735808876414183,-0.009142462456620622,-0.6159435399443982,0.4399981957217681,-0.6886887756599419,-0.8040263573259767,1.8087612711383865,1.0287037258388427,-4.637040204721781,1.7028759081582905,2.150505776094501,0.7446413266198268,0.15277915723958443]}],                        {\"legend\":{\"bgcolor\":\"#F5F6F9\",\"font\":{\"color\":\"#4D5663\"}},\"paper_bgcolor\":\"#F5F6F9\",\"plot_bgcolor\":\"#F5F6F9\",\"template\":{\"data\":{\"bar\":[{\"error_x\":{\"color\":\"#2a3f5f\"},\"error_y\":{\"color\":\"#2a3f5f\"},\"marker\":{\"line\":{\"color\":\"#E5ECF6\",\"width\":0.5},\"pattern\":{\"fillmode\":\"overlay\",\"size\":10,\"solidity\":0.2}},\"type\":\"bar\"}],\"barpolar\":[{\"marker\":{\"line\":{\"color\":\"#E5ECF6\",\"width\":0.5},\"pattern\":{\"fillmode\":\"overlay\",\"size\":10,\"solidity\":0.2}},\"type\":\"barpolar\"}],\"carpet\":[{\"aaxis\":{\"endlinecolor\":\"#2a3f5f\",\"gridcolor\":\"white\",\"linecolor\":\"white\",\"minorgridcolor\":\"white\",\"startlinecolor\":\"#2a3f5f\"},\"baxis\":{\"endlinecolor\":\"#2a3f5f\",\"gridcolor\":\"white\",\"linecolor\":\"white\",\"minorgridcolor\":\"white\",\"startlinecolor\":\"#2a3f5f\"},\"type\":\"carpet\"}],\"choropleth\":[{\"colorbar\":{\"outlinewidth\":0,\"ticks\":\"\"},\"type\":\"choropleth\"}],\"contour\":[{\"colorbar\":{\"outlinewidth\":0,\"ticks\":\"\"},\"colorscale\":[[0.0,\"#0d0887\"],[0.1111111111111111,\"#46039f\"],[0.2222222222222222,\"#7201a8\"],[0.3333333333333333,\"#9c179e\"],[0.4444444444444444,\"#bd3786\"],[0.5555555555555556,\"#d8576b\"],[0.6666666666666666,\"#ed7953\"],[0.7777777777777778,\"#fb9f3a\"],[0.8888888888888888,\"#fdca26\"],[1.0,\"#f0f921\"]],\"type\":\"contour\"}],\"contourcarpet\":[{\"colorbar\":{\"outlinewidth\":0,\"ticks\":\"\"},\"type\":\"contourcarpet\"}],\"heatmap\":[{\"colorbar\":{\"outlinewidth\":0,\"ticks\":\"\"},\"colorscale\":[[0.0,\"#0d0887\"],[0.1111111111111111,\"#46039f\"],[0.2222222222222222,\"#7201a8\"],[0.3333333333333333,\"#9c179e\"],[0.4444444444444444,\"#bd3786\"],[0.5555555555555556,\"#d8576b\"],[0.6666666666666666,\"#ed7953\"],[0.7777777777777778,\"#fb9f3a\"],[0.8888888888888888,\"#fdca26\"],[1.0,\"#f0f921\"]],\"type\":\"heatmap\"}],\"heatmapgl\":[{\"colorbar\":{\"outlinewidth\":0,\"ticks\":\"\"},\"colorscale\":[[0.0,\"#0d0887\"],[0.1111111111111111,\"#46039f\"],[0.2222222222222222,\"#7201a8\"],[0.3333333333333333,\"#9c179e\"],[0.4444444444444444,\"#bd3786\"],[0.5555555555555556,\"#d8576b\"],[0.6666666666666666,\"#ed7953\"],[0.7777777777777778,\"#fb9f3a\"],[0.8888888888888888,\"#fdca26\"],[1.0,\"#f0f921\"]],\"type\":\"heatmapgl\"}],\"histogram\":[{\"marker\":{\"pattern\":{\"fillmode\":\"overlay\",\"size\":10,\"solidity\":0.2}},\"type\":\"histogram\"}],\"histogram2d\":[{\"colorbar\":{\"outlinewidth\":0,\"ticks\":\"\"},\"colorscale\":[[0.0,\"#0d0887\"],[0.1111111111111111,\"#46039f\"],[0.2222222222222222,\"#7201a8\"],[0.3333333333333333,\"#9c179e\"],[0.4444444444444444,\"#bd3786\"],[0.5555555555555556,\"#d8576b\"],[0.6666666666666666,\"#ed7953\"],[0.7777777777777778,\"#fb9f3a\"],[0.8888888888888888,\"#fdca26\"],[1.0,\"#f0f921\"]],\"type\":\"histogram2d\"}],\"histogram2dcontour\":[{\"colorbar\":{\"outlinewidth\":0,\"ticks\":\"\"},\"colorscale\":[[0.0,\"#0d0887\"],[0.1111111111111111,\"#46039f\"],[0.2222222222222222,\"#7201a8\"],[0.3333333333333333,\"#9c179e\"],[0.4444444444444444,\"#bd3786\"],[0.5555555555555556,\"#d8576b\"],[0.6666666666666666,\"#ed7953\"],[0.7777777777777778,\"#fb9f3a\"],[0.8888888888888888,\"#fdca26\"],[1.0,\"#f0f921\"]],\"type\":\"histogram2dcontour\"}],\"mesh3d\":[{\"colorbar\":{\"outlinewidth\":0,\"ticks\":\"\"},\"type\":\"mesh3d\"}],\"parcoords\":[{\"line\":{\"colorbar\":{\"outlinewidth\":0,\"ticks\":\"\"}},\"type\":\"parcoords\"}],\"pie\":[{\"automargin\":true,\"type\":\"pie\"}],\"scatter\":[{\"marker\":{\"colorbar\":{\"outlinewidth\":0,\"ticks\":\"\"}},\"type\":\"scatter\"}],\"scatter3d\":[{\"line\":{\"colorbar\":{\"outlinewidth\":0,\"ticks\":\"\"}},\"marker\":{\"colorbar\":{\"outlinewidth\":0,\"ticks\":\"\"}},\"type\":\"scatter3d\"}],\"scattercarpet\":[{\"marker\":{\"colorbar\":{\"outlinewidth\":0,\"ticks\":\"\"}},\"type\":\"scattercarpet\"}],\"scattergeo\":[{\"marker\":{\"colorbar\":{\"outlinewidth\":0,\"ticks\":\"\"}},\"type\":\"scattergeo\"}],\"scattergl\":[{\"marker\":{\"colorbar\":{\"outlinewidth\":0,\"ticks\":\"\"}},\"type\":\"scattergl\"}],\"scattermapbox\":[{\"marker\":{\"colorbar\":{\"outlinewidth\":0,\"ticks\":\"\"}},\"type\":\"scattermapbox\"}],\"scatterpolar\":[{\"marker\":{\"colorbar\":{\"outlinewidth\":0,\"ticks\":\"\"}},\"type\":\"scatterpolar\"}],\"scatterpolargl\":[{\"marker\":{\"colorbar\":{\"outlinewidth\":0,\"ticks\":\"\"}},\"type\":\"scatterpolargl\"}],\"scatterternary\":[{\"marker\":{\"colorbar\":{\"outlinewidth\":0,\"ticks\":\"\"}},\"type\":\"scatterternary\"}],\"surface\":[{\"colorbar\":{\"outlinewidth\":0,\"ticks\":\"\"},\"colorscale\":[[0.0,\"#0d0887\"],[0.1111111111111111,\"#46039f\"],[0.2222222222222222,\"#7201a8\"],[0.3333333333333333,\"#9c179e\"],[0.4444444444444444,\"#bd3786\"],[0.5555555555555556,\"#d8576b\"],[0.6666666666666666,\"#ed7953\"],[0.7777777777777778,\"#fb9f3a\"],[0.8888888888888888,\"#fdca26\"],[1.0,\"#f0f921\"]],\"type\":\"surface\"}],\"table\":[{\"cells\":{\"fill\":{\"color\":\"#EBF0F8\"},\"line\":{\"color\":\"white\"}},\"header\":{\"fill\":{\"color\":\"#C8D4E3\"},\"line\":{\"color\":\"white\"}},\"type\":\"table\"}]},\"layout\":{\"annotationdefaults\":{\"arrowcolor\":\"#2a3f5f\",\"arrowhead\":0,\"arrowwidth\":1},\"autotypenumbers\":\"strict\",\"coloraxis\":{\"colorbar\":{\"outlinewidth\":0,\"ticks\":\"\"}},\"colorscale\":{\"diverging\":[[0,\"#8e0152\"],[0.1,\"#c51b7d\"],[0.2,\"#de77ae\"],[0.3,\"#f1b6da\"],[0.4,\"#fde0ef\"],[0.5,\"#f7f7f7\"],[0.6,\"#e6f5d0\"],[0.7,\"#b8e186\"],[0.8,\"#7fbc41\"],[0.9,\"#4d9221\"],[1,\"#276419\"]],\"sequential\":[[0.0,\"#0d0887\"],[0.1111111111111111,\"#46039f\"],[0.2222222222222222,\"#7201a8\"],[0.3333333333333333,\"#9c179e\"],[0.4444444444444444,\"#bd3786\"],[0.5555555555555556,\"#d8576b\"],[0.6666666666666666,\"#ed7953\"],[0.7777777777777778,\"#fb9f3a\"],[0.8888888888888888,\"#fdca26\"],[1.0,\"#f0f921\"]],\"sequentialminus\":[[0.0,\"#0d0887\"],[0.1111111111111111,\"#46039f\"],[0.2222222222222222,\"#7201a8\"],[0.3333333333333333,\"#9c179e\"],[0.4444444444444444,\"#bd3786\"],[0.5555555555555556,\"#d8576b\"],[0.6666666666666666,\"#ed7953\"],[0.7777777777777778,\"#fb9f3a\"],[0.8888888888888888,\"#fdca26\"],[1.0,\"#f0f921\"]]},\"colorway\":[\"#636efa\",\"#EF553B\",\"#00cc96\",\"#ab63fa\",\"#FFA15A\",\"#19d3f3\",\"#FF6692\",\"#B6E880\",\"#FF97FF\",\"#FECB52\"],\"font\":{\"color\":\"#2a3f5f\"},\"geo\":{\"bgcolor\":\"white\",\"lakecolor\":\"white\",\"landcolor\":\"#E5ECF6\",\"showlakes\":true,\"showland\":true,\"subunitcolor\":\"white\"},\"hoverlabel\":{\"align\":\"left\"},\"hovermode\":\"closest\",\"mapbox\":{\"style\":\"light\"},\"paper_bgcolor\":\"white\",\"plot_bgcolor\":\"#E5ECF6\",\"polar\":{\"angularaxis\":{\"gridcolor\":\"white\",\"linecolor\":\"white\",\"ticks\":\"\"},\"bgcolor\":\"#E5ECF6\",\"radialaxis\":{\"gridcolor\":\"white\",\"linecolor\":\"white\",\"ticks\":\"\"}},\"scene\":{\"xaxis\":{\"backgroundcolor\":\"#E5ECF6\",\"gridcolor\":\"white\",\"gridwidth\":2,\"linecolor\":\"white\",\"showbackground\":true,\"ticks\":\"\",\"zerolinecolor\":\"white\"},\"yaxis\":{\"backgroundcolor\":\"#E5ECF6\",\"gridcolor\":\"white\",\"gridwidth\":2,\"linecolor\":\"white\",\"showbackground\":true,\"ticks\":\"\",\"zerolinecolor\":\"white\"},\"zaxis\":{\"backgroundcolor\":\"#E5ECF6\",\"gridcolor\":\"white\",\"gridwidth\":2,\"linecolor\":\"white\",\"showbackground\":true,\"ticks\":\"\",\"zerolinecolor\":\"white\"}},\"shapedefaults\":{\"line\":{\"color\":\"#2a3f5f\"}},\"ternary\":{\"aaxis\":{\"gridcolor\":\"white\",\"linecolor\":\"white\",\"ticks\":\"\"},\"baxis\":{\"gridcolor\":\"white\",\"linecolor\":\"white\",\"ticks\":\"\"},\"bgcolor\":\"#E5ECF6\",\"caxis\":{\"gridcolor\":\"white\",\"linecolor\":\"white\",\"ticks\":\"\"}},\"title\":{\"x\":0.05},\"xaxis\":{\"automargin\":true,\"gridcolor\":\"white\",\"linecolor\":\"white\",\"ticks\":\"\",\"title\":{\"standoff\":15},\"zerolinecolor\":\"white\",\"zerolinewidth\":2},\"yaxis\":{\"automargin\":true,\"gridcolor\":\"white\",\"linecolor\":\"white\",\"ticks\":\"\",\"title\":{\"standoff\":15},\"zerolinecolor\":\"white\",\"zerolinewidth\":2}}},\"title\":{\"font\":{\"color\":\"#4D5663\"}},\"xaxis\":{\"gridcolor\":\"#E1E5ED\",\"showgrid\":true,\"tickfont\":{\"color\":\"#4D5663\"},\"title\":{\"font\":{\"color\":\"#4D5663\"},\"text\":\"\"},\"zerolinecolor\":\"#E1E5ED\"},\"yaxis\":{\"gridcolor\":\"#E1E5ED\",\"showgrid\":true,\"tickfont\":{\"color\":\"#4D5663\"},\"title\":{\"font\":{\"color\":\"#4D5663\"},\"text\":\"\"},\"zerolinecolor\":\"#E1E5ED\"}},                        {\"showLink\": true, \"linkText\": \"Export to plot.ly\", \"plotlyServerURL\": \"https://plot.ly\", \"responsive\": true}                    ).then(function(){\n",
       "                            \n",
       "var gd = document.getElementById('69e596c2-ab35-4370-b853-0978c2e0a2bb');\n",
       "var x = new MutationObserver(function (mutations, observer) {{\n",
       "        var display = window.getComputedStyle(gd).display;\n",
       "        if (!display || display === 'none') {{\n",
       "            console.log([gd, 'removed!']);\n",
       "            Plotly.purge(gd);\n",
       "            observer.disconnect();\n",
       "        }}\n",
       "}});\n",
       "\n",
       "// Listen for the removal of the full notebook cells\n",
       "var notebookContainer = gd.closest('#notebook-container');\n",
       "if (notebookContainer) {{\n",
       "    x.observe(notebookContainer, {childList: true});\n",
       "}}\n",
       "\n",
       "// Listen for the clearing of the current output cell\n",
       "var outputEl = gd.closest('.output');\n",
       "if (outputEl) {{\n",
       "    x.observe(outputEl, {childList: true});\n",
       "}}\n",
       "\n",
       "                        })                };                });            </script>        </div>"
      ]
     },
     "metadata": {},
     "output_type": "display_data"
    }
   ],
   "source": [
    "df.iplot(kind='box')"
   ]
  },
  {
   "cell_type": "markdown",
   "metadata": {},
   "source": [
    "## 3d Surface"
   ]
  },
  {
   "cell_type": "code",
   "execution_count": 24,
   "metadata": {},
   "outputs": [
    {
     "data": {
      "application/vnd.plotly.v1+json": {
       "config": {
        "linkText": "Export to plot.ly",
        "plotlyServerURL": "https://plot.ly",
        "showLink": true
       },
       "data": [
        {
         "colorscale": [
          [
           0,
           "rgb(165,0,38)"
          ],
          [
           0.1,
           "rgb(215,48,39)"
          ],
          [
           0.2,
           "rgb(244,109,67)"
          ],
          [
           0.3,
           "rgb(253,174,97)"
          ],
          [
           0.4,
           "rgb(254,224,144)"
          ],
          [
           0.5,
           "rgb(255,255,191)"
          ],
          [
           0.6,
           "rgb(224,243,248)"
          ],
          [
           0.7,
           "rgb(171,217,233)"
          ],
          [
           0.8,
           "rgb(116,173,209)"
          ],
          [
           0.9,
           "rgb(69,117,180)"
          ],
          [
           1,
           "rgb(49,54,149)"
          ]
         ],
         "type": "surface",
         "x": [
          0,
          1,
          2,
          3,
          4
         ],
         "y": [
          "x",
          "y",
          "z"
         ],
         "z": [
          [
           1,
           2,
           3,
           4,
           5
          ],
          [
           10,
           20,
           30,
           20,
           10
          ],
          [
           5,
           4,
           3,
           2,
           1
          ]
         ]
        }
       ],
       "layout": {
        "legend": {
         "bgcolor": "#F5F6F9",
         "font": {
          "color": "#4D5663"
         }
        },
        "paper_bgcolor": "#F5F6F9",
        "plot_bgcolor": "#F5F6F9",
        "template": {
         "data": {
          "bar": [
           {
            "error_x": {
             "color": "#2a3f5f"
            },
            "error_y": {
             "color": "#2a3f5f"
            },
            "marker": {
             "line": {
              "color": "#E5ECF6",
              "width": 0.5
             },
             "pattern": {
              "fillmode": "overlay",
              "size": 10,
              "solidity": 0.2
             }
            },
            "type": "bar"
           }
          ],
          "barpolar": [
           {
            "marker": {
             "line": {
              "color": "#E5ECF6",
              "width": 0.5
             },
             "pattern": {
              "fillmode": "overlay",
              "size": 10,
              "solidity": 0.2
             }
            },
            "type": "barpolar"
           }
          ],
          "carpet": [
           {
            "aaxis": {
             "endlinecolor": "#2a3f5f",
             "gridcolor": "white",
             "linecolor": "white",
             "minorgridcolor": "white",
             "startlinecolor": "#2a3f5f"
            },
            "baxis": {
             "endlinecolor": "#2a3f5f",
             "gridcolor": "white",
             "linecolor": "white",
             "minorgridcolor": "white",
             "startlinecolor": "#2a3f5f"
            },
            "type": "carpet"
           }
          ],
          "choropleth": [
           {
            "colorbar": {
             "outlinewidth": 0,
             "ticks": ""
            },
            "type": "choropleth"
           }
          ],
          "contour": [
           {
            "colorbar": {
             "outlinewidth": 0,
             "ticks": ""
            },
            "colorscale": [
             [
              0,
              "#0d0887"
             ],
             [
              0.1111111111111111,
              "#46039f"
             ],
             [
              0.2222222222222222,
              "#7201a8"
             ],
             [
              0.3333333333333333,
              "#9c179e"
             ],
             [
              0.4444444444444444,
              "#bd3786"
             ],
             [
              0.5555555555555556,
              "#d8576b"
             ],
             [
              0.6666666666666666,
              "#ed7953"
             ],
             [
              0.7777777777777778,
              "#fb9f3a"
             ],
             [
              0.8888888888888888,
              "#fdca26"
             ],
             [
              1,
              "#f0f921"
             ]
            ],
            "type": "contour"
           }
          ],
          "contourcarpet": [
           {
            "colorbar": {
             "outlinewidth": 0,
             "ticks": ""
            },
            "type": "contourcarpet"
           }
          ],
          "heatmap": [
           {
            "colorbar": {
             "outlinewidth": 0,
             "ticks": ""
            },
            "colorscale": [
             [
              0,
              "#0d0887"
             ],
             [
              0.1111111111111111,
              "#46039f"
             ],
             [
              0.2222222222222222,
              "#7201a8"
             ],
             [
              0.3333333333333333,
              "#9c179e"
             ],
             [
              0.4444444444444444,
              "#bd3786"
             ],
             [
              0.5555555555555556,
              "#d8576b"
             ],
             [
              0.6666666666666666,
              "#ed7953"
             ],
             [
              0.7777777777777778,
              "#fb9f3a"
             ],
             [
              0.8888888888888888,
              "#fdca26"
             ],
             [
              1,
              "#f0f921"
             ]
            ],
            "type": "heatmap"
           }
          ],
          "heatmapgl": [
           {
            "colorbar": {
             "outlinewidth": 0,
             "ticks": ""
            },
            "colorscale": [
             [
              0,
              "#0d0887"
             ],
             [
              0.1111111111111111,
              "#46039f"
             ],
             [
              0.2222222222222222,
              "#7201a8"
             ],
             [
              0.3333333333333333,
              "#9c179e"
             ],
             [
              0.4444444444444444,
              "#bd3786"
             ],
             [
              0.5555555555555556,
              "#d8576b"
             ],
             [
              0.6666666666666666,
              "#ed7953"
             ],
             [
              0.7777777777777778,
              "#fb9f3a"
             ],
             [
              0.8888888888888888,
              "#fdca26"
             ],
             [
              1,
              "#f0f921"
             ]
            ],
            "type": "heatmapgl"
           }
          ],
          "histogram": [
           {
            "marker": {
             "pattern": {
              "fillmode": "overlay",
              "size": 10,
              "solidity": 0.2
             }
            },
            "type": "histogram"
           }
          ],
          "histogram2d": [
           {
            "colorbar": {
             "outlinewidth": 0,
             "ticks": ""
            },
            "colorscale": [
             [
              0,
              "#0d0887"
             ],
             [
              0.1111111111111111,
              "#46039f"
             ],
             [
              0.2222222222222222,
              "#7201a8"
             ],
             [
              0.3333333333333333,
              "#9c179e"
             ],
             [
              0.4444444444444444,
              "#bd3786"
             ],
             [
              0.5555555555555556,
              "#d8576b"
             ],
             [
              0.6666666666666666,
              "#ed7953"
             ],
             [
              0.7777777777777778,
              "#fb9f3a"
             ],
             [
              0.8888888888888888,
              "#fdca26"
             ],
             [
              1,
              "#f0f921"
             ]
            ],
            "type": "histogram2d"
           }
          ],
          "histogram2dcontour": [
           {
            "colorbar": {
             "outlinewidth": 0,
             "ticks": ""
            },
            "colorscale": [
             [
              0,
              "#0d0887"
             ],
             [
              0.1111111111111111,
              "#46039f"
             ],
             [
              0.2222222222222222,
              "#7201a8"
             ],
             [
              0.3333333333333333,
              "#9c179e"
             ],
             [
              0.4444444444444444,
              "#bd3786"
             ],
             [
              0.5555555555555556,
              "#d8576b"
             ],
             [
              0.6666666666666666,
              "#ed7953"
             ],
             [
              0.7777777777777778,
              "#fb9f3a"
             ],
             [
              0.8888888888888888,
              "#fdca26"
             ],
             [
              1,
              "#f0f921"
             ]
            ],
            "type": "histogram2dcontour"
           }
          ],
          "mesh3d": [
           {
            "colorbar": {
             "outlinewidth": 0,
             "ticks": ""
            },
            "type": "mesh3d"
           }
          ],
          "parcoords": [
           {
            "line": {
             "colorbar": {
              "outlinewidth": 0,
              "ticks": ""
             }
            },
            "type": "parcoords"
           }
          ],
          "pie": [
           {
            "automargin": true,
            "type": "pie"
           }
          ],
          "scatter": [
           {
            "marker": {
             "colorbar": {
              "outlinewidth": 0,
              "ticks": ""
             }
            },
            "type": "scatter"
           }
          ],
          "scatter3d": [
           {
            "line": {
             "colorbar": {
              "outlinewidth": 0,
              "ticks": ""
             }
            },
            "marker": {
             "colorbar": {
              "outlinewidth": 0,
              "ticks": ""
             }
            },
            "type": "scatter3d"
           }
          ],
          "scattercarpet": [
           {
            "marker": {
             "colorbar": {
              "outlinewidth": 0,
              "ticks": ""
             }
            },
            "type": "scattercarpet"
           }
          ],
          "scattergeo": [
           {
            "marker": {
             "colorbar": {
              "outlinewidth": 0,
              "ticks": ""
             }
            },
            "type": "scattergeo"
           }
          ],
          "scattergl": [
           {
            "marker": {
             "colorbar": {
              "outlinewidth": 0,
              "ticks": ""
             }
            },
            "type": "scattergl"
           }
          ],
          "scattermapbox": [
           {
            "marker": {
             "colorbar": {
              "outlinewidth": 0,
              "ticks": ""
             }
            },
            "type": "scattermapbox"
           }
          ],
          "scatterpolar": [
           {
            "marker": {
             "colorbar": {
              "outlinewidth": 0,
              "ticks": ""
             }
            },
            "type": "scatterpolar"
           }
          ],
          "scatterpolargl": [
           {
            "marker": {
             "colorbar": {
              "outlinewidth": 0,
              "ticks": ""
             }
            },
            "type": "scatterpolargl"
           }
          ],
          "scatterternary": [
           {
            "marker": {
             "colorbar": {
              "outlinewidth": 0,
              "ticks": ""
             }
            },
            "type": "scatterternary"
           }
          ],
          "surface": [
           {
            "colorbar": {
             "outlinewidth": 0,
             "ticks": ""
            },
            "colorscale": [
             [
              0,
              "#0d0887"
             ],
             [
              0.1111111111111111,
              "#46039f"
             ],
             [
              0.2222222222222222,
              "#7201a8"
             ],
             [
              0.3333333333333333,
              "#9c179e"
             ],
             [
              0.4444444444444444,
              "#bd3786"
             ],
             [
              0.5555555555555556,
              "#d8576b"
             ],
             [
              0.6666666666666666,
              "#ed7953"
             ],
             [
              0.7777777777777778,
              "#fb9f3a"
             ],
             [
              0.8888888888888888,
              "#fdca26"
             ],
             [
              1,
              "#f0f921"
             ]
            ],
            "type": "surface"
           }
          ],
          "table": [
           {
            "cells": {
             "fill": {
              "color": "#EBF0F8"
             },
             "line": {
              "color": "white"
             }
            },
            "header": {
             "fill": {
              "color": "#C8D4E3"
             },
             "line": {
              "color": "white"
             }
            },
            "type": "table"
           }
          ]
         },
         "layout": {
          "annotationdefaults": {
           "arrowcolor": "#2a3f5f",
           "arrowhead": 0,
           "arrowwidth": 1
          },
          "autotypenumbers": "strict",
          "coloraxis": {
           "colorbar": {
            "outlinewidth": 0,
            "ticks": ""
           }
          },
          "colorscale": {
           "diverging": [
            [
             0,
             "#8e0152"
            ],
            [
             0.1,
             "#c51b7d"
            ],
            [
             0.2,
             "#de77ae"
            ],
            [
             0.3,
             "#f1b6da"
            ],
            [
             0.4,
             "#fde0ef"
            ],
            [
             0.5,
             "#f7f7f7"
            ],
            [
             0.6,
             "#e6f5d0"
            ],
            [
             0.7,
             "#b8e186"
            ],
            [
             0.8,
             "#7fbc41"
            ],
            [
             0.9,
             "#4d9221"
            ],
            [
             1,
             "#276419"
            ]
           ],
           "sequential": [
            [
             0,
             "#0d0887"
            ],
            [
             0.1111111111111111,
             "#46039f"
            ],
            [
             0.2222222222222222,
             "#7201a8"
            ],
            [
             0.3333333333333333,
             "#9c179e"
            ],
            [
             0.4444444444444444,
             "#bd3786"
            ],
            [
             0.5555555555555556,
             "#d8576b"
            ],
            [
             0.6666666666666666,
             "#ed7953"
            ],
            [
             0.7777777777777778,
             "#fb9f3a"
            ],
            [
             0.8888888888888888,
             "#fdca26"
            ],
            [
             1,
             "#f0f921"
            ]
           ],
           "sequentialminus": [
            [
             0,
             "#0d0887"
            ],
            [
             0.1111111111111111,
             "#46039f"
            ],
            [
             0.2222222222222222,
             "#7201a8"
            ],
            [
             0.3333333333333333,
             "#9c179e"
            ],
            [
             0.4444444444444444,
             "#bd3786"
            ],
            [
             0.5555555555555556,
             "#d8576b"
            ],
            [
             0.6666666666666666,
             "#ed7953"
            ],
            [
             0.7777777777777778,
             "#fb9f3a"
            ],
            [
             0.8888888888888888,
             "#fdca26"
            ],
            [
             1,
             "#f0f921"
            ]
           ]
          },
          "colorway": [
           "#636efa",
           "#EF553B",
           "#00cc96",
           "#ab63fa",
           "#FFA15A",
           "#19d3f3",
           "#FF6692",
           "#B6E880",
           "#FF97FF",
           "#FECB52"
          ],
          "font": {
           "color": "#2a3f5f"
          },
          "geo": {
           "bgcolor": "white",
           "lakecolor": "white",
           "landcolor": "#E5ECF6",
           "showlakes": true,
           "showland": true,
           "subunitcolor": "white"
          },
          "hoverlabel": {
           "align": "left"
          },
          "hovermode": "closest",
          "mapbox": {
           "style": "light"
          },
          "paper_bgcolor": "white",
          "plot_bgcolor": "#E5ECF6",
          "polar": {
           "angularaxis": {
            "gridcolor": "white",
            "linecolor": "white",
            "ticks": ""
           },
           "bgcolor": "#E5ECF6",
           "radialaxis": {
            "gridcolor": "white",
            "linecolor": "white",
            "ticks": ""
           }
          },
          "scene": {
           "xaxis": {
            "backgroundcolor": "#E5ECF6",
            "gridcolor": "white",
            "gridwidth": 2,
            "linecolor": "white",
            "showbackground": true,
            "ticks": "",
            "zerolinecolor": "white"
           },
           "yaxis": {
            "backgroundcolor": "#E5ECF6",
            "gridcolor": "white",
            "gridwidth": 2,
            "linecolor": "white",
            "showbackground": true,
            "ticks": "",
            "zerolinecolor": "white"
           },
           "zaxis": {
            "backgroundcolor": "#E5ECF6",
            "gridcolor": "white",
            "gridwidth": 2,
            "linecolor": "white",
            "showbackground": true,
            "ticks": "",
            "zerolinecolor": "white"
           }
          },
          "shapedefaults": {
           "line": {
            "color": "#2a3f5f"
           }
          },
          "ternary": {
           "aaxis": {
            "gridcolor": "white",
            "linecolor": "white",
            "ticks": ""
           },
           "baxis": {
            "gridcolor": "white",
            "linecolor": "white",
            "ticks": ""
           },
           "bgcolor": "#E5ECF6",
           "caxis": {
            "gridcolor": "white",
            "linecolor": "white",
            "ticks": ""
           }
          },
          "title": {
           "x": 0.05
          },
          "xaxis": {
           "automargin": true,
           "gridcolor": "white",
           "linecolor": "white",
           "ticks": "",
           "title": {
            "standoff": 15
           },
           "zerolinecolor": "white",
           "zerolinewidth": 2
          },
          "yaxis": {
           "automargin": true,
           "gridcolor": "white",
           "linecolor": "white",
           "ticks": "",
           "title": {
            "standoff": 15
           },
           "zerolinecolor": "white",
           "zerolinewidth": 2
          }
         }
        },
        "title": {
         "font": {
          "color": "#4D5663"
         }
        },
        "xaxis": {
         "gridcolor": "#E1E5ED",
         "showgrid": true,
         "tickfont": {
          "color": "#4D5663"
         },
         "title": {
          "font": {
           "color": "#4D5663"
          },
          "text": ""
         },
         "zerolinecolor": "#E1E5ED"
        },
        "yaxis": {
         "gridcolor": "#E1E5ED",
         "showgrid": true,
         "tickfont": {
          "color": "#4D5663"
         },
         "title": {
          "font": {
           "color": "#4D5663"
          },
          "text": ""
         },
         "zerolinecolor": "#E1E5ED"
        }
       }
      },
      "text/html": [
       "<div>                            <div id=\"0a1d7ccb-215e-476b-8c9a-a03bcbd85e70\" class=\"plotly-graph-div\" style=\"height:525px; width:100%;\"></div>            <script type=\"text/javascript\">                require([\"plotly\"], function(Plotly) {                    window.PLOTLYENV=window.PLOTLYENV || {};\n",
       "                    window.PLOTLYENV.BASE_URL='https://plot.ly';                                    if (document.getElementById(\"0a1d7ccb-215e-476b-8c9a-a03bcbd85e70\")) {                    Plotly.newPlot(                        \"0a1d7ccb-215e-476b-8c9a-a03bcbd85e70\",                        [{\"colorscale\":[[0.0,\"rgb(165,0,38)\"],[0.1,\"rgb(215,48,39)\"],[0.2,\"rgb(244,109,67)\"],[0.3,\"rgb(253,174,97)\"],[0.4,\"rgb(254,224,144)\"],[0.5,\"rgb(255,255,191)\"],[0.6,\"rgb(224,243,248)\"],[0.7,\"rgb(171,217,233)\"],[0.8,\"rgb(116,173,209)\"],[0.9,\"rgb(69,117,180)\"],[1.0,\"rgb(49,54,149)\"]],\"type\":\"surface\",\"x\":[0,1,2,3,4],\"y\":[\"x\",\"y\",\"z\"],\"z\":[[1,2,3,4,5],[10,20,30,20,10],[5,4,3,2,1]]}],                        {\"legend\":{\"bgcolor\":\"#F5F6F9\",\"font\":{\"color\":\"#4D5663\"}},\"paper_bgcolor\":\"#F5F6F9\",\"plot_bgcolor\":\"#F5F6F9\",\"template\":{\"data\":{\"bar\":[{\"error_x\":{\"color\":\"#2a3f5f\"},\"error_y\":{\"color\":\"#2a3f5f\"},\"marker\":{\"line\":{\"color\":\"#E5ECF6\",\"width\":0.5},\"pattern\":{\"fillmode\":\"overlay\",\"size\":10,\"solidity\":0.2}},\"type\":\"bar\"}],\"barpolar\":[{\"marker\":{\"line\":{\"color\":\"#E5ECF6\",\"width\":0.5},\"pattern\":{\"fillmode\":\"overlay\",\"size\":10,\"solidity\":0.2}},\"type\":\"barpolar\"}],\"carpet\":[{\"aaxis\":{\"endlinecolor\":\"#2a3f5f\",\"gridcolor\":\"white\",\"linecolor\":\"white\",\"minorgridcolor\":\"white\",\"startlinecolor\":\"#2a3f5f\"},\"baxis\":{\"endlinecolor\":\"#2a3f5f\",\"gridcolor\":\"white\",\"linecolor\":\"white\",\"minorgridcolor\":\"white\",\"startlinecolor\":\"#2a3f5f\"},\"type\":\"carpet\"}],\"choropleth\":[{\"colorbar\":{\"outlinewidth\":0,\"ticks\":\"\"},\"type\":\"choropleth\"}],\"contour\":[{\"colorbar\":{\"outlinewidth\":0,\"ticks\":\"\"},\"colorscale\":[[0.0,\"#0d0887\"],[0.1111111111111111,\"#46039f\"],[0.2222222222222222,\"#7201a8\"],[0.3333333333333333,\"#9c179e\"],[0.4444444444444444,\"#bd3786\"],[0.5555555555555556,\"#d8576b\"],[0.6666666666666666,\"#ed7953\"],[0.7777777777777778,\"#fb9f3a\"],[0.8888888888888888,\"#fdca26\"],[1.0,\"#f0f921\"]],\"type\":\"contour\"}],\"contourcarpet\":[{\"colorbar\":{\"outlinewidth\":0,\"ticks\":\"\"},\"type\":\"contourcarpet\"}],\"heatmap\":[{\"colorbar\":{\"outlinewidth\":0,\"ticks\":\"\"},\"colorscale\":[[0.0,\"#0d0887\"],[0.1111111111111111,\"#46039f\"],[0.2222222222222222,\"#7201a8\"],[0.3333333333333333,\"#9c179e\"],[0.4444444444444444,\"#bd3786\"],[0.5555555555555556,\"#d8576b\"],[0.6666666666666666,\"#ed7953\"],[0.7777777777777778,\"#fb9f3a\"],[0.8888888888888888,\"#fdca26\"],[1.0,\"#f0f921\"]],\"type\":\"heatmap\"}],\"heatmapgl\":[{\"colorbar\":{\"outlinewidth\":0,\"ticks\":\"\"},\"colorscale\":[[0.0,\"#0d0887\"],[0.1111111111111111,\"#46039f\"],[0.2222222222222222,\"#7201a8\"],[0.3333333333333333,\"#9c179e\"],[0.4444444444444444,\"#bd3786\"],[0.5555555555555556,\"#d8576b\"],[0.6666666666666666,\"#ed7953\"],[0.7777777777777778,\"#fb9f3a\"],[0.8888888888888888,\"#fdca26\"],[1.0,\"#f0f921\"]],\"type\":\"heatmapgl\"}],\"histogram\":[{\"marker\":{\"pattern\":{\"fillmode\":\"overlay\",\"size\":10,\"solidity\":0.2}},\"type\":\"histogram\"}],\"histogram2d\":[{\"colorbar\":{\"outlinewidth\":0,\"ticks\":\"\"},\"colorscale\":[[0.0,\"#0d0887\"],[0.1111111111111111,\"#46039f\"],[0.2222222222222222,\"#7201a8\"],[0.3333333333333333,\"#9c179e\"],[0.4444444444444444,\"#bd3786\"],[0.5555555555555556,\"#d8576b\"],[0.6666666666666666,\"#ed7953\"],[0.7777777777777778,\"#fb9f3a\"],[0.8888888888888888,\"#fdca26\"],[1.0,\"#f0f921\"]],\"type\":\"histogram2d\"}],\"histogram2dcontour\":[{\"colorbar\":{\"outlinewidth\":0,\"ticks\":\"\"},\"colorscale\":[[0.0,\"#0d0887\"],[0.1111111111111111,\"#46039f\"],[0.2222222222222222,\"#7201a8\"],[0.3333333333333333,\"#9c179e\"],[0.4444444444444444,\"#bd3786\"],[0.5555555555555556,\"#d8576b\"],[0.6666666666666666,\"#ed7953\"],[0.7777777777777778,\"#fb9f3a\"],[0.8888888888888888,\"#fdca26\"],[1.0,\"#f0f921\"]],\"type\":\"histogram2dcontour\"}],\"mesh3d\":[{\"colorbar\":{\"outlinewidth\":0,\"ticks\":\"\"},\"type\":\"mesh3d\"}],\"parcoords\":[{\"line\":{\"colorbar\":{\"outlinewidth\":0,\"ticks\":\"\"}},\"type\":\"parcoords\"}],\"pie\":[{\"automargin\":true,\"type\":\"pie\"}],\"scatter\":[{\"marker\":{\"colorbar\":{\"outlinewidth\":0,\"ticks\":\"\"}},\"type\":\"scatter\"}],\"scatter3d\":[{\"line\":{\"colorbar\":{\"outlinewidth\":0,\"ticks\":\"\"}},\"marker\":{\"colorbar\":{\"outlinewidth\":0,\"ticks\":\"\"}},\"type\":\"scatter3d\"}],\"scattercarpet\":[{\"marker\":{\"colorbar\":{\"outlinewidth\":0,\"ticks\":\"\"}},\"type\":\"scattercarpet\"}],\"scattergeo\":[{\"marker\":{\"colorbar\":{\"outlinewidth\":0,\"ticks\":\"\"}},\"type\":\"scattergeo\"}],\"scattergl\":[{\"marker\":{\"colorbar\":{\"outlinewidth\":0,\"ticks\":\"\"}},\"type\":\"scattergl\"}],\"scattermapbox\":[{\"marker\":{\"colorbar\":{\"outlinewidth\":0,\"ticks\":\"\"}},\"type\":\"scattermapbox\"}],\"scatterpolar\":[{\"marker\":{\"colorbar\":{\"outlinewidth\":0,\"ticks\":\"\"}},\"type\":\"scatterpolar\"}],\"scatterpolargl\":[{\"marker\":{\"colorbar\":{\"outlinewidth\":0,\"ticks\":\"\"}},\"type\":\"scatterpolargl\"}],\"scatterternary\":[{\"marker\":{\"colorbar\":{\"outlinewidth\":0,\"ticks\":\"\"}},\"type\":\"scatterternary\"}],\"surface\":[{\"colorbar\":{\"outlinewidth\":0,\"ticks\":\"\"},\"colorscale\":[[0.0,\"#0d0887\"],[0.1111111111111111,\"#46039f\"],[0.2222222222222222,\"#7201a8\"],[0.3333333333333333,\"#9c179e\"],[0.4444444444444444,\"#bd3786\"],[0.5555555555555556,\"#d8576b\"],[0.6666666666666666,\"#ed7953\"],[0.7777777777777778,\"#fb9f3a\"],[0.8888888888888888,\"#fdca26\"],[1.0,\"#f0f921\"]],\"type\":\"surface\"}],\"table\":[{\"cells\":{\"fill\":{\"color\":\"#EBF0F8\"},\"line\":{\"color\":\"white\"}},\"header\":{\"fill\":{\"color\":\"#C8D4E3\"},\"line\":{\"color\":\"white\"}},\"type\":\"table\"}]},\"layout\":{\"annotationdefaults\":{\"arrowcolor\":\"#2a3f5f\",\"arrowhead\":0,\"arrowwidth\":1},\"autotypenumbers\":\"strict\",\"coloraxis\":{\"colorbar\":{\"outlinewidth\":0,\"ticks\":\"\"}},\"colorscale\":{\"diverging\":[[0,\"#8e0152\"],[0.1,\"#c51b7d\"],[0.2,\"#de77ae\"],[0.3,\"#f1b6da\"],[0.4,\"#fde0ef\"],[0.5,\"#f7f7f7\"],[0.6,\"#e6f5d0\"],[0.7,\"#b8e186\"],[0.8,\"#7fbc41\"],[0.9,\"#4d9221\"],[1,\"#276419\"]],\"sequential\":[[0.0,\"#0d0887\"],[0.1111111111111111,\"#46039f\"],[0.2222222222222222,\"#7201a8\"],[0.3333333333333333,\"#9c179e\"],[0.4444444444444444,\"#bd3786\"],[0.5555555555555556,\"#d8576b\"],[0.6666666666666666,\"#ed7953\"],[0.7777777777777778,\"#fb9f3a\"],[0.8888888888888888,\"#fdca26\"],[1.0,\"#f0f921\"]],\"sequentialminus\":[[0.0,\"#0d0887\"],[0.1111111111111111,\"#46039f\"],[0.2222222222222222,\"#7201a8\"],[0.3333333333333333,\"#9c179e\"],[0.4444444444444444,\"#bd3786\"],[0.5555555555555556,\"#d8576b\"],[0.6666666666666666,\"#ed7953\"],[0.7777777777777778,\"#fb9f3a\"],[0.8888888888888888,\"#fdca26\"],[1.0,\"#f0f921\"]]},\"colorway\":[\"#636efa\",\"#EF553B\",\"#00cc96\",\"#ab63fa\",\"#FFA15A\",\"#19d3f3\",\"#FF6692\",\"#B6E880\",\"#FF97FF\",\"#FECB52\"],\"font\":{\"color\":\"#2a3f5f\"},\"geo\":{\"bgcolor\":\"white\",\"lakecolor\":\"white\",\"landcolor\":\"#E5ECF6\",\"showlakes\":true,\"showland\":true,\"subunitcolor\":\"white\"},\"hoverlabel\":{\"align\":\"left\"},\"hovermode\":\"closest\",\"mapbox\":{\"style\":\"light\"},\"paper_bgcolor\":\"white\",\"plot_bgcolor\":\"#E5ECF6\",\"polar\":{\"angularaxis\":{\"gridcolor\":\"white\",\"linecolor\":\"white\",\"ticks\":\"\"},\"bgcolor\":\"#E5ECF6\",\"radialaxis\":{\"gridcolor\":\"white\",\"linecolor\":\"white\",\"ticks\":\"\"}},\"scene\":{\"xaxis\":{\"backgroundcolor\":\"#E5ECF6\",\"gridcolor\":\"white\",\"gridwidth\":2,\"linecolor\":\"white\",\"showbackground\":true,\"ticks\":\"\",\"zerolinecolor\":\"white\"},\"yaxis\":{\"backgroundcolor\":\"#E5ECF6\",\"gridcolor\":\"white\",\"gridwidth\":2,\"linecolor\":\"white\",\"showbackground\":true,\"ticks\":\"\",\"zerolinecolor\":\"white\"},\"zaxis\":{\"backgroundcolor\":\"#E5ECF6\",\"gridcolor\":\"white\",\"gridwidth\":2,\"linecolor\":\"white\",\"showbackground\":true,\"ticks\":\"\",\"zerolinecolor\":\"white\"}},\"shapedefaults\":{\"line\":{\"color\":\"#2a3f5f\"}},\"ternary\":{\"aaxis\":{\"gridcolor\":\"white\",\"linecolor\":\"white\",\"ticks\":\"\"},\"baxis\":{\"gridcolor\":\"white\",\"linecolor\":\"white\",\"ticks\":\"\"},\"bgcolor\":\"#E5ECF6\",\"caxis\":{\"gridcolor\":\"white\",\"linecolor\":\"white\",\"ticks\":\"\"}},\"title\":{\"x\":0.05},\"xaxis\":{\"automargin\":true,\"gridcolor\":\"white\",\"linecolor\":\"white\",\"ticks\":\"\",\"title\":{\"standoff\":15},\"zerolinecolor\":\"white\",\"zerolinewidth\":2},\"yaxis\":{\"automargin\":true,\"gridcolor\":\"white\",\"linecolor\":\"white\",\"ticks\":\"\",\"title\":{\"standoff\":15},\"zerolinecolor\":\"white\",\"zerolinewidth\":2}}},\"title\":{\"font\":{\"color\":\"#4D5663\"}},\"xaxis\":{\"gridcolor\":\"#E1E5ED\",\"showgrid\":true,\"tickfont\":{\"color\":\"#4D5663\"},\"title\":{\"font\":{\"color\":\"#4D5663\"},\"text\":\"\"},\"zerolinecolor\":\"#E1E5ED\"},\"yaxis\":{\"gridcolor\":\"#E1E5ED\",\"showgrid\":true,\"tickfont\":{\"color\":\"#4D5663\"},\"title\":{\"font\":{\"color\":\"#4D5663\"},\"text\":\"\"},\"zerolinecolor\":\"#E1E5ED\"}},                        {\"showLink\": true, \"linkText\": \"Export to plot.ly\", \"plotlyServerURL\": \"https://plot.ly\", \"responsive\": true}                    ).then(function(){\n",
       "                            \n",
       "var gd = document.getElementById('0a1d7ccb-215e-476b-8c9a-a03bcbd85e70');\n",
       "var x = new MutationObserver(function (mutations, observer) {{\n",
       "        var display = window.getComputedStyle(gd).display;\n",
       "        if (!display || display === 'none') {{\n",
       "            console.log([gd, 'removed!']);\n",
       "            Plotly.purge(gd);\n",
       "            observer.disconnect();\n",
       "        }}\n",
       "}});\n",
       "\n",
       "// Listen for the removal of the full notebook cells\n",
       "var notebookContainer = gd.closest('#notebook-container');\n",
       "if (notebookContainer) {{\n",
       "    x.observe(notebookContainer, {childList: true});\n",
       "}}\n",
       "\n",
       "// Listen for the clearing of the current output cell\n",
       "var outputEl = gd.closest('.output');\n",
       "if (outputEl) {{\n",
       "    x.observe(outputEl, {childList: true});\n",
       "}}\n",
       "\n",
       "                        })                };                });            </script>        </div>"
      ]
     },
     "metadata": {},
     "output_type": "display_data"
    }
   ],
   "source": [
    "df3 = pd.DataFrame({'x':[1,2,3,4,5],'y':[10,20,30,20,10],'z':[5,4,3,2,1]})\n",
    "df3.iplot(kind='surface',colorscale='rdylbu')"
   ]
  },
  {
   "cell_type": "markdown",
   "metadata": {},
   "source": [
    "## Spread"
   ]
  },
  {
   "cell_type": "code",
   "execution_count": 25,
   "metadata": {},
   "outputs": [
    {
     "name": "stderr",
     "output_type": "stream",
     "text": [
      "C:\\Users\\hanka\\anaconda3\\lib\\site-packages\\cufflinks\\plotlytools.py:849: FutureWarning:\n",
      "\n",
      "The pandas.np module is deprecated and will be removed from pandas in a future version. Import numpy directly instead\n",
      "\n",
      "C:\\Users\\hanka\\anaconda3\\lib\\site-packages\\cufflinks\\plotlytools.py:850: FutureWarning:\n",
      "\n",
      "The pandas.np module is deprecated and will be removed from pandas in a future version. Import numpy directly instead\n",
      "\n"
     ]
    },
    {
     "data": {
      "application/vnd.plotly.v1+json": {
       "config": {
        "linkText": "Export to plot.ly",
        "plotlyServerURL": "https://plot.ly",
        "showLink": true
       },
       "data": [
        {
         "line": {
          "color": "rgba(255, 153, 51, 1.0)",
          "dash": "solid",
          "shape": "linear",
          "width": 1.3
         },
         "mode": "lines",
         "name": "A",
         "text": "",
         "type": "scatter",
         "x": [
          0,
          1,
          2,
          3,
          4,
          5,
          6,
          7,
          8,
          9,
          10,
          11,
          12,
          13,
          14,
          15,
          16,
          17,
          18,
          19,
          20,
          21,
          22,
          23,
          24,
          25,
          26,
          27,
          28,
          29,
          30,
          31,
          32,
          33,
          34,
          35,
          36,
          37,
          38,
          39,
          40,
          41,
          42,
          43,
          44,
          45,
          46,
          47,
          48,
          49,
          50,
          51,
          52,
          53,
          54,
          55,
          56,
          57,
          58,
          59,
          60,
          61,
          62,
          63,
          64,
          65,
          66,
          67,
          68,
          69,
          70,
          71,
          72,
          73,
          74,
          75,
          76,
          77,
          78,
          79,
          80,
          81,
          82,
          83,
          84,
          85,
          86,
          87,
          88,
          89,
          90,
          91,
          92,
          93,
          94,
          95,
          96,
          97,
          98,
          99
         ],
         "y": [
          -0.12860260964606524,
          -1.635076306921547,
          -0.5868234739317386,
          0.20536526213217854,
          -0.7704148764243725,
          -0.608403118302665,
          -0.7771802124507576,
          0.8638616806968181,
          0.1987514763826788,
          0.5357468318854114,
          -0.805512501779021,
          2.818642095345587,
          -2.240429562821057,
          -0.9088716508414676,
          0.7688400036889937,
          1.3756705159878135,
          -0.14107448240173198,
          0.08435939863095848,
          -0.47542973557415535,
          -0.1674320741073042,
          -0.9928036010743042,
          -0.7456484563065178,
          0.3635481444242281,
          -0.5882618454120682,
          0.25414012281316667,
          0.8075350123432112,
          -2.17954988460998,
          1.0844212767816042,
          -0.6155401327201286,
          -0.8120677127265419,
          2.682095463168087,
          -0.8861062679388414,
          1.469866879622548,
          0.5739384835339598,
          -0.23539355790992364,
          0.3855826865292886,
          0.7186966464917793,
          0.3410797855162574,
          0.5082102613681312,
          -1.0232298776039623,
          0.094534363966649,
          -0.7468149471682591,
          0.6229276400590422,
          -1.006463292187963,
          0.43942570432402883,
          0.13999106174426013,
          -0.18938672474156987,
          -2.1591422816985486,
          -0.7712419228767906,
          -0.13630277784588765,
          1.8808542077379922,
          -0.03716927274838659,
          1.2639943341550404,
          -1.9816255138725716,
          -0.9559184241340777,
          0.3247446560710932,
          0.18749271902478037,
          0.07551280173086344,
          -0.49192181482586333,
          -0.4064583434602699,
          0.37686420304300106,
          -1.2662705459050974,
          0.8542971275153713,
          0.29222986412994945,
          -0.4357575569598363,
          -0.5029881280728328,
          -0.07342481701123633,
          -0.580731972963385,
          0.16814525256958246,
          0.7540617088613196,
          -2.807357263191882,
          0.2943652315452601,
          -0.9074105640013431,
          0.15419826504650516,
          -0.4020928330168706,
          -1.101935671902682,
          1.0590467937942818,
          -0.3873084367063922,
          0.850415751157854,
          -1.5268134381322997,
          0.17885452056056642,
          0.8598113461865062,
          -0.5332477857304616,
          0.42630320958643003,
          1.4763273314038519,
          1.0445069006882544,
          -2.029088486467021,
          -0.029734088032628603,
          -0.6745514583669592,
          -0.42394470279379776,
          -0.36594863842629466,
          -0.19923259224542597,
          -1.3006374051023517,
          -0.07018709569337656,
          -0.06322920059030304,
          0.09020414160573006,
          -0.42177867349612475,
          -1.4466636968930875,
          0.39394302890355015,
          -0.16504994921024868
         ]
        },
        {
         "line": {
          "color": "rgba(55, 128, 191, 1.0)",
          "dash": "solid",
          "shape": "linear",
          "width": 1.3
         },
         "mode": "lines",
         "name": "B",
         "text": "",
         "type": "scatter",
         "x": [
          0,
          1,
          2,
          3,
          4,
          5,
          6,
          7,
          8,
          9,
          10,
          11,
          12,
          13,
          14,
          15,
          16,
          17,
          18,
          19,
          20,
          21,
          22,
          23,
          24,
          25,
          26,
          27,
          28,
          29,
          30,
          31,
          32,
          33,
          34,
          35,
          36,
          37,
          38,
          39,
          40,
          41,
          42,
          43,
          44,
          45,
          46,
          47,
          48,
          49,
          50,
          51,
          52,
          53,
          54,
          55,
          56,
          57,
          58,
          59,
          60,
          61,
          62,
          63,
          64,
          65,
          66,
          67,
          68,
          69,
          70,
          71,
          72,
          73,
          74,
          75,
          76,
          77,
          78,
          79,
          80,
          81,
          82,
          83,
          84,
          85,
          86,
          87,
          88,
          89,
          90,
          91,
          92,
          93,
          94,
          95,
          96,
          97,
          98,
          99
         ],
         "y": [
          0.8185633845691501,
          1.250081636706017,
          0.11665422761436443,
          -0.2819901305478438,
          -0.6630182612897098,
          -0.3976453012974691,
          -0.5142082474577344,
          1.432976072008938,
          -2.614656326430859,
          2.142350309515806,
          0.6315409739127879,
          -0.708523285057641,
          0.5887555771349915,
          -1.4670398225476153,
          0.38477474395597316,
          2.1580945911705522,
          -0.6516882359233838,
          -1.6072549511834457,
          1.9364025334076367,
          -0.3729478015325837,
          1.456366286150059,
          0.5439429577293267,
          -0.06266508726016042,
          0.08840851093159466,
          0.525358281417997,
          -0.3415948287709737,
          0.2782395112701509,
          -0.17363095306504372,
          1.6475287341175775,
          -0.6562329183539691,
          -0.606666583795318,
          0.8233227456549621,
          -1.1006792057121941,
          -0.6038368427675496,
          -2.0685312197481656,
          -1.986812049601142,
          0.8016485809681733,
          0.08165263911139128,
          0.3018568326471051,
          1.4093206296813823,
          -0.1419959788866885,
          1.0068346160490198,
          -0.2135577872229478,
          -0.6212130211754662,
          2.91751459596935,
          -0.987940120823154,
          -0.9635950028352653,
          1.527761807710861,
          -2.660145662991958,
          0.9936137813400049,
          0.19720730910200923,
          1.9220446213364466,
          -1.9824981561511965,
          0.9563612107483108,
          1.2114572878639558,
          1.6761627962728234,
          1.1172822968710148,
          -0.852556826829526,
          0.5588420880177051,
          -0.48081412546774405,
          0.21619630678914495,
          0.28570481398274655,
          -0.26149968424397974,
          0.11408904413161775,
          1.2445996688810668,
          0.5878519772306224,
          0.03640300202301524,
          1.3429085752990346,
          0.31823227538228843,
          -0.44676448115245726,
          -0.32530669262862044,
          0.9727877924250453,
          -0.0016704124674436116,
          -1.704903047178396,
          0.06066998774211031,
          0.28333312677425526,
          -0.5461410231171553,
          1.1876633432998498,
          1.823974612474308,
          0.3496133196099635,
          1.447369161868816,
          -0.14884505603801926,
          0.2162416080437122,
          -0.5313346616861173,
          2.1559149096145016,
          0.4148938103042243,
          -0.07700947991227261,
          -0.17273927058773778,
          1.34532358448916,
          1.234205040365912,
          2.044149009033562,
          -0.009843940123830736,
          0.9337939733849073,
          1.087400634796986,
          0.3308251839280632,
          0.21105526600770663,
          1.1130421977450977,
          0.6499386149537946,
          -1.782007975306854,
          0.12607299045661263
         ]
        },
        {
         "connectgaps": false,
         "fill": "tozeroy",
         "line": {
          "color": "green",
          "dash": "solid",
          "shape": "linear",
          "width": 0.5
         },
         "mode": "lines",
         "name": "Spread",
         "showlegend": false,
         "type": "scatter",
         "x": [
          0,
          1,
          2,
          3,
          4,
          5,
          6,
          7,
          8,
          9,
          10,
          11,
          12,
          13,
          14,
          15,
          16,
          17,
          18,
          19,
          20,
          21,
          22,
          23,
          24,
          25,
          26,
          27,
          28,
          29,
          30,
          31,
          32,
          33,
          34,
          35,
          36,
          37,
          38,
          39,
          40,
          41,
          42,
          43,
          44,
          45,
          46,
          47,
          48,
          49,
          50,
          51,
          52,
          53,
          54,
          55,
          56,
          57,
          58,
          59,
          60,
          61,
          62,
          63,
          64,
          65,
          66,
          67,
          68,
          69,
          70,
          71,
          72,
          73,
          74,
          75,
          76,
          77,
          78,
          79,
          80,
          81,
          82,
          83,
          84,
          85,
          86,
          87,
          88,
          89,
          90,
          91,
          92,
          93,
          94,
          95,
          96,
          97,
          98,
          99
         ],
         "xaxis": "x2",
         "y": [
          "",
          "",
          "",
          0.4873553926800223,
          "",
          "",
          "",
          "",
          2.8134078028135376,
          "",
          "",
          3.527165380403228,
          "",
          0.5581681717061477,
          0.3840652597330206,
          "",
          0.5106137535216517,
          1.6916143498144043,
          "",
          0.20551572742527952,
          "",
          "",
          0.4262132316843885,
          "",
          "",
          1.1491298411141848,
          "",
          1.2580522298466479,
          "",
          "",
          3.288762046963405,
          "",
          2.570546085334742,
          1.1777753263015094,
          1.833137661838242,
          2.3723947361304307,
          "",
          0.2594271464048661,
          0.20635342872102608,
          "",
          0.2365303428533375,
          "",
          0.83648542728199,
          "",
          "",
          1.127931182567414,
          0.7742082780936954,
          "",
          1.8889037401151676,
          "",
          1.683646898635983,
          "",
          3.246492490306237,
          "",
          "",
          "",
          "",
          0.9280696285603895,
          "",
          0.07435578200747417,
          0.1606678962538561,
          "",
          1.115796811759351,
          0.1781408199983317,
          "",
          "",
          "",
          "",
          "",
          1.2008261900137769,
          "",
          "",
          "",
          1.8591013122249012,
          "",
          "",
          1.605187816911437,
          "",
          "",
          "",
          "",
          1.0086564022245255,
          "",
          0.9576378712725473,
          "",
          0.62961309038403,
          "",
          0.14300518255510916,
          "",
          "",
          "",
          "",
          "",
          "",
          "",
          "",
          "",
          "",
          2.175951004210404,
          ""
         ],
         "yaxis": "y2"
        },
        {
         "connectgaps": false,
         "fill": "tozeroy",
         "line": {
          "color": "red",
          "dash": "solid",
          "shape": "linear",
          "width": 0.5
         },
         "mode": "lines",
         "name": "Spread",
         "showlegend": false,
         "type": "scatter",
         "x": [
          0,
          1,
          2,
          3,
          4,
          5,
          6,
          7,
          8,
          9,
          10,
          11,
          12,
          13,
          14,
          15,
          16,
          17,
          18,
          19,
          20,
          21,
          22,
          23,
          24,
          25,
          26,
          27,
          28,
          29,
          30,
          31,
          32,
          33,
          34,
          35,
          36,
          37,
          38,
          39,
          40,
          41,
          42,
          43,
          44,
          45,
          46,
          47,
          48,
          49,
          50,
          51,
          52,
          53,
          54,
          55,
          56,
          57,
          58,
          59,
          60,
          61,
          62,
          63,
          64,
          65,
          66,
          67,
          68,
          69,
          70,
          71,
          72,
          73,
          74,
          75,
          76,
          77,
          78,
          79,
          80,
          81,
          82,
          83,
          84,
          85,
          86,
          87,
          88,
          89,
          90,
          91,
          92,
          93,
          94,
          95,
          96,
          97,
          98,
          99
         ],
         "xaxis": "x2",
         "y": [
          -0.9471659942152153,
          -2.885157943627564,
          -0.703477701546103,
          "",
          -0.1073966151346627,
          -0.2107578170051959,
          -0.2629719649930232,
          -0.5691143913121198,
          "",
          -1.6066034776303946,
          -1.4370534756918087,
          "",
          -2.8291851399560484,
          "",
          "",
          -0.7824240751827387,
          "",
          "",
          -2.411832268981792,
          "",
          -2.4491698872243632,
          -1.2895914140358444,
          "",
          -0.6766703563436628,
          -0.27121815860483034,
          "",
          -2.457789395880131,
          "",
          -2.263068866837706,
          -0.15583479437257275,
          "",
          -1.7094290135938035,
          "",
          "",
          "",
          "",
          -0.08295193447639393,
          "",
          "",
          -2.4325505072853444,
          "",
          -1.7536495632172788,
          "",
          -0.38525027101249687,
          -2.478088891645321,
          "",
          "",
          -3.68690408940941,
          "",
          -1.1299165591858926,
          "",
          -1.9592138940848332,
          "",
          -2.9379867246208824,
          -2.1673757119980337,
          -1.3514181402017302,
          -0.9297895778462344,
          "",
          -1.0507639028435685,
          "",
          "",
          -1.5519753598878439,
          "",
          "",
          -1.6803572258409032,
          -1.0908401053034553,
          -0.10982781903425157,
          -1.9236405482624197,
          -0.15008702281270597,
          "",
          -2.4820505705632616,
          -0.6784225608797851,
          -0.9057401515338995,
          "",
          -0.4627628207589809,
          -1.3852687986769374,
          "",
          -1.574971780006242,
          -0.973558861316454,
          -1.8764267577422633,
          -1.2685146413082495,
          "",
          -0.7494893937741738,
          "",
          -0.6795875782106497,
          "",
          -1.9520790065547484,
          "",
          -2.0198750428561194,
          -1.6581497431597096,
          -2.4100976474598568,
          -0.18938865212159522,
          -2.234431378487259,
          -1.1575877304903626,
          -0.3940543845183663,
          -0.12085112440197657,
          -1.5348208712412226,
          -2.096602311846882,
          "",
          -0.2911229396668613
         ],
         "yaxis": "y2"
        }
       ],
       "layout": {
        "hovermode": "x",
        "legend": {
         "bgcolor": "#F5F6F9",
         "font": {
          "color": "#4D5663"
         }
        },
        "paper_bgcolor": "#F5F6F9",
        "plot_bgcolor": "#F5F6F9",
        "template": {
         "data": {
          "bar": [
           {
            "error_x": {
             "color": "#2a3f5f"
            },
            "error_y": {
             "color": "#2a3f5f"
            },
            "marker": {
             "line": {
              "color": "#E5ECF6",
              "width": 0.5
             },
             "pattern": {
              "fillmode": "overlay",
              "size": 10,
              "solidity": 0.2
             }
            },
            "type": "bar"
           }
          ],
          "barpolar": [
           {
            "marker": {
             "line": {
              "color": "#E5ECF6",
              "width": 0.5
             },
             "pattern": {
              "fillmode": "overlay",
              "size": 10,
              "solidity": 0.2
             }
            },
            "type": "barpolar"
           }
          ],
          "carpet": [
           {
            "aaxis": {
             "endlinecolor": "#2a3f5f",
             "gridcolor": "white",
             "linecolor": "white",
             "minorgridcolor": "white",
             "startlinecolor": "#2a3f5f"
            },
            "baxis": {
             "endlinecolor": "#2a3f5f",
             "gridcolor": "white",
             "linecolor": "white",
             "minorgridcolor": "white",
             "startlinecolor": "#2a3f5f"
            },
            "type": "carpet"
           }
          ],
          "choropleth": [
           {
            "colorbar": {
             "outlinewidth": 0,
             "ticks": ""
            },
            "type": "choropleth"
           }
          ],
          "contour": [
           {
            "colorbar": {
             "outlinewidth": 0,
             "ticks": ""
            },
            "colorscale": [
             [
              0,
              "#0d0887"
             ],
             [
              0.1111111111111111,
              "#46039f"
             ],
             [
              0.2222222222222222,
              "#7201a8"
             ],
             [
              0.3333333333333333,
              "#9c179e"
             ],
             [
              0.4444444444444444,
              "#bd3786"
             ],
             [
              0.5555555555555556,
              "#d8576b"
             ],
             [
              0.6666666666666666,
              "#ed7953"
             ],
             [
              0.7777777777777778,
              "#fb9f3a"
             ],
             [
              0.8888888888888888,
              "#fdca26"
             ],
             [
              1,
              "#f0f921"
             ]
            ],
            "type": "contour"
           }
          ],
          "contourcarpet": [
           {
            "colorbar": {
             "outlinewidth": 0,
             "ticks": ""
            },
            "type": "contourcarpet"
           }
          ],
          "heatmap": [
           {
            "colorbar": {
             "outlinewidth": 0,
             "ticks": ""
            },
            "colorscale": [
             [
              0,
              "#0d0887"
             ],
             [
              0.1111111111111111,
              "#46039f"
             ],
             [
              0.2222222222222222,
              "#7201a8"
             ],
             [
              0.3333333333333333,
              "#9c179e"
             ],
             [
              0.4444444444444444,
              "#bd3786"
             ],
             [
              0.5555555555555556,
              "#d8576b"
             ],
             [
              0.6666666666666666,
              "#ed7953"
             ],
             [
              0.7777777777777778,
              "#fb9f3a"
             ],
             [
              0.8888888888888888,
              "#fdca26"
             ],
             [
              1,
              "#f0f921"
             ]
            ],
            "type": "heatmap"
           }
          ],
          "heatmapgl": [
           {
            "colorbar": {
             "outlinewidth": 0,
             "ticks": ""
            },
            "colorscale": [
             [
              0,
              "#0d0887"
             ],
             [
              0.1111111111111111,
              "#46039f"
             ],
             [
              0.2222222222222222,
              "#7201a8"
             ],
             [
              0.3333333333333333,
              "#9c179e"
             ],
             [
              0.4444444444444444,
              "#bd3786"
             ],
             [
              0.5555555555555556,
              "#d8576b"
             ],
             [
              0.6666666666666666,
              "#ed7953"
             ],
             [
              0.7777777777777778,
              "#fb9f3a"
             ],
             [
              0.8888888888888888,
              "#fdca26"
             ],
             [
              1,
              "#f0f921"
             ]
            ],
            "type": "heatmapgl"
           }
          ],
          "histogram": [
           {
            "marker": {
             "pattern": {
              "fillmode": "overlay",
              "size": 10,
              "solidity": 0.2
             }
            },
            "type": "histogram"
           }
          ],
          "histogram2d": [
           {
            "colorbar": {
             "outlinewidth": 0,
             "ticks": ""
            },
            "colorscale": [
             [
              0,
              "#0d0887"
             ],
             [
              0.1111111111111111,
              "#46039f"
             ],
             [
              0.2222222222222222,
              "#7201a8"
             ],
             [
              0.3333333333333333,
              "#9c179e"
             ],
             [
              0.4444444444444444,
              "#bd3786"
             ],
             [
              0.5555555555555556,
              "#d8576b"
             ],
             [
              0.6666666666666666,
              "#ed7953"
             ],
             [
              0.7777777777777778,
              "#fb9f3a"
             ],
             [
              0.8888888888888888,
              "#fdca26"
             ],
             [
              1,
              "#f0f921"
             ]
            ],
            "type": "histogram2d"
           }
          ],
          "histogram2dcontour": [
           {
            "colorbar": {
             "outlinewidth": 0,
             "ticks": ""
            },
            "colorscale": [
             [
              0,
              "#0d0887"
             ],
             [
              0.1111111111111111,
              "#46039f"
             ],
             [
              0.2222222222222222,
              "#7201a8"
             ],
             [
              0.3333333333333333,
              "#9c179e"
             ],
             [
              0.4444444444444444,
              "#bd3786"
             ],
             [
              0.5555555555555556,
              "#d8576b"
             ],
             [
              0.6666666666666666,
              "#ed7953"
             ],
             [
              0.7777777777777778,
              "#fb9f3a"
             ],
             [
              0.8888888888888888,
              "#fdca26"
             ],
             [
              1,
              "#f0f921"
             ]
            ],
            "type": "histogram2dcontour"
           }
          ],
          "mesh3d": [
           {
            "colorbar": {
             "outlinewidth": 0,
             "ticks": ""
            },
            "type": "mesh3d"
           }
          ],
          "parcoords": [
           {
            "line": {
             "colorbar": {
              "outlinewidth": 0,
              "ticks": ""
             }
            },
            "type": "parcoords"
           }
          ],
          "pie": [
           {
            "automargin": true,
            "type": "pie"
           }
          ],
          "scatter": [
           {
            "marker": {
             "colorbar": {
              "outlinewidth": 0,
              "ticks": ""
             }
            },
            "type": "scatter"
           }
          ],
          "scatter3d": [
           {
            "line": {
             "colorbar": {
              "outlinewidth": 0,
              "ticks": ""
             }
            },
            "marker": {
             "colorbar": {
              "outlinewidth": 0,
              "ticks": ""
             }
            },
            "type": "scatter3d"
           }
          ],
          "scattercarpet": [
           {
            "marker": {
             "colorbar": {
              "outlinewidth": 0,
              "ticks": ""
             }
            },
            "type": "scattercarpet"
           }
          ],
          "scattergeo": [
           {
            "marker": {
             "colorbar": {
              "outlinewidth": 0,
              "ticks": ""
             }
            },
            "type": "scattergeo"
           }
          ],
          "scattergl": [
           {
            "marker": {
             "colorbar": {
              "outlinewidth": 0,
              "ticks": ""
             }
            },
            "type": "scattergl"
           }
          ],
          "scattermapbox": [
           {
            "marker": {
             "colorbar": {
              "outlinewidth": 0,
              "ticks": ""
             }
            },
            "type": "scattermapbox"
           }
          ],
          "scatterpolar": [
           {
            "marker": {
             "colorbar": {
              "outlinewidth": 0,
              "ticks": ""
             }
            },
            "type": "scatterpolar"
           }
          ],
          "scatterpolargl": [
           {
            "marker": {
             "colorbar": {
              "outlinewidth": 0,
              "ticks": ""
             }
            },
            "type": "scatterpolargl"
           }
          ],
          "scatterternary": [
           {
            "marker": {
             "colorbar": {
              "outlinewidth": 0,
              "ticks": ""
             }
            },
            "type": "scatterternary"
           }
          ],
          "surface": [
           {
            "colorbar": {
             "outlinewidth": 0,
             "ticks": ""
            },
            "colorscale": [
             [
              0,
              "#0d0887"
             ],
             [
              0.1111111111111111,
              "#46039f"
             ],
             [
              0.2222222222222222,
              "#7201a8"
             ],
             [
              0.3333333333333333,
              "#9c179e"
             ],
             [
              0.4444444444444444,
              "#bd3786"
             ],
             [
              0.5555555555555556,
              "#d8576b"
             ],
             [
              0.6666666666666666,
              "#ed7953"
             ],
             [
              0.7777777777777778,
              "#fb9f3a"
             ],
             [
              0.8888888888888888,
              "#fdca26"
             ],
             [
              1,
              "#f0f921"
             ]
            ],
            "type": "surface"
           }
          ],
          "table": [
           {
            "cells": {
             "fill": {
              "color": "#EBF0F8"
             },
             "line": {
              "color": "white"
             }
            },
            "header": {
             "fill": {
              "color": "#C8D4E3"
             },
             "line": {
              "color": "white"
             }
            },
            "type": "table"
           }
          ]
         },
         "layout": {
          "annotationdefaults": {
           "arrowcolor": "#2a3f5f",
           "arrowhead": 0,
           "arrowwidth": 1
          },
          "autotypenumbers": "strict",
          "coloraxis": {
           "colorbar": {
            "outlinewidth": 0,
            "ticks": ""
           }
          },
          "colorscale": {
           "diverging": [
            [
             0,
             "#8e0152"
            ],
            [
             0.1,
             "#c51b7d"
            ],
            [
             0.2,
             "#de77ae"
            ],
            [
             0.3,
             "#f1b6da"
            ],
            [
             0.4,
             "#fde0ef"
            ],
            [
             0.5,
             "#f7f7f7"
            ],
            [
             0.6,
             "#e6f5d0"
            ],
            [
             0.7,
             "#b8e186"
            ],
            [
             0.8,
             "#7fbc41"
            ],
            [
             0.9,
             "#4d9221"
            ],
            [
             1,
             "#276419"
            ]
           ],
           "sequential": [
            [
             0,
             "#0d0887"
            ],
            [
             0.1111111111111111,
             "#46039f"
            ],
            [
             0.2222222222222222,
             "#7201a8"
            ],
            [
             0.3333333333333333,
             "#9c179e"
            ],
            [
             0.4444444444444444,
             "#bd3786"
            ],
            [
             0.5555555555555556,
             "#d8576b"
            ],
            [
             0.6666666666666666,
             "#ed7953"
            ],
            [
             0.7777777777777778,
             "#fb9f3a"
            ],
            [
             0.8888888888888888,
             "#fdca26"
            ],
            [
             1,
             "#f0f921"
            ]
           ],
           "sequentialminus": [
            [
             0,
             "#0d0887"
            ],
            [
             0.1111111111111111,
             "#46039f"
            ],
            [
             0.2222222222222222,
             "#7201a8"
            ],
            [
             0.3333333333333333,
             "#9c179e"
            ],
            [
             0.4444444444444444,
             "#bd3786"
            ],
            [
             0.5555555555555556,
             "#d8576b"
            ],
            [
             0.6666666666666666,
             "#ed7953"
            ],
            [
             0.7777777777777778,
             "#fb9f3a"
            ],
            [
             0.8888888888888888,
             "#fdca26"
            ],
            [
             1,
             "#f0f921"
            ]
           ]
          },
          "colorway": [
           "#636efa",
           "#EF553B",
           "#00cc96",
           "#ab63fa",
           "#FFA15A",
           "#19d3f3",
           "#FF6692",
           "#B6E880",
           "#FF97FF",
           "#FECB52"
          ],
          "font": {
           "color": "#2a3f5f"
          },
          "geo": {
           "bgcolor": "white",
           "lakecolor": "white",
           "landcolor": "#E5ECF6",
           "showlakes": true,
           "showland": true,
           "subunitcolor": "white"
          },
          "hoverlabel": {
           "align": "left"
          },
          "hovermode": "closest",
          "mapbox": {
           "style": "light"
          },
          "paper_bgcolor": "white",
          "plot_bgcolor": "#E5ECF6",
          "polar": {
           "angularaxis": {
            "gridcolor": "white",
            "linecolor": "white",
            "ticks": ""
           },
           "bgcolor": "#E5ECF6",
           "radialaxis": {
            "gridcolor": "white",
            "linecolor": "white",
            "ticks": ""
           }
          },
          "scene": {
           "xaxis": {
            "backgroundcolor": "#E5ECF6",
            "gridcolor": "white",
            "gridwidth": 2,
            "linecolor": "white",
            "showbackground": true,
            "ticks": "",
            "zerolinecolor": "white"
           },
           "yaxis": {
            "backgroundcolor": "#E5ECF6",
            "gridcolor": "white",
            "gridwidth": 2,
            "linecolor": "white",
            "showbackground": true,
            "ticks": "",
            "zerolinecolor": "white"
           },
           "zaxis": {
            "backgroundcolor": "#E5ECF6",
            "gridcolor": "white",
            "gridwidth": 2,
            "linecolor": "white",
            "showbackground": true,
            "ticks": "",
            "zerolinecolor": "white"
           }
          },
          "shapedefaults": {
           "line": {
            "color": "#2a3f5f"
           }
          },
          "ternary": {
           "aaxis": {
            "gridcolor": "white",
            "linecolor": "white",
            "ticks": ""
           },
           "baxis": {
            "gridcolor": "white",
            "linecolor": "white",
            "ticks": ""
           },
           "bgcolor": "#E5ECF6",
           "caxis": {
            "gridcolor": "white",
            "linecolor": "white",
            "ticks": ""
           }
          },
          "title": {
           "x": 0.05
          },
          "xaxis": {
           "automargin": true,
           "gridcolor": "white",
           "linecolor": "white",
           "ticks": "",
           "title": {
            "standoff": 15
           },
           "zerolinecolor": "white",
           "zerolinewidth": 2
          },
          "yaxis": {
           "automargin": true,
           "gridcolor": "white",
           "linecolor": "white",
           "ticks": "",
           "title": {
            "standoff": 15
           },
           "zerolinecolor": "white",
           "zerolinewidth": 2
          }
         }
        },
        "title": {
         "font": {
          "color": "#4D5663"
         }
        },
        "xaxis": {
         "gridcolor": "#E1E5ED",
         "showgrid": true,
         "tickfont": {
          "color": "#4D5663"
         },
         "title": {
          "font": {
           "color": "#4D5663"
          },
          "text": ""
         },
         "zerolinecolor": "#E1E5ED"
        },
        "xaxis2": {
         "anchor": "y2",
         "gridcolor": "#E1E5ED",
         "showgrid": true,
         "showticklabels": false,
         "tickfont": {
          "color": "#4D5663"
         },
         "title": {
          "font": {
           "color": "#4D5663"
          },
          "text": ""
         },
         "zerolinecolor": "#E1E5ED"
        },
        "yaxis": {
         "domain": [
          0.3,
          1
         ],
         "gridcolor": "#E1E5ED",
         "showgrid": true,
         "tickfont": {
          "color": "#4D5663"
         },
         "title": {
          "font": {
           "color": "#4D5663"
          },
          "text": ""
         },
         "zerolinecolor": "#E1E5ED"
        },
        "yaxis2": {
         "domain": [
          0,
          0.25
         ],
         "gridcolor": "#E1E5ED",
         "showgrid": true,
         "tickfont": {
          "color": "#4D5663"
         },
         "title": {
          "font": {
           "color": "#4D5663"
          },
          "text": "Spread"
         },
         "zerolinecolor": "#E1E5ED"
        }
       }
      },
      "text/html": [
       "<div>                            <div id=\"23abc43c-68a1-489a-93ea-defd22c7c230\" class=\"plotly-graph-div\" style=\"height:525px; width:100%;\"></div>            <script type=\"text/javascript\">                require([\"plotly\"], function(Plotly) {                    window.PLOTLYENV=window.PLOTLYENV || {};\n",
       "                    window.PLOTLYENV.BASE_URL='https://plot.ly';                                    if (document.getElementById(\"23abc43c-68a1-489a-93ea-defd22c7c230\")) {                    Plotly.newPlot(                        \"23abc43c-68a1-489a-93ea-defd22c7c230\",                        [{\"line\":{\"color\":\"rgba(255, 153, 51, 1.0)\",\"dash\":\"solid\",\"shape\":\"linear\",\"width\":1.3},\"mode\":\"lines\",\"name\":\"A\",\"text\":\"\",\"type\":\"scatter\",\"x\":[0,1,2,3,4,5,6,7,8,9,10,11,12,13,14,15,16,17,18,19,20,21,22,23,24,25,26,27,28,29,30,31,32,33,34,35,36,37,38,39,40,41,42,43,44,45,46,47,48,49,50,51,52,53,54,55,56,57,58,59,60,61,62,63,64,65,66,67,68,69,70,71,72,73,74,75,76,77,78,79,80,81,82,83,84,85,86,87,88,89,90,91,92,93,94,95,96,97,98,99],\"y\":[-0.12860260964606524,-1.635076306921547,-0.5868234739317386,0.20536526213217854,-0.7704148764243725,-0.608403118302665,-0.7771802124507576,0.8638616806968181,0.1987514763826788,0.5357468318854114,-0.805512501779021,2.818642095345587,-2.240429562821057,-0.9088716508414676,0.7688400036889937,1.3756705159878135,-0.14107448240173198,0.08435939863095848,-0.47542973557415535,-0.1674320741073042,-0.9928036010743042,-0.7456484563065178,0.3635481444242281,-0.5882618454120682,0.25414012281316667,0.8075350123432112,-2.17954988460998,1.0844212767816042,-0.6155401327201286,-0.8120677127265419,2.682095463168087,-0.8861062679388414,1.469866879622548,0.5739384835339598,-0.23539355790992364,0.3855826865292886,0.7186966464917793,0.3410797855162574,0.5082102613681312,-1.0232298776039623,0.094534363966649,-0.7468149471682591,0.6229276400590422,-1.006463292187963,0.43942570432402883,0.13999106174426013,-0.18938672474156987,-2.1591422816985486,-0.7712419228767906,-0.13630277784588765,1.8808542077379922,-0.03716927274838659,1.2639943341550404,-1.9816255138725716,-0.9559184241340777,0.3247446560710932,0.18749271902478037,0.07551280173086344,-0.49192181482586333,-0.4064583434602699,0.37686420304300106,-1.2662705459050974,0.8542971275153713,0.29222986412994945,-0.4357575569598363,-0.5029881280728328,-0.07342481701123633,-0.580731972963385,0.16814525256958246,0.7540617088613196,-2.807357263191882,0.2943652315452601,-0.9074105640013431,0.15419826504650516,-0.4020928330168706,-1.101935671902682,1.0590467937942818,-0.3873084367063922,0.850415751157854,-1.5268134381322997,0.17885452056056642,0.8598113461865062,-0.5332477857304616,0.42630320958643003,1.4763273314038519,1.0445069006882544,-2.029088486467021,-0.029734088032628603,-0.6745514583669592,-0.42394470279379776,-0.36594863842629466,-0.19923259224542597,-1.3006374051023517,-0.07018709569337656,-0.06322920059030304,0.09020414160573006,-0.42177867349612475,-1.4466636968930875,0.39394302890355015,-0.16504994921024868]},{\"line\":{\"color\":\"rgba(55, 128, 191, 1.0)\",\"dash\":\"solid\",\"shape\":\"linear\",\"width\":1.3},\"mode\":\"lines\",\"name\":\"B\",\"text\":\"\",\"type\":\"scatter\",\"x\":[0,1,2,3,4,5,6,7,8,9,10,11,12,13,14,15,16,17,18,19,20,21,22,23,24,25,26,27,28,29,30,31,32,33,34,35,36,37,38,39,40,41,42,43,44,45,46,47,48,49,50,51,52,53,54,55,56,57,58,59,60,61,62,63,64,65,66,67,68,69,70,71,72,73,74,75,76,77,78,79,80,81,82,83,84,85,86,87,88,89,90,91,92,93,94,95,96,97,98,99],\"y\":[0.8185633845691501,1.250081636706017,0.11665422761436443,-0.2819901305478438,-0.6630182612897098,-0.3976453012974691,-0.5142082474577344,1.432976072008938,-2.614656326430859,2.142350309515806,0.6315409739127879,-0.708523285057641,0.5887555771349915,-1.4670398225476153,0.38477474395597316,2.1580945911705522,-0.6516882359233838,-1.6072549511834457,1.9364025334076367,-0.3729478015325837,1.456366286150059,0.5439429577293267,-0.06266508726016042,0.08840851093159466,0.525358281417997,-0.3415948287709737,0.2782395112701509,-0.17363095306504372,1.6475287341175775,-0.6562329183539691,-0.606666583795318,0.8233227456549621,-1.1006792057121941,-0.6038368427675496,-2.0685312197481656,-1.986812049601142,0.8016485809681733,0.08165263911139128,0.3018568326471051,1.4093206296813823,-0.1419959788866885,1.0068346160490198,-0.2135577872229478,-0.6212130211754662,2.91751459596935,-0.987940120823154,-0.9635950028352653,1.527761807710861,-2.660145662991958,0.9936137813400049,0.19720730910200923,1.9220446213364466,-1.9824981561511965,0.9563612107483108,1.2114572878639558,1.6761627962728234,1.1172822968710148,-0.852556826829526,0.5588420880177051,-0.48081412546774405,0.21619630678914495,0.28570481398274655,-0.26149968424397974,0.11408904413161775,1.2445996688810668,0.5878519772306224,0.03640300202301524,1.3429085752990346,0.31823227538228843,-0.44676448115245726,-0.32530669262862044,0.9727877924250453,-0.0016704124674436116,-1.704903047178396,0.06066998774211031,0.28333312677425526,-0.5461410231171553,1.1876633432998498,1.823974612474308,0.3496133196099635,1.447369161868816,-0.14884505603801926,0.2162416080437122,-0.5313346616861173,2.1559149096145016,0.4148938103042243,-0.07700947991227261,-0.17273927058773778,1.34532358448916,1.234205040365912,2.044149009033562,-0.009843940123830736,0.9337939733849073,1.087400634796986,0.3308251839280632,0.21105526600770663,1.1130421977450977,0.6499386149537946,-1.782007975306854,0.12607299045661263]},{\"connectgaps\":false,\"fill\":\"tozeroy\",\"line\":{\"color\":\"green\",\"dash\":\"solid\",\"shape\":\"linear\",\"width\":0.5},\"mode\":\"lines\",\"name\":\"Spread\",\"showlegend\":false,\"type\":\"scatter\",\"x\":[0,1,2,3,4,5,6,7,8,9,10,11,12,13,14,15,16,17,18,19,20,21,22,23,24,25,26,27,28,29,30,31,32,33,34,35,36,37,38,39,40,41,42,43,44,45,46,47,48,49,50,51,52,53,54,55,56,57,58,59,60,61,62,63,64,65,66,67,68,69,70,71,72,73,74,75,76,77,78,79,80,81,82,83,84,85,86,87,88,89,90,91,92,93,94,95,96,97,98,99],\"xaxis\":\"x2\",\"y\":[\"\",\"\",\"\",0.4873553926800223,\"\",\"\",\"\",\"\",2.8134078028135376,\"\",\"\",3.527165380403228,\"\",0.5581681717061477,0.3840652597330206,\"\",0.5106137535216517,1.6916143498144043,\"\",0.20551572742527952,\"\",\"\",0.4262132316843885,\"\",\"\",1.1491298411141848,\"\",1.2580522298466479,\"\",\"\",3.288762046963405,\"\",2.570546085334742,1.1777753263015094,1.833137661838242,2.3723947361304307,\"\",0.2594271464048661,0.20635342872102608,\"\",0.2365303428533375,\"\",0.83648542728199,\"\",\"\",1.127931182567414,0.7742082780936954,\"\",1.8889037401151676,\"\",1.683646898635983,\"\",3.246492490306237,\"\",\"\",\"\",\"\",0.9280696285603895,\"\",0.07435578200747417,0.1606678962538561,\"\",1.115796811759351,0.1781408199983317,\"\",\"\",\"\",\"\",\"\",1.2008261900137769,\"\",\"\",\"\",1.8591013122249012,\"\",\"\",1.605187816911437,\"\",\"\",\"\",\"\",1.0086564022245255,\"\",0.9576378712725473,\"\",0.62961309038403,\"\",0.14300518255510916,\"\",\"\",\"\",\"\",\"\",\"\",\"\",\"\",\"\",\"\",2.175951004210404,\"\"],\"yaxis\":\"y2\"},{\"connectgaps\":false,\"fill\":\"tozeroy\",\"line\":{\"color\":\"red\",\"dash\":\"solid\",\"shape\":\"linear\",\"width\":0.5},\"mode\":\"lines\",\"name\":\"Spread\",\"showlegend\":false,\"type\":\"scatter\",\"x\":[0,1,2,3,4,5,6,7,8,9,10,11,12,13,14,15,16,17,18,19,20,21,22,23,24,25,26,27,28,29,30,31,32,33,34,35,36,37,38,39,40,41,42,43,44,45,46,47,48,49,50,51,52,53,54,55,56,57,58,59,60,61,62,63,64,65,66,67,68,69,70,71,72,73,74,75,76,77,78,79,80,81,82,83,84,85,86,87,88,89,90,91,92,93,94,95,96,97,98,99],\"xaxis\":\"x2\",\"y\":[-0.9471659942152153,-2.885157943627564,-0.703477701546103,\"\",-0.1073966151346627,-0.2107578170051959,-0.2629719649930232,-0.5691143913121198,\"\",-1.6066034776303946,-1.4370534756918087,\"\",-2.8291851399560484,\"\",\"\",-0.7824240751827387,\"\",\"\",-2.411832268981792,\"\",-2.4491698872243632,-1.2895914140358444,\"\",-0.6766703563436628,-0.27121815860483034,\"\",-2.457789395880131,\"\",-2.263068866837706,-0.15583479437257275,\"\",-1.7094290135938035,\"\",\"\",\"\",\"\",-0.08295193447639393,\"\",\"\",-2.4325505072853444,\"\",-1.7536495632172788,\"\",-0.38525027101249687,-2.478088891645321,\"\",\"\",-3.68690408940941,\"\",-1.1299165591858926,\"\",-1.9592138940848332,\"\",-2.9379867246208824,-2.1673757119980337,-1.3514181402017302,-0.9297895778462344,\"\",-1.0507639028435685,\"\",\"\",-1.5519753598878439,\"\",\"\",-1.6803572258409032,-1.0908401053034553,-0.10982781903425157,-1.9236405482624197,-0.15008702281270597,\"\",-2.4820505705632616,-0.6784225608797851,-0.9057401515338995,\"\",-0.4627628207589809,-1.3852687986769374,\"\",-1.574971780006242,-0.973558861316454,-1.8764267577422633,-1.2685146413082495,\"\",-0.7494893937741738,\"\",-0.6795875782106497,\"\",-1.9520790065547484,\"\",-2.0198750428561194,-1.6581497431597096,-2.4100976474598568,-0.18938865212159522,-2.234431378487259,-1.1575877304903626,-0.3940543845183663,-0.12085112440197657,-1.5348208712412226,-2.096602311846882,\"\",-0.2911229396668613],\"yaxis\":\"y2\"}],                        {\"hovermode\":\"x\",\"legend\":{\"bgcolor\":\"#F5F6F9\",\"font\":{\"color\":\"#4D5663\"}},\"paper_bgcolor\":\"#F5F6F9\",\"plot_bgcolor\":\"#F5F6F9\",\"template\":{\"data\":{\"bar\":[{\"error_x\":{\"color\":\"#2a3f5f\"},\"error_y\":{\"color\":\"#2a3f5f\"},\"marker\":{\"line\":{\"color\":\"#E5ECF6\",\"width\":0.5},\"pattern\":{\"fillmode\":\"overlay\",\"size\":10,\"solidity\":0.2}},\"type\":\"bar\"}],\"barpolar\":[{\"marker\":{\"line\":{\"color\":\"#E5ECF6\",\"width\":0.5},\"pattern\":{\"fillmode\":\"overlay\",\"size\":10,\"solidity\":0.2}},\"type\":\"barpolar\"}],\"carpet\":[{\"aaxis\":{\"endlinecolor\":\"#2a3f5f\",\"gridcolor\":\"white\",\"linecolor\":\"white\",\"minorgridcolor\":\"white\",\"startlinecolor\":\"#2a3f5f\"},\"baxis\":{\"endlinecolor\":\"#2a3f5f\",\"gridcolor\":\"white\",\"linecolor\":\"white\",\"minorgridcolor\":\"white\",\"startlinecolor\":\"#2a3f5f\"},\"type\":\"carpet\"}],\"choropleth\":[{\"colorbar\":{\"outlinewidth\":0,\"ticks\":\"\"},\"type\":\"choropleth\"}],\"contour\":[{\"colorbar\":{\"outlinewidth\":0,\"ticks\":\"\"},\"colorscale\":[[0.0,\"#0d0887\"],[0.1111111111111111,\"#46039f\"],[0.2222222222222222,\"#7201a8\"],[0.3333333333333333,\"#9c179e\"],[0.4444444444444444,\"#bd3786\"],[0.5555555555555556,\"#d8576b\"],[0.6666666666666666,\"#ed7953\"],[0.7777777777777778,\"#fb9f3a\"],[0.8888888888888888,\"#fdca26\"],[1.0,\"#f0f921\"]],\"type\":\"contour\"}],\"contourcarpet\":[{\"colorbar\":{\"outlinewidth\":0,\"ticks\":\"\"},\"type\":\"contourcarpet\"}],\"heatmap\":[{\"colorbar\":{\"outlinewidth\":0,\"ticks\":\"\"},\"colorscale\":[[0.0,\"#0d0887\"],[0.1111111111111111,\"#46039f\"],[0.2222222222222222,\"#7201a8\"],[0.3333333333333333,\"#9c179e\"],[0.4444444444444444,\"#bd3786\"],[0.5555555555555556,\"#d8576b\"],[0.6666666666666666,\"#ed7953\"],[0.7777777777777778,\"#fb9f3a\"],[0.8888888888888888,\"#fdca26\"],[1.0,\"#f0f921\"]],\"type\":\"heatmap\"}],\"heatmapgl\":[{\"colorbar\":{\"outlinewidth\":0,\"ticks\":\"\"},\"colorscale\":[[0.0,\"#0d0887\"],[0.1111111111111111,\"#46039f\"],[0.2222222222222222,\"#7201a8\"],[0.3333333333333333,\"#9c179e\"],[0.4444444444444444,\"#bd3786\"],[0.5555555555555556,\"#d8576b\"],[0.6666666666666666,\"#ed7953\"],[0.7777777777777778,\"#fb9f3a\"],[0.8888888888888888,\"#fdca26\"],[1.0,\"#f0f921\"]],\"type\":\"heatmapgl\"}],\"histogram\":[{\"marker\":{\"pattern\":{\"fillmode\":\"overlay\",\"size\":10,\"solidity\":0.2}},\"type\":\"histogram\"}],\"histogram2d\":[{\"colorbar\":{\"outlinewidth\":0,\"ticks\":\"\"},\"colorscale\":[[0.0,\"#0d0887\"],[0.1111111111111111,\"#46039f\"],[0.2222222222222222,\"#7201a8\"],[0.3333333333333333,\"#9c179e\"],[0.4444444444444444,\"#bd3786\"],[0.5555555555555556,\"#d8576b\"],[0.6666666666666666,\"#ed7953\"],[0.7777777777777778,\"#fb9f3a\"],[0.8888888888888888,\"#fdca26\"],[1.0,\"#f0f921\"]],\"type\":\"histogram2d\"}],\"histogram2dcontour\":[{\"colorbar\":{\"outlinewidth\":0,\"ticks\":\"\"},\"colorscale\":[[0.0,\"#0d0887\"],[0.1111111111111111,\"#46039f\"],[0.2222222222222222,\"#7201a8\"],[0.3333333333333333,\"#9c179e\"],[0.4444444444444444,\"#bd3786\"],[0.5555555555555556,\"#d8576b\"],[0.6666666666666666,\"#ed7953\"],[0.7777777777777778,\"#fb9f3a\"],[0.8888888888888888,\"#fdca26\"],[1.0,\"#f0f921\"]],\"type\":\"histogram2dcontour\"}],\"mesh3d\":[{\"colorbar\":{\"outlinewidth\":0,\"ticks\":\"\"},\"type\":\"mesh3d\"}],\"parcoords\":[{\"line\":{\"colorbar\":{\"outlinewidth\":0,\"ticks\":\"\"}},\"type\":\"parcoords\"}],\"pie\":[{\"automargin\":true,\"type\":\"pie\"}],\"scatter\":[{\"marker\":{\"colorbar\":{\"outlinewidth\":0,\"ticks\":\"\"}},\"type\":\"scatter\"}],\"scatter3d\":[{\"line\":{\"colorbar\":{\"outlinewidth\":0,\"ticks\":\"\"}},\"marker\":{\"colorbar\":{\"outlinewidth\":0,\"ticks\":\"\"}},\"type\":\"scatter3d\"}],\"scattercarpet\":[{\"marker\":{\"colorbar\":{\"outlinewidth\":0,\"ticks\":\"\"}},\"type\":\"scattercarpet\"}],\"scattergeo\":[{\"marker\":{\"colorbar\":{\"outlinewidth\":0,\"ticks\":\"\"}},\"type\":\"scattergeo\"}],\"scattergl\":[{\"marker\":{\"colorbar\":{\"outlinewidth\":0,\"ticks\":\"\"}},\"type\":\"scattergl\"}],\"scattermapbox\":[{\"marker\":{\"colorbar\":{\"outlinewidth\":0,\"ticks\":\"\"}},\"type\":\"scattermapbox\"}],\"scatterpolar\":[{\"marker\":{\"colorbar\":{\"outlinewidth\":0,\"ticks\":\"\"}},\"type\":\"scatterpolar\"}],\"scatterpolargl\":[{\"marker\":{\"colorbar\":{\"outlinewidth\":0,\"ticks\":\"\"}},\"type\":\"scatterpolargl\"}],\"scatterternary\":[{\"marker\":{\"colorbar\":{\"outlinewidth\":0,\"ticks\":\"\"}},\"type\":\"scatterternary\"}],\"surface\":[{\"colorbar\":{\"outlinewidth\":0,\"ticks\":\"\"},\"colorscale\":[[0.0,\"#0d0887\"],[0.1111111111111111,\"#46039f\"],[0.2222222222222222,\"#7201a8\"],[0.3333333333333333,\"#9c179e\"],[0.4444444444444444,\"#bd3786\"],[0.5555555555555556,\"#d8576b\"],[0.6666666666666666,\"#ed7953\"],[0.7777777777777778,\"#fb9f3a\"],[0.8888888888888888,\"#fdca26\"],[1.0,\"#f0f921\"]],\"type\":\"surface\"}],\"table\":[{\"cells\":{\"fill\":{\"color\":\"#EBF0F8\"},\"line\":{\"color\":\"white\"}},\"header\":{\"fill\":{\"color\":\"#C8D4E3\"},\"line\":{\"color\":\"white\"}},\"type\":\"table\"}]},\"layout\":{\"annotationdefaults\":{\"arrowcolor\":\"#2a3f5f\",\"arrowhead\":0,\"arrowwidth\":1},\"autotypenumbers\":\"strict\",\"coloraxis\":{\"colorbar\":{\"outlinewidth\":0,\"ticks\":\"\"}},\"colorscale\":{\"diverging\":[[0,\"#8e0152\"],[0.1,\"#c51b7d\"],[0.2,\"#de77ae\"],[0.3,\"#f1b6da\"],[0.4,\"#fde0ef\"],[0.5,\"#f7f7f7\"],[0.6,\"#e6f5d0\"],[0.7,\"#b8e186\"],[0.8,\"#7fbc41\"],[0.9,\"#4d9221\"],[1,\"#276419\"]],\"sequential\":[[0.0,\"#0d0887\"],[0.1111111111111111,\"#46039f\"],[0.2222222222222222,\"#7201a8\"],[0.3333333333333333,\"#9c179e\"],[0.4444444444444444,\"#bd3786\"],[0.5555555555555556,\"#d8576b\"],[0.6666666666666666,\"#ed7953\"],[0.7777777777777778,\"#fb9f3a\"],[0.8888888888888888,\"#fdca26\"],[1.0,\"#f0f921\"]],\"sequentialminus\":[[0.0,\"#0d0887\"],[0.1111111111111111,\"#46039f\"],[0.2222222222222222,\"#7201a8\"],[0.3333333333333333,\"#9c179e\"],[0.4444444444444444,\"#bd3786\"],[0.5555555555555556,\"#d8576b\"],[0.6666666666666666,\"#ed7953\"],[0.7777777777777778,\"#fb9f3a\"],[0.8888888888888888,\"#fdca26\"],[1.0,\"#f0f921\"]]},\"colorway\":[\"#636efa\",\"#EF553B\",\"#00cc96\",\"#ab63fa\",\"#FFA15A\",\"#19d3f3\",\"#FF6692\",\"#B6E880\",\"#FF97FF\",\"#FECB52\"],\"font\":{\"color\":\"#2a3f5f\"},\"geo\":{\"bgcolor\":\"white\",\"lakecolor\":\"white\",\"landcolor\":\"#E5ECF6\",\"showlakes\":true,\"showland\":true,\"subunitcolor\":\"white\"},\"hoverlabel\":{\"align\":\"left\"},\"hovermode\":\"closest\",\"mapbox\":{\"style\":\"light\"},\"paper_bgcolor\":\"white\",\"plot_bgcolor\":\"#E5ECF6\",\"polar\":{\"angularaxis\":{\"gridcolor\":\"white\",\"linecolor\":\"white\",\"ticks\":\"\"},\"bgcolor\":\"#E5ECF6\",\"radialaxis\":{\"gridcolor\":\"white\",\"linecolor\":\"white\",\"ticks\":\"\"}},\"scene\":{\"xaxis\":{\"backgroundcolor\":\"#E5ECF6\",\"gridcolor\":\"white\",\"gridwidth\":2,\"linecolor\":\"white\",\"showbackground\":true,\"ticks\":\"\",\"zerolinecolor\":\"white\"},\"yaxis\":{\"backgroundcolor\":\"#E5ECF6\",\"gridcolor\":\"white\",\"gridwidth\":2,\"linecolor\":\"white\",\"showbackground\":true,\"ticks\":\"\",\"zerolinecolor\":\"white\"},\"zaxis\":{\"backgroundcolor\":\"#E5ECF6\",\"gridcolor\":\"white\",\"gridwidth\":2,\"linecolor\":\"white\",\"showbackground\":true,\"ticks\":\"\",\"zerolinecolor\":\"white\"}},\"shapedefaults\":{\"line\":{\"color\":\"#2a3f5f\"}},\"ternary\":{\"aaxis\":{\"gridcolor\":\"white\",\"linecolor\":\"white\",\"ticks\":\"\"},\"baxis\":{\"gridcolor\":\"white\",\"linecolor\":\"white\",\"ticks\":\"\"},\"bgcolor\":\"#E5ECF6\",\"caxis\":{\"gridcolor\":\"white\",\"linecolor\":\"white\",\"ticks\":\"\"}},\"title\":{\"x\":0.05},\"xaxis\":{\"automargin\":true,\"gridcolor\":\"white\",\"linecolor\":\"white\",\"ticks\":\"\",\"title\":{\"standoff\":15},\"zerolinecolor\":\"white\",\"zerolinewidth\":2},\"yaxis\":{\"automargin\":true,\"gridcolor\":\"white\",\"linecolor\":\"white\",\"ticks\":\"\",\"title\":{\"standoff\":15},\"zerolinecolor\":\"white\",\"zerolinewidth\":2}}},\"title\":{\"font\":{\"color\":\"#4D5663\"}},\"xaxis\":{\"gridcolor\":\"#E1E5ED\",\"showgrid\":true,\"tickfont\":{\"color\":\"#4D5663\"},\"title\":{\"font\":{\"color\":\"#4D5663\"},\"text\":\"\"},\"zerolinecolor\":\"#E1E5ED\"},\"xaxis2\":{\"anchor\":\"y2\",\"gridcolor\":\"#E1E5ED\",\"showgrid\":true,\"showticklabels\":false,\"tickfont\":{\"color\":\"#4D5663\"},\"title\":{\"font\":{\"color\":\"#4D5663\"},\"text\":\"\"},\"zerolinecolor\":\"#E1E5ED\"},\"yaxis\":{\"domain\":[0.3,1],\"gridcolor\":\"#E1E5ED\",\"showgrid\":true,\"tickfont\":{\"color\":\"#4D5663\"},\"title\":{\"font\":{\"color\":\"#4D5663\"},\"text\":\"\"},\"zerolinecolor\":\"#E1E5ED\"},\"yaxis2\":{\"domain\":[0,0.25],\"gridcolor\":\"#E1E5ED\",\"showgrid\":true,\"tickfont\":{\"color\":\"#4D5663\"},\"title\":{\"font\":{\"color\":\"#4D5663\"},\"text\":\"Spread\"},\"zerolinecolor\":\"#E1E5ED\"}},                        {\"showLink\": true, \"linkText\": \"Export to plot.ly\", \"plotlyServerURL\": \"https://plot.ly\", \"responsive\": true}                    ).then(function(){\n",
       "                            \n",
       "var gd = document.getElementById('23abc43c-68a1-489a-93ea-defd22c7c230');\n",
       "var x = new MutationObserver(function (mutations, observer) {{\n",
       "        var display = window.getComputedStyle(gd).display;\n",
       "        if (!display || display === 'none') {{\n",
       "            console.log([gd, 'removed!']);\n",
       "            Plotly.purge(gd);\n",
       "            observer.disconnect();\n",
       "        }}\n",
       "}});\n",
       "\n",
       "// Listen for the removal of the full notebook cells\n",
       "var notebookContainer = gd.closest('#notebook-container');\n",
       "if (notebookContainer) {{\n",
       "    x.observe(notebookContainer, {childList: true});\n",
       "}}\n",
       "\n",
       "// Listen for the clearing of the current output cell\n",
       "var outputEl = gd.closest('.output');\n",
       "if (outputEl) {{\n",
       "    x.observe(outputEl, {childList: true});\n",
       "}}\n",
       "\n",
       "                        })                };                });            </script>        </div>"
      ]
     },
     "metadata": {},
     "output_type": "display_data"
    }
   ],
   "source": [
    "df[['A','B']].iplot(kind='spread')"
   ]
  },
  {
   "cell_type": "markdown",
   "metadata": {},
   "source": [
    "## histogram"
   ]
  },
  {
   "cell_type": "code",
   "execution_count": 26,
   "metadata": {},
   "outputs": [
    {
     "data": {
      "application/vnd.plotly.v1+json": {
       "config": {
        "linkText": "Export to plot.ly",
        "plotlyServerURL": "https://plot.ly",
        "showLink": true
       },
       "data": [
        {
         "histfunc": "count",
         "histnorm": "",
         "marker": {
          "color": "rgba(255, 153, 51, 1.0)",
          "line": {
           "color": "#4D5663",
           "width": 1.3
          }
         },
         "name": "A",
         "nbinsx": 25,
         "opacity": 0.8,
         "orientation": "v",
         "type": "histogram",
         "x": [
          -0.12860260964606524,
          -1.635076306921547,
          -0.5868234739317386,
          0.20536526213217854,
          -0.7704148764243725,
          -0.608403118302665,
          -0.7771802124507576,
          0.8638616806968181,
          0.1987514763826788,
          0.5357468318854114,
          -0.805512501779021,
          2.818642095345587,
          -2.240429562821057,
          -0.9088716508414676,
          0.7688400036889937,
          1.3756705159878135,
          -0.14107448240173198,
          0.08435939863095848,
          -0.47542973557415535,
          -0.1674320741073042,
          -0.9928036010743042,
          -0.7456484563065178,
          0.3635481444242281,
          -0.5882618454120682,
          0.25414012281316667,
          0.8075350123432112,
          -2.17954988460998,
          1.0844212767816042,
          -0.6155401327201286,
          -0.8120677127265419,
          2.682095463168087,
          -0.8861062679388414,
          1.469866879622548,
          0.5739384835339598,
          -0.23539355790992364,
          0.3855826865292886,
          0.7186966464917793,
          0.3410797855162574,
          0.5082102613681312,
          -1.0232298776039623,
          0.094534363966649,
          -0.7468149471682591,
          0.6229276400590422,
          -1.006463292187963,
          0.43942570432402883,
          0.13999106174426013,
          -0.18938672474156987,
          -2.1591422816985486,
          -0.7712419228767906,
          -0.13630277784588765,
          1.8808542077379922,
          -0.03716927274838659,
          1.2639943341550404,
          -1.9816255138725716,
          -0.9559184241340777,
          0.3247446560710932,
          0.18749271902478037,
          0.07551280173086344,
          -0.49192181482586333,
          -0.4064583434602699,
          0.37686420304300106,
          -1.2662705459050974,
          0.8542971275153713,
          0.29222986412994945,
          -0.4357575569598363,
          -0.5029881280728328,
          -0.07342481701123633,
          -0.580731972963385,
          0.16814525256958246,
          0.7540617088613196,
          -2.807357263191882,
          0.2943652315452601,
          -0.9074105640013431,
          0.15419826504650516,
          -0.4020928330168706,
          -1.101935671902682,
          1.0590467937942818,
          -0.3873084367063922,
          0.850415751157854,
          -1.5268134381322997,
          0.17885452056056642,
          0.8598113461865062,
          -0.5332477857304616,
          0.42630320958643003,
          1.4763273314038519,
          1.0445069006882544,
          -2.029088486467021,
          -0.029734088032628603,
          -0.6745514583669592,
          -0.42394470279379776,
          -0.36594863842629466,
          -0.19923259224542597,
          -1.3006374051023517,
          -0.07018709569337656,
          -0.06322920059030304,
          0.09020414160573006,
          -0.42177867349612475,
          -1.4466636968930875,
          0.39394302890355015,
          -0.16504994921024868
         ]
        }
       ],
       "layout": {
        "barmode": "overlay",
        "legend": {
         "bgcolor": "#F5F6F9",
         "font": {
          "color": "#4D5663"
         }
        },
        "paper_bgcolor": "#F5F6F9",
        "plot_bgcolor": "#F5F6F9",
        "template": {
         "data": {
          "bar": [
           {
            "error_x": {
             "color": "#2a3f5f"
            },
            "error_y": {
             "color": "#2a3f5f"
            },
            "marker": {
             "line": {
              "color": "#E5ECF6",
              "width": 0.5
             },
             "pattern": {
              "fillmode": "overlay",
              "size": 10,
              "solidity": 0.2
             }
            },
            "type": "bar"
           }
          ],
          "barpolar": [
           {
            "marker": {
             "line": {
              "color": "#E5ECF6",
              "width": 0.5
             },
             "pattern": {
              "fillmode": "overlay",
              "size": 10,
              "solidity": 0.2
             }
            },
            "type": "barpolar"
           }
          ],
          "carpet": [
           {
            "aaxis": {
             "endlinecolor": "#2a3f5f",
             "gridcolor": "white",
             "linecolor": "white",
             "minorgridcolor": "white",
             "startlinecolor": "#2a3f5f"
            },
            "baxis": {
             "endlinecolor": "#2a3f5f",
             "gridcolor": "white",
             "linecolor": "white",
             "minorgridcolor": "white",
             "startlinecolor": "#2a3f5f"
            },
            "type": "carpet"
           }
          ],
          "choropleth": [
           {
            "colorbar": {
             "outlinewidth": 0,
             "ticks": ""
            },
            "type": "choropleth"
           }
          ],
          "contour": [
           {
            "colorbar": {
             "outlinewidth": 0,
             "ticks": ""
            },
            "colorscale": [
             [
              0,
              "#0d0887"
             ],
             [
              0.1111111111111111,
              "#46039f"
             ],
             [
              0.2222222222222222,
              "#7201a8"
             ],
             [
              0.3333333333333333,
              "#9c179e"
             ],
             [
              0.4444444444444444,
              "#bd3786"
             ],
             [
              0.5555555555555556,
              "#d8576b"
             ],
             [
              0.6666666666666666,
              "#ed7953"
             ],
             [
              0.7777777777777778,
              "#fb9f3a"
             ],
             [
              0.8888888888888888,
              "#fdca26"
             ],
             [
              1,
              "#f0f921"
             ]
            ],
            "type": "contour"
           }
          ],
          "contourcarpet": [
           {
            "colorbar": {
             "outlinewidth": 0,
             "ticks": ""
            },
            "type": "contourcarpet"
           }
          ],
          "heatmap": [
           {
            "colorbar": {
             "outlinewidth": 0,
             "ticks": ""
            },
            "colorscale": [
             [
              0,
              "#0d0887"
             ],
             [
              0.1111111111111111,
              "#46039f"
             ],
             [
              0.2222222222222222,
              "#7201a8"
             ],
             [
              0.3333333333333333,
              "#9c179e"
             ],
             [
              0.4444444444444444,
              "#bd3786"
             ],
             [
              0.5555555555555556,
              "#d8576b"
             ],
             [
              0.6666666666666666,
              "#ed7953"
             ],
             [
              0.7777777777777778,
              "#fb9f3a"
             ],
             [
              0.8888888888888888,
              "#fdca26"
             ],
             [
              1,
              "#f0f921"
             ]
            ],
            "type": "heatmap"
           }
          ],
          "heatmapgl": [
           {
            "colorbar": {
             "outlinewidth": 0,
             "ticks": ""
            },
            "colorscale": [
             [
              0,
              "#0d0887"
             ],
             [
              0.1111111111111111,
              "#46039f"
             ],
             [
              0.2222222222222222,
              "#7201a8"
             ],
             [
              0.3333333333333333,
              "#9c179e"
             ],
             [
              0.4444444444444444,
              "#bd3786"
             ],
             [
              0.5555555555555556,
              "#d8576b"
             ],
             [
              0.6666666666666666,
              "#ed7953"
             ],
             [
              0.7777777777777778,
              "#fb9f3a"
             ],
             [
              0.8888888888888888,
              "#fdca26"
             ],
             [
              1,
              "#f0f921"
             ]
            ],
            "type": "heatmapgl"
           }
          ],
          "histogram": [
           {
            "marker": {
             "pattern": {
              "fillmode": "overlay",
              "size": 10,
              "solidity": 0.2
             }
            },
            "type": "histogram"
           }
          ],
          "histogram2d": [
           {
            "colorbar": {
             "outlinewidth": 0,
             "ticks": ""
            },
            "colorscale": [
             [
              0,
              "#0d0887"
             ],
             [
              0.1111111111111111,
              "#46039f"
             ],
             [
              0.2222222222222222,
              "#7201a8"
             ],
             [
              0.3333333333333333,
              "#9c179e"
             ],
             [
              0.4444444444444444,
              "#bd3786"
             ],
             [
              0.5555555555555556,
              "#d8576b"
             ],
             [
              0.6666666666666666,
              "#ed7953"
             ],
             [
              0.7777777777777778,
              "#fb9f3a"
             ],
             [
              0.8888888888888888,
              "#fdca26"
             ],
             [
              1,
              "#f0f921"
             ]
            ],
            "type": "histogram2d"
           }
          ],
          "histogram2dcontour": [
           {
            "colorbar": {
             "outlinewidth": 0,
             "ticks": ""
            },
            "colorscale": [
             [
              0,
              "#0d0887"
             ],
             [
              0.1111111111111111,
              "#46039f"
             ],
             [
              0.2222222222222222,
              "#7201a8"
             ],
             [
              0.3333333333333333,
              "#9c179e"
             ],
             [
              0.4444444444444444,
              "#bd3786"
             ],
             [
              0.5555555555555556,
              "#d8576b"
             ],
             [
              0.6666666666666666,
              "#ed7953"
             ],
             [
              0.7777777777777778,
              "#fb9f3a"
             ],
             [
              0.8888888888888888,
              "#fdca26"
             ],
             [
              1,
              "#f0f921"
             ]
            ],
            "type": "histogram2dcontour"
           }
          ],
          "mesh3d": [
           {
            "colorbar": {
             "outlinewidth": 0,
             "ticks": ""
            },
            "type": "mesh3d"
           }
          ],
          "parcoords": [
           {
            "line": {
             "colorbar": {
              "outlinewidth": 0,
              "ticks": ""
             }
            },
            "type": "parcoords"
           }
          ],
          "pie": [
           {
            "automargin": true,
            "type": "pie"
           }
          ],
          "scatter": [
           {
            "marker": {
             "colorbar": {
              "outlinewidth": 0,
              "ticks": ""
             }
            },
            "type": "scatter"
           }
          ],
          "scatter3d": [
           {
            "line": {
             "colorbar": {
              "outlinewidth": 0,
              "ticks": ""
             }
            },
            "marker": {
             "colorbar": {
              "outlinewidth": 0,
              "ticks": ""
             }
            },
            "type": "scatter3d"
           }
          ],
          "scattercarpet": [
           {
            "marker": {
             "colorbar": {
              "outlinewidth": 0,
              "ticks": ""
             }
            },
            "type": "scattercarpet"
           }
          ],
          "scattergeo": [
           {
            "marker": {
             "colorbar": {
              "outlinewidth": 0,
              "ticks": ""
             }
            },
            "type": "scattergeo"
           }
          ],
          "scattergl": [
           {
            "marker": {
             "colorbar": {
              "outlinewidth": 0,
              "ticks": ""
             }
            },
            "type": "scattergl"
           }
          ],
          "scattermapbox": [
           {
            "marker": {
             "colorbar": {
              "outlinewidth": 0,
              "ticks": ""
             }
            },
            "type": "scattermapbox"
           }
          ],
          "scatterpolar": [
           {
            "marker": {
             "colorbar": {
              "outlinewidth": 0,
              "ticks": ""
             }
            },
            "type": "scatterpolar"
           }
          ],
          "scatterpolargl": [
           {
            "marker": {
             "colorbar": {
              "outlinewidth": 0,
              "ticks": ""
             }
            },
            "type": "scatterpolargl"
           }
          ],
          "scatterternary": [
           {
            "marker": {
             "colorbar": {
              "outlinewidth": 0,
              "ticks": ""
             }
            },
            "type": "scatterternary"
           }
          ],
          "surface": [
           {
            "colorbar": {
             "outlinewidth": 0,
             "ticks": ""
            },
            "colorscale": [
             [
              0,
              "#0d0887"
             ],
             [
              0.1111111111111111,
              "#46039f"
             ],
             [
              0.2222222222222222,
              "#7201a8"
             ],
             [
              0.3333333333333333,
              "#9c179e"
             ],
             [
              0.4444444444444444,
              "#bd3786"
             ],
             [
              0.5555555555555556,
              "#d8576b"
             ],
             [
              0.6666666666666666,
              "#ed7953"
             ],
             [
              0.7777777777777778,
              "#fb9f3a"
             ],
             [
              0.8888888888888888,
              "#fdca26"
             ],
             [
              1,
              "#f0f921"
             ]
            ],
            "type": "surface"
           }
          ],
          "table": [
           {
            "cells": {
             "fill": {
              "color": "#EBF0F8"
             },
             "line": {
              "color": "white"
             }
            },
            "header": {
             "fill": {
              "color": "#C8D4E3"
             },
             "line": {
              "color": "white"
             }
            },
            "type": "table"
           }
          ]
         },
         "layout": {
          "annotationdefaults": {
           "arrowcolor": "#2a3f5f",
           "arrowhead": 0,
           "arrowwidth": 1
          },
          "autotypenumbers": "strict",
          "coloraxis": {
           "colorbar": {
            "outlinewidth": 0,
            "ticks": ""
           }
          },
          "colorscale": {
           "diverging": [
            [
             0,
             "#8e0152"
            ],
            [
             0.1,
             "#c51b7d"
            ],
            [
             0.2,
             "#de77ae"
            ],
            [
             0.3,
             "#f1b6da"
            ],
            [
             0.4,
             "#fde0ef"
            ],
            [
             0.5,
             "#f7f7f7"
            ],
            [
             0.6,
             "#e6f5d0"
            ],
            [
             0.7,
             "#b8e186"
            ],
            [
             0.8,
             "#7fbc41"
            ],
            [
             0.9,
             "#4d9221"
            ],
            [
             1,
             "#276419"
            ]
           ],
           "sequential": [
            [
             0,
             "#0d0887"
            ],
            [
             0.1111111111111111,
             "#46039f"
            ],
            [
             0.2222222222222222,
             "#7201a8"
            ],
            [
             0.3333333333333333,
             "#9c179e"
            ],
            [
             0.4444444444444444,
             "#bd3786"
            ],
            [
             0.5555555555555556,
             "#d8576b"
            ],
            [
             0.6666666666666666,
             "#ed7953"
            ],
            [
             0.7777777777777778,
             "#fb9f3a"
            ],
            [
             0.8888888888888888,
             "#fdca26"
            ],
            [
             1,
             "#f0f921"
            ]
           ],
           "sequentialminus": [
            [
             0,
             "#0d0887"
            ],
            [
             0.1111111111111111,
             "#46039f"
            ],
            [
             0.2222222222222222,
             "#7201a8"
            ],
            [
             0.3333333333333333,
             "#9c179e"
            ],
            [
             0.4444444444444444,
             "#bd3786"
            ],
            [
             0.5555555555555556,
             "#d8576b"
            ],
            [
             0.6666666666666666,
             "#ed7953"
            ],
            [
             0.7777777777777778,
             "#fb9f3a"
            ],
            [
             0.8888888888888888,
             "#fdca26"
            ],
            [
             1,
             "#f0f921"
            ]
           ]
          },
          "colorway": [
           "#636efa",
           "#EF553B",
           "#00cc96",
           "#ab63fa",
           "#FFA15A",
           "#19d3f3",
           "#FF6692",
           "#B6E880",
           "#FF97FF",
           "#FECB52"
          ],
          "font": {
           "color": "#2a3f5f"
          },
          "geo": {
           "bgcolor": "white",
           "lakecolor": "white",
           "landcolor": "#E5ECF6",
           "showlakes": true,
           "showland": true,
           "subunitcolor": "white"
          },
          "hoverlabel": {
           "align": "left"
          },
          "hovermode": "closest",
          "mapbox": {
           "style": "light"
          },
          "paper_bgcolor": "white",
          "plot_bgcolor": "#E5ECF6",
          "polar": {
           "angularaxis": {
            "gridcolor": "white",
            "linecolor": "white",
            "ticks": ""
           },
           "bgcolor": "#E5ECF6",
           "radialaxis": {
            "gridcolor": "white",
            "linecolor": "white",
            "ticks": ""
           }
          },
          "scene": {
           "xaxis": {
            "backgroundcolor": "#E5ECF6",
            "gridcolor": "white",
            "gridwidth": 2,
            "linecolor": "white",
            "showbackground": true,
            "ticks": "",
            "zerolinecolor": "white"
           },
           "yaxis": {
            "backgroundcolor": "#E5ECF6",
            "gridcolor": "white",
            "gridwidth": 2,
            "linecolor": "white",
            "showbackground": true,
            "ticks": "",
            "zerolinecolor": "white"
           },
           "zaxis": {
            "backgroundcolor": "#E5ECF6",
            "gridcolor": "white",
            "gridwidth": 2,
            "linecolor": "white",
            "showbackground": true,
            "ticks": "",
            "zerolinecolor": "white"
           }
          },
          "shapedefaults": {
           "line": {
            "color": "#2a3f5f"
           }
          },
          "ternary": {
           "aaxis": {
            "gridcolor": "white",
            "linecolor": "white",
            "ticks": ""
           },
           "baxis": {
            "gridcolor": "white",
            "linecolor": "white",
            "ticks": ""
           },
           "bgcolor": "#E5ECF6",
           "caxis": {
            "gridcolor": "white",
            "linecolor": "white",
            "ticks": ""
           }
          },
          "title": {
           "x": 0.05
          },
          "xaxis": {
           "automargin": true,
           "gridcolor": "white",
           "linecolor": "white",
           "ticks": "",
           "title": {
            "standoff": 15
           },
           "zerolinecolor": "white",
           "zerolinewidth": 2
          },
          "yaxis": {
           "automargin": true,
           "gridcolor": "white",
           "linecolor": "white",
           "ticks": "",
           "title": {
            "standoff": 15
           },
           "zerolinecolor": "white",
           "zerolinewidth": 2
          }
         }
        },
        "title": {
         "font": {
          "color": "#4D5663"
         }
        },
        "xaxis": {
         "gridcolor": "#E1E5ED",
         "showgrid": true,
         "tickfont": {
          "color": "#4D5663"
         },
         "title": {
          "font": {
           "color": "#4D5663"
          },
          "text": ""
         },
         "zerolinecolor": "#E1E5ED"
        },
        "yaxis": {
         "gridcolor": "#E1E5ED",
         "showgrid": true,
         "tickfont": {
          "color": "#4D5663"
         },
         "title": {
          "font": {
           "color": "#4D5663"
          },
          "text": ""
         },
         "zerolinecolor": "#E1E5ED"
        }
       }
      },
      "text/html": [
       "<div>                            <div id=\"6a34b231-122a-4913-bdf1-d73875c3f780\" class=\"plotly-graph-div\" style=\"height:525px; width:100%;\"></div>            <script type=\"text/javascript\">                require([\"plotly\"], function(Plotly) {                    window.PLOTLYENV=window.PLOTLYENV || {};\n",
       "                    window.PLOTLYENV.BASE_URL='https://plot.ly';                                    if (document.getElementById(\"6a34b231-122a-4913-bdf1-d73875c3f780\")) {                    Plotly.newPlot(                        \"6a34b231-122a-4913-bdf1-d73875c3f780\",                        [{\"histfunc\":\"count\",\"histnorm\":\"\",\"marker\":{\"color\":\"rgba(255, 153, 51, 1.0)\",\"line\":{\"color\":\"#4D5663\",\"width\":1.3}},\"name\":\"A\",\"nbinsx\":25,\"opacity\":0.8,\"orientation\":\"v\",\"type\":\"histogram\",\"x\":[-0.12860260964606524,-1.635076306921547,-0.5868234739317386,0.20536526213217854,-0.7704148764243725,-0.608403118302665,-0.7771802124507576,0.8638616806968181,0.1987514763826788,0.5357468318854114,-0.805512501779021,2.818642095345587,-2.240429562821057,-0.9088716508414676,0.7688400036889937,1.3756705159878135,-0.14107448240173198,0.08435939863095848,-0.47542973557415535,-0.1674320741073042,-0.9928036010743042,-0.7456484563065178,0.3635481444242281,-0.5882618454120682,0.25414012281316667,0.8075350123432112,-2.17954988460998,1.0844212767816042,-0.6155401327201286,-0.8120677127265419,2.682095463168087,-0.8861062679388414,1.469866879622548,0.5739384835339598,-0.23539355790992364,0.3855826865292886,0.7186966464917793,0.3410797855162574,0.5082102613681312,-1.0232298776039623,0.094534363966649,-0.7468149471682591,0.6229276400590422,-1.006463292187963,0.43942570432402883,0.13999106174426013,-0.18938672474156987,-2.1591422816985486,-0.7712419228767906,-0.13630277784588765,1.8808542077379922,-0.03716927274838659,1.2639943341550404,-1.9816255138725716,-0.9559184241340777,0.3247446560710932,0.18749271902478037,0.07551280173086344,-0.49192181482586333,-0.4064583434602699,0.37686420304300106,-1.2662705459050974,0.8542971275153713,0.29222986412994945,-0.4357575569598363,-0.5029881280728328,-0.07342481701123633,-0.580731972963385,0.16814525256958246,0.7540617088613196,-2.807357263191882,0.2943652315452601,-0.9074105640013431,0.15419826504650516,-0.4020928330168706,-1.101935671902682,1.0590467937942818,-0.3873084367063922,0.850415751157854,-1.5268134381322997,0.17885452056056642,0.8598113461865062,-0.5332477857304616,0.42630320958643003,1.4763273314038519,1.0445069006882544,-2.029088486467021,-0.029734088032628603,-0.6745514583669592,-0.42394470279379776,-0.36594863842629466,-0.19923259224542597,-1.3006374051023517,-0.07018709569337656,-0.06322920059030304,0.09020414160573006,-0.42177867349612475,-1.4466636968930875,0.39394302890355015,-0.16504994921024868]}],                        {\"barmode\":\"overlay\",\"legend\":{\"bgcolor\":\"#F5F6F9\",\"font\":{\"color\":\"#4D5663\"}},\"paper_bgcolor\":\"#F5F6F9\",\"plot_bgcolor\":\"#F5F6F9\",\"template\":{\"data\":{\"bar\":[{\"error_x\":{\"color\":\"#2a3f5f\"},\"error_y\":{\"color\":\"#2a3f5f\"},\"marker\":{\"line\":{\"color\":\"#E5ECF6\",\"width\":0.5},\"pattern\":{\"fillmode\":\"overlay\",\"size\":10,\"solidity\":0.2}},\"type\":\"bar\"}],\"barpolar\":[{\"marker\":{\"line\":{\"color\":\"#E5ECF6\",\"width\":0.5},\"pattern\":{\"fillmode\":\"overlay\",\"size\":10,\"solidity\":0.2}},\"type\":\"barpolar\"}],\"carpet\":[{\"aaxis\":{\"endlinecolor\":\"#2a3f5f\",\"gridcolor\":\"white\",\"linecolor\":\"white\",\"minorgridcolor\":\"white\",\"startlinecolor\":\"#2a3f5f\"},\"baxis\":{\"endlinecolor\":\"#2a3f5f\",\"gridcolor\":\"white\",\"linecolor\":\"white\",\"minorgridcolor\":\"white\",\"startlinecolor\":\"#2a3f5f\"},\"type\":\"carpet\"}],\"choropleth\":[{\"colorbar\":{\"outlinewidth\":0,\"ticks\":\"\"},\"type\":\"choropleth\"}],\"contour\":[{\"colorbar\":{\"outlinewidth\":0,\"ticks\":\"\"},\"colorscale\":[[0.0,\"#0d0887\"],[0.1111111111111111,\"#46039f\"],[0.2222222222222222,\"#7201a8\"],[0.3333333333333333,\"#9c179e\"],[0.4444444444444444,\"#bd3786\"],[0.5555555555555556,\"#d8576b\"],[0.6666666666666666,\"#ed7953\"],[0.7777777777777778,\"#fb9f3a\"],[0.8888888888888888,\"#fdca26\"],[1.0,\"#f0f921\"]],\"type\":\"contour\"}],\"contourcarpet\":[{\"colorbar\":{\"outlinewidth\":0,\"ticks\":\"\"},\"type\":\"contourcarpet\"}],\"heatmap\":[{\"colorbar\":{\"outlinewidth\":0,\"ticks\":\"\"},\"colorscale\":[[0.0,\"#0d0887\"],[0.1111111111111111,\"#46039f\"],[0.2222222222222222,\"#7201a8\"],[0.3333333333333333,\"#9c179e\"],[0.4444444444444444,\"#bd3786\"],[0.5555555555555556,\"#d8576b\"],[0.6666666666666666,\"#ed7953\"],[0.7777777777777778,\"#fb9f3a\"],[0.8888888888888888,\"#fdca26\"],[1.0,\"#f0f921\"]],\"type\":\"heatmap\"}],\"heatmapgl\":[{\"colorbar\":{\"outlinewidth\":0,\"ticks\":\"\"},\"colorscale\":[[0.0,\"#0d0887\"],[0.1111111111111111,\"#46039f\"],[0.2222222222222222,\"#7201a8\"],[0.3333333333333333,\"#9c179e\"],[0.4444444444444444,\"#bd3786\"],[0.5555555555555556,\"#d8576b\"],[0.6666666666666666,\"#ed7953\"],[0.7777777777777778,\"#fb9f3a\"],[0.8888888888888888,\"#fdca26\"],[1.0,\"#f0f921\"]],\"type\":\"heatmapgl\"}],\"histogram\":[{\"marker\":{\"pattern\":{\"fillmode\":\"overlay\",\"size\":10,\"solidity\":0.2}},\"type\":\"histogram\"}],\"histogram2d\":[{\"colorbar\":{\"outlinewidth\":0,\"ticks\":\"\"},\"colorscale\":[[0.0,\"#0d0887\"],[0.1111111111111111,\"#46039f\"],[0.2222222222222222,\"#7201a8\"],[0.3333333333333333,\"#9c179e\"],[0.4444444444444444,\"#bd3786\"],[0.5555555555555556,\"#d8576b\"],[0.6666666666666666,\"#ed7953\"],[0.7777777777777778,\"#fb9f3a\"],[0.8888888888888888,\"#fdca26\"],[1.0,\"#f0f921\"]],\"type\":\"histogram2d\"}],\"histogram2dcontour\":[{\"colorbar\":{\"outlinewidth\":0,\"ticks\":\"\"},\"colorscale\":[[0.0,\"#0d0887\"],[0.1111111111111111,\"#46039f\"],[0.2222222222222222,\"#7201a8\"],[0.3333333333333333,\"#9c179e\"],[0.4444444444444444,\"#bd3786\"],[0.5555555555555556,\"#d8576b\"],[0.6666666666666666,\"#ed7953\"],[0.7777777777777778,\"#fb9f3a\"],[0.8888888888888888,\"#fdca26\"],[1.0,\"#f0f921\"]],\"type\":\"histogram2dcontour\"}],\"mesh3d\":[{\"colorbar\":{\"outlinewidth\":0,\"ticks\":\"\"},\"type\":\"mesh3d\"}],\"parcoords\":[{\"line\":{\"colorbar\":{\"outlinewidth\":0,\"ticks\":\"\"}},\"type\":\"parcoords\"}],\"pie\":[{\"automargin\":true,\"type\":\"pie\"}],\"scatter\":[{\"marker\":{\"colorbar\":{\"outlinewidth\":0,\"ticks\":\"\"}},\"type\":\"scatter\"}],\"scatter3d\":[{\"line\":{\"colorbar\":{\"outlinewidth\":0,\"ticks\":\"\"}},\"marker\":{\"colorbar\":{\"outlinewidth\":0,\"ticks\":\"\"}},\"type\":\"scatter3d\"}],\"scattercarpet\":[{\"marker\":{\"colorbar\":{\"outlinewidth\":0,\"ticks\":\"\"}},\"type\":\"scattercarpet\"}],\"scattergeo\":[{\"marker\":{\"colorbar\":{\"outlinewidth\":0,\"ticks\":\"\"}},\"type\":\"scattergeo\"}],\"scattergl\":[{\"marker\":{\"colorbar\":{\"outlinewidth\":0,\"ticks\":\"\"}},\"type\":\"scattergl\"}],\"scattermapbox\":[{\"marker\":{\"colorbar\":{\"outlinewidth\":0,\"ticks\":\"\"}},\"type\":\"scattermapbox\"}],\"scatterpolar\":[{\"marker\":{\"colorbar\":{\"outlinewidth\":0,\"ticks\":\"\"}},\"type\":\"scatterpolar\"}],\"scatterpolargl\":[{\"marker\":{\"colorbar\":{\"outlinewidth\":0,\"ticks\":\"\"}},\"type\":\"scatterpolargl\"}],\"scatterternary\":[{\"marker\":{\"colorbar\":{\"outlinewidth\":0,\"ticks\":\"\"}},\"type\":\"scatterternary\"}],\"surface\":[{\"colorbar\":{\"outlinewidth\":0,\"ticks\":\"\"},\"colorscale\":[[0.0,\"#0d0887\"],[0.1111111111111111,\"#46039f\"],[0.2222222222222222,\"#7201a8\"],[0.3333333333333333,\"#9c179e\"],[0.4444444444444444,\"#bd3786\"],[0.5555555555555556,\"#d8576b\"],[0.6666666666666666,\"#ed7953\"],[0.7777777777777778,\"#fb9f3a\"],[0.8888888888888888,\"#fdca26\"],[1.0,\"#f0f921\"]],\"type\":\"surface\"}],\"table\":[{\"cells\":{\"fill\":{\"color\":\"#EBF0F8\"},\"line\":{\"color\":\"white\"}},\"header\":{\"fill\":{\"color\":\"#C8D4E3\"},\"line\":{\"color\":\"white\"}},\"type\":\"table\"}]},\"layout\":{\"annotationdefaults\":{\"arrowcolor\":\"#2a3f5f\",\"arrowhead\":0,\"arrowwidth\":1},\"autotypenumbers\":\"strict\",\"coloraxis\":{\"colorbar\":{\"outlinewidth\":0,\"ticks\":\"\"}},\"colorscale\":{\"diverging\":[[0,\"#8e0152\"],[0.1,\"#c51b7d\"],[0.2,\"#de77ae\"],[0.3,\"#f1b6da\"],[0.4,\"#fde0ef\"],[0.5,\"#f7f7f7\"],[0.6,\"#e6f5d0\"],[0.7,\"#b8e186\"],[0.8,\"#7fbc41\"],[0.9,\"#4d9221\"],[1,\"#276419\"]],\"sequential\":[[0.0,\"#0d0887\"],[0.1111111111111111,\"#46039f\"],[0.2222222222222222,\"#7201a8\"],[0.3333333333333333,\"#9c179e\"],[0.4444444444444444,\"#bd3786\"],[0.5555555555555556,\"#d8576b\"],[0.6666666666666666,\"#ed7953\"],[0.7777777777777778,\"#fb9f3a\"],[0.8888888888888888,\"#fdca26\"],[1.0,\"#f0f921\"]],\"sequentialminus\":[[0.0,\"#0d0887\"],[0.1111111111111111,\"#46039f\"],[0.2222222222222222,\"#7201a8\"],[0.3333333333333333,\"#9c179e\"],[0.4444444444444444,\"#bd3786\"],[0.5555555555555556,\"#d8576b\"],[0.6666666666666666,\"#ed7953\"],[0.7777777777777778,\"#fb9f3a\"],[0.8888888888888888,\"#fdca26\"],[1.0,\"#f0f921\"]]},\"colorway\":[\"#636efa\",\"#EF553B\",\"#00cc96\",\"#ab63fa\",\"#FFA15A\",\"#19d3f3\",\"#FF6692\",\"#B6E880\",\"#FF97FF\",\"#FECB52\"],\"font\":{\"color\":\"#2a3f5f\"},\"geo\":{\"bgcolor\":\"white\",\"lakecolor\":\"white\",\"landcolor\":\"#E5ECF6\",\"showlakes\":true,\"showland\":true,\"subunitcolor\":\"white\"},\"hoverlabel\":{\"align\":\"left\"},\"hovermode\":\"closest\",\"mapbox\":{\"style\":\"light\"},\"paper_bgcolor\":\"white\",\"plot_bgcolor\":\"#E5ECF6\",\"polar\":{\"angularaxis\":{\"gridcolor\":\"white\",\"linecolor\":\"white\",\"ticks\":\"\"},\"bgcolor\":\"#E5ECF6\",\"radialaxis\":{\"gridcolor\":\"white\",\"linecolor\":\"white\",\"ticks\":\"\"}},\"scene\":{\"xaxis\":{\"backgroundcolor\":\"#E5ECF6\",\"gridcolor\":\"white\",\"gridwidth\":2,\"linecolor\":\"white\",\"showbackground\":true,\"ticks\":\"\",\"zerolinecolor\":\"white\"},\"yaxis\":{\"backgroundcolor\":\"#E5ECF6\",\"gridcolor\":\"white\",\"gridwidth\":2,\"linecolor\":\"white\",\"showbackground\":true,\"ticks\":\"\",\"zerolinecolor\":\"white\"},\"zaxis\":{\"backgroundcolor\":\"#E5ECF6\",\"gridcolor\":\"white\",\"gridwidth\":2,\"linecolor\":\"white\",\"showbackground\":true,\"ticks\":\"\",\"zerolinecolor\":\"white\"}},\"shapedefaults\":{\"line\":{\"color\":\"#2a3f5f\"}},\"ternary\":{\"aaxis\":{\"gridcolor\":\"white\",\"linecolor\":\"white\",\"ticks\":\"\"},\"baxis\":{\"gridcolor\":\"white\",\"linecolor\":\"white\",\"ticks\":\"\"},\"bgcolor\":\"#E5ECF6\",\"caxis\":{\"gridcolor\":\"white\",\"linecolor\":\"white\",\"ticks\":\"\"}},\"title\":{\"x\":0.05},\"xaxis\":{\"automargin\":true,\"gridcolor\":\"white\",\"linecolor\":\"white\",\"ticks\":\"\",\"title\":{\"standoff\":15},\"zerolinecolor\":\"white\",\"zerolinewidth\":2},\"yaxis\":{\"automargin\":true,\"gridcolor\":\"white\",\"linecolor\":\"white\",\"ticks\":\"\",\"title\":{\"standoff\":15},\"zerolinecolor\":\"white\",\"zerolinewidth\":2}}},\"title\":{\"font\":{\"color\":\"#4D5663\"}},\"xaxis\":{\"gridcolor\":\"#E1E5ED\",\"showgrid\":true,\"tickfont\":{\"color\":\"#4D5663\"},\"title\":{\"font\":{\"color\":\"#4D5663\"},\"text\":\"\"},\"zerolinecolor\":\"#E1E5ED\"},\"yaxis\":{\"gridcolor\":\"#E1E5ED\",\"showgrid\":true,\"tickfont\":{\"color\":\"#4D5663\"},\"title\":{\"font\":{\"color\":\"#4D5663\"},\"text\":\"\"},\"zerolinecolor\":\"#E1E5ED\"}},                        {\"showLink\": true, \"linkText\": \"Export to plot.ly\", \"plotlyServerURL\": \"https://plot.ly\", \"responsive\": true}                    ).then(function(){\n",
       "                            \n",
       "var gd = document.getElementById('6a34b231-122a-4913-bdf1-d73875c3f780');\n",
       "var x = new MutationObserver(function (mutations, observer) {{\n",
       "        var display = window.getComputedStyle(gd).display;\n",
       "        if (!display || display === 'none') {{\n",
       "            console.log([gd, 'removed!']);\n",
       "            Plotly.purge(gd);\n",
       "            observer.disconnect();\n",
       "        }}\n",
       "}});\n",
       "\n",
       "// Listen for the removal of the full notebook cells\n",
       "var notebookContainer = gd.closest('#notebook-container');\n",
       "if (notebookContainer) {{\n",
       "    x.observe(notebookContainer, {childList: true});\n",
       "}}\n",
       "\n",
       "// Listen for the clearing of the current output cell\n",
       "var outputEl = gd.closest('.output');\n",
       "if (outputEl) {{\n",
       "    x.observe(outputEl, {childList: true});\n",
       "}}\n",
       "\n",
       "                        })                };                });            </script>        </div>"
      ]
     },
     "metadata": {},
     "output_type": "display_data"
    }
   ],
   "source": [
    "df['A'].iplot(kind='hist',bins=25)"
   ]
  },
  {
   "cell_type": "code",
   "execution_count": 27,
   "metadata": {},
   "outputs": [
    {
     "data": {
      "application/vnd.plotly.v1+json": {
       "config": {
        "linkText": "Export to plot.ly",
        "plotlyServerURL": "https://plot.ly",
        "showLink": true
       },
       "data": [
        {
         "marker": {
          "color": [
           "rgb(255, 153, 51)",
           "rgb(55, 128, 191)",
           "rgb(50, 171, 96)",
           "rgb(128, 0, 128)",
           "rgb(219, 64, 82)",
           "rgb(0, 128, 128)",
           "rgb(255, 255, 51)",
           "rgb(128, 128, 0)",
           "rgb(251, 128, 114)",
           "rgb(128, 177, 211)"
          ],
          "line": {
           "width": 1.3
          },
          "size": [
           35,
           62,
           47,
           91,
           15,
           77,
           76,
           71,
           25,
           75,
           68,
           39,
           12,
           86,
           97,
           38,
           62,
           60,
           27,
           33,
           20,
           107,
           51,
           77,
           55,
           88,
           63,
           54,
           33,
           112,
           60,
           69,
           37,
           39,
           34,
           75,
           44,
           74,
           34,
           33,
           52,
           27,
           72,
           70,
           72,
           16,
           55,
           36,
           67,
           25,
           30,
           81,
           56,
           58,
           61,
           26,
           76,
           34,
           74,
           63,
           53,
           44,
           85,
           18,
           68,
           60,
           76,
           52,
           68,
           48,
           47,
           71,
           53,
           33,
           15,
           24,
           28,
           75,
           39,
           32,
           66,
           25,
           46,
           77,
           31,
           83,
           19,
           79,
           58,
           54,
           58,
           36,
           48,
           66,
           70,
           66,
           25,
           44,
           24,
           41
          ],
          "symbol": "circle"
         },
         "mode": "markers",
         "text": "",
         "type": "scatter",
         "x": [
          -0.12860260964606524,
          -1.635076306921547,
          -0.5868234739317386,
          0.20536526213217854,
          -0.7704148764243725,
          -0.608403118302665,
          -0.7771802124507576,
          0.8638616806968181,
          0.1987514763826788,
          0.5357468318854114,
          -0.805512501779021,
          2.818642095345587,
          -2.240429562821057,
          -0.9088716508414676,
          0.7688400036889937,
          1.3756705159878135,
          -0.14107448240173198,
          0.08435939863095848,
          -0.47542973557415535,
          -0.1674320741073042,
          -0.9928036010743042,
          -0.7456484563065178,
          0.3635481444242281,
          -0.5882618454120682,
          0.25414012281316667,
          0.8075350123432112,
          -2.17954988460998,
          1.0844212767816042,
          -0.6155401327201286,
          -0.8120677127265419,
          2.682095463168087,
          -0.8861062679388414,
          1.469866879622548,
          0.5739384835339598,
          -0.23539355790992364,
          0.3855826865292886,
          0.7186966464917793,
          0.3410797855162574,
          0.5082102613681312,
          -1.0232298776039623,
          0.094534363966649,
          -0.7468149471682591,
          0.6229276400590422,
          -1.006463292187963,
          0.43942570432402883,
          0.13999106174426013,
          -0.18938672474156987,
          -2.1591422816985486,
          -0.7712419228767906,
          -0.13630277784588765,
          1.8808542077379922,
          -0.03716927274838659,
          1.2639943341550404,
          -1.9816255138725716,
          -0.9559184241340777,
          0.3247446560710932,
          0.18749271902478037,
          0.07551280173086344,
          -0.49192181482586333,
          -0.4064583434602699,
          0.37686420304300106,
          -1.2662705459050974,
          0.8542971275153713,
          0.29222986412994945,
          -0.4357575569598363,
          -0.5029881280728328,
          -0.07342481701123633,
          -0.580731972963385,
          0.16814525256958246,
          0.7540617088613196,
          -2.807357263191882,
          0.2943652315452601,
          -0.9074105640013431,
          0.15419826504650516,
          -0.4020928330168706,
          -1.101935671902682,
          1.0590467937942818,
          -0.3873084367063922,
          0.850415751157854,
          -1.5268134381322997,
          0.17885452056056642,
          0.8598113461865062,
          -0.5332477857304616,
          0.42630320958643003,
          1.4763273314038519,
          1.0445069006882544,
          -2.029088486467021,
          -0.029734088032628603,
          -0.6745514583669592,
          -0.42394470279379776,
          -0.36594863842629466,
          -0.19923259224542597,
          -1.3006374051023517,
          -0.07018709569337656,
          -0.06322920059030304,
          0.09020414160573006,
          -0.42177867349612475,
          -1.4466636968930875,
          0.39394302890355015,
          -0.16504994921024868
         ],
         "y": [
          0.8185633845691501,
          1.250081636706017,
          0.11665422761436443,
          -0.2819901305478438,
          -0.6630182612897098,
          -0.3976453012974691,
          -0.5142082474577344,
          1.432976072008938,
          -2.614656326430859,
          2.142350309515806,
          0.6315409739127879,
          -0.708523285057641,
          0.5887555771349915,
          -1.4670398225476153,
          0.38477474395597316,
          2.1580945911705522,
          -0.6516882359233838,
          -1.6072549511834457,
          1.9364025334076367,
          -0.3729478015325837,
          1.456366286150059,
          0.5439429577293267,
          -0.06266508726016042,
          0.08840851093159466,
          0.525358281417997,
          -0.3415948287709737,
          0.2782395112701509,
          -0.17363095306504372,
          1.6475287341175775,
          -0.6562329183539691,
          -0.606666583795318,
          0.8233227456549621,
          -1.1006792057121941,
          -0.6038368427675496,
          -2.0685312197481656,
          -1.986812049601142,
          0.8016485809681733,
          0.08165263911139128,
          0.3018568326471051,
          1.4093206296813823,
          -0.1419959788866885,
          1.0068346160490198,
          -0.2135577872229478,
          -0.6212130211754662,
          2.91751459596935,
          -0.987940120823154,
          -0.9635950028352653,
          1.527761807710861,
          -2.660145662991958,
          0.9936137813400049,
          0.19720730910200923,
          1.9220446213364466,
          -1.9824981561511965,
          0.9563612107483108,
          1.2114572878639558,
          1.6761627962728234,
          1.1172822968710148,
          -0.852556826829526,
          0.5588420880177051,
          -0.48081412546774405,
          0.21619630678914495,
          0.28570481398274655,
          -0.26149968424397974,
          0.11408904413161775,
          1.2445996688810668,
          0.5878519772306224,
          0.03640300202301524,
          1.3429085752990346,
          0.31823227538228843,
          -0.44676448115245726,
          -0.32530669262862044,
          0.9727877924250453,
          -0.0016704124674436116,
          -1.704903047178396,
          0.06066998774211031,
          0.28333312677425526,
          -0.5461410231171553,
          1.1876633432998498,
          1.823974612474308,
          0.3496133196099635,
          1.447369161868816,
          -0.14884505603801926,
          0.2162416080437122,
          -0.5313346616861173,
          2.1559149096145016,
          0.4148938103042243,
          -0.07700947991227261,
          -0.17273927058773778,
          1.34532358448916,
          1.234205040365912,
          2.044149009033562,
          -0.009843940123830736,
          0.9337939733849073,
          1.087400634796986,
          0.3308251839280632,
          0.21105526600770663,
          1.1130421977450977,
          0.6499386149537946,
          -1.782007975306854,
          0.12607299045661263
         ]
        }
       ],
       "layout": {
        "legend": {
         "bgcolor": "#F5F6F9",
         "font": {
          "color": "#4D5663"
         }
        },
        "paper_bgcolor": "#F5F6F9",
        "plot_bgcolor": "#F5F6F9",
        "template": {
         "data": {
          "bar": [
           {
            "error_x": {
             "color": "#2a3f5f"
            },
            "error_y": {
             "color": "#2a3f5f"
            },
            "marker": {
             "line": {
              "color": "#E5ECF6",
              "width": 0.5
             },
             "pattern": {
              "fillmode": "overlay",
              "size": 10,
              "solidity": 0.2
             }
            },
            "type": "bar"
           }
          ],
          "barpolar": [
           {
            "marker": {
             "line": {
              "color": "#E5ECF6",
              "width": 0.5
             },
             "pattern": {
              "fillmode": "overlay",
              "size": 10,
              "solidity": 0.2
             }
            },
            "type": "barpolar"
           }
          ],
          "carpet": [
           {
            "aaxis": {
             "endlinecolor": "#2a3f5f",
             "gridcolor": "white",
             "linecolor": "white",
             "minorgridcolor": "white",
             "startlinecolor": "#2a3f5f"
            },
            "baxis": {
             "endlinecolor": "#2a3f5f",
             "gridcolor": "white",
             "linecolor": "white",
             "minorgridcolor": "white",
             "startlinecolor": "#2a3f5f"
            },
            "type": "carpet"
           }
          ],
          "choropleth": [
           {
            "colorbar": {
             "outlinewidth": 0,
             "ticks": ""
            },
            "type": "choropleth"
           }
          ],
          "contour": [
           {
            "colorbar": {
             "outlinewidth": 0,
             "ticks": ""
            },
            "colorscale": [
             [
              0,
              "#0d0887"
             ],
             [
              0.1111111111111111,
              "#46039f"
             ],
             [
              0.2222222222222222,
              "#7201a8"
             ],
             [
              0.3333333333333333,
              "#9c179e"
             ],
             [
              0.4444444444444444,
              "#bd3786"
             ],
             [
              0.5555555555555556,
              "#d8576b"
             ],
             [
              0.6666666666666666,
              "#ed7953"
             ],
             [
              0.7777777777777778,
              "#fb9f3a"
             ],
             [
              0.8888888888888888,
              "#fdca26"
             ],
             [
              1,
              "#f0f921"
             ]
            ],
            "type": "contour"
           }
          ],
          "contourcarpet": [
           {
            "colorbar": {
             "outlinewidth": 0,
             "ticks": ""
            },
            "type": "contourcarpet"
           }
          ],
          "heatmap": [
           {
            "colorbar": {
             "outlinewidth": 0,
             "ticks": ""
            },
            "colorscale": [
             [
              0,
              "#0d0887"
             ],
             [
              0.1111111111111111,
              "#46039f"
             ],
             [
              0.2222222222222222,
              "#7201a8"
             ],
             [
              0.3333333333333333,
              "#9c179e"
             ],
             [
              0.4444444444444444,
              "#bd3786"
             ],
             [
              0.5555555555555556,
              "#d8576b"
             ],
             [
              0.6666666666666666,
              "#ed7953"
             ],
             [
              0.7777777777777778,
              "#fb9f3a"
             ],
             [
              0.8888888888888888,
              "#fdca26"
             ],
             [
              1,
              "#f0f921"
             ]
            ],
            "type": "heatmap"
           }
          ],
          "heatmapgl": [
           {
            "colorbar": {
             "outlinewidth": 0,
             "ticks": ""
            },
            "colorscale": [
             [
              0,
              "#0d0887"
             ],
             [
              0.1111111111111111,
              "#46039f"
             ],
             [
              0.2222222222222222,
              "#7201a8"
             ],
             [
              0.3333333333333333,
              "#9c179e"
             ],
             [
              0.4444444444444444,
              "#bd3786"
             ],
             [
              0.5555555555555556,
              "#d8576b"
             ],
             [
              0.6666666666666666,
              "#ed7953"
             ],
             [
              0.7777777777777778,
              "#fb9f3a"
             ],
             [
              0.8888888888888888,
              "#fdca26"
             ],
             [
              1,
              "#f0f921"
             ]
            ],
            "type": "heatmapgl"
           }
          ],
          "histogram": [
           {
            "marker": {
             "pattern": {
              "fillmode": "overlay",
              "size": 10,
              "solidity": 0.2
             }
            },
            "type": "histogram"
           }
          ],
          "histogram2d": [
           {
            "colorbar": {
             "outlinewidth": 0,
             "ticks": ""
            },
            "colorscale": [
             [
              0,
              "#0d0887"
             ],
             [
              0.1111111111111111,
              "#46039f"
             ],
             [
              0.2222222222222222,
              "#7201a8"
             ],
             [
              0.3333333333333333,
              "#9c179e"
             ],
             [
              0.4444444444444444,
              "#bd3786"
             ],
             [
              0.5555555555555556,
              "#d8576b"
             ],
             [
              0.6666666666666666,
              "#ed7953"
             ],
             [
              0.7777777777777778,
              "#fb9f3a"
             ],
             [
              0.8888888888888888,
              "#fdca26"
             ],
             [
              1,
              "#f0f921"
             ]
            ],
            "type": "histogram2d"
           }
          ],
          "histogram2dcontour": [
           {
            "colorbar": {
             "outlinewidth": 0,
             "ticks": ""
            },
            "colorscale": [
             [
              0,
              "#0d0887"
             ],
             [
              0.1111111111111111,
              "#46039f"
             ],
             [
              0.2222222222222222,
              "#7201a8"
             ],
             [
              0.3333333333333333,
              "#9c179e"
             ],
             [
              0.4444444444444444,
              "#bd3786"
             ],
             [
              0.5555555555555556,
              "#d8576b"
             ],
             [
              0.6666666666666666,
              "#ed7953"
             ],
             [
              0.7777777777777778,
              "#fb9f3a"
             ],
             [
              0.8888888888888888,
              "#fdca26"
             ],
             [
              1,
              "#f0f921"
             ]
            ],
            "type": "histogram2dcontour"
           }
          ],
          "mesh3d": [
           {
            "colorbar": {
             "outlinewidth": 0,
             "ticks": ""
            },
            "type": "mesh3d"
           }
          ],
          "parcoords": [
           {
            "line": {
             "colorbar": {
              "outlinewidth": 0,
              "ticks": ""
             }
            },
            "type": "parcoords"
           }
          ],
          "pie": [
           {
            "automargin": true,
            "type": "pie"
           }
          ],
          "scatter": [
           {
            "marker": {
             "colorbar": {
              "outlinewidth": 0,
              "ticks": ""
             }
            },
            "type": "scatter"
           }
          ],
          "scatter3d": [
           {
            "line": {
             "colorbar": {
              "outlinewidth": 0,
              "ticks": ""
             }
            },
            "marker": {
             "colorbar": {
              "outlinewidth": 0,
              "ticks": ""
             }
            },
            "type": "scatter3d"
           }
          ],
          "scattercarpet": [
           {
            "marker": {
             "colorbar": {
              "outlinewidth": 0,
              "ticks": ""
             }
            },
            "type": "scattercarpet"
           }
          ],
          "scattergeo": [
           {
            "marker": {
             "colorbar": {
              "outlinewidth": 0,
              "ticks": ""
             }
            },
            "type": "scattergeo"
           }
          ],
          "scattergl": [
           {
            "marker": {
             "colorbar": {
              "outlinewidth": 0,
              "ticks": ""
             }
            },
            "type": "scattergl"
           }
          ],
          "scattermapbox": [
           {
            "marker": {
             "colorbar": {
              "outlinewidth": 0,
              "ticks": ""
             }
            },
            "type": "scattermapbox"
           }
          ],
          "scatterpolar": [
           {
            "marker": {
             "colorbar": {
              "outlinewidth": 0,
              "ticks": ""
             }
            },
            "type": "scatterpolar"
           }
          ],
          "scatterpolargl": [
           {
            "marker": {
             "colorbar": {
              "outlinewidth": 0,
              "ticks": ""
             }
            },
            "type": "scatterpolargl"
           }
          ],
          "scatterternary": [
           {
            "marker": {
             "colorbar": {
              "outlinewidth": 0,
              "ticks": ""
             }
            },
            "type": "scatterternary"
           }
          ],
          "surface": [
           {
            "colorbar": {
             "outlinewidth": 0,
             "ticks": ""
            },
            "colorscale": [
             [
              0,
              "#0d0887"
             ],
             [
              0.1111111111111111,
              "#46039f"
             ],
             [
              0.2222222222222222,
              "#7201a8"
             ],
             [
              0.3333333333333333,
              "#9c179e"
             ],
             [
              0.4444444444444444,
              "#bd3786"
             ],
             [
              0.5555555555555556,
              "#d8576b"
             ],
             [
              0.6666666666666666,
              "#ed7953"
             ],
             [
              0.7777777777777778,
              "#fb9f3a"
             ],
             [
              0.8888888888888888,
              "#fdca26"
             ],
             [
              1,
              "#f0f921"
             ]
            ],
            "type": "surface"
           }
          ],
          "table": [
           {
            "cells": {
             "fill": {
              "color": "#EBF0F8"
             },
             "line": {
              "color": "white"
             }
            },
            "header": {
             "fill": {
              "color": "#C8D4E3"
             },
             "line": {
              "color": "white"
             }
            },
            "type": "table"
           }
          ]
         },
         "layout": {
          "annotationdefaults": {
           "arrowcolor": "#2a3f5f",
           "arrowhead": 0,
           "arrowwidth": 1
          },
          "autotypenumbers": "strict",
          "coloraxis": {
           "colorbar": {
            "outlinewidth": 0,
            "ticks": ""
           }
          },
          "colorscale": {
           "diverging": [
            [
             0,
             "#8e0152"
            ],
            [
             0.1,
             "#c51b7d"
            ],
            [
             0.2,
             "#de77ae"
            ],
            [
             0.3,
             "#f1b6da"
            ],
            [
             0.4,
             "#fde0ef"
            ],
            [
             0.5,
             "#f7f7f7"
            ],
            [
             0.6,
             "#e6f5d0"
            ],
            [
             0.7,
             "#b8e186"
            ],
            [
             0.8,
             "#7fbc41"
            ],
            [
             0.9,
             "#4d9221"
            ],
            [
             1,
             "#276419"
            ]
           ],
           "sequential": [
            [
             0,
             "#0d0887"
            ],
            [
             0.1111111111111111,
             "#46039f"
            ],
            [
             0.2222222222222222,
             "#7201a8"
            ],
            [
             0.3333333333333333,
             "#9c179e"
            ],
            [
             0.4444444444444444,
             "#bd3786"
            ],
            [
             0.5555555555555556,
             "#d8576b"
            ],
            [
             0.6666666666666666,
             "#ed7953"
            ],
            [
             0.7777777777777778,
             "#fb9f3a"
            ],
            [
             0.8888888888888888,
             "#fdca26"
            ],
            [
             1,
             "#f0f921"
            ]
           ],
           "sequentialminus": [
            [
             0,
             "#0d0887"
            ],
            [
             0.1111111111111111,
             "#46039f"
            ],
            [
             0.2222222222222222,
             "#7201a8"
            ],
            [
             0.3333333333333333,
             "#9c179e"
            ],
            [
             0.4444444444444444,
             "#bd3786"
            ],
            [
             0.5555555555555556,
             "#d8576b"
            ],
            [
             0.6666666666666666,
             "#ed7953"
            ],
            [
             0.7777777777777778,
             "#fb9f3a"
            ],
            [
             0.8888888888888888,
             "#fdca26"
            ],
            [
             1,
             "#f0f921"
            ]
           ]
          },
          "colorway": [
           "#636efa",
           "#EF553B",
           "#00cc96",
           "#ab63fa",
           "#FFA15A",
           "#19d3f3",
           "#FF6692",
           "#B6E880",
           "#FF97FF",
           "#FECB52"
          ],
          "font": {
           "color": "#2a3f5f"
          },
          "geo": {
           "bgcolor": "white",
           "lakecolor": "white",
           "landcolor": "#E5ECF6",
           "showlakes": true,
           "showland": true,
           "subunitcolor": "white"
          },
          "hoverlabel": {
           "align": "left"
          },
          "hovermode": "closest",
          "mapbox": {
           "style": "light"
          },
          "paper_bgcolor": "white",
          "plot_bgcolor": "#E5ECF6",
          "polar": {
           "angularaxis": {
            "gridcolor": "white",
            "linecolor": "white",
            "ticks": ""
           },
           "bgcolor": "#E5ECF6",
           "radialaxis": {
            "gridcolor": "white",
            "linecolor": "white",
            "ticks": ""
           }
          },
          "scene": {
           "xaxis": {
            "backgroundcolor": "#E5ECF6",
            "gridcolor": "white",
            "gridwidth": 2,
            "linecolor": "white",
            "showbackground": true,
            "ticks": "",
            "zerolinecolor": "white"
           },
           "yaxis": {
            "backgroundcolor": "#E5ECF6",
            "gridcolor": "white",
            "gridwidth": 2,
            "linecolor": "white",
            "showbackground": true,
            "ticks": "",
            "zerolinecolor": "white"
           },
           "zaxis": {
            "backgroundcolor": "#E5ECF6",
            "gridcolor": "white",
            "gridwidth": 2,
            "linecolor": "white",
            "showbackground": true,
            "ticks": "",
            "zerolinecolor": "white"
           }
          },
          "shapedefaults": {
           "line": {
            "color": "#2a3f5f"
           }
          },
          "ternary": {
           "aaxis": {
            "gridcolor": "white",
            "linecolor": "white",
            "ticks": ""
           },
           "baxis": {
            "gridcolor": "white",
            "linecolor": "white",
            "ticks": ""
           },
           "bgcolor": "#E5ECF6",
           "caxis": {
            "gridcolor": "white",
            "linecolor": "white",
            "ticks": ""
           }
          },
          "title": {
           "x": 0.05
          },
          "xaxis": {
           "automargin": true,
           "gridcolor": "white",
           "linecolor": "white",
           "ticks": "",
           "title": {
            "standoff": 15
           },
           "zerolinecolor": "white",
           "zerolinewidth": 2
          },
          "yaxis": {
           "automargin": true,
           "gridcolor": "white",
           "linecolor": "white",
           "ticks": "",
           "title": {
            "standoff": 15
           },
           "zerolinecolor": "white",
           "zerolinewidth": 2
          }
         }
        },
        "title": {
         "font": {
          "color": "#4D5663"
         }
        },
        "xaxis": {
         "gridcolor": "#E1E5ED",
         "showgrid": true,
         "tickfont": {
          "color": "#4D5663"
         },
         "title": {
          "font": {
           "color": "#4D5663"
          },
          "text": ""
         },
         "zerolinecolor": "#E1E5ED"
        },
        "yaxis": {
         "gridcolor": "#E1E5ED",
         "showgrid": true,
         "tickfont": {
          "color": "#4D5663"
         },
         "title": {
          "font": {
           "color": "#4D5663"
          },
          "text": ""
         },
         "zerolinecolor": "#E1E5ED"
        }
       }
      },
      "text/html": [
       "<div>                            <div id=\"519746fc-b03d-46b8-822d-aeeeacb23089\" class=\"plotly-graph-div\" style=\"height:525px; width:100%;\"></div>            <script type=\"text/javascript\">                require([\"plotly\"], function(Plotly) {                    window.PLOTLYENV=window.PLOTLYENV || {};\n",
       "                    window.PLOTLYENV.BASE_URL='https://plot.ly';                                    if (document.getElementById(\"519746fc-b03d-46b8-822d-aeeeacb23089\")) {                    Plotly.newPlot(                        \"519746fc-b03d-46b8-822d-aeeeacb23089\",                        [{\"marker\":{\"color\":[\"rgb(255, 153, 51)\",\"rgb(55, 128, 191)\",\"rgb(50, 171, 96)\",\"rgb(128, 0, 128)\",\"rgb(219, 64, 82)\",\"rgb(0, 128, 128)\",\"rgb(255, 255, 51)\",\"rgb(128, 128, 0)\",\"rgb(251, 128, 114)\",\"rgb(128, 177, 211)\"],\"line\":{\"width\":1.3},\"size\":[35,62,47,91,15,77,76,71,25,75,68,39,12,86,97,38,62,60,27,33,20,107,51,77,55,88,63,54,33,112,60,69,37,39,34,75,44,74,34,33,52,27,72,70,72,16,55,36,67,25,30,81,56,58,61,26,76,34,74,63,53,44,85,18,68,60,76,52,68,48,47,71,53,33,15,24,28,75,39,32,66,25,46,77,31,83,19,79,58,54,58,36,48,66,70,66,25,44,24,41],\"symbol\":\"circle\"},\"mode\":\"markers\",\"text\":\"\",\"type\":\"scatter\",\"x\":[-0.12860260964606524,-1.635076306921547,-0.5868234739317386,0.20536526213217854,-0.7704148764243725,-0.608403118302665,-0.7771802124507576,0.8638616806968181,0.1987514763826788,0.5357468318854114,-0.805512501779021,2.818642095345587,-2.240429562821057,-0.9088716508414676,0.7688400036889937,1.3756705159878135,-0.14107448240173198,0.08435939863095848,-0.47542973557415535,-0.1674320741073042,-0.9928036010743042,-0.7456484563065178,0.3635481444242281,-0.5882618454120682,0.25414012281316667,0.8075350123432112,-2.17954988460998,1.0844212767816042,-0.6155401327201286,-0.8120677127265419,2.682095463168087,-0.8861062679388414,1.469866879622548,0.5739384835339598,-0.23539355790992364,0.3855826865292886,0.7186966464917793,0.3410797855162574,0.5082102613681312,-1.0232298776039623,0.094534363966649,-0.7468149471682591,0.6229276400590422,-1.006463292187963,0.43942570432402883,0.13999106174426013,-0.18938672474156987,-2.1591422816985486,-0.7712419228767906,-0.13630277784588765,1.8808542077379922,-0.03716927274838659,1.2639943341550404,-1.9816255138725716,-0.9559184241340777,0.3247446560710932,0.18749271902478037,0.07551280173086344,-0.49192181482586333,-0.4064583434602699,0.37686420304300106,-1.2662705459050974,0.8542971275153713,0.29222986412994945,-0.4357575569598363,-0.5029881280728328,-0.07342481701123633,-0.580731972963385,0.16814525256958246,0.7540617088613196,-2.807357263191882,0.2943652315452601,-0.9074105640013431,0.15419826504650516,-0.4020928330168706,-1.101935671902682,1.0590467937942818,-0.3873084367063922,0.850415751157854,-1.5268134381322997,0.17885452056056642,0.8598113461865062,-0.5332477857304616,0.42630320958643003,1.4763273314038519,1.0445069006882544,-2.029088486467021,-0.029734088032628603,-0.6745514583669592,-0.42394470279379776,-0.36594863842629466,-0.19923259224542597,-1.3006374051023517,-0.07018709569337656,-0.06322920059030304,0.09020414160573006,-0.42177867349612475,-1.4466636968930875,0.39394302890355015,-0.16504994921024868],\"y\":[0.8185633845691501,1.250081636706017,0.11665422761436443,-0.2819901305478438,-0.6630182612897098,-0.3976453012974691,-0.5142082474577344,1.432976072008938,-2.614656326430859,2.142350309515806,0.6315409739127879,-0.708523285057641,0.5887555771349915,-1.4670398225476153,0.38477474395597316,2.1580945911705522,-0.6516882359233838,-1.6072549511834457,1.9364025334076367,-0.3729478015325837,1.456366286150059,0.5439429577293267,-0.06266508726016042,0.08840851093159466,0.525358281417997,-0.3415948287709737,0.2782395112701509,-0.17363095306504372,1.6475287341175775,-0.6562329183539691,-0.606666583795318,0.8233227456549621,-1.1006792057121941,-0.6038368427675496,-2.0685312197481656,-1.986812049601142,0.8016485809681733,0.08165263911139128,0.3018568326471051,1.4093206296813823,-0.1419959788866885,1.0068346160490198,-0.2135577872229478,-0.6212130211754662,2.91751459596935,-0.987940120823154,-0.9635950028352653,1.527761807710861,-2.660145662991958,0.9936137813400049,0.19720730910200923,1.9220446213364466,-1.9824981561511965,0.9563612107483108,1.2114572878639558,1.6761627962728234,1.1172822968710148,-0.852556826829526,0.5588420880177051,-0.48081412546774405,0.21619630678914495,0.28570481398274655,-0.26149968424397974,0.11408904413161775,1.2445996688810668,0.5878519772306224,0.03640300202301524,1.3429085752990346,0.31823227538228843,-0.44676448115245726,-0.32530669262862044,0.9727877924250453,-0.0016704124674436116,-1.704903047178396,0.06066998774211031,0.28333312677425526,-0.5461410231171553,1.1876633432998498,1.823974612474308,0.3496133196099635,1.447369161868816,-0.14884505603801926,0.2162416080437122,-0.5313346616861173,2.1559149096145016,0.4148938103042243,-0.07700947991227261,-0.17273927058773778,1.34532358448916,1.234205040365912,2.044149009033562,-0.009843940123830736,0.9337939733849073,1.087400634796986,0.3308251839280632,0.21105526600770663,1.1130421977450977,0.6499386149537946,-1.782007975306854,0.12607299045661263]}],                        {\"legend\":{\"bgcolor\":\"#F5F6F9\",\"font\":{\"color\":\"#4D5663\"}},\"paper_bgcolor\":\"#F5F6F9\",\"plot_bgcolor\":\"#F5F6F9\",\"template\":{\"data\":{\"bar\":[{\"error_x\":{\"color\":\"#2a3f5f\"},\"error_y\":{\"color\":\"#2a3f5f\"},\"marker\":{\"line\":{\"color\":\"#E5ECF6\",\"width\":0.5},\"pattern\":{\"fillmode\":\"overlay\",\"size\":10,\"solidity\":0.2}},\"type\":\"bar\"}],\"barpolar\":[{\"marker\":{\"line\":{\"color\":\"#E5ECF6\",\"width\":0.5},\"pattern\":{\"fillmode\":\"overlay\",\"size\":10,\"solidity\":0.2}},\"type\":\"barpolar\"}],\"carpet\":[{\"aaxis\":{\"endlinecolor\":\"#2a3f5f\",\"gridcolor\":\"white\",\"linecolor\":\"white\",\"minorgridcolor\":\"white\",\"startlinecolor\":\"#2a3f5f\"},\"baxis\":{\"endlinecolor\":\"#2a3f5f\",\"gridcolor\":\"white\",\"linecolor\":\"white\",\"minorgridcolor\":\"white\",\"startlinecolor\":\"#2a3f5f\"},\"type\":\"carpet\"}],\"choropleth\":[{\"colorbar\":{\"outlinewidth\":0,\"ticks\":\"\"},\"type\":\"choropleth\"}],\"contour\":[{\"colorbar\":{\"outlinewidth\":0,\"ticks\":\"\"},\"colorscale\":[[0.0,\"#0d0887\"],[0.1111111111111111,\"#46039f\"],[0.2222222222222222,\"#7201a8\"],[0.3333333333333333,\"#9c179e\"],[0.4444444444444444,\"#bd3786\"],[0.5555555555555556,\"#d8576b\"],[0.6666666666666666,\"#ed7953\"],[0.7777777777777778,\"#fb9f3a\"],[0.8888888888888888,\"#fdca26\"],[1.0,\"#f0f921\"]],\"type\":\"contour\"}],\"contourcarpet\":[{\"colorbar\":{\"outlinewidth\":0,\"ticks\":\"\"},\"type\":\"contourcarpet\"}],\"heatmap\":[{\"colorbar\":{\"outlinewidth\":0,\"ticks\":\"\"},\"colorscale\":[[0.0,\"#0d0887\"],[0.1111111111111111,\"#46039f\"],[0.2222222222222222,\"#7201a8\"],[0.3333333333333333,\"#9c179e\"],[0.4444444444444444,\"#bd3786\"],[0.5555555555555556,\"#d8576b\"],[0.6666666666666666,\"#ed7953\"],[0.7777777777777778,\"#fb9f3a\"],[0.8888888888888888,\"#fdca26\"],[1.0,\"#f0f921\"]],\"type\":\"heatmap\"}],\"heatmapgl\":[{\"colorbar\":{\"outlinewidth\":0,\"ticks\":\"\"},\"colorscale\":[[0.0,\"#0d0887\"],[0.1111111111111111,\"#46039f\"],[0.2222222222222222,\"#7201a8\"],[0.3333333333333333,\"#9c179e\"],[0.4444444444444444,\"#bd3786\"],[0.5555555555555556,\"#d8576b\"],[0.6666666666666666,\"#ed7953\"],[0.7777777777777778,\"#fb9f3a\"],[0.8888888888888888,\"#fdca26\"],[1.0,\"#f0f921\"]],\"type\":\"heatmapgl\"}],\"histogram\":[{\"marker\":{\"pattern\":{\"fillmode\":\"overlay\",\"size\":10,\"solidity\":0.2}},\"type\":\"histogram\"}],\"histogram2d\":[{\"colorbar\":{\"outlinewidth\":0,\"ticks\":\"\"},\"colorscale\":[[0.0,\"#0d0887\"],[0.1111111111111111,\"#46039f\"],[0.2222222222222222,\"#7201a8\"],[0.3333333333333333,\"#9c179e\"],[0.4444444444444444,\"#bd3786\"],[0.5555555555555556,\"#d8576b\"],[0.6666666666666666,\"#ed7953\"],[0.7777777777777778,\"#fb9f3a\"],[0.8888888888888888,\"#fdca26\"],[1.0,\"#f0f921\"]],\"type\":\"histogram2d\"}],\"histogram2dcontour\":[{\"colorbar\":{\"outlinewidth\":0,\"ticks\":\"\"},\"colorscale\":[[0.0,\"#0d0887\"],[0.1111111111111111,\"#46039f\"],[0.2222222222222222,\"#7201a8\"],[0.3333333333333333,\"#9c179e\"],[0.4444444444444444,\"#bd3786\"],[0.5555555555555556,\"#d8576b\"],[0.6666666666666666,\"#ed7953\"],[0.7777777777777778,\"#fb9f3a\"],[0.8888888888888888,\"#fdca26\"],[1.0,\"#f0f921\"]],\"type\":\"histogram2dcontour\"}],\"mesh3d\":[{\"colorbar\":{\"outlinewidth\":0,\"ticks\":\"\"},\"type\":\"mesh3d\"}],\"parcoords\":[{\"line\":{\"colorbar\":{\"outlinewidth\":0,\"ticks\":\"\"}},\"type\":\"parcoords\"}],\"pie\":[{\"automargin\":true,\"type\":\"pie\"}],\"scatter\":[{\"marker\":{\"colorbar\":{\"outlinewidth\":0,\"ticks\":\"\"}},\"type\":\"scatter\"}],\"scatter3d\":[{\"line\":{\"colorbar\":{\"outlinewidth\":0,\"ticks\":\"\"}},\"marker\":{\"colorbar\":{\"outlinewidth\":0,\"ticks\":\"\"}},\"type\":\"scatter3d\"}],\"scattercarpet\":[{\"marker\":{\"colorbar\":{\"outlinewidth\":0,\"ticks\":\"\"}},\"type\":\"scattercarpet\"}],\"scattergeo\":[{\"marker\":{\"colorbar\":{\"outlinewidth\":0,\"ticks\":\"\"}},\"type\":\"scattergeo\"}],\"scattergl\":[{\"marker\":{\"colorbar\":{\"outlinewidth\":0,\"ticks\":\"\"}},\"type\":\"scattergl\"}],\"scattermapbox\":[{\"marker\":{\"colorbar\":{\"outlinewidth\":0,\"ticks\":\"\"}},\"type\":\"scattermapbox\"}],\"scatterpolar\":[{\"marker\":{\"colorbar\":{\"outlinewidth\":0,\"ticks\":\"\"}},\"type\":\"scatterpolar\"}],\"scatterpolargl\":[{\"marker\":{\"colorbar\":{\"outlinewidth\":0,\"ticks\":\"\"}},\"type\":\"scatterpolargl\"}],\"scatterternary\":[{\"marker\":{\"colorbar\":{\"outlinewidth\":0,\"ticks\":\"\"}},\"type\":\"scatterternary\"}],\"surface\":[{\"colorbar\":{\"outlinewidth\":0,\"ticks\":\"\"},\"colorscale\":[[0.0,\"#0d0887\"],[0.1111111111111111,\"#46039f\"],[0.2222222222222222,\"#7201a8\"],[0.3333333333333333,\"#9c179e\"],[0.4444444444444444,\"#bd3786\"],[0.5555555555555556,\"#d8576b\"],[0.6666666666666666,\"#ed7953\"],[0.7777777777777778,\"#fb9f3a\"],[0.8888888888888888,\"#fdca26\"],[1.0,\"#f0f921\"]],\"type\":\"surface\"}],\"table\":[{\"cells\":{\"fill\":{\"color\":\"#EBF0F8\"},\"line\":{\"color\":\"white\"}},\"header\":{\"fill\":{\"color\":\"#C8D4E3\"},\"line\":{\"color\":\"white\"}},\"type\":\"table\"}]},\"layout\":{\"annotationdefaults\":{\"arrowcolor\":\"#2a3f5f\",\"arrowhead\":0,\"arrowwidth\":1},\"autotypenumbers\":\"strict\",\"coloraxis\":{\"colorbar\":{\"outlinewidth\":0,\"ticks\":\"\"}},\"colorscale\":{\"diverging\":[[0,\"#8e0152\"],[0.1,\"#c51b7d\"],[0.2,\"#de77ae\"],[0.3,\"#f1b6da\"],[0.4,\"#fde0ef\"],[0.5,\"#f7f7f7\"],[0.6,\"#e6f5d0\"],[0.7,\"#b8e186\"],[0.8,\"#7fbc41\"],[0.9,\"#4d9221\"],[1,\"#276419\"]],\"sequential\":[[0.0,\"#0d0887\"],[0.1111111111111111,\"#46039f\"],[0.2222222222222222,\"#7201a8\"],[0.3333333333333333,\"#9c179e\"],[0.4444444444444444,\"#bd3786\"],[0.5555555555555556,\"#d8576b\"],[0.6666666666666666,\"#ed7953\"],[0.7777777777777778,\"#fb9f3a\"],[0.8888888888888888,\"#fdca26\"],[1.0,\"#f0f921\"]],\"sequentialminus\":[[0.0,\"#0d0887\"],[0.1111111111111111,\"#46039f\"],[0.2222222222222222,\"#7201a8\"],[0.3333333333333333,\"#9c179e\"],[0.4444444444444444,\"#bd3786\"],[0.5555555555555556,\"#d8576b\"],[0.6666666666666666,\"#ed7953\"],[0.7777777777777778,\"#fb9f3a\"],[0.8888888888888888,\"#fdca26\"],[1.0,\"#f0f921\"]]},\"colorway\":[\"#636efa\",\"#EF553B\",\"#00cc96\",\"#ab63fa\",\"#FFA15A\",\"#19d3f3\",\"#FF6692\",\"#B6E880\",\"#FF97FF\",\"#FECB52\"],\"font\":{\"color\":\"#2a3f5f\"},\"geo\":{\"bgcolor\":\"white\",\"lakecolor\":\"white\",\"landcolor\":\"#E5ECF6\",\"showlakes\":true,\"showland\":true,\"subunitcolor\":\"white\"},\"hoverlabel\":{\"align\":\"left\"},\"hovermode\":\"closest\",\"mapbox\":{\"style\":\"light\"},\"paper_bgcolor\":\"white\",\"plot_bgcolor\":\"#E5ECF6\",\"polar\":{\"angularaxis\":{\"gridcolor\":\"white\",\"linecolor\":\"white\",\"ticks\":\"\"},\"bgcolor\":\"#E5ECF6\",\"radialaxis\":{\"gridcolor\":\"white\",\"linecolor\":\"white\",\"ticks\":\"\"}},\"scene\":{\"xaxis\":{\"backgroundcolor\":\"#E5ECF6\",\"gridcolor\":\"white\",\"gridwidth\":2,\"linecolor\":\"white\",\"showbackground\":true,\"ticks\":\"\",\"zerolinecolor\":\"white\"},\"yaxis\":{\"backgroundcolor\":\"#E5ECF6\",\"gridcolor\":\"white\",\"gridwidth\":2,\"linecolor\":\"white\",\"showbackground\":true,\"ticks\":\"\",\"zerolinecolor\":\"white\"},\"zaxis\":{\"backgroundcolor\":\"#E5ECF6\",\"gridcolor\":\"white\",\"gridwidth\":2,\"linecolor\":\"white\",\"showbackground\":true,\"ticks\":\"\",\"zerolinecolor\":\"white\"}},\"shapedefaults\":{\"line\":{\"color\":\"#2a3f5f\"}},\"ternary\":{\"aaxis\":{\"gridcolor\":\"white\",\"linecolor\":\"white\",\"ticks\":\"\"},\"baxis\":{\"gridcolor\":\"white\",\"linecolor\":\"white\",\"ticks\":\"\"},\"bgcolor\":\"#E5ECF6\",\"caxis\":{\"gridcolor\":\"white\",\"linecolor\":\"white\",\"ticks\":\"\"}},\"title\":{\"x\":0.05},\"xaxis\":{\"automargin\":true,\"gridcolor\":\"white\",\"linecolor\":\"white\",\"ticks\":\"\",\"title\":{\"standoff\":15},\"zerolinecolor\":\"white\",\"zerolinewidth\":2},\"yaxis\":{\"automargin\":true,\"gridcolor\":\"white\",\"linecolor\":\"white\",\"ticks\":\"\",\"title\":{\"standoff\":15},\"zerolinecolor\":\"white\",\"zerolinewidth\":2}}},\"title\":{\"font\":{\"color\":\"#4D5663\"}},\"xaxis\":{\"gridcolor\":\"#E1E5ED\",\"showgrid\":true,\"tickfont\":{\"color\":\"#4D5663\"},\"title\":{\"font\":{\"color\":\"#4D5663\"},\"text\":\"\"},\"zerolinecolor\":\"#E1E5ED\"},\"yaxis\":{\"gridcolor\":\"#E1E5ED\",\"showgrid\":true,\"tickfont\":{\"color\":\"#4D5663\"},\"title\":{\"font\":{\"color\":\"#4D5663\"},\"text\":\"\"},\"zerolinecolor\":\"#E1E5ED\"}},                        {\"showLink\": true, \"linkText\": \"Export to plot.ly\", \"plotlyServerURL\": \"https://plot.ly\", \"responsive\": true}                    ).then(function(){\n",
       "                            \n",
       "var gd = document.getElementById('519746fc-b03d-46b8-822d-aeeeacb23089');\n",
       "var x = new MutationObserver(function (mutations, observer) {{\n",
       "        var display = window.getComputedStyle(gd).display;\n",
       "        if (!display || display === 'none') {{\n",
       "            console.log([gd, 'removed!']);\n",
       "            Plotly.purge(gd);\n",
       "            observer.disconnect();\n",
       "        }}\n",
       "}});\n",
       "\n",
       "// Listen for the removal of the full notebook cells\n",
       "var notebookContainer = gd.closest('#notebook-container');\n",
       "if (notebookContainer) {{\n",
       "    x.observe(notebookContainer, {childList: true});\n",
       "}}\n",
       "\n",
       "// Listen for the clearing of the current output cell\n",
       "var outputEl = gd.closest('.output');\n",
       "if (outputEl) {{\n",
       "    x.observe(outputEl, {childList: true});\n",
       "}}\n",
       "\n",
       "                        })                };                });            </script>        </div>"
      ]
     },
     "metadata": {},
     "output_type": "display_data"
    }
   ],
   "source": [
    "df.iplot(kind='bubble',x='A',y='B',size='C')"
   ]
  },
  {
   "cell_type": "markdown",
   "metadata": {},
   "source": [
    "## scatter_matrix()\n",
    "\n",
    "Similar to sns.pairplot()"
   ]
  },
  {
   "cell_type": "code",
   "execution_count": 28,
   "metadata": {},
   "outputs": [
    {
     "data": {
      "application/vnd.plotly.v1+json": {
       "config": {
        "linkText": "Export to plot.ly",
        "plotlyServerURL": "https://plot.ly",
        "showLink": true
       },
       "data": [
        {
         "histfunc": "count",
         "histnorm": "",
         "marker": {
          "color": "rgba(255, 153, 51, 1.0)",
          "line": {
           "color": "#4D5663",
           "width": 1.3
          }
         },
         "name": "A",
         "nbinsx": 10,
         "opacity": 0.8,
         "orientation": "v",
         "type": "histogram",
         "x": [
          -0.12860260964606524,
          -1.635076306921547,
          -0.5868234739317386,
          0.20536526213217854,
          -0.7704148764243725,
          -0.608403118302665,
          -0.7771802124507576,
          0.8638616806968181,
          0.1987514763826788,
          0.5357468318854114,
          -0.805512501779021,
          2.818642095345587,
          -2.240429562821057,
          -0.9088716508414676,
          0.7688400036889937,
          1.3756705159878135,
          -0.14107448240173198,
          0.08435939863095848,
          -0.47542973557415535,
          -0.1674320741073042,
          -0.9928036010743042,
          -0.7456484563065178,
          0.3635481444242281,
          -0.5882618454120682,
          0.25414012281316667,
          0.8075350123432112,
          -2.17954988460998,
          1.0844212767816042,
          -0.6155401327201286,
          -0.8120677127265419,
          2.682095463168087,
          -0.8861062679388414,
          1.469866879622548,
          0.5739384835339598,
          -0.23539355790992364,
          0.3855826865292886,
          0.7186966464917793,
          0.3410797855162574,
          0.5082102613681312,
          -1.0232298776039623,
          0.094534363966649,
          -0.7468149471682591,
          0.6229276400590422,
          -1.006463292187963,
          0.43942570432402883,
          0.13999106174426013,
          -0.18938672474156987,
          -2.1591422816985486,
          -0.7712419228767906,
          -0.13630277784588765,
          1.8808542077379922,
          -0.03716927274838659,
          1.2639943341550404,
          -1.9816255138725716,
          -0.9559184241340777,
          0.3247446560710932,
          0.18749271902478037,
          0.07551280173086344,
          -0.49192181482586333,
          -0.4064583434602699,
          0.37686420304300106,
          -1.2662705459050974,
          0.8542971275153713,
          0.29222986412994945,
          -0.4357575569598363,
          -0.5029881280728328,
          -0.07342481701123633,
          -0.580731972963385,
          0.16814525256958246,
          0.7540617088613196,
          -2.807357263191882,
          0.2943652315452601,
          -0.9074105640013431,
          0.15419826504650516,
          -0.4020928330168706,
          -1.101935671902682,
          1.0590467937942818,
          -0.3873084367063922,
          0.850415751157854,
          -1.5268134381322997,
          0.17885452056056642,
          0.8598113461865062,
          -0.5332477857304616,
          0.42630320958643003,
          1.4763273314038519,
          1.0445069006882544,
          -2.029088486467021,
          -0.029734088032628603,
          -0.6745514583669592,
          -0.42394470279379776,
          -0.36594863842629466,
          -0.19923259224542597,
          -1.3006374051023517,
          -0.07018709569337656,
          -0.06322920059030304,
          0.09020414160573006,
          -0.42177867349612475,
          -1.4466636968930875,
          0.39394302890355015,
          -0.16504994921024868
         ],
         "xaxis": "x",
         "yaxis": "y"
        },
        {
         "line": {
          "color": "rgba(128, 128, 128, 1.0)",
          "dash": "solid",
          "shape": "linear",
          "width": 1.3
         },
         "marker": {
          "size": 2,
          "symbol": "circle"
         },
         "mode": "markers",
         "name": "A",
         "text": "",
         "type": "scatter",
         "x": [
          0.8185633845691501,
          1.250081636706017,
          0.11665422761436443,
          -0.2819901305478438,
          -0.6630182612897098,
          -0.3976453012974691,
          -0.5142082474577344,
          1.432976072008938,
          -2.614656326430859,
          2.142350309515806,
          0.6315409739127879,
          -0.708523285057641,
          0.5887555771349915,
          -1.4670398225476153,
          0.38477474395597316,
          2.1580945911705522,
          -0.6516882359233838,
          -1.6072549511834457,
          1.9364025334076367,
          -0.3729478015325837,
          1.456366286150059,
          0.5439429577293267,
          -0.06266508726016042,
          0.08840851093159466,
          0.525358281417997,
          -0.3415948287709737,
          0.2782395112701509,
          -0.17363095306504372,
          1.6475287341175775,
          -0.6562329183539691,
          -0.606666583795318,
          0.8233227456549621,
          -1.1006792057121941,
          -0.6038368427675496,
          -2.0685312197481656,
          -1.986812049601142,
          0.8016485809681733,
          0.08165263911139128,
          0.3018568326471051,
          1.4093206296813823,
          -0.1419959788866885,
          1.0068346160490198,
          -0.2135577872229478,
          -0.6212130211754662,
          2.91751459596935,
          -0.987940120823154,
          -0.9635950028352653,
          1.527761807710861,
          -2.660145662991958,
          0.9936137813400049,
          0.19720730910200923,
          1.9220446213364466,
          -1.9824981561511965,
          0.9563612107483108,
          1.2114572878639558,
          1.6761627962728234,
          1.1172822968710148,
          -0.852556826829526,
          0.5588420880177051,
          -0.48081412546774405,
          0.21619630678914495,
          0.28570481398274655,
          -0.26149968424397974,
          0.11408904413161775,
          1.2445996688810668,
          0.5878519772306224,
          0.03640300202301524,
          1.3429085752990346,
          0.31823227538228843,
          -0.44676448115245726,
          -0.32530669262862044,
          0.9727877924250453,
          -0.0016704124674436116,
          -1.704903047178396,
          0.06066998774211031,
          0.28333312677425526,
          -0.5461410231171553,
          1.1876633432998498,
          1.823974612474308,
          0.3496133196099635,
          1.447369161868816,
          -0.14884505603801926,
          0.2162416080437122,
          -0.5313346616861173,
          2.1559149096145016,
          0.4148938103042243,
          -0.07700947991227261,
          -0.17273927058773778,
          1.34532358448916,
          1.234205040365912,
          2.044149009033562,
          -0.009843940123830736,
          0.9337939733849073,
          1.087400634796986,
          0.3308251839280632,
          0.21105526600770663,
          1.1130421977450977,
          0.6499386149537946,
          -1.782007975306854,
          0.12607299045661263
         ],
         "xaxis": "x2",
         "y": [
          -0.12860260964606524,
          -1.635076306921547,
          -0.5868234739317386,
          0.20536526213217854,
          -0.7704148764243725,
          -0.608403118302665,
          -0.7771802124507576,
          0.8638616806968181,
          0.1987514763826788,
          0.5357468318854114,
          -0.805512501779021,
          2.818642095345587,
          -2.240429562821057,
          -0.9088716508414676,
          0.7688400036889937,
          1.3756705159878135,
          -0.14107448240173198,
          0.08435939863095848,
          -0.47542973557415535,
          -0.1674320741073042,
          -0.9928036010743042,
          -0.7456484563065178,
          0.3635481444242281,
          -0.5882618454120682,
          0.25414012281316667,
          0.8075350123432112,
          -2.17954988460998,
          1.0844212767816042,
          -0.6155401327201286,
          -0.8120677127265419,
          2.682095463168087,
          -0.8861062679388414,
          1.469866879622548,
          0.5739384835339598,
          -0.23539355790992364,
          0.3855826865292886,
          0.7186966464917793,
          0.3410797855162574,
          0.5082102613681312,
          -1.0232298776039623,
          0.094534363966649,
          -0.7468149471682591,
          0.6229276400590422,
          -1.006463292187963,
          0.43942570432402883,
          0.13999106174426013,
          -0.18938672474156987,
          -2.1591422816985486,
          -0.7712419228767906,
          -0.13630277784588765,
          1.8808542077379922,
          -0.03716927274838659,
          1.2639943341550404,
          -1.9816255138725716,
          -0.9559184241340777,
          0.3247446560710932,
          0.18749271902478037,
          0.07551280173086344,
          -0.49192181482586333,
          -0.4064583434602699,
          0.37686420304300106,
          -1.2662705459050974,
          0.8542971275153713,
          0.29222986412994945,
          -0.4357575569598363,
          -0.5029881280728328,
          -0.07342481701123633,
          -0.580731972963385,
          0.16814525256958246,
          0.7540617088613196,
          -2.807357263191882,
          0.2943652315452601,
          -0.9074105640013431,
          0.15419826504650516,
          -0.4020928330168706,
          -1.101935671902682,
          1.0590467937942818,
          -0.3873084367063922,
          0.850415751157854,
          -1.5268134381322997,
          0.17885452056056642,
          0.8598113461865062,
          -0.5332477857304616,
          0.42630320958643003,
          1.4763273314038519,
          1.0445069006882544,
          -2.029088486467021,
          -0.029734088032628603,
          -0.6745514583669592,
          -0.42394470279379776,
          -0.36594863842629466,
          -0.19923259224542597,
          -1.3006374051023517,
          -0.07018709569337656,
          -0.06322920059030304,
          0.09020414160573006,
          -0.42177867349612475,
          -1.4466636968930875,
          0.39394302890355015,
          -0.16504994921024868
         ],
         "yaxis": "y2"
        },
        {
         "line": {
          "color": "rgba(128, 128, 128, 1.0)",
          "dash": "solid",
          "shape": "linear",
          "width": 1.3
         },
         "marker": {
          "size": 2,
          "symbol": "circle"
         },
         "mode": "markers",
         "name": "A",
         "text": "",
         "type": "scatter",
         "x": [
          -0.893034094052463,
          0.32142774154723863,
          -0.3461919868219022,
          1.6561915760000439,
          -1.8166327223963545,
          1.040524839747155,
          0.9933425557883019,
          0.74754787649467,
          -1.3697550864677888,
          0.9475525316175184,
          0.5903154036144674,
          -0.7193204284641453,
          -1.9706838414463923,
          1.424327904930943,
          1.9116607052143617,
          -0.7403230847455231,
          0.32122402861502725,
          0.2666188237967878,
          -1.2472844827286877,
          -0.9864156678890039,
          -1.5740847455847609,
          2.4053623963015944,
          -0.18380770754266082,
          1.0100927924209668,
          0.008227393622940006,
          1.5040658984836761,
          0.35984666317500086,
          -0.010621694922587542,
          -0.9994973288590799,
          2.595693886950609,
          0.2353111613525256,
          0.6381246998827086,
          -0.817931135113251,
          -0.7312839667532411,
          -0.9516835966826418,
          0.9423829522251238,
          -0.49790466411485795,
          0.8650948398809166,
          -0.9622854165672089,
          -1.0009942771582916,
          -0.12384188866053221,
          -1.2762267019310556,
          0.7712920222160783,
          0.7201184409510004,
          0.779483744367753,
          -1.762828670711382,
          -0.0038623199058505603,
          -0.873829783639345,
          0.5522355139598802,
          -1.3762138498922944,
          -1.1066194220310017,
          1.2152314341907116,
          0.05727901067260451,
          0.15114641295756395,
          0.29208588700478477,
          -1.2926987542555897,
          0.9792888922932551,
          -0.9463140974925113,
          0.883439595680161,
          0.3706456171106732,
          -0.08177682307403422,
          -0.47332294991059815,
          1.3951761743033302,
          -1.6761156446064684,
          0.6266946201967991,
          0.2418690971931785,
          0.9757683977975071,
          -0.12448811651009352,
          0.5995728523890195,
          -0.32181688438111844,
          -0.3465102167045141,
          0.7450924421626615,
          -0.06462150137038737,
          -0.9730558453768658,
          -1.803169972606296,
          -1.415646240961098,
          -1.197401565341801,
          0.9075922706514219,
          -0.7091205077971906,
          -1.0276347737760627,
          0.5380829806883355,
          -1.3678380610816991,
          -0.384241833930092,
          1.0254937487462035,
          -1.0654007272260546,
          1.2815424921644067,
          -1.6442022248361263,
          1.1045538065374758,
          0.16939116563923345,
          -0.05036027322015534,
          0.1748085662363392,
          -0.8618252699045826,
          -0.2934214357447494,
          0.5215076797551154,
          0.6967115919183898,
          0.5030398497295235,
          -1.3726691115386644,
          -0.48476916140777454,
          -1.4189375538405415,
          -0.6137861683516325
         ],
         "xaxis": "x3",
         "y": [
          -0.12860260964606524,
          -1.635076306921547,
          -0.5868234739317386,
          0.20536526213217854,
          -0.7704148764243725,
          -0.608403118302665,
          -0.7771802124507576,
          0.8638616806968181,
          0.1987514763826788,
          0.5357468318854114,
          -0.805512501779021,
          2.818642095345587,
          -2.240429562821057,
          -0.9088716508414676,
          0.7688400036889937,
          1.3756705159878135,
          -0.14107448240173198,
          0.08435939863095848,
          -0.47542973557415535,
          -0.1674320741073042,
          -0.9928036010743042,
          -0.7456484563065178,
          0.3635481444242281,
          -0.5882618454120682,
          0.25414012281316667,
          0.8075350123432112,
          -2.17954988460998,
          1.0844212767816042,
          -0.6155401327201286,
          -0.8120677127265419,
          2.682095463168087,
          -0.8861062679388414,
          1.469866879622548,
          0.5739384835339598,
          -0.23539355790992364,
          0.3855826865292886,
          0.7186966464917793,
          0.3410797855162574,
          0.5082102613681312,
          -1.0232298776039623,
          0.094534363966649,
          -0.7468149471682591,
          0.6229276400590422,
          -1.006463292187963,
          0.43942570432402883,
          0.13999106174426013,
          -0.18938672474156987,
          -2.1591422816985486,
          -0.7712419228767906,
          -0.13630277784588765,
          1.8808542077379922,
          -0.03716927274838659,
          1.2639943341550404,
          -1.9816255138725716,
          -0.9559184241340777,
          0.3247446560710932,
          0.18749271902478037,
          0.07551280173086344,
          -0.49192181482586333,
          -0.4064583434602699,
          0.37686420304300106,
          -1.2662705459050974,
          0.8542971275153713,
          0.29222986412994945,
          -0.4357575569598363,
          -0.5029881280728328,
          -0.07342481701123633,
          -0.580731972963385,
          0.16814525256958246,
          0.7540617088613196,
          -2.807357263191882,
          0.2943652315452601,
          -0.9074105640013431,
          0.15419826504650516,
          -0.4020928330168706,
          -1.101935671902682,
          1.0590467937942818,
          -0.3873084367063922,
          0.850415751157854,
          -1.5268134381322997,
          0.17885452056056642,
          0.8598113461865062,
          -0.5332477857304616,
          0.42630320958643003,
          1.4763273314038519,
          1.0445069006882544,
          -2.029088486467021,
          -0.029734088032628603,
          -0.6745514583669592,
          -0.42394470279379776,
          -0.36594863842629466,
          -0.19923259224542597,
          -1.3006374051023517,
          -0.07018709569337656,
          -0.06322920059030304,
          0.09020414160573006,
          -0.42177867349612475,
          -1.4466636968930875,
          0.39394302890355015,
          -0.16504994921024868
         ],
         "yaxis": "y3"
        },
        {
         "line": {
          "color": "rgba(128, 128, 128, 1.0)",
          "dash": "solid",
          "shape": "linear",
          "width": 1.3
         },
         "marker": {
          "size": 2,
          "symbol": "circle"
         },
         "mode": "markers",
         "name": "A",
         "text": "",
         "type": "scatter",
         "x": [
          1.1090472642363909,
          0.3371178180290584,
          0.28296765784076466,
          0.6149689457809169,
          0.7211730147563021,
          -1.931355800765621,
          0.03680030435616002,
          1.2813817922133333,
          1.416789465032888,
          0.008902683668203053,
          1.8631248309084487,
          -1.1801272473457742,
          0.04401416854001588,
          0.4743579555480905,
          -0.21738334375790233,
          1.1026659700438266,
          0.29241381541813016,
          1.9837903562943187,
          -0.6046270328586335,
          -0.208238480202482,
          -1.2956492020082484,
          -0.37442784874958635,
          -1.003657298561281,
          1.3352433678906408,
          0.8956244986767935,
          0.5599092583174339,
          1.982762838089537,
          0.5291275601716697,
          1.1339893735070545,
          0.2102874001458619,
          1.2137571986048645,
          1.072855331697689,
          -0.3872297527707569,
          0.9522421483503503,
          -0.2483481445228857,
          0.9895580848046946,
          0.518066626851122,
          0.2371795910475936,
          1.093349591901714,
          -0.3405701235063494,
          1.0175990051495523,
          -0.2952900676832008,
          -1.8938460290296366,
          1.620709125112299,
          -0.5388766183964406,
          -0.01374413684704235,
          -1.265764045922524,
          0.9828292540798076,
          0.578019867098778,
          0.7479627043288422,
          0.44680889106332966,
          -0.049622289294041756,
          -1.8675176393309336,
          0.41784058977742944,
          -0.78069049218744,
          -0.05023129981822584,
          0.9259084674694911,
          0.6079049195138972,
          -0.39550342315557996,
          0.810143942297103,
          0.18919567905140158,
          -0.060299398658938505,
          -0.5525599961640696,
          1.7448446554934378,
          1.2423299530024818,
          -0.7695859381636041,
          2.6974847759337393,
          -0.07989190730872778,
          -1.2611950165908241,
          1.2276507805607053,
          -0.6760775174913568,
          -0.19419234359693743,
          -1.0456515261340296,
          0.930610378884731,
          -0.6337624543021817,
          1.1934863057915028,
          -0.46446474733013593,
          0.9204170401886379,
          -0.3590193707293201,
          0.9154528331732662,
          -0.8434896435775322,
          -0.05709711280818407,
          -1.1696974727005032,
          0.3806656393442269,
          0.10647308023301408,
          -1.8337572800242365,
          0.6746856155101841,
          0.36735808876414183,
          -0.009142462456620622,
          -0.6159435399443982,
          0.4399981957217681,
          -0.6886887756599419,
          -0.8040263573259767,
          1.8087612711383865,
          1.0287037258388427,
          -4.637040204721781,
          1.7028759081582905,
          2.150505776094501,
          0.7446413266198268,
          0.15277915723958443
         ],
         "xaxis": "x4",
         "y": [
          -0.12860260964606524,
          -1.635076306921547,
          -0.5868234739317386,
          0.20536526213217854,
          -0.7704148764243725,
          -0.608403118302665,
          -0.7771802124507576,
          0.8638616806968181,
          0.1987514763826788,
          0.5357468318854114,
          -0.805512501779021,
          2.818642095345587,
          -2.240429562821057,
          -0.9088716508414676,
          0.7688400036889937,
          1.3756705159878135,
          -0.14107448240173198,
          0.08435939863095848,
          -0.47542973557415535,
          -0.1674320741073042,
          -0.9928036010743042,
          -0.7456484563065178,
          0.3635481444242281,
          -0.5882618454120682,
          0.25414012281316667,
          0.8075350123432112,
          -2.17954988460998,
          1.0844212767816042,
          -0.6155401327201286,
          -0.8120677127265419,
          2.682095463168087,
          -0.8861062679388414,
          1.469866879622548,
          0.5739384835339598,
          -0.23539355790992364,
          0.3855826865292886,
          0.7186966464917793,
          0.3410797855162574,
          0.5082102613681312,
          -1.0232298776039623,
          0.094534363966649,
          -0.7468149471682591,
          0.6229276400590422,
          -1.006463292187963,
          0.43942570432402883,
          0.13999106174426013,
          -0.18938672474156987,
          -2.1591422816985486,
          -0.7712419228767906,
          -0.13630277784588765,
          1.8808542077379922,
          -0.03716927274838659,
          1.2639943341550404,
          -1.9816255138725716,
          -0.9559184241340777,
          0.3247446560710932,
          0.18749271902478037,
          0.07551280173086344,
          -0.49192181482586333,
          -0.4064583434602699,
          0.37686420304300106,
          -1.2662705459050974,
          0.8542971275153713,
          0.29222986412994945,
          -0.4357575569598363,
          -0.5029881280728328,
          -0.07342481701123633,
          -0.580731972963385,
          0.16814525256958246,
          0.7540617088613196,
          -2.807357263191882,
          0.2943652315452601,
          -0.9074105640013431,
          0.15419826504650516,
          -0.4020928330168706,
          -1.101935671902682,
          1.0590467937942818,
          -0.3873084367063922,
          0.850415751157854,
          -1.5268134381322997,
          0.17885452056056642,
          0.8598113461865062,
          -0.5332477857304616,
          0.42630320958643003,
          1.4763273314038519,
          1.0445069006882544,
          -2.029088486467021,
          -0.029734088032628603,
          -0.6745514583669592,
          -0.42394470279379776,
          -0.36594863842629466,
          -0.19923259224542597,
          -1.3006374051023517,
          -0.07018709569337656,
          -0.06322920059030304,
          0.09020414160573006,
          -0.42177867349612475,
          -1.4466636968930875,
          0.39394302890355015,
          -0.16504994921024868
         ],
         "yaxis": "y4"
        },
        {
         "line": {
          "color": "rgba(128, 128, 128, 1.0)",
          "dash": "solid",
          "shape": "linear",
          "width": 1.3
         },
         "marker": {
          "size": 2,
          "symbol": "circle"
         },
         "mode": "markers",
         "name": "B",
         "text": "",
         "type": "scatter",
         "x": [
          -0.12860260964606524,
          -1.635076306921547,
          -0.5868234739317386,
          0.20536526213217854,
          -0.7704148764243725,
          -0.608403118302665,
          -0.7771802124507576,
          0.8638616806968181,
          0.1987514763826788,
          0.5357468318854114,
          -0.805512501779021,
          2.818642095345587,
          -2.240429562821057,
          -0.9088716508414676,
          0.7688400036889937,
          1.3756705159878135,
          -0.14107448240173198,
          0.08435939863095848,
          -0.47542973557415535,
          -0.1674320741073042,
          -0.9928036010743042,
          -0.7456484563065178,
          0.3635481444242281,
          -0.5882618454120682,
          0.25414012281316667,
          0.8075350123432112,
          -2.17954988460998,
          1.0844212767816042,
          -0.6155401327201286,
          -0.8120677127265419,
          2.682095463168087,
          -0.8861062679388414,
          1.469866879622548,
          0.5739384835339598,
          -0.23539355790992364,
          0.3855826865292886,
          0.7186966464917793,
          0.3410797855162574,
          0.5082102613681312,
          -1.0232298776039623,
          0.094534363966649,
          -0.7468149471682591,
          0.6229276400590422,
          -1.006463292187963,
          0.43942570432402883,
          0.13999106174426013,
          -0.18938672474156987,
          -2.1591422816985486,
          -0.7712419228767906,
          -0.13630277784588765,
          1.8808542077379922,
          -0.03716927274838659,
          1.2639943341550404,
          -1.9816255138725716,
          -0.9559184241340777,
          0.3247446560710932,
          0.18749271902478037,
          0.07551280173086344,
          -0.49192181482586333,
          -0.4064583434602699,
          0.37686420304300106,
          -1.2662705459050974,
          0.8542971275153713,
          0.29222986412994945,
          -0.4357575569598363,
          -0.5029881280728328,
          -0.07342481701123633,
          -0.580731972963385,
          0.16814525256958246,
          0.7540617088613196,
          -2.807357263191882,
          0.2943652315452601,
          -0.9074105640013431,
          0.15419826504650516,
          -0.4020928330168706,
          -1.101935671902682,
          1.0590467937942818,
          -0.3873084367063922,
          0.850415751157854,
          -1.5268134381322997,
          0.17885452056056642,
          0.8598113461865062,
          -0.5332477857304616,
          0.42630320958643003,
          1.4763273314038519,
          1.0445069006882544,
          -2.029088486467021,
          -0.029734088032628603,
          -0.6745514583669592,
          -0.42394470279379776,
          -0.36594863842629466,
          -0.19923259224542597,
          -1.3006374051023517,
          -0.07018709569337656,
          -0.06322920059030304,
          0.09020414160573006,
          -0.42177867349612475,
          -1.4466636968930875,
          0.39394302890355015,
          -0.16504994921024868
         ],
         "xaxis": "x5",
         "y": [
          0.8185633845691501,
          1.250081636706017,
          0.11665422761436443,
          -0.2819901305478438,
          -0.6630182612897098,
          -0.3976453012974691,
          -0.5142082474577344,
          1.432976072008938,
          -2.614656326430859,
          2.142350309515806,
          0.6315409739127879,
          -0.708523285057641,
          0.5887555771349915,
          -1.4670398225476153,
          0.38477474395597316,
          2.1580945911705522,
          -0.6516882359233838,
          -1.6072549511834457,
          1.9364025334076367,
          -0.3729478015325837,
          1.456366286150059,
          0.5439429577293267,
          -0.06266508726016042,
          0.08840851093159466,
          0.525358281417997,
          -0.3415948287709737,
          0.2782395112701509,
          -0.17363095306504372,
          1.6475287341175775,
          -0.6562329183539691,
          -0.606666583795318,
          0.8233227456549621,
          -1.1006792057121941,
          -0.6038368427675496,
          -2.0685312197481656,
          -1.986812049601142,
          0.8016485809681733,
          0.08165263911139128,
          0.3018568326471051,
          1.4093206296813823,
          -0.1419959788866885,
          1.0068346160490198,
          -0.2135577872229478,
          -0.6212130211754662,
          2.91751459596935,
          -0.987940120823154,
          -0.9635950028352653,
          1.527761807710861,
          -2.660145662991958,
          0.9936137813400049,
          0.19720730910200923,
          1.9220446213364466,
          -1.9824981561511965,
          0.9563612107483108,
          1.2114572878639558,
          1.6761627962728234,
          1.1172822968710148,
          -0.852556826829526,
          0.5588420880177051,
          -0.48081412546774405,
          0.21619630678914495,
          0.28570481398274655,
          -0.26149968424397974,
          0.11408904413161775,
          1.2445996688810668,
          0.5878519772306224,
          0.03640300202301524,
          1.3429085752990346,
          0.31823227538228843,
          -0.44676448115245726,
          -0.32530669262862044,
          0.9727877924250453,
          -0.0016704124674436116,
          -1.704903047178396,
          0.06066998774211031,
          0.28333312677425526,
          -0.5461410231171553,
          1.1876633432998498,
          1.823974612474308,
          0.3496133196099635,
          1.447369161868816,
          -0.14884505603801926,
          0.2162416080437122,
          -0.5313346616861173,
          2.1559149096145016,
          0.4148938103042243,
          -0.07700947991227261,
          -0.17273927058773778,
          1.34532358448916,
          1.234205040365912,
          2.044149009033562,
          -0.009843940123830736,
          0.9337939733849073,
          1.087400634796986,
          0.3308251839280632,
          0.21105526600770663,
          1.1130421977450977,
          0.6499386149537946,
          -1.782007975306854,
          0.12607299045661263
         ],
         "yaxis": "y5"
        },
        {
         "histfunc": "count",
         "histnorm": "",
         "marker": {
          "color": "rgba(55, 128, 191, 1.0)",
          "line": {
           "color": "#4D5663",
           "width": 1.3
          }
         },
         "name": "B",
         "nbinsx": 10,
         "opacity": 0.8,
         "orientation": "v",
         "type": "histogram",
         "x": [
          0.8185633845691501,
          1.250081636706017,
          0.11665422761436443,
          -0.2819901305478438,
          -0.6630182612897098,
          -0.3976453012974691,
          -0.5142082474577344,
          1.432976072008938,
          -2.614656326430859,
          2.142350309515806,
          0.6315409739127879,
          -0.708523285057641,
          0.5887555771349915,
          -1.4670398225476153,
          0.38477474395597316,
          2.1580945911705522,
          -0.6516882359233838,
          -1.6072549511834457,
          1.9364025334076367,
          -0.3729478015325837,
          1.456366286150059,
          0.5439429577293267,
          -0.06266508726016042,
          0.08840851093159466,
          0.525358281417997,
          -0.3415948287709737,
          0.2782395112701509,
          -0.17363095306504372,
          1.6475287341175775,
          -0.6562329183539691,
          -0.606666583795318,
          0.8233227456549621,
          -1.1006792057121941,
          -0.6038368427675496,
          -2.0685312197481656,
          -1.986812049601142,
          0.8016485809681733,
          0.08165263911139128,
          0.3018568326471051,
          1.4093206296813823,
          -0.1419959788866885,
          1.0068346160490198,
          -0.2135577872229478,
          -0.6212130211754662,
          2.91751459596935,
          -0.987940120823154,
          -0.9635950028352653,
          1.527761807710861,
          -2.660145662991958,
          0.9936137813400049,
          0.19720730910200923,
          1.9220446213364466,
          -1.9824981561511965,
          0.9563612107483108,
          1.2114572878639558,
          1.6761627962728234,
          1.1172822968710148,
          -0.852556826829526,
          0.5588420880177051,
          -0.48081412546774405,
          0.21619630678914495,
          0.28570481398274655,
          -0.26149968424397974,
          0.11408904413161775,
          1.2445996688810668,
          0.5878519772306224,
          0.03640300202301524,
          1.3429085752990346,
          0.31823227538228843,
          -0.44676448115245726,
          -0.32530669262862044,
          0.9727877924250453,
          -0.0016704124674436116,
          -1.704903047178396,
          0.06066998774211031,
          0.28333312677425526,
          -0.5461410231171553,
          1.1876633432998498,
          1.823974612474308,
          0.3496133196099635,
          1.447369161868816,
          -0.14884505603801926,
          0.2162416080437122,
          -0.5313346616861173,
          2.1559149096145016,
          0.4148938103042243,
          -0.07700947991227261,
          -0.17273927058773778,
          1.34532358448916,
          1.234205040365912,
          2.044149009033562,
          -0.009843940123830736,
          0.9337939733849073,
          1.087400634796986,
          0.3308251839280632,
          0.21105526600770663,
          1.1130421977450977,
          0.6499386149537946,
          -1.782007975306854,
          0.12607299045661263
         ],
         "xaxis": "x6",
         "yaxis": "y6"
        },
        {
         "line": {
          "color": "rgba(128, 128, 128, 1.0)",
          "dash": "solid",
          "shape": "linear",
          "width": 1.3
         },
         "marker": {
          "size": 2,
          "symbol": "circle"
         },
         "mode": "markers",
         "name": "B",
         "text": "",
         "type": "scatter",
         "x": [
          -0.893034094052463,
          0.32142774154723863,
          -0.3461919868219022,
          1.6561915760000439,
          -1.8166327223963545,
          1.040524839747155,
          0.9933425557883019,
          0.74754787649467,
          -1.3697550864677888,
          0.9475525316175184,
          0.5903154036144674,
          -0.7193204284641453,
          -1.9706838414463923,
          1.424327904930943,
          1.9116607052143617,
          -0.7403230847455231,
          0.32122402861502725,
          0.2666188237967878,
          -1.2472844827286877,
          -0.9864156678890039,
          -1.5740847455847609,
          2.4053623963015944,
          -0.18380770754266082,
          1.0100927924209668,
          0.008227393622940006,
          1.5040658984836761,
          0.35984666317500086,
          -0.010621694922587542,
          -0.9994973288590799,
          2.595693886950609,
          0.2353111613525256,
          0.6381246998827086,
          -0.817931135113251,
          -0.7312839667532411,
          -0.9516835966826418,
          0.9423829522251238,
          -0.49790466411485795,
          0.8650948398809166,
          -0.9622854165672089,
          -1.0009942771582916,
          -0.12384188866053221,
          -1.2762267019310556,
          0.7712920222160783,
          0.7201184409510004,
          0.779483744367753,
          -1.762828670711382,
          -0.0038623199058505603,
          -0.873829783639345,
          0.5522355139598802,
          -1.3762138498922944,
          -1.1066194220310017,
          1.2152314341907116,
          0.05727901067260451,
          0.15114641295756395,
          0.29208588700478477,
          -1.2926987542555897,
          0.9792888922932551,
          -0.9463140974925113,
          0.883439595680161,
          0.3706456171106732,
          -0.08177682307403422,
          -0.47332294991059815,
          1.3951761743033302,
          -1.6761156446064684,
          0.6266946201967991,
          0.2418690971931785,
          0.9757683977975071,
          -0.12448811651009352,
          0.5995728523890195,
          -0.32181688438111844,
          -0.3465102167045141,
          0.7450924421626615,
          -0.06462150137038737,
          -0.9730558453768658,
          -1.803169972606296,
          -1.415646240961098,
          -1.197401565341801,
          0.9075922706514219,
          -0.7091205077971906,
          -1.0276347737760627,
          0.5380829806883355,
          -1.3678380610816991,
          -0.384241833930092,
          1.0254937487462035,
          -1.0654007272260546,
          1.2815424921644067,
          -1.6442022248361263,
          1.1045538065374758,
          0.16939116563923345,
          -0.05036027322015534,
          0.1748085662363392,
          -0.8618252699045826,
          -0.2934214357447494,
          0.5215076797551154,
          0.6967115919183898,
          0.5030398497295235,
          -1.3726691115386644,
          -0.48476916140777454,
          -1.4189375538405415,
          -0.6137861683516325
         ],
         "xaxis": "x7",
         "y": [
          0.8185633845691501,
          1.250081636706017,
          0.11665422761436443,
          -0.2819901305478438,
          -0.6630182612897098,
          -0.3976453012974691,
          -0.5142082474577344,
          1.432976072008938,
          -2.614656326430859,
          2.142350309515806,
          0.6315409739127879,
          -0.708523285057641,
          0.5887555771349915,
          -1.4670398225476153,
          0.38477474395597316,
          2.1580945911705522,
          -0.6516882359233838,
          -1.6072549511834457,
          1.9364025334076367,
          -0.3729478015325837,
          1.456366286150059,
          0.5439429577293267,
          -0.06266508726016042,
          0.08840851093159466,
          0.525358281417997,
          -0.3415948287709737,
          0.2782395112701509,
          -0.17363095306504372,
          1.6475287341175775,
          -0.6562329183539691,
          -0.606666583795318,
          0.8233227456549621,
          -1.1006792057121941,
          -0.6038368427675496,
          -2.0685312197481656,
          -1.986812049601142,
          0.8016485809681733,
          0.08165263911139128,
          0.3018568326471051,
          1.4093206296813823,
          -0.1419959788866885,
          1.0068346160490198,
          -0.2135577872229478,
          -0.6212130211754662,
          2.91751459596935,
          -0.987940120823154,
          -0.9635950028352653,
          1.527761807710861,
          -2.660145662991958,
          0.9936137813400049,
          0.19720730910200923,
          1.9220446213364466,
          -1.9824981561511965,
          0.9563612107483108,
          1.2114572878639558,
          1.6761627962728234,
          1.1172822968710148,
          -0.852556826829526,
          0.5588420880177051,
          -0.48081412546774405,
          0.21619630678914495,
          0.28570481398274655,
          -0.26149968424397974,
          0.11408904413161775,
          1.2445996688810668,
          0.5878519772306224,
          0.03640300202301524,
          1.3429085752990346,
          0.31823227538228843,
          -0.44676448115245726,
          -0.32530669262862044,
          0.9727877924250453,
          -0.0016704124674436116,
          -1.704903047178396,
          0.06066998774211031,
          0.28333312677425526,
          -0.5461410231171553,
          1.1876633432998498,
          1.823974612474308,
          0.3496133196099635,
          1.447369161868816,
          -0.14884505603801926,
          0.2162416080437122,
          -0.5313346616861173,
          2.1559149096145016,
          0.4148938103042243,
          -0.07700947991227261,
          -0.17273927058773778,
          1.34532358448916,
          1.234205040365912,
          2.044149009033562,
          -0.009843940123830736,
          0.9337939733849073,
          1.087400634796986,
          0.3308251839280632,
          0.21105526600770663,
          1.1130421977450977,
          0.6499386149537946,
          -1.782007975306854,
          0.12607299045661263
         ],
         "yaxis": "y7"
        },
        {
         "line": {
          "color": "rgba(128, 128, 128, 1.0)",
          "dash": "solid",
          "shape": "linear",
          "width": 1.3
         },
         "marker": {
          "size": 2,
          "symbol": "circle"
         },
         "mode": "markers",
         "name": "B",
         "text": "",
         "type": "scatter",
         "x": [
          1.1090472642363909,
          0.3371178180290584,
          0.28296765784076466,
          0.6149689457809169,
          0.7211730147563021,
          -1.931355800765621,
          0.03680030435616002,
          1.2813817922133333,
          1.416789465032888,
          0.008902683668203053,
          1.8631248309084487,
          -1.1801272473457742,
          0.04401416854001588,
          0.4743579555480905,
          -0.21738334375790233,
          1.1026659700438266,
          0.29241381541813016,
          1.9837903562943187,
          -0.6046270328586335,
          -0.208238480202482,
          -1.2956492020082484,
          -0.37442784874958635,
          -1.003657298561281,
          1.3352433678906408,
          0.8956244986767935,
          0.5599092583174339,
          1.982762838089537,
          0.5291275601716697,
          1.1339893735070545,
          0.2102874001458619,
          1.2137571986048645,
          1.072855331697689,
          -0.3872297527707569,
          0.9522421483503503,
          -0.2483481445228857,
          0.9895580848046946,
          0.518066626851122,
          0.2371795910475936,
          1.093349591901714,
          -0.3405701235063494,
          1.0175990051495523,
          -0.2952900676832008,
          -1.8938460290296366,
          1.620709125112299,
          -0.5388766183964406,
          -0.01374413684704235,
          -1.265764045922524,
          0.9828292540798076,
          0.578019867098778,
          0.7479627043288422,
          0.44680889106332966,
          -0.049622289294041756,
          -1.8675176393309336,
          0.41784058977742944,
          -0.78069049218744,
          -0.05023129981822584,
          0.9259084674694911,
          0.6079049195138972,
          -0.39550342315557996,
          0.810143942297103,
          0.18919567905140158,
          -0.060299398658938505,
          -0.5525599961640696,
          1.7448446554934378,
          1.2423299530024818,
          -0.7695859381636041,
          2.6974847759337393,
          -0.07989190730872778,
          -1.2611950165908241,
          1.2276507805607053,
          -0.6760775174913568,
          -0.19419234359693743,
          -1.0456515261340296,
          0.930610378884731,
          -0.6337624543021817,
          1.1934863057915028,
          -0.46446474733013593,
          0.9204170401886379,
          -0.3590193707293201,
          0.9154528331732662,
          -0.8434896435775322,
          -0.05709711280818407,
          -1.1696974727005032,
          0.3806656393442269,
          0.10647308023301408,
          -1.8337572800242365,
          0.6746856155101841,
          0.36735808876414183,
          -0.009142462456620622,
          -0.6159435399443982,
          0.4399981957217681,
          -0.6886887756599419,
          -0.8040263573259767,
          1.8087612711383865,
          1.0287037258388427,
          -4.637040204721781,
          1.7028759081582905,
          2.150505776094501,
          0.7446413266198268,
          0.15277915723958443
         ],
         "xaxis": "x8",
         "y": [
          0.8185633845691501,
          1.250081636706017,
          0.11665422761436443,
          -0.2819901305478438,
          -0.6630182612897098,
          -0.3976453012974691,
          -0.5142082474577344,
          1.432976072008938,
          -2.614656326430859,
          2.142350309515806,
          0.6315409739127879,
          -0.708523285057641,
          0.5887555771349915,
          -1.4670398225476153,
          0.38477474395597316,
          2.1580945911705522,
          -0.6516882359233838,
          -1.6072549511834457,
          1.9364025334076367,
          -0.3729478015325837,
          1.456366286150059,
          0.5439429577293267,
          -0.06266508726016042,
          0.08840851093159466,
          0.525358281417997,
          -0.3415948287709737,
          0.2782395112701509,
          -0.17363095306504372,
          1.6475287341175775,
          -0.6562329183539691,
          -0.606666583795318,
          0.8233227456549621,
          -1.1006792057121941,
          -0.6038368427675496,
          -2.0685312197481656,
          -1.986812049601142,
          0.8016485809681733,
          0.08165263911139128,
          0.3018568326471051,
          1.4093206296813823,
          -0.1419959788866885,
          1.0068346160490198,
          -0.2135577872229478,
          -0.6212130211754662,
          2.91751459596935,
          -0.987940120823154,
          -0.9635950028352653,
          1.527761807710861,
          -2.660145662991958,
          0.9936137813400049,
          0.19720730910200923,
          1.9220446213364466,
          -1.9824981561511965,
          0.9563612107483108,
          1.2114572878639558,
          1.6761627962728234,
          1.1172822968710148,
          -0.852556826829526,
          0.5588420880177051,
          -0.48081412546774405,
          0.21619630678914495,
          0.28570481398274655,
          -0.26149968424397974,
          0.11408904413161775,
          1.2445996688810668,
          0.5878519772306224,
          0.03640300202301524,
          1.3429085752990346,
          0.31823227538228843,
          -0.44676448115245726,
          -0.32530669262862044,
          0.9727877924250453,
          -0.0016704124674436116,
          -1.704903047178396,
          0.06066998774211031,
          0.28333312677425526,
          -0.5461410231171553,
          1.1876633432998498,
          1.823974612474308,
          0.3496133196099635,
          1.447369161868816,
          -0.14884505603801926,
          0.2162416080437122,
          -0.5313346616861173,
          2.1559149096145016,
          0.4148938103042243,
          -0.07700947991227261,
          -0.17273927058773778,
          1.34532358448916,
          1.234205040365912,
          2.044149009033562,
          -0.009843940123830736,
          0.9337939733849073,
          1.087400634796986,
          0.3308251839280632,
          0.21105526600770663,
          1.1130421977450977,
          0.6499386149537946,
          -1.782007975306854,
          0.12607299045661263
         ],
         "yaxis": "y8"
        },
        {
         "line": {
          "color": "rgba(128, 128, 128, 1.0)",
          "dash": "solid",
          "shape": "linear",
          "width": 1.3
         },
         "marker": {
          "size": 2,
          "symbol": "circle"
         },
         "mode": "markers",
         "name": "C",
         "text": "",
         "type": "scatter",
         "x": [
          -0.12860260964606524,
          -1.635076306921547,
          -0.5868234739317386,
          0.20536526213217854,
          -0.7704148764243725,
          -0.608403118302665,
          -0.7771802124507576,
          0.8638616806968181,
          0.1987514763826788,
          0.5357468318854114,
          -0.805512501779021,
          2.818642095345587,
          -2.240429562821057,
          -0.9088716508414676,
          0.7688400036889937,
          1.3756705159878135,
          -0.14107448240173198,
          0.08435939863095848,
          -0.47542973557415535,
          -0.1674320741073042,
          -0.9928036010743042,
          -0.7456484563065178,
          0.3635481444242281,
          -0.5882618454120682,
          0.25414012281316667,
          0.8075350123432112,
          -2.17954988460998,
          1.0844212767816042,
          -0.6155401327201286,
          -0.8120677127265419,
          2.682095463168087,
          -0.8861062679388414,
          1.469866879622548,
          0.5739384835339598,
          -0.23539355790992364,
          0.3855826865292886,
          0.7186966464917793,
          0.3410797855162574,
          0.5082102613681312,
          -1.0232298776039623,
          0.094534363966649,
          -0.7468149471682591,
          0.6229276400590422,
          -1.006463292187963,
          0.43942570432402883,
          0.13999106174426013,
          -0.18938672474156987,
          -2.1591422816985486,
          -0.7712419228767906,
          -0.13630277784588765,
          1.8808542077379922,
          -0.03716927274838659,
          1.2639943341550404,
          -1.9816255138725716,
          -0.9559184241340777,
          0.3247446560710932,
          0.18749271902478037,
          0.07551280173086344,
          -0.49192181482586333,
          -0.4064583434602699,
          0.37686420304300106,
          -1.2662705459050974,
          0.8542971275153713,
          0.29222986412994945,
          -0.4357575569598363,
          -0.5029881280728328,
          -0.07342481701123633,
          -0.580731972963385,
          0.16814525256958246,
          0.7540617088613196,
          -2.807357263191882,
          0.2943652315452601,
          -0.9074105640013431,
          0.15419826504650516,
          -0.4020928330168706,
          -1.101935671902682,
          1.0590467937942818,
          -0.3873084367063922,
          0.850415751157854,
          -1.5268134381322997,
          0.17885452056056642,
          0.8598113461865062,
          -0.5332477857304616,
          0.42630320958643003,
          1.4763273314038519,
          1.0445069006882544,
          -2.029088486467021,
          -0.029734088032628603,
          -0.6745514583669592,
          -0.42394470279379776,
          -0.36594863842629466,
          -0.19923259224542597,
          -1.3006374051023517,
          -0.07018709569337656,
          -0.06322920059030304,
          0.09020414160573006,
          -0.42177867349612475,
          -1.4466636968930875,
          0.39394302890355015,
          -0.16504994921024868
         ],
         "xaxis": "x9",
         "y": [
          -0.893034094052463,
          0.32142774154723863,
          -0.3461919868219022,
          1.6561915760000439,
          -1.8166327223963545,
          1.040524839747155,
          0.9933425557883019,
          0.74754787649467,
          -1.3697550864677888,
          0.9475525316175184,
          0.5903154036144674,
          -0.7193204284641453,
          -1.9706838414463923,
          1.424327904930943,
          1.9116607052143617,
          -0.7403230847455231,
          0.32122402861502725,
          0.2666188237967878,
          -1.2472844827286877,
          -0.9864156678890039,
          -1.5740847455847609,
          2.4053623963015944,
          -0.18380770754266082,
          1.0100927924209668,
          0.008227393622940006,
          1.5040658984836761,
          0.35984666317500086,
          -0.010621694922587542,
          -0.9994973288590799,
          2.595693886950609,
          0.2353111613525256,
          0.6381246998827086,
          -0.817931135113251,
          -0.7312839667532411,
          -0.9516835966826418,
          0.9423829522251238,
          -0.49790466411485795,
          0.8650948398809166,
          -0.9622854165672089,
          -1.0009942771582916,
          -0.12384188866053221,
          -1.2762267019310556,
          0.7712920222160783,
          0.7201184409510004,
          0.779483744367753,
          -1.762828670711382,
          -0.0038623199058505603,
          -0.873829783639345,
          0.5522355139598802,
          -1.3762138498922944,
          -1.1066194220310017,
          1.2152314341907116,
          0.05727901067260451,
          0.15114641295756395,
          0.29208588700478477,
          -1.2926987542555897,
          0.9792888922932551,
          -0.9463140974925113,
          0.883439595680161,
          0.3706456171106732,
          -0.08177682307403422,
          -0.47332294991059815,
          1.3951761743033302,
          -1.6761156446064684,
          0.6266946201967991,
          0.2418690971931785,
          0.9757683977975071,
          -0.12448811651009352,
          0.5995728523890195,
          -0.32181688438111844,
          -0.3465102167045141,
          0.7450924421626615,
          -0.06462150137038737,
          -0.9730558453768658,
          -1.803169972606296,
          -1.415646240961098,
          -1.197401565341801,
          0.9075922706514219,
          -0.7091205077971906,
          -1.0276347737760627,
          0.5380829806883355,
          -1.3678380610816991,
          -0.384241833930092,
          1.0254937487462035,
          -1.0654007272260546,
          1.2815424921644067,
          -1.6442022248361263,
          1.1045538065374758,
          0.16939116563923345,
          -0.05036027322015534,
          0.1748085662363392,
          -0.8618252699045826,
          -0.2934214357447494,
          0.5215076797551154,
          0.6967115919183898,
          0.5030398497295235,
          -1.3726691115386644,
          -0.48476916140777454,
          -1.4189375538405415,
          -0.6137861683516325
         ],
         "yaxis": "y9"
        },
        {
         "line": {
          "color": "rgba(128, 128, 128, 1.0)",
          "dash": "solid",
          "shape": "linear",
          "width": 1.3
         },
         "marker": {
          "size": 2,
          "symbol": "circle"
         },
         "mode": "markers",
         "name": "C",
         "text": "",
         "type": "scatter",
         "x": [
          0.8185633845691501,
          1.250081636706017,
          0.11665422761436443,
          -0.2819901305478438,
          -0.6630182612897098,
          -0.3976453012974691,
          -0.5142082474577344,
          1.432976072008938,
          -2.614656326430859,
          2.142350309515806,
          0.6315409739127879,
          -0.708523285057641,
          0.5887555771349915,
          -1.4670398225476153,
          0.38477474395597316,
          2.1580945911705522,
          -0.6516882359233838,
          -1.6072549511834457,
          1.9364025334076367,
          -0.3729478015325837,
          1.456366286150059,
          0.5439429577293267,
          -0.06266508726016042,
          0.08840851093159466,
          0.525358281417997,
          -0.3415948287709737,
          0.2782395112701509,
          -0.17363095306504372,
          1.6475287341175775,
          -0.6562329183539691,
          -0.606666583795318,
          0.8233227456549621,
          -1.1006792057121941,
          -0.6038368427675496,
          -2.0685312197481656,
          -1.986812049601142,
          0.8016485809681733,
          0.08165263911139128,
          0.3018568326471051,
          1.4093206296813823,
          -0.1419959788866885,
          1.0068346160490198,
          -0.2135577872229478,
          -0.6212130211754662,
          2.91751459596935,
          -0.987940120823154,
          -0.9635950028352653,
          1.527761807710861,
          -2.660145662991958,
          0.9936137813400049,
          0.19720730910200923,
          1.9220446213364466,
          -1.9824981561511965,
          0.9563612107483108,
          1.2114572878639558,
          1.6761627962728234,
          1.1172822968710148,
          -0.852556826829526,
          0.5588420880177051,
          -0.48081412546774405,
          0.21619630678914495,
          0.28570481398274655,
          -0.26149968424397974,
          0.11408904413161775,
          1.2445996688810668,
          0.5878519772306224,
          0.03640300202301524,
          1.3429085752990346,
          0.31823227538228843,
          -0.44676448115245726,
          -0.32530669262862044,
          0.9727877924250453,
          -0.0016704124674436116,
          -1.704903047178396,
          0.06066998774211031,
          0.28333312677425526,
          -0.5461410231171553,
          1.1876633432998498,
          1.823974612474308,
          0.3496133196099635,
          1.447369161868816,
          -0.14884505603801926,
          0.2162416080437122,
          -0.5313346616861173,
          2.1559149096145016,
          0.4148938103042243,
          -0.07700947991227261,
          -0.17273927058773778,
          1.34532358448916,
          1.234205040365912,
          2.044149009033562,
          -0.009843940123830736,
          0.9337939733849073,
          1.087400634796986,
          0.3308251839280632,
          0.21105526600770663,
          1.1130421977450977,
          0.6499386149537946,
          -1.782007975306854,
          0.12607299045661263
         ],
         "xaxis": "x10",
         "y": [
          -0.893034094052463,
          0.32142774154723863,
          -0.3461919868219022,
          1.6561915760000439,
          -1.8166327223963545,
          1.040524839747155,
          0.9933425557883019,
          0.74754787649467,
          -1.3697550864677888,
          0.9475525316175184,
          0.5903154036144674,
          -0.7193204284641453,
          -1.9706838414463923,
          1.424327904930943,
          1.9116607052143617,
          -0.7403230847455231,
          0.32122402861502725,
          0.2666188237967878,
          -1.2472844827286877,
          -0.9864156678890039,
          -1.5740847455847609,
          2.4053623963015944,
          -0.18380770754266082,
          1.0100927924209668,
          0.008227393622940006,
          1.5040658984836761,
          0.35984666317500086,
          -0.010621694922587542,
          -0.9994973288590799,
          2.595693886950609,
          0.2353111613525256,
          0.6381246998827086,
          -0.817931135113251,
          -0.7312839667532411,
          -0.9516835966826418,
          0.9423829522251238,
          -0.49790466411485795,
          0.8650948398809166,
          -0.9622854165672089,
          -1.0009942771582916,
          -0.12384188866053221,
          -1.2762267019310556,
          0.7712920222160783,
          0.7201184409510004,
          0.779483744367753,
          -1.762828670711382,
          -0.0038623199058505603,
          -0.873829783639345,
          0.5522355139598802,
          -1.3762138498922944,
          -1.1066194220310017,
          1.2152314341907116,
          0.05727901067260451,
          0.15114641295756395,
          0.29208588700478477,
          -1.2926987542555897,
          0.9792888922932551,
          -0.9463140974925113,
          0.883439595680161,
          0.3706456171106732,
          -0.08177682307403422,
          -0.47332294991059815,
          1.3951761743033302,
          -1.6761156446064684,
          0.6266946201967991,
          0.2418690971931785,
          0.9757683977975071,
          -0.12448811651009352,
          0.5995728523890195,
          -0.32181688438111844,
          -0.3465102167045141,
          0.7450924421626615,
          -0.06462150137038737,
          -0.9730558453768658,
          -1.803169972606296,
          -1.415646240961098,
          -1.197401565341801,
          0.9075922706514219,
          -0.7091205077971906,
          -1.0276347737760627,
          0.5380829806883355,
          -1.3678380610816991,
          -0.384241833930092,
          1.0254937487462035,
          -1.0654007272260546,
          1.2815424921644067,
          -1.6442022248361263,
          1.1045538065374758,
          0.16939116563923345,
          -0.05036027322015534,
          0.1748085662363392,
          -0.8618252699045826,
          -0.2934214357447494,
          0.5215076797551154,
          0.6967115919183898,
          0.5030398497295235,
          -1.3726691115386644,
          -0.48476916140777454,
          -1.4189375538405415,
          -0.6137861683516325
         ],
         "yaxis": "y10"
        },
        {
         "histfunc": "count",
         "histnorm": "",
         "marker": {
          "color": "rgba(50, 171, 96, 1.0)",
          "line": {
           "color": "#4D5663",
           "width": 1.3
          }
         },
         "name": "C",
         "nbinsx": 10,
         "opacity": 0.8,
         "orientation": "v",
         "type": "histogram",
         "x": [
          -0.893034094052463,
          0.32142774154723863,
          -0.3461919868219022,
          1.6561915760000439,
          -1.8166327223963545,
          1.040524839747155,
          0.9933425557883019,
          0.74754787649467,
          -1.3697550864677888,
          0.9475525316175184,
          0.5903154036144674,
          -0.7193204284641453,
          -1.9706838414463923,
          1.424327904930943,
          1.9116607052143617,
          -0.7403230847455231,
          0.32122402861502725,
          0.2666188237967878,
          -1.2472844827286877,
          -0.9864156678890039,
          -1.5740847455847609,
          2.4053623963015944,
          -0.18380770754266082,
          1.0100927924209668,
          0.008227393622940006,
          1.5040658984836761,
          0.35984666317500086,
          -0.010621694922587542,
          -0.9994973288590799,
          2.595693886950609,
          0.2353111613525256,
          0.6381246998827086,
          -0.817931135113251,
          -0.7312839667532411,
          -0.9516835966826418,
          0.9423829522251238,
          -0.49790466411485795,
          0.8650948398809166,
          -0.9622854165672089,
          -1.0009942771582916,
          -0.12384188866053221,
          -1.2762267019310556,
          0.7712920222160783,
          0.7201184409510004,
          0.779483744367753,
          -1.762828670711382,
          -0.0038623199058505603,
          -0.873829783639345,
          0.5522355139598802,
          -1.3762138498922944,
          -1.1066194220310017,
          1.2152314341907116,
          0.05727901067260451,
          0.15114641295756395,
          0.29208588700478477,
          -1.2926987542555897,
          0.9792888922932551,
          -0.9463140974925113,
          0.883439595680161,
          0.3706456171106732,
          -0.08177682307403422,
          -0.47332294991059815,
          1.3951761743033302,
          -1.6761156446064684,
          0.6266946201967991,
          0.2418690971931785,
          0.9757683977975071,
          -0.12448811651009352,
          0.5995728523890195,
          -0.32181688438111844,
          -0.3465102167045141,
          0.7450924421626615,
          -0.06462150137038737,
          -0.9730558453768658,
          -1.803169972606296,
          -1.415646240961098,
          -1.197401565341801,
          0.9075922706514219,
          -0.7091205077971906,
          -1.0276347737760627,
          0.5380829806883355,
          -1.3678380610816991,
          -0.384241833930092,
          1.0254937487462035,
          -1.0654007272260546,
          1.2815424921644067,
          -1.6442022248361263,
          1.1045538065374758,
          0.16939116563923345,
          -0.05036027322015534,
          0.1748085662363392,
          -0.8618252699045826,
          -0.2934214357447494,
          0.5215076797551154,
          0.6967115919183898,
          0.5030398497295235,
          -1.3726691115386644,
          -0.48476916140777454,
          -1.4189375538405415,
          -0.6137861683516325
         ],
         "xaxis": "x11",
         "yaxis": "y11"
        },
        {
         "line": {
          "color": "rgba(128, 128, 128, 1.0)",
          "dash": "solid",
          "shape": "linear",
          "width": 1.3
         },
         "marker": {
          "size": 2,
          "symbol": "circle"
         },
         "mode": "markers",
         "name": "C",
         "text": "",
         "type": "scatter",
         "x": [
          1.1090472642363909,
          0.3371178180290584,
          0.28296765784076466,
          0.6149689457809169,
          0.7211730147563021,
          -1.931355800765621,
          0.03680030435616002,
          1.2813817922133333,
          1.416789465032888,
          0.008902683668203053,
          1.8631248309084487,
          -1.1801272473457742,
          0.04401416854001588,
          0.4743579555480905,
          -0.21738334375790233,
          1.1026659700438266,
          0.29241381541813016,
          1.9837903562943187,
          -0.6046270328586335,
          -0.208238480202482,
          -1.2956492020082484,
          -0.37442784874958635,
          -1.003657298561281,
          1.3352433678906408,
          0.8956244986767935,
          0.5599092583174339,
          1.982762838089537,
          0.5291275601716697,
          1.1339893735070545,
          0.2102874001458619,
          1.2137571986048645,
          1.072855331697689,
          -0.3872297527707569,
          0.9522421483503503,
          -0.2483481445228857,
          0.9895580848046946,
          0.518066626851122,
          0.2371795910475936,
          1.093349591901714,
          -0.3405701235063494,
          1.0175990051495523,
          -0.2952900676832008,
          -1.8938460290296366,
          1.620709125112299,
          -0.5388766183964406,
          -0.01374413684704235,
          -1.265764045922524,
          0.9828292540798076,
          0.578019867098778,
          0.7479627043288422,
          0.44680889106332966,
          -0.049622289294041756,
          -1.8675176393309336,
          0.41784058977742944,
          -0.78069049218744,
          -0.05023129981822584,
          0.9259084674694911,
          0.6079049195138972,
          -0.39550342315557996,
          0.810143942297103,
          0.18919567905140158,
          -0.060299398658938505,
          -0.5525599961640696,
          1.7448446554934378,
          1.2423299530024818,
          -0.7695859381636041,
          2.6974847759337393,
          -0.07989190730872778,
          -1.2611950165908241,
          1.2276507805607053,
          -0.6760775174913568,
          -0.19419234359693743,
          -1.0456515261340296,
          0.930610378884731,
          -0.6337624543021817,
          1.1934863057915028,
          -0.46446474733013593,
          0.9204170401886379,
          -0.3590193707293201,
          0.9154528331732662,
          -0.8434896435775322,
          -0.05709711280818407,
          -1.1696974727005032,
          0.3806656393442269,
          0.10647308023301408,
          -1.8337572800242365,
          0.6746856155101841,
          0.36735808876414183,
          -0.009142462456620622,
          -0.6159435399443982,
          0.4399981957217681,
          -0.6886887756599419,
          -0.8040263573259767,
          1.8087612711383865,
          1.0287037258388427,
          -4.637040204721781,
          1.7028759081582905,
          2.150505776094501,
          0.7446413266198268,
          0.15277915723958443
         ],
         "xaxis": "x12",
         "y": [
          -0.893034094052463,
          0.32142774154723863,
          -0.3461919868219022,
          1.6561915760000439,
          -1.8166327223963545,
          1.040524839747155,
          0.9933425557883019,
          0.74754787649467,
          -1.3697550864677888,
          0.9475525316175184,
          0.5903154036144674,
          -0.7193204284641453,
          -1.9706838414463923,
          1.424327904930943,
          1.9116607052143617,
          -0.7403230847455231,
          0.32122402861502725,
          0.2666188237967878,
          -1.2472844827286877,
          -0.9864156678890039,
          -1.5740847455847609,
          2.4053623963015944,
          -0.18380770754266082,
          1.0100927924209668,
          0.008227393622940006,
          1.5040658984836761,
          0.35984666317500086,
          -0.010621694922587542,
          -0.9994973288590799,
          2.595693886950609,
          0.2353111613525256,
          0.6381246998827086,
          -0.817931135113251,
          -0.7312839667532411,
          -0.9516835966826418,
          0.9423829522251238,
          -0.49790466411485795,
          0.8650948398809166,
          -0.9622854165672089,
          -1.0009942771582916,
          -0.12384188866053221,
          -1.2762267019310556,
          0.7712920222160783,
          0.7201184409510004,
          0.779483744367753,
          -1.762828670711382,
          -0.0038623199058505603,
          -0.873829783639345,
          0.5522355139598802,
          -1.3762138498922944,
          -1.1066194220310017,
          1.2152314341907116,
          0.05727901067260451,
          0.15114641295756395,
          0.29208588700478477,
          -1.2926987542555897,
          0.9792888922932551,
          -0.9463140974925113,
          0.883439595680161,
          0.3706456171106732,
          -0.08177682307403422,
          -0.47332294991059815,
          1.3951761743033302,
          -1.6761156446064684,
          0.6266946201967991,
          0.2418690971931785,
          0.9757683977975071,
          -0.12448811651009352,
          0.5995728523890195,
          -0.32181688438111844,
          -0.3465102167045141,
          0.7450924421626615,
          -0.06462150137038737,
          -0.9730558453768658,
          -1.803169972606296,
          -1.415646240961098,
          -1.197401565341801,
          0.9075922706514219,
          -0.7091205077971906,
          -1.0276347737760627,
          0.5380829806883355,
          -1.3678380610816991,
          -0.384241833930092,
          1.0254937487462035,
          -1.0654007272260546,
          1.2815424921644067,
          -1.6442022248361263,
          1.1045538065374758,
          0.16939116563923345,
          -0.05036027322015534,
          0.1748085662363392,
          -0.8618252699045826,
          -0.2934214357447494,
          0.5215076797551154,
          0.6967115919183898,
          0.5030398497295235,
          -1.3726691115386644,
          -0.48476916140777454,
          -1.4189375538405415,
          -0.6137861683516325
         ],
         "yaxis": "y12"
        },
        {
         "line": {
          "color": "rgba(128, 128, 128, 1.0)",
          "dash": "solid",
          "shape": "linear",
          "width": 1.3
         },
         "marker": {
          "size": 2,
          "symbol": "circle"
         },
         "mode": "markers",
         "name": "D",
         "text": "",
         "type": "scatter",
         "x": [
          -0.12860260964606524,
          -1.635076306921547,
          -0.5868234739317386,
          0.20536526213217854,
          -0.7704148764243725,
          -0.608403118302665,
          -0.7771802124507576,
          0.8638616806968181,
          0.1987514763826788,
          0.5357468318854114,
          -0.805512501779021,
          2.818642095345587,
          -2.240429562821057,
          -0.9088716508414676,
          0.7688400036889937,
          1.3756705159878135,
          -0.14107448240173198,
          0.08435939863095848,
          -0.47542973557415535,
          -0.1674320741073042,
          -0.9928036010743042,
          -0.7456484563065178,
          0.3635481444242281,
          -0.5882618454120682,
          0.25414012281316667,
          0.8075350123432112,
          -2.17954988460998,
          1.0844212767816042,
          -0.6155401327201286,
          -0.8120677127265419,
          2.682095463168087,
          -0.8861062679388414,
          1.469866879622548,
          0.5739384835339598,
          -0.23539355790992364,
          0.3855826865292886,
          0.7186966464917793,
          0.3410797855162574,
          0.5082102613681312,
          -1.0232298776039623,
          0.094534363966649,
          -0.7468149471682591,
          0.6229276400590422,
          -1.006463292187963,
          0.43942570432402883,
          0.13999106174426013,
          -0.18938672474156987,
          -2.1591422816985486,
          -0.7712419228767906,
          -0.13630277784588765,
          1.8808542077379922,
          -0.03716927274838659,
          1.2639943341550404,
          -1.9816255138725716,
          -0.9559184241340777,
          0.3247446560710932,
          0.18749271902478037,
          0.07551280173086344,
          -0.49192181482586333,
          -0.4064583434602699,
          0.37686420304300106,
          -1.2662705459050974,
          0.8542971275153713,
          0.29222986412994945,
          -0.4357575569598363,
          -0.5029881280728328,
          -0.07342481701123633,
          -0.580731972963385,
          0.16814525256958246,
          0.7540617088613196,
          -2.807357263191882,
          0.2943652315452601,
          -0.9074105640013431,
          0.15419826504650516,
          -0.4020928330168706,
          -1.101935671902682,
          1.0590467937942818,
          -0.3873084367063922,
          0.850415751157854,
          -1.5268134381322997,
          0.17885452056056642,
          0.8598113461865062,
          -0.5332477857304616,
          0.42630320958643003,
          1.4763273314038519,
          1.0445069006882544,
          -2.029088486467021,
          -0.029734088032628603,
          -0.6745514583669592,
          -0.42394470279379776,
          -0.36594863842629466,
          -0.19923259224542597,
          -1.3006374051023517,
          -0.07018709569337656,
          -0.06322920059030304,
          0.09020414160573006,
          -0.42177867349612475,
          -1.4466636968930875,
          0.39394302890355015,
          -0.16504994921024868
         ],
         "xaxis": "x13",
         "y": [
          1.1090472642363909,
          0.3371178180290584,
          0.28296765784076466,
          0.6149689457809169,
          0.7211730147563021,
          -1.931355800765621,
          0.03680030435616002,
          1.2813817922133333,
          1.416789465032888,
          0.008902683668203053,
          1.8631248309084487,
          -1.1801272473457742,
          0.04401416854001588,
          0.4743579555480905,
          -0.21738334375790233,
          1.1026659700438266,
          0.29241381541813016,
          1.9837903562943187,
          -0.6046270328586335,
          -0.208238480202482,
          -1.2956492020082484,
          -0.37442784874958635,
          -1.003657298561281,
          1.3352433678906408,
          0.8956244986767935,
          0.5599092583174339,
          1.982762838089537,
          0.5291275601716697,
          1.1339893735070545,
          0.2102874001458619,
          1.2137571986048645,
          1.072855331697689,
          -0.3872297527707569,
          0.9522421483503503,
          -0.2483481445228857,
          0.9895580848046946,
          0.518066626851122,
          0.2371795910475936,
          1.093349591901714,
          -0.3405701235063494,
          1.0175990051495523,
          -0.2952900676832008,
          -1.8938460290296366,
          1.620709125112299,
          -0.5388766183964406,
          -0.01374413684704235,
          -1.265764045922524,
          0.9828292540798076,
          0.578019867098778,
          0.7479627043288422,
          0.44680889106332966,
          -0.049622289294041756,
          -1.8675176393309336,
          0.41784058977742944,
          -0.78069049218744,
          -0.05023129981822584,
          0.9259084674694911,
          0.6079049195138972,
          -0.39550342315557996,
          0.810143942297103,
          0.18919567905140158,
          -0.060299398658938505,
          -0.5525599961640696,
          1.7448446554934378,
          1.2423299530024818,
          -0.7695859381636041,
          2.6974847759337393,
          -0.07989190730872778,
          -1.2611950165908241,
          1.2276507805607053,
          -0.6760775174913568,
          -0.19419234359693743,
          -1.0456515261340296,
          0.930610378884731,
          -0.6337624543021817,
          1.1934863057915028,
          -0.46446474733013593,
          0.9204170401886379,
          -0.3590193707293201,
          0.9154528331732662,
          -0.8434896435775322,
          -0.05709711280818407,
          -1.1696974727005032,
          0.3806656393442269,
          0.10647308023301408,
          -1.8337572800242365,
          0.6746856155101841,
          0.36735808876414183,
          -0.009142462456620622,
          -0.6159435399443982,
          0.4399981957217681,
          -0.6886887756599419,
          -0.8040263573259767,
          1.8087612711383865,
          1.0287037258388427,
          -4.637040204721781,
          1.7028759081582905,
          2.150505776094501,
          0.7446413266198268,
          0.15277915723958443
         ],
         "yaxis": "y13"
        },
        {
         "line": {
          "color": "rgba(128, 128, 128, 1.0)",
          "dash": "solid",
          "shape": "linear",
          "width": 1.3
         },
         "marker": {
          "size": 2,
          "symbol": "circle"
         },
         "mode": "markers",
         "name": "D",
         "text": "",
         "type": "scatter",
         "x": [
          0.8185633845691501,
          1.250081636706017,
          0.11665422761436443,
          -0.2819901305478438,
          -0.6630182612897098,
          -0.3976453012974691,
          -0.5142082474577344,
          1.432976072008938,
          -2.614656326430859,
          2.142350309515806,
          0.6315409739127879,
          -0.708523285057641,
          0.5887555771349915,
          -1.4670398225476153,
          0.38477474395597316,
          2.1580945911705522,
          -0.6516882359233838,
          -1.6072549511834457,
          1.9364025334076367,
          -0.3729478015325837,
          1.456366286150059,
          0.5439429577293267,
          -0.06266508726016042,
          0.08840851093159466,
          0.525358281417997,
          -0.3415948287709737,
          0.2782395112701509,
          -0.17363095306504372,
          1.6475287341175775,
          -0.6562329183539691,
          -0.606666583795318,
          0.8233227456549621,
          -1.1006792057121941,
          -0.6038368427675496,
          -2.0685312197481656,
          -1.986812049601142,
          0.8016485809681733,
          0.08165263911139128,
          0.3018568326471051,
          1.4093206296813823,
          -0.1419959788866885,
          1.0068346160490198,
          -0.2135577872229478,
          -0.6212130211754662,
          2.91751459596935,
          -0.987940120823154,
          -0.9635950028352653,
          1.527761807710861,
          -2.660145662991958,
          0.9936137813400049,
          0.19720730910200923,
          1.9220446213364466,
          -1.9824981561511965,
          0.9563612107483108,
          1.2114572878639558,
          1.6761627962728234,
          1.1172822968710148,
          -0.852556826829526,
          0.5588420880177051,
          -0.48081412546774405,
          0.21619630678914495,
          0.28570481398274655,
          -0.26149968424397974,
          0.11408904413161775,
          1.2445996688810668,
          0.5878519772306224,
          0.03640300202301524,
          1.3429085752990346,
          0.31823227538228843,
          -0.44676448115245726,
          -0.32530669262862044,
          0.9727877924250453,
          -0.0016704124674436116,
          -1.704903047178396,
          0.06066998774211031,
          0.28333312677425526,
          -0.5461410231171553,
          1.1876633432998498,
          1.823974612474308,
          0.3496133196099635,
          1.447369161868816,
          -0.14884505603801926,
          0.2162416080437122,
          -0.5313346616861173,
          2.1559149096145016,
          0.4148938103042243,
          -0.07700947991227261,
          -0.17273927058773778,
          1.34532358448916,
          1.234205040365912,
          2.044149009033562,
          -0.009843940123830736,
          0.9337939733849073,
          1.087400634796986,
          0.3308251839280632,
          0.21105526600770663,
          1.1130421977450977,
          0.6499386149537946,
          -1.782007975306854,
          0.12607299045661263
         ],
         "xaxis": "x14",
         "y": [
          1.1090472642363909,
          0.3371178180290584,
          0.28296765784076466,
          0.6149689457809169,
          0.7211730147563021,
          -1.931355800765621,
          0.03680030435616002,
          1.2813817922133333,
          1.416789465032888,
          0.008902683668203053,
          1.8631248309084487,
          -1.1801272473457742,
          0.04401416854001588,
          0.4743579555480905,
          -0.21738334375790233,
          1.1026659700438266,
          0.29241381541813016,
          1.9837903562943187,
          -0.6046270328586335,
          -0.208238480202482,
          -1.2956492020082484,
          -0.37442784874958635,
          -1.003657298561281,
          1.3352433678906408,
          0.8956244986767935,
          0.5599092583174339,
          1.982762838089537,
          0.5291275601716697,
          1.1339893735070545,
          0.2102874001458619,
          1.2137571986048645,
          1.072855331697689,
          -0.3872297527707569,
          0.9522421483503503,
          -0.2483481445228857,
          0.9895580848046946,
          0.518066626851122,
          0.2371795910475936,
          1.093349591901714,
          -0.3405701235063494,
          1.0175990051495523,
          -0.2952900676832008,
          -1.8938460290296366,
          1.620709125112299,
          -0.5388766183964406,
          -0.01374413684704235,
          -1.265764045922524,
          0.9828292540798076,
          0.578019867098778,
          0.7479627043288422,
          0.44680889106332966,
          -0.049622289294041756,
          -1.8675176393309336,
          0.41784058977742944,
          -0.78069049218744,
          -0.05023129981822584,
          0.9259084674694911,
          0.6079049195138972,
          -0.39550342315557996,
          0.810143942297103,
          0.18919567905140158,
          -0.060299398658938505,
          -0.5525599961640696,
          1.7448446554934378,
          1.2423299530024818,
          -0.7695859381636041,
          2.6974847759337393,
          -0.07989190730872778,
          -1.2611950165908241,
          1.2276507805607053,
          -0.6760775174913568,
          -0.19419234359693743,
          -1.0456515261340296,
          0.930610378884731,
          -0.6337624543021817,
          1.1934863057915028,
          -0.46446474733013593,
          0.9204170401886379,
          -0.3590193707293201,
          0.9154528331732662,
          -0.8434896435775322,
          -0.05709711280818407,
          -1.1696974727005032,
          0.3806656393442269,
          0.10647308023301408,
          -1.8337572800242365,
          0.6746856155101841,
          0.36735808876414183,
          -0.009142462456620622,
          -0.6159435399443982,
          0.4399981957217681,
          -0.6886887756599419,
          -0.8040263573259767,
          1.8087612711383865,
          1.0287037258388427,
          -4.637040204721781,
          1.7028759081582905,
          2.150505776094501,
          0.7446413266198268,
          0.15277915723958443
         ],
         "yaxis": "y14"
        },
        {
         "line": {
          "color": "rgba(128, 128, 128, 1.0)",
          "dash": "solid",
          "shape": "linear",
          "width": 1.3
         },
         "marker": {
          "size": 2,
          "symbol": "circle"
         },
         "mode": "markers",
         "name": "D",
         "text": "",
         "type": "scatter",
         "x": [
          -0.893034094052463,
          0.32142774154723863,
          -0.3461919868219022,
          1.6561915760000439,
          -1.8166327223963545,
          1.040524839747155,
          0.9933425557883019,
          0.74754787649467,
          -1.3697550864677888,
          0.9475525316175184,
          0.5903154036144674,
          -0.7193204284641453,
          -1.9706838414463923,
          1.424327904930943,
          1.9116607052143617,
          -0.7403230847455231,
          0.32122402861502725,
          0.2666188237967878,
          -1.2472844827286877,
          -0.9864156678890039,
          -1.5740847455847609,
          2.4053623963015944,
          -0.18380770754266082,
          1.0100927924209668,
          0.008227393622940006,
          1.5040658984836761,
          0.35984666317500086,
          -0.010621694922587542,
          -0.9994973288590799,
          2.595693886950609,
          0.2353111613525256,
          0.6381246998827086,
          -0.817931135113251,
          -0.7312839667532411,
          -0.9516835966826418,
          0.9423829522251238,
          -0.49790466411485795,
          0.8650948398809166,
          -0.9622854165672089,
          -1.0009942771582916,
          -0.12384188866053221,
          -1.2762267019310556,
          0.7712920222160783,
          0.7201184409510004,
          0.779483744367753,
          -1.762828670711382,
          -0.0038623199058505603,
          -0.873829783639345,
          0.5522355139598802,
          -1.3762138498922944,
          -1.1066194220310017,
          1.2152314341907116,
          0.05727901067260451,
          0.15114641295756395,
          0.29208588700478477,
          -1.2926987542555897,
          0.9792888922932551,
          -0.9463140974925113,
          0.883439595680161,
          0.3706456171106732,
          -0.08177682307403422,
          -0.47332294991059815,
          1.3951761743033302,
          -1.6761156446064684,
          0.6266946201967991,
          0.2418690971931785,
          0.9757683977975071,
          -0.12448811651009352,
          0.5995728523890195,
          -0.32181688438111844,
          -0.3465102167045141,
          0.7450924421626615,
          -0.06462150137038737,
          -0.9730558453768658,
          -1.803169972606296,
          -1.415646240961098,
          -1.197401565341801,
          0.9075922706514219,
          -0.7091205077971906,
          -1.0276347737760627,
          0.5380829806883355,
          -1.3678380610816991,
          -0.384241833930092,
          1.0254937487462035,
          -1.0654007272260546,
          1.2815424921644067,
          -1.6442022248361263,
          1.1045538065374758,
          0.16939116563923345,
          -0.05036027322015534,
          0.1748085662363392,
          -0.8618252699045826,
          -0.2934214357447494,
          0.5215076797551154,
          0.6967115919183898,
          0.5030398497295235,
          -1.3726691115386644,
          -0.48476916140777454,
          -1.4189375538405415,
          -0.6137861683516325
         ],
         "xaxis": "x15",
         "y": [
          1.1090472642363909,
          0.3371178180290584,
          0.28296765784076466,
          0.6149689457809169,
          0.7211730147563021,
          -1.931355800765621,
          0.03680030435616002,
          1.2813817922133333,
          1.416789465032888,
          0.008902683668203053,
          1.8631248309084487,
          -1.1801272473457742,
          0.04401416854001588,
          0.4743579555480905,
          -0.21738334375790233,
          1.1026659700438266,
          0.29241381541813016,
          1.9837903562943187,
          -0.6046270328586335,
          -0.208238480202482,
          -1.2956492020082484,
          -0.37442784874958635,
          -1.003657298561281,
          1.3352433678906408,
          0.8956244986767935,
          0.5599092583174339,
          1.982762838089537,
          0.5291275601716697,
          1.1339893735070545,
          0.2102874001458619,
          1.2137571986048645,
          1.072855331697689,
          -0.3872297527707569,
          0.9522421483503503,
          -0.2483481445228857,
          0.9895580848046946,
          0.518066626851122,
          0.2371795910475936,
          1.093349591901714,
          -0.3405701235063494,
          1.0175990051495523,
          -0.2952900676832008,
          -1.8938460290296366,
          1.620709125112299,
          -0.5388766183964406,
          -0.01374413684704235,
          -1.265764045922524,
          0.9828292540798076,
          0.578019867098778,
          0.7479627043288422,
          0.44680889106332966,
          -0.049622289294041756,
          -1.8675176393309336,
          0.41784058977742944,
          -0.78069049218744,
          -0.05023129981822584,
          0.9259084674694911,
          0.6079049195138972,
          -0.39550342315557996,
          0.810143942297103,
          0.18919567905140158,
          -0.060299398658938505,
          -0.5525599961640696,
          1.7448446554934378,
          1.2423299530024818,
          -0.7695859381636041,
          2.6974847759337393,
          -0.07989190730872778,
          -1.2611950165908241,
          1.2276507805607053,
          -0.6760775174913568,
          -0.19419234359693743,
          -1.0456515261340296,
          0.930610378884731,
          -0.6337624543021817,
          1.1934863057915028,
          -0.46446474733013593,
          0.9204170401886379,
          -0.3590193707293201,
          0.9154528331732662,
          -0.8434896435775322,
          -0.05709711280818407,
          -1.1696974727005032,
          0.3806656393442269,
          0.10647308023301408,
          -1.8337572800242365,
          0.6746856155101841,
          0.36735808876414183,
          -0.009142462456620622,
          -0.6159435399443982,
          0.4399981957217681,
          -0.6886887756599419,
          -0.8040263573259767,
          1.8087612711383865,
          1.0287037258388427,
          -4.637040204721781,
          1.7028759081582905,
          2.150505776094501,
          0.7446413266198268,
          0.15277915723958443
         ],
         "yaxis": "y15"
        },
        {
         "histfunc": "count",
         "histnorm": "",
         "marker": {
          "color": "rgba(128, 0, 128, 1.0)",
          "line": {
           "color": "#4D5663",
           "width": 1.3
          }
         },
         "name": "D",
         "nbinsx": 10,
         "opacity": 0.8,
         "orientation": "v",
         "type": "histogram",
         "x": [
          1.1090472642363909,
          0.3371178180290584,
          0.28296765784076466,
          0.6149689457809169,
          0.7211730147563021,
          -1.931355800765621,
          0.03680030435616002,
          1.2813817922133333,
          1.416789465032888,
          0.008902683668203053,
          1.8631248309084487,
          -1.1801272473457742,
          0.04401416854001588,
          0.4743579555480905,
          -0.21738334375790233,
          1.1026659700438266,
          0.29241381541813016,
          1.9837903562943187,
          -0.6046270328586335,
          -0.208238480202482,
          -1.2956492020082484,
          -0.37442784874958635,
          -1.003657298561281,
          1.3352433678906408,
          0.8956244986767935,
          0.5599092583174339,
          1.982762838089537,
          0.5291275601716697,
          1.1339893735070545,
          0.2102874001458619,
          1.2137571986048645,
          1.072855331697689,
          -0.3872297527707569,
          0.9522421483503503,
          -0.2483481445228857,
          0.9895580848046946,
          0.518066626851122,
          0.2371795910475936,
          1.093349591901714,
          -0.3405701235063494,
          1.0175990051495523,
          -0.2952900676832008,
          -1.8938460290296366,
          1.620709125112299,
          -0.5388766183964406,
          -0.01374413684704235,
          -1.265764045922524,
          0.9828292540798076,
          0.578019867098778,
          0.7479627043288422,
          0.44680889106332966,
          -0.049622289294041756,
          -1.8675176393309336,
          0.41784058977742944,
          -0.78069049218744,
          -0.05023129981822584,
          0.9259084674694911,
          0.6079049195138972,
          -0.39550342315557996,
          0.810143942297103,
          0.18919567905140158,
          -0.060299398658938505,
          -0.5525599961640696,
          1.7448446554934378,
          1.2423299530024818,
          -0.7695859381636041,
          2.6974847759337393,
          -0.07989190730872778,
          -1.2611950165908241,
          1.2276507805607053,
          -0.6760775174913568,
          -0.19419234359693743,
          -1.0456515261340296,
          0.930610378884731,
          -0.6337624543021817,
          1.1934863057915028,
          -0.46446474733013593,
          0.9204170401886379,
          -0.3590193707293201,
          0.9154528331732662,
          -0.8434896435775322,
          -0.05709711280818407,
          -1.1696974727005032,
          0.3806656393442269,
          0.10647308023301408,
          -1.8337572800242365,
          0.6746856155101841,
          0.36735808876414183,
          -0.009142462456620622,
          -0.6159435399443982,
          0.4399981957217681,
          -0.6886887756599419,
          -0.8040263573259767,
          1.8087612711383865,
          1.0287037258388427,
          -4.637040204721781,
          1.7028759081582905,
          2.150505776094501,
          0.7446413266198268,
          0.15277915723958443
         ],
         "xaxis": "x16",
         "yaxis": "y16"
        }
       ],
       "layout": {
        "bargap": 0.02,
        "legend": {
         "bgcolor": "#F5F6F9",
         "font": {
          "color": "#4D5663"
         }
        },
        "paper_bgcolor": "#F5F6F9",
        "plot_bgcolor": "#F5F6F9",
        "showlegend": false,
        "template": {
         "data": {
          "bar": [
           {
            "error_x": {
             "color": "#2a3f5f"
            },
            "error_y": {
             "color": "#2a3f5f"
            },
            "marker": {
             "line": {
              "color": "#E5ECF6",
              "width": 0.5
             },
             "pattern": {
              "fillmode": "overlay",
              "size": 10,
              "solidity": 0.2
             }
            },
            "type": "bar"
           }
          ],
          "barpolar": [
           {
            "marker": {
             "line": {
              "color": "#E5ECF6",
              "width": 0.5
             },
             "pattern": {
              "fillmode": "overlay",
              "size": 10,
              "solidity": 0.2
             }
            },
            "type": "barpolar"
           }
          ],
          "carpet": [
           {
            "aaxis": {
             "endlinecolor": "#2a3f5f",
             "gridcolor": "white",
             "linecolor": "white",
             "minorgridcolor": "white",
             "startlinecolor": "#2a3f5f"
            },
            "baxis": {
             "endlinecolor": "#2a3f5f",
             "gridcolor": "white",
             "linecolor": "white",
             "minorgridcolor": "white",
             "startlinecolor": "#2a3f5f"
            },
            "type": "carpet"
           }
          ],
          "choropleth": [
           {
            "colorbar": {
             "outlinewidth": 0,
             "ticks": ""
            },
            "type": "choropleth"
           }
          ],
          "contour": [
           {
            "colorbar": {
             "outlinewidth": 0,
             "ticks": ""
            },
            "colorscale": [
             [
              0,
              "#0d0887"
             ],
             [
              0.1111111111111111,
              "#46039f"
             ],
             [
              0.2222222222222222,
              "#7201a8"
             ],
             [
              0.3333333333333333,
              "#9c179e"
             ],
             [
              0.4444444444444444,
              "#bd3786"
             ],
             [
              0.5555555555555556,
              "#d8576b"
             ],
             [
              0.6666666666666666,
              "#ed7953"
             ],
             [
              0.7777777777777778,
              "#fb9f3a"
             ],
             [
              0.8888888888888888,
              "#fdca26"
             ],
             [
              1,
              "#f0f921"
             ]
            ],
            "type": "contour"
           }
          ],
          "contourcarpet": [
           {
            "colorbar": {
             "outlinewidth": 0,
             "ticks": ""
            },
            "type": "contourcarpet"
           }
          ],
          "heatmap": [
           {
            "colorbar": {
             "outlinewidth": 0,
             "ticks": ""
            },
            "colorscale": [
             [
              0,
              "#0d0887"
             ],
             [
              0.1111111111111111,
              "#46039f"
             ],
             [
              0.2222222222222222,
              "#7201a8"
             ],
             [
              0.3333333333333333,
              "#9c179e"
             ],
             [
              0.4444444444444444,
              "#bd3786"
             ],
             [
              0.5555555555555556,
              "#d8576b"
             ],
             [
              0.6666666666666666,
              "#ed7953"
             ],
             [
              0.7777777777777778,
              "#fb9f3a"
             ],
             [
              0.8888888888888888,
              "#fdca26"
             ],
             [
              1,
              "#f0f921"
             ]
            ],
            "type": "heatmap"
           }
          ],
          "heatmapgl": [
           {
            "colorbar": {
             "outlinewidth": 0,
             "ticks": ""
            },
            "colorscale": [
             [
              0,
              "#0d0887"
             ],
             [
              0.1111111111111111,
              "#46039f"
             ],
             [
              0.2222222222222222,
              "#7201a8"
             ],
             [
              0.3333333333333333,
              "#9c179e"
             ],
             [
              0.4444444444444444,
              "#bd3786"
             ],
             [
              0.5555555555555556,
              "#d8576b"
             ],
             [
              0.6666666666666666,
              "#ed7953"
             ],
             [
              0.7777777777777778,
              "#fb9f3a"
             ],
             [
              0.8888888888888888,
              "#fdca26"
             ],
             [
              1,
              "#f0f921"
             ]
            ],
            "type": "heatmapgl"
           }
          ],
          "histogram": [
           {
            "marker": {
             "pattern": {
              "fillmode": "overlay",
              "size": 10,
              "solidity": 0.2
             }
            },
            "type": "histogram"
           }
          ],
          "histogram2d": [
           {
            "colorbar": {
             "outlinewidth": 0,
             "ticks": ""
            },
            "colorscale": [
             [
              0,
              "#0d0887"
             ],
             [
              0.1111111111111111,
              "#46039f"
             ],
             [
              0.2222222222222222,
              "#7201a8"
             ],
             [
              0.3333333333333333,
              "#9c179e"
             ],
             [
              0.4444444444444444,
              "#bd3786"
             ],
             [
              0.5555555555555556,
              "#d8576b"
             ],
             [
              0.6666666666666666,
              "#ed7953"
             ],
             [
              0.7777777777777778,
              "#fb9f3a"
             ],
             [
              0.8888888888888888,
              "#fdca26"
             ],
             [
              1,
              "#f0f921"
             ]
            ],
            "type": "histogram2d"
           }
          ],
          "histogram2dcontour": [
           {
            "colorbar": {
             "outlinewidth": 0,
             "ticks": ""
            },
            "colorscale": [
             [
              0,
              "#0d0887"
             ],
             [
              0.1111111111111111,
              "#46039f"
             ],
             [
              0.2222222222222222,
              "#7201a8"
             ],
             [
              0.3333333333333333,
              "#9c179e"
             ],
             [
              0.4444444444444444,
              "#bd3786"
             ],
             [
              0.5555555555555556,
              "#d8576b"
             ],
             [
              0.6666666666666666,
              "#ed7953"
             ],
             [
              0.7777777777777778,
              "#fb9f3a"
             ],
             [
              0.8888888888888888,
              "#fdca26"
             ],
             [
              1,
              "#f0f921"
             ]
            ],
            "type": "histogram2dcontour"
           }
          ],
          "mesh3d": [
           {
            "colorbar": {
             "outlinewidth": 0,
             "ticks": ""
            },
            "type": "mesh3d"
           }
          ],
          "parcoords": [
           {
            "line": {
             "colorbar": {
              "outlinewidth": 0,
              "ticks": ""
             }
            },
            "type": "parcoords"
           }
          ],
          "pie": [
           {
            "automargin": true,
            "type": "pie"
           }
          ],
          "scatter": [
           {
            "marker": {
             "colorbar": {
              "outlinewidth": 0,
              "ticks": ""
             }
            },
            "type": "scatter"
           }
          ],
          "scatter3d": [
           {
            "line": {
             "colorbar": {
              "outlinewidth": 0,
              "ticks": ""
             }
            },
            "marker": {
             "colorbar": {
              "outlinewidth": 0,
              "ticks": ""
             }
            },
            "type": "scatter3d"
           }
          ],
          "scattercarpet": [
           {
            "marker": {
             "colorbar": {
              "outlinewidth": 0,
              "ticks": ""
             }
            },
            "type": "scattercarpet"
           }
          ],
          "scattergeo": [
           {
            "marker": {
             "colorbar": {
              "outlinewidth": 0,
              "ticks": ""
             }
            },
            "type": "scattergeo"
           }
          ],
          "scattergl": [
           {
            "marker": {
             "colorbar": {
              "outlinewidth": 0,
              "ticks": ""
             }
            },
            "type": "scattergl"
           }
          ],
          "scattermapbox": [
           {
            "marker": {
             "colorbar": {
              "outlinewidth": 0,
              "ticks": ""
             }
            },
            "type": "scattermapbox"
           }
          ],
          "scatterpolar": [
           {
            "marker": {
             "colorbar": {
              "outlinewidth": 0,
              "ticks": ""
             }
            },
            "type": "scatterpolar"
           }
          ],
          "scatterpolargl": [
           {
            "marker": {
             "colorbar": {
              "outlinewidth": 0,
              "ticks": ""
             }
            },
            "type": "scatterpolargl"
           }
          ],
          "scatterternary": [
           {
            "marker": {
             "colorbar": {
              "outlinewidth": 0,
              "ticks": ""
             }
            },
            "type": "scatterternary"
           }
          ],
          "surface": [
           {
            "colorbar": {
             "outlinewidth": 0,
             "ticks": ""
            },
            "colorscale": [
             [
              0,
              "#0d0887"
             ],
             [
              0.1111111111111111,
              "#46039f"
             ],
             [
              0.2222222222222222,
              "#7201a8"
             ],
             [
              0.3333333333333333,
              "#9c179e"
             ],
             [
              0.4444444444444444,
              "#bd3786"
             ],
             [
              0.5555555555555556,
              "#d8576b"
             ],
             [
              0.6666666666666666,
              "#ed7953"
             ],
             [
              0.7777777777777778,
              "#fb9f3a"
             ],
             [
              0.8888888888888888,
              "#fdca26"
             ],
             [
              1,
              "#f0f921"
             ]
            ],
            "type": "surface"
           }
          ],
          "table": [
           {
            "cells": {
             "fill": {
              "color": "#EBF0F8"
             },
             "line": {
              "color": "white"
             }
            },
            "header": {
             "fill": {
              "color": "#C8D4E3"
             },
             "line": {
              "color": "white"
             }
            },
            "type": "table"
           }
          ]
         },
         "layout": {
          "annotationdefaults": {
           "arrowcolor": "#2a3f5f",
           "arrowhead": 0,
           "arrowwidth": 1
          },
          "autotypenumbers": "strict",
          "coloraxis": {
           "colorbar": {
            "outlinewidth": 0,
            "ticks": ""
           }
          },
          "colorscale": {
           "diverging": [
            [
             0,
             "#8e0152"
            ],
            [
             0.1,
             "#c51b7d"
            ],
            [
             0.2,
             "#de77ae"
            ],
            [
             0.3,
             "#f1b6da"
            ],
            [
             0.4,
             "#fde0ef"
            ],
            [
             0.5,
             "#f7f7f7"
            ],
            [
             0.6,
             "#e6f5d0"
            ],
            [
             0.7,
             "#b8e186"
            ],
            [
             0.8,
             "#7fbc41"
            ],
            [
             0.9,
             "#4d9221"
            ],
            [
             1,
             "#276419"
            ]
           ],
           "sequential": [
            [
             0,
             "#0d0887"
            ],
            [
             0.1111111111111111,
             "#46039f"
            ],
            [
             0.2222222222222222,
             "#7201a8"
            ],
            [
             0.3333333333333333,
             "#9c179e"
            ],
            [
             0.4444444444444444,
             "#bd3786"
            ],
            [
             0.5555555555555556,
             "#d8576b"
            ],
            [
             0.6666666666666666,
             "#ed7953"
            ],
            [
             0.7777777777777778,
             "#fb9f3a"
            ],
            [
             0.8888888888888888,
             "#fdca26"
            ],
            [
             1,
             "#f0f921"
            ]
           ],
           "sequentialminus": [
            [
             0,
             "#0d0887"
            ],
            [
             0.1111111111111111,
             "#46039f"
            ],
            [
             0.2222222222222222,
             "#7201a8"
            ],
            [
             0.3333333333333333,
             "#9c179e"
            ],
            [
             0.4444444444444444,
             "#bd3786"
            ],
            [
             0.5555555555555556,
             "#d8576b"
            ],
            [
             0.6666666666666666,
             "#ed7953"
            ],
            [
             0.7777777777777778,
             "#fb9f3a"
            ],
            [
             0.8888888888888888,
             "#fdca26"
            ],
            [
             1,
             "#f0f921"
            ]
           ]
          },
          "colorway": [
           "#636efa",
           "#EF553B",
           "#00cc96",
           "#ab63fa",
           "#FFA15A",
           "#19d3f3",
           "#FF6692",
           "#B6E880",
           "#FF97FF",
           "#FECB52"
          ],
          "font": {
           "color": "#2a3f5f"
          },
          "geo": {
           "bgcolor": "white",
           "lakecolor": "white",
           "landcolor": "#E5ECF6",
           "showlakes": true,
           "showland": true,
           "subunitcolor": "white"
          },
          "hoverlabel": {
           "align": "left"
          },
          "hovermode": "closest",
          "mapbox": {
           "style": "light"
          },
          "paper_bgcolor": "white",
          "plot_bgcolor": "#E5ECF6",
          "polar": {
           "angularaxis": {
            "gridcolor": "white",
            "linecolor": "white",
            "ticks": ""
           },
           "bgcolor": "#E5ECF6",
           "radialaxis": {
            "gridcolor": "white",
            "linecolor": "white",
            "ticks": ""
           }
          },
          "scene": {
           "xaxis": {
            "backgroundcolor": "#E5ECF6",
            "gridcolor": "white",
            "gridwidth": 2,
            "linecolor": "white",
            "showbackground": true,
            "ticks": "",
            "zerolinecolor": "white"
           },
           "yaxis": {
            "backgroundcolor": "#E5ECF6",
            "gridcolor": "white",
            "gridwidth": 2,
            "linecolor": "white",
            "showbackground": true,
            "ticks": "",
            "zerolinecolor": "white"
           },
           "zaxis": {
            "backgroundcolor": "#E5ECF6",
            "gridcolor": "white",
            "gridwidth": 2,
            "linecolor": "white",
            "showbackground": true,
            "ticks": "",
            "zerolinecolor": "white"
           }
          },
          "shapedefaults": {
           "line": {
            "color": "#2a3f5f"
           }
          },
          "ternary": {
           "aaxis": {
            "gridcolor": "white",
            "linecolor": "white",
            "ticks": ""
           },
           "baxis": {
            "gridcolor": "white",
            "linecolor": "white",
            "ticks": ""
           },
           "bgcolor": "#E5ECF6",
           "caxis": {
            "gridcolor": "white",
            "linecolor": "white",
            "ticks": ""
           }
          },
          "title": {
           "x": 0.05
          },
          "xaxis": {
           "automargin": true,
           "gridcolor": "white",
           "linecolor": "white",
           "ticks": "",
           "title": {
            "standoff": 15
           },
           "zerolinecolor": "white",
           "zerolinewidth": 2
          },
          "yaxis": {
           "automargin": true,
           "gridcolor": "white",
           "linecolor": "white",
           "ticks": "",
           "title": {
            "standoff": 15
           },
           "zerolinecolor": "white",
           "zerolinewidth": 2
          }
         }
        },
        "title": {
         "font": {
          "color": "#4D5663"
         }
        },
        "xaxis": {
         "anchor": "y",
         "domain": [
          0,
          0.2125
         ],
         "gridcolor": "#E1E5ED",
         "showgrid": false,
         "tickfont": {
          "color": "#4D5663"
         },
         "title": {
          "font": {
           "color": "#4D5663"
          },
          "text": ""
         },
         "zerolinecolor": "#E1E5ED"
        },
        "xaxis10": {
         "anchor": "y10",
         "domain": [
          0.2625,
          0.475
         ],
         "gridcolor": "#E1E5ED",
         "showgrid": false,
         "tickfont": {
          "color": "#4D5663"
         },
         "title": {
          "font": {
           "color": "#4D5663"
          },
          "text": ""
         },
         "zerolinecolor": "#E1E5ED"
        },
        "xaxis11": {
         "anchor": "y11",
         "domain": [
          0.525,
          0.7375
         ],
         "gridcolor": "#E1E5ED",
         "showgrid": false,
         "tickfont": {
          "color": "#4D5663"
         },
         "title": {
          "font": {
           "color": "#4D5663"
          },
          "text": ""
         },
         "zerolinecolor": "#E1E5ED"
        },
        "xaxis12": {
         "anchor": "y12",
         "domain": [
          0.7875,
          1
         ],
         "gridcolor": "#E1E5ED",
         "showgrid": false,
         "tickfont": {
          "color": "#4D5663"
         },
         "title": {
          "font": {
           "color": "#4D5663"
          },
          "text": ""
         },
         "zerolinecolor": "#E1E5ED"
        },
        "xaxis13": {
         "anchor": "y13",
         "domain": [
          0,
          0.2125
         ],
         "gridcolor": "#E1E5ED",
         "showgrid": false,
         "tickfont": {
          "color": "#4D5663"
         },
         "title": {
          "font": {
           "color": "#4D5663"
          },
          "text": ""
         },
         "zerolinecolor": "#E1E5ED"
        },
        "xaxis14": {
         "anchor": "y14",
         "domain": [
          0.2625,
          0.475
         ],
         "gridcolor": "#E1E5ED",
         "showgrid": false,
         "tickfont": {
          "color": "#4D5663"
         },
         "title": {
          "font": {
           "color": "#4D5663"
          },
          "text": ""
         },
         "zerolinecolor": "#E1E5ED"
        },
        "xaxis15": {
         "anchor": "y15",
         "domain": [
          0.525,
          0.7375
         ],
         "gridcolor": "#E1E5ED",
         "showgrid": false,
         "tickfont": {
          "color": "#4D5663"
         },
         "title": {
          "font": {
           "color": "#4D5663"
          },
          "text": ""
         },
         "zerolinecolor": "#E1E5ED"
        },
        "xaxis16": {
         "anchor": "y16",
         "domain": [
          0.7875,
          1
         ],
         "gridcolor": "#E1E5ED",
         "showgrid": false,
         "tickfont": {
          "color": "#4D5663"
         },
         "title": {
          "font": {
           "color": "#4D5663"
          },
          "text": ""
         },
         "zerolinecolor": "#E1E5ED"
        },
        "xaxis2": {
         "anchor": "y2",
         "domain": [
          0.2625,
          0.475
         ],
         "gridcolor": "#E1E5ED",
         "showgrid": false,
         "tickfont": {
          "color": "#4D5663"
         },
         "title": {
          "font": {
           "color": "#4D5663"
          },
          "text": ""
         },
         "zerolinecolor": "#E1E5ED"
        },
        "xaxis3": {
         "anchor": "y3",
         "domain": [
          0.525,
          0.7375
         ],
         "gridcolor": "#E1E5ED",
         "showgrid": false,
         "tickfont": {
          "color": "#4D5663"
         },
         "title": {
          "font": {
           "color": "#4D5663"
          },
          "text": ""
         },
         "zerolinecolor": "#E1E5ED"
        },
        "xaxis4": {
         "anchor": "y4",
         "domain": [
          0.7875,
          1
         ],
         "gridcolor": "#E1E5ED",
         "showgrid": false,
         "tickfont": {
          "color": "#4D5663"
         },
         "title": {
          "font": {
           "color": "#4D5663"
          },
          "text": ""
         },
         "zerolinecolor": "#E1E5ED"
        },
        "xaxis5": {
         "anchor": "y5",
         "domain": [
          0,
          0.2125
         ],
         "gridcolor": "#E1E5ED",
         "showgrid": false,
         "tickfont": {
          "color": "#4D5663"
         },
         "title": {
          "font": {
           "color": "#4D5663"
          },
          "text": ""
         },
         "zerolinecolor": "#E1E5ED"
        },
        "xaxis6": {
         "anchor": "y6",
         "domain": [
          0.2625,
          0.475
         ],
         "gridcolor": "#E1E5ED",
         "showgrid": false,
         "tickfont": {
          "color": "#4D5663"
         },
         "title": {
          "font": {
           "color": "#4D5663"
          },
          "text": ""
         },
         "zerolinecolor": "#E1E5ED"
        },
        "xaxis7": {
         "anchor": "y7",
         "domain": [
          0.525,
          0.7375
         ],
         "gridcolor": "#E1E5ED",
         "showgrid": false,
         "tickfont": {
          "color": "#4D5663"
         },
         "title": {
          "font": {
           "color": "#4D5663"
          },
          "text": ""
         },
         "zerolinecolor": "#E1E5ED"
        },
        "xaxis8": {
         "anchor": "y8",
         "domain": [
          0.7875,
          1
         ],
         "gridcolor": "#E1E5ED",
         "showgrid": false,
         "tickfont": {
          "color": "#4D5663"
         },
         "title": {
          "font": {
           "color": "#4D5663"
          },
          "text": ""
         },
         "zerolinecolor": "#E1E5ED"
        },
        "xaxis9": {
         "anchor": "y9",
         "domain": [
          0,
          0.2125
         ],
         "gridcolor": "#E1E5ED",
         "showgrid": false,
         "tickfont": {
          "color": "#4D5663"
         },
         "title": {
          "font": {
           "color": "#4D5663"
          },
          "text": ""
         },
         "zerolinecolor": "#E1E5ED"
        },
        "yaxis": {
         "anchor": "x",
         "domain": [
          0.8025,
          1
         ],
         "gridcolor": "#E1E5ED",
         "showgrid": false,
         "tickfont": {
          "color": "#4D5663"
         },
         "title": {
          "font": {
           "color": "#4D5663"
          },
          "text": ""
         },
         "zerolinecolor": "#E1E5ED"
        },
        "yaxis10": {
         "anchor": "x10",
         "domain": [
          0.2675,
          0.465
         ],
         "gridcolor": "#E1E5ED",
         "showgrid": false,
         "tickfont": {
          "color": "#4D5663"
         },
         "title": {
          "font": {
           "color": "#4D5663"
          },
          "text": ""
         },
         "zerolinecolor": "#E1E5ED"
        },
        "yaxis11": {
         "anchor": "x11",
         "domain": [
          0.2675,
          0.465
         ],
         "gridcolor": "#E1E5ED",
         "showgrid": false,
         "tickfont": {
          "color": "#4D5663"
         },
         "title": {
          "font": {
           "color": "#4D5663"
          },
          "text": ""
         },
         "zerolinecolor": "#E1E5ED"
        },
        "yaxis12": {
         "anchor": "x12",
         "domain": [
          0.2675,
          0.465
         ],
         "gridcolor": "#E1E5ED",
         "showgrid": false,
         "tickfont": {
          "color": "#4D5663"
         },
         "title": {
          "font": {
           "color": "#4D5663"
          },
          "text": ""
         },
         "zerolinecolor": "#E1E5ED"
        },
        "yaxis13": {
         "anchor": "x13",
         "domain": [
          0,
          0.1975
         ],
         "gridcolor": "#E1E5ED",
         "showgrid": false,
         "tickfont": {
          "color": "#4D5663"
         },
         "title": {
          "font": {
           "color": "#4D5663"
          },
          "text": ""
         },
         "zerolinecolor": "#E1E5ED"
        },
        "yaxis14": {
         "anchor": "x14",
         "domain": [
          0,
          0.1975
         ],
         "gridcolor": "#E1E5ED",
         "showgrid": false,
         "tickfont": {
          "color": "#4D5663"
         },
         "title": {
          "font": {
           "color": "#4D5663"
          },
          "text": ""
         },
         "zerolinecolor": "#E1E5ED"
        },
        "yaxis15": {
         "anchor": "x15",
         "domain": [
          0,
          0.1975
         ],
         "gridcolor": "#E1E5ED",
         "showgrid": false,
         "tickfont": {
          "color": "#4D5663"
         },
         "title": {
          "font": {
           "color": "#4D5663"
          },
          "text": ""
         },
         "zerolinecolor": "#E1E5ED"
        },
        "yaxis16": {
         "anchor": "x16",
         "domain": [
          0,
          0.1975
         ],
         "gridcolor": "#E1E5ED",
         "showgrid": false,
         "tickfont": {
          "color": "#4D5663"
         },
         "title": {
          "font": {
           "color": "#4D5663"
          },
          "text": ""
         },
         "zerolinecolor": "#E1E5ED"
        },
        "yaxis2": {
         "anchor": "x2",
         "domain": [
          0.8025,
          1
         ],
         "gridcolor": "#E1E5ED",
         "showgrid": false,
         "tickfont": {
          "color": "#4D5663"
         },
         "title": {
          "font": {
           "color": "#4D5663"
          },
          "text": ""
         },
         "zerolinecolor": "#E1E5ED"
        },
        "yaxis3": {
         "anchor": "x3",
         "domain": [
          0.8025,
          1
         ],
         "gridcolor": "#E1E5ED",
         "showgrid": false,
         "tickfont": {
          "color": "#4D5663"
         },
         "title": {
          "font": {
           "color": "#4D5663"
          },
          "text": ""
         },
         "zerolinecolor": "#E1E5ED"
        },
        "yaxis4": {
         "anchor": "x4",
         "domain": [
          0.8025,
          1
         ],
         "gridcolor": "#E1E5ED",
         "showgrid": false,
         "tickfont": {
          "color": "#4D5663"
         },
         "title": {
          "font": {
           "color": "#4D5663"
          },
          "text": ""
         },
         "zerolinecolor": "#E1E5ED"
        },
        "yaxis5": {
         "anchor": "x5",
         "domain": [
          0.535,
          0.7325
         ],
         "gridcolor": "#E1E5ED",
         "showgrid": false,
         "tickfont": {
          "color": "#4D5663"
         },
         "title": {
          "font": {
           "color": "#4D5663"
          },
          "text": ""
         },
         "zerolinecolor": "#E1E5ED"
        },
        "yaxis6": {
         "anchor": "x6",
         "domain": [
          0.535,
          0.7325
         ],
         "gridcolor": "#E1E5ED",
         "showgrid": false,
         "tickfont": {
          "color": "#4D5663"
         },
         "title": {
          "font": {
           "color": "#4D5663"
          },
          "text": ""
         },
         "zerolinecolor": "#E1E5ED"
        },
        "yaxis7": {
         "anchor": "x7",
         "domain": [
          0.535,
          0.7325
         ],
         "gridcolor": "#E1E5ED",
         "showgrid": false,
         "tickfont": {
          "color": "#4D5663"
         },
         "title": {
          "font": {
           "color": "#4D5663"
          },
          "text": ""
         },
         "zerolinecolor": "#E1E5ED"
        },
        "yaxis8": {
         "anchor": "x8",
         "domain": [
          0.535,
          0.7325
         ],
         "gridcolor": "#E1E5ED",
         "showgrid": false,
         "tickfont": {
          "color": "#4D5663"
         },
         "title": {
          "font": {
           "color": "#4D5663"
          },
          "text": ""
         },
         "zerolinecolor": "#E1E5ED"
        },
        "yaxis9": {
         "anchor": "x9",
         "domain": [
          0.2675,
          0.465
         ],
         "gridcolor": "#E1E5ED",
         "showgrid": false,
         "tickfont": {
          "color": "#4D5663"
         },
         "title": {
          "font": {
           "color": "#4D5663"
          },
          "text": ""
         },
         "zerolinecolor": "#E1E5ED"
        }
       }
      },
      "text/html": [
       "<div>                            <div id=\"11840916-bbe3-4577-8026-44be345041df\" class=\"plotly-graph-div\" style=\"height:525px; width:100%;\"></div>            <script type=\"text/javascript\">                require([\"plotly\"], function(Plotly) {                    window.PLOTLYENV=window.PLOTLYENV || {};\n",
       "                    window.PLOTLYENV.BASE_URL='https://plot.ly';                                    if (document.getElementById(\"11840916-bbe3-4577-8026-44be345041df\")) {                    Plotly.newPlot(                        \"11840916-bbe3-4577-8026-44be345041df\",                        [{\"histfunc\":\"count\",\"histnorm\":\"\",\"marker\":{\"color\":\"rgba(255, 153, 51, 1.0)\",\"line\":{\"color\":\"#4D5663\",\"width\":1.3}},\"name\":\"A\",\"nbinsx\":10,\"opacity\":0.8,\"orientation\":\"v\",\"type\":\"histogram\",\"x\":[-0.12860260964606524,-1.635076306921547,-0.5868234739317386,0.20536526213217854,-0.7704148764243725,-0.608403118302665,-0.7771802124507576,0.8638616806968181,0.1987514763826788,0.5357468318854114,-0.805512501779021,2.818642095345587,-2.240429562821057,-0.9088716508414676,0.7688400036889937,1.3756705159878135,-0.14107448240173198,0.08435939863095848,-0.47542973557415535,-0.1674320741073042,-0.9928036010743042,-0.7456484563065178,0.3635481444242281,-0.5882618454120682,0.25414012281316667,0.8075350123432112,-2.17954988460998,1.0844212767816042,-0.6155401327201286,-0.8120677127265419,2.682095463168087,-0.8861062679388414,1.469866879622548,0.5739384835339598,-0.23539355790992364,0.3855826865292886,0.7186966464917793,0.3410797855162574,0.5082102613681312,-1.0232298776039623,0.094534363966649,-0.7468149471682591,0.6229276400590422,-1.006463292187963,0.43942570432402883,0.13999106174426013,-0.18938672474156987,-2.1591422816985486,-0.7712419228767906,-0.13630277784588765,1.8808542077379922,-0.03716927274838659,1.2639943341550404,-1.9816255138725716,-0.9559184241340777,0.3247446560710932,0.18749271902478037,0.07551280173086344,-0.49192181482586333,-0.4064583434602699,0.37686420304300106,-1.2662705459050974,0.8542971275153713,0.29222986412994945,-0.4357575569598363,-0.5029881280728328,-0.07342481701123633,-0.580731972963385,0.16814525256958246,0.7540617088613196,-2.807357263191882,0.2943652315452601,-0.9074105640013431,0.15419826504650516,-0.4020928330168706,-1.101935671902682,1.0590467937942818,-0.3873084367063922,0.850415751157854,-1.5268134381322997,0.17885452056056642,0.8598113461865062,-0.5332477857304616,0.42630320958643003,1.4763273314038519,1.0445069006882544,-2.029088486467021,-0.029734088032628603,-0.6745514583669592,-0.42394470279379776,-0.36594863842629466,-0.19923259224542597,-1.3006374051023517,-0.07018709569337656,-0.06322920059030304,0.09020414160573006,-0.42177867349612475,-1.4466636968930875,0.39394302890355015,-0.16504994921024868],\"xaxis\":\"x\",\"yaxis\":\"y\"},{\"line\":{\"color\":\"rgba(128, 128, 128, 1.0)\",\"dash\":\"solid\",\"shape\":\"linear\",\"width\":1.3},\"marker\":{\"size\":2,\"symbol\":\"circle\"},\"mode\":\"markers\",\"name\":\"A\",\"text\":\"\",\"type\":\"scatter\",\"x\":[0.8185633845691501,1.250081636706017,0.11665422761436443,-0.2819901305478438,-0.6630182612897098,-0.3976453012974691,-0.5142082474577344,1.432976072008938,-2.614656326430859,2.142350309515806,0.6315409739127879,-0.708523285057641,0.5887555771349915,-1.4670398225476153,0.38477474395597316,2.1580945911705522,-0.6516882359233838,-1.6072549511834457,1.9364025334076367,-0.3729478015325837,1.456366286150059,0.5439429577293267,-0.06266508726016042,0.08840851093159466,0.525358281417997,-0.3415948287709737,0.2782395112701509,-0.17363095306504372,1.6475287341175775,-0.6562329183539691,-0.606666583795318,0.8233227456549621,-1.1006792057121941,-0.6038368427675496,-2.0685312197481656,-1.986812049601142,0.8016485809681733,0.08165263911139128,0.3018568326471051,1.4093206296813823,-0.1419959788866885,1.0068346160490198,-0.2135577872229478,-0.6212130211754662,2.91751459596935,-0.987940120823154,-0.9635950028352653,1.527761807710861,-2.660145662991958,0.9936137813400049,0.19720730910200923,1.9220446213364466,-1.9824981561511965,0.9563612107483108,1.2114572878639558,1.6761627962728234,1.1172822968710148,-0.852556826829526,0.5588420880177051,-0.48081412546774405,0.21619630678914495,0.28570481398274655,-0.26149968424397974,0.11408904413161775,1.2445996688810668,0.5878519772306224,0.03640300202301524,1.3429085752990346,0.31823227538228843,-0.44676448115245726,-0.32530669262862044,0.9727877924250453,-0.0016704124674436116,-1.704903047178396,0.06066998774211031,0.28333312677425526,-0.5461410231171553,1.1876633432998498,1.823974612474308,0.3496133196099635,1.447369161868816,-0.14884505603801926,0.2162416080437122,-0.5313346616861173,2.1559149096145016,0.4148938103042243,-0.07700947991227261,-0.17273927058773778,1.34532358448916,1.234205040365912,2.044149009033562,-0.009843940123830736,0.9337939733849073,1.087400634796986,0.3308251839280632,0.21105526600770663,1.1130421977450977,0.6499386149537946,-1.782007975306854,0.12607299045661263],\"xaxis\":\"x2\",\"y\":[-0.12860260964606524,-1.635076306921547,-0.5868234739317386,0.20536526213217854,-0.7704148764243725,-0.608403118302665,-0.7771802124507576,0.8638616806968181,0.1987514763826788,0.5357468318854114,-0.805512501779021,2.818642095345587,-2.240429562821057,-0.9088716508414676,0.7688400036889937,1.3756705159878135,-0.14107448240173198,0.08435939863095848,-0.47542973557415535,-0.1674320741073042,-0.9928036010743042,-0.7456484563065178,0.3635481444242281,-0.5882618454120682,0.25414012281316667,0.8075350123432112,-2.17954988460998,1.0844212767816042,-0.6155401327201286,-0.8120677127265419,2.682095463168087,-0.8861062679388414,1.469866879622548,0.5739384835339598,-0.23539355790992364,0.3855826865292886,0.7186966464917793,0.3410797855162574,0.5082102613681312,-1.0232298776039623,0.094534363966649,-0.7468149471682591,0.6229276400590422,-1.006463292187963,0.43942570432402883,0.13999106174426013,-0.18938672474156987,-2.1591422816985486,-0.7712419228767906,-0.13630277784588765,1.8808542077379922,-0.03716927274838659,1.2639943341550404,-1.9816255138725716,-0.9559184241340777,0.3247446560710932,0.18749271902478037,0.07551280173086344,-0.49192181482586333,-0.4064583434602699,0.37686420304300106,-1.2662705459050974,0.8542971275153713,0.29222986412994945,-0.4357575569598363,-0.5029881280728328,-0.07342481701123633,-0.580731972963385,0.16814525256958246,0.7540617088613196,-2.807357263191882,0.2943652315452601,-0.9074105640013431,0.15419826504650516,-0.4020928330168706,-1.101935671902682,1.0590467937942818,-0.3873084367063922,0.850415751157854,-1.5268134381322997,0.17885452056056642,0.8598113461865062,-0.5332477857304616,0.42630320958643003,1.4763273314038519,1.0445069006882544,-2.029088486467021,-0.029734088032628603,-0.6745514583669592,-0.42394470279379776,-0.36594863842629466,-0.19923259224542597,-1.3006374051023517,-0.07018709569337656,-0.06322920059030304,0.09020414160573006,-0.42177867349612475,-1.4466636968930875,0.39394302890355015,-0.16504994921024868],\"yaxis\":\"y2\"},{\"line\":{\"color\":\"rgba(128, 128, 128, 1.0)\",\"dash\":\"solid\",\"shape\":\"linear\",\"width\":1.3},\"marker\":{\"size\":2,\"symbol\":\"circle\"},\"mode\":\"markers\",\"name\":\"A\",\"text\":\"\",\"type\":\"scatter\",\"x\":[-0.893034094052463,0.32142774154723863,-0.3461919868219022,1.6561915760000439,-1.8166327223963545,1.040524839747155,0.9933425557883019,0.74754787649467,-1.3697550864677888,0.9475525316175184,0.5903154036144674,-0.7193204284641453,-1.9706838414463923,1.424327904930943,1.9116607052143617,-0.7403230847455231,0.32122402861502725,0.2666188237967878,-1.2472844827286877,-0.9864156678890039,-1.5740847455847609,2.4053623963015944,-0.18380770754266082,1.0100927924209668,0.008227393622940006,1.5040658984836761,0.35984666317500086,-0.010621694922587542,-0.9994973288590799,2.595693886950609,0.2353111613525256,0.6381246998827086,-0.817931135113251,-0.7312839667532411,-0.9516835966826418,0.9423829522251238,-0.49790466411485795,0.8650948398809166,-0.9622854165672089,-1.0009942771582916,-0.12384188866053221,-1.2762267019310556,0.7712920222160783,0.7201184409510004,0.779483744367753,-1.762828670711382,-0.0038623199058505603,-0.873829783639345,0.5522355139598802,-1.3762138498922944,-1.1066194220310017,1.2152314341907116,0.05727901067260451,0.15114641295756395,0.29208588700478477,-1.2926987542555897,0.9792888922932551,-0.9463140974925113,0.883439595680161,0.3706456171106732,-0.08177682307403422,-0.47332294991059815,1.3951761743033302,-1.6761156446064684,0.6266946201967991,0.2418690971931785,0.9757683977975071,-0.12448811651009352,0.5995728523890195,-0.32181688438111844,-0.3465102167045141,0.7450924421626615,-0.06462150137038737,-0.9730558453768658,-1.803169972606296,-1.415646240961098,-1.197401565341801,0.9075922706514219,-0.7091205077971906,-1.0276347737760627,0.5380829806883355,-1.3678380610816991,-0.384241833930092,1.0254937487462035,-1.0654007272260546,1.2815424921644067,-1.6442022248361263,1.1045538065374758,0.16939116563923345,-0.05036027322015534,0.1748085662363392,-0.8618252699045826,-0.2934214357447494,0.5215076797551154,0.6967115919183898,0.5030398497295235,-1.3726691115386644,-0.48476916140777454,-1.4189375538405415,-0.6137861683516325],\"xaxis\":\"x3\",\"y\":[-0.12860260964606524,-1.635076306921547,-0.5868234739317386,0.20536526213217854,-0.7704148764243725,-0.608403118302665,-0.7771802124507576,0.8638616806968181,0.1987514763826788,0.5357468318854114,-0.805512501779021,2.818642095345587,-2.240429562821057,-0.9088716508414676,0.7688400036889937,1.3756705159878135,-0.14107448240173198,0.08435939863095848,-0.47542973557415535,-0.1674320741073042,-0.9928036010743042,-0.7456484563065178,0.3635481444242281,-0.5882618454120682,0.25414012281316667,0.8075350123432112,-2.17954988460998,1.0844212767816042,-0.6155401327201286,-0.8120677127265419,2.682095463168087,-0.8861062679388414,1.469866879622548,0.5739384835339598,-0.23539355790992364,0.3855826865292886,0.7186966464917793,0.3410797855162574,0.5082102613681312,-1.0232298776039623,0.094534363966649,-0.7468149471682591,0.6229276400590422,-1.006463292187963,0.43942570432402883,0.13999106174426013,-0.18938672474156987,-2.1591422816985486,-0.7712419228767906,-0.13630277784588765,1.8808542077379922,-0.03716927274838659,1.2639943341550404,-1.9816255138725716,-0.9559184241340777,0.3247446560710932,0.18749271902478037,0.07551280173086344,-0.49192181482586333,-0.4064583434602699,0.37686420304300106,-1.2662705459050974,0.8542971275153713,0.29222986412994945,-0.4357575569598363,-0.5029881280728328,-0.07342481701123633,-0.580731972963385,0.16814525256958246,0.7540617088613196,-2.807357263191882,0.2943652315452601,-0.9074105640013431,0.15419826504650516,-0.4020928330168706,-1.101935671902682,1.0590467937942818,-0.3873084367063922,0.850415751157854,-1.5268134381322997,0.17885452056056642,0.8598113461865062,-0.5332477857304616,0.42630320958643003,1.4763273314038519,1.0445069006882544,-2.029088486467021,-0.029734088032628603,-0.6745514583669592,-0.42394470279379776,-0.36594863842629466,-0.19923259224542597,-1.3006374051023517,-0.07018709569337656,-0.06322920059030304,0.09020414160573006,-0.42177867349612475,-1.4466636968930875,0.39394302890355015,-0.16504994921024868],\"yaxis\":\"y3\"},{\"line\":{\"color\":\"rgba(128, 128, 128, 1.0)\",\"dash\":\"solid\",\"shape\":\"linear\",\"width\":1.3},\"marker\":{\"size\":2,\"symbol\":\"circle\"},\"mode\":\"markers\",\"name\":\"A\",\"text\":\"\",\"type\":\"scatter\",\"x\":[1.1090472642363909,0.3371178180290584,0.28296765784076466,0.6149689457809169,0.7211730147563021,-1.931355800765621,0.03680030435616002,1.2813817922133333,1.416789465032888,0.008902683668203053,1.8631248309084487,-1.1801272473457742,0.04401416854001588,0.4743579555480905,-0.21738334375790233,1.1026659700438266,0.29241381541813016,1.9837903562943187,-0.6046270328586335,-0.208238480202482,-1.2956492020082484,-0.37442784874958635,-1.003657298561281,1.3352433678906408,0.8956244986767935,0.5599092583174339,1.982762838089537,0.5291275601716697,1.1339893735070545,0.2102874001458619,1.2137571986048645,1.072855331697689,-0.3872297527707569,0.9522421483503503,-0.2483481445228857,0.9895580848046946,0.518066626851122,0.2371795910475936,1.093349591901714,-0.3405701235063494,1.0175990051495523,-0.2952900676832008,-1.8938460290296366,1.620709125112299,-0.5388766183964406,-0.01374413684704235,-1.265764045922524,0.9828292540798076,0.578019867098778,0.7479627043288422,0.44680889106332966,-0.049622289294041756,-1.8675176393309336,0.41784058977742944,-0.78069049218744,-0.05023129981822584,0.9259084674694911,0.6079049195138972,-0.39550342315557996,0.810143942297103,0.18919567905140158,-0.060299398658938505,-0.5525599961640696,1.7448446554934378,1.2423299530024818,-0.7695859381636041,2.6974847759337393,-0.07989190730872778,-1.2611950165908241,1.2276507805607053,-0.6760775174913568,-0.19419234359693743,-1.0456515261340296,0.930610378884731,-0.6337624543021817,1.1934863057915028,-0.46446474733013593,0.9204170401886379,-0.3590193707293201,0.9154528331732662,-0.8434896435775322,-0.05709711280818407,-1.1696974727005032,0.3806656393442269,0.10647308023301408,-1.8337572800242365,0.6746856155101841,0.36735808876414183,-0.009142462456620622,-0.6159435399443982,0.4399981957217681,-0.6886887756599419,-0.8040263573259767,1.8087612711383865,1.0287037258388427,-4.637040204721781,1.7028759081582905,2.150505776094501,0.7446413266198268,0.15277915723958443],\"xaxis\":\"x4\",\"y\":[-0.12860260964606524,-1.635076306921547,-0.5868234739317386,0.20536526213217854,-0.7704148764243725,-0.608403118302665,-0.7771802124507576,0.8638616806968181,0.1987514763826788,0.5357468318854114,-0.805512501779021,2.818642095345587,-2.240429562821057,-0.9088716508414676,0.7688400036889937,1.3756705159878135,-0.14107448240173198,0.08435939863095848,-0.47542973557415535,-0.1674320741073042,-0.9928036010743042,-0.7456484563065178,0.3635481444242281,-0.5882618454120682,0.25414012281316667,0.8075350123432112,-2.17954988460998,1.0844212767816042,-0.6155401327201286,-0.8120677127265419,2.682095463168087,-0.8861062679388414,1.469866879622548,0.5739384835339598,-0.23539355790992364,0.3855826865292886,0.7186966464917793,0.3410797855162574,0.5082102613681312,-1.0232298776039623,0.094534363966649,-0.7468149471682591,0.6229276400590422,-1.006463292187963,0.43942570432402883,0.13999106174426013,-0.18938672474156987,-2.1591422816985486,-0.7712419228767906,-0.13630277784588765,1.8808542077379922,-0.03716927274838659,1.2639943341550404,-1.9816255138725716,-0.9559184241340777,0.3247446560710932,0.18749271902478037,0.07551280173086344,-0.49192181482586333,-0.4064583434602699,0.37686420304300106,-1.2662705459050974,0.8542971275153713,0.29222986412994945,-0.4357575569598363,-0.5029881280728328,-0.07342481701123633,-0.580731972963385,0.16814525256958246,0.7540617088613196,-2.807357263191882,0.2943652315452601,-0.9074105640013431,0.15419826504650516,-0.4020928330168706,-1.101935671902682,1.0590467937942818,-0.3873084367063922,0.850415751157854,-1.5268134381322997,0.17885452056056642,0.8598113461865062,-0.5332477857304616,0.42630320958643003,1.4763273314038519,1.0445069006882544,-2.029088486467021,-0.029734088032628603,-0.6745514583669592,-0.42394470279379776,-0.36594863842629466,-0.19923259224542597,-1.3006374051023517,-0.07018709569337656,-0.06322920059030304,0.09020414160573006,-0.42177867349612475,-1.4466636968930875,0.39394302890355015,-0.16504994921024868],\"yaxis\":\"y4\"},{\"line\":{\"color\":\"rgba(128, 128, 128, 1.0)\",\"dash\":\"solid\",\"shape\":\"linear\",\"width\":1.3},\"marker\":{\"size\":2,\"symbol\":\"circle\"},\"mode\":\"markers\",\"name\":\"B\",\"text\":\"\",\"type\":\"scatter\",\"x\":[-0.12860260964606524,-1.635076306921547,-0.5868234739317386,0.20536526213217854,-0.7704148764243725,-0.608403118302665,-0.7771802124507576,0.8638616806968181,0.1987514763826788,0.5357468318854114,-0.805512501779021,2.818642095345587,-2.240429562821057,-0.9088716508414676,0.7688400036889937,1.3756705159878135,-0.14107448240173198,0.08435939863095848,-0.47542973557415535,-0.1674320741073042,-0.9928036010743042,-0.7456484563065178,0.3635481444242281,-0.5882618454120682,0.25414012281316667,0.8075350123432112,-2.17954988460998,1.0844212767816042,-0.6155401327201286,-0.8120677127265419,2.682095463168087,-0.8861062679388414,1.469866879622548,0.5739384835339598,-0.23539355790992364,0.3855826865292886,0.7186966464917793,0.3410797855162574,0.5082102613681312,-1.0232298776039623,0.094534363966649,-0.7468149471682591,0.6229276400590422,-1.006463292187963,0.43942570432402883,0.13999106174426013,-0.18938672474156987,-2.1591422816985486,-0.7712419228767906,-0.13630277784588765,1.8808542077379922,-0.03716927274838659,1.2639943341550404,-1.9816255138725716,-0.9559184241340777,0.3247446560710932,0.18749271902478037,0.07551280173086344,-0.49192181482586333,-0.4064583434602699,0.37686420304300106,-1.2662705459050974,0.8542971275153713,0.29222986412994945,-0.4357575569598363,-0.5029881280728328,-0.07342481701123633,-0.580731972963385,0.16814525256958246,0.7540617088613196,-2.807357263191882,0.2943652315452601,-0.9074105640013431,0.15419826504650516,-0.4020928330168706,-1.101935671902682,1.0590467937942818,-0.3873084367063922,0.850415751157854,-1.5268134381322997,0.17885452056056642,0.8598113461865062,-0.5332477857304616,0.42630320958643003,1.4763273314038519,1.0445069006882544,-2.029088486467021,-0.029734088032628603,-0.6745514583669592,-0.42394470279379776,-0.36594863842629466,-0.19923259224542597,-1.3006374051023517,-0.07018709569337656,-0.06322920059030304,0.09020414160573006,-0.42177867349612475,-1.4466636968930875,0.39394302890355015,-0.16504994921024868],\"xaxis\":\"x5\",\"y\":[0.8185633845691501,1.250081636706017,0.11665422761436443,-0.2819901305478438,-0.6630182612897098,-0.3976453012974691,-0.5142082474577344,1.432976072008938,-2.614656326430859,2.142350309515806,0.6315409739127879,-0.708523285057641,0.5887555771349915,-1.4670398225476153,0.38477474395597316,2.1580945911705522,-0.6516882359233838,-1.6072549511834457,1.9364025334076367,-0.3729478015325837,1.456366286150059,0.5439429577293267,-0.06266508726016042,0.08840851093159466,0.525358281417997,-0.3415948287709737,0.2782395112701509,-0.17363095306504372,1.6475287341175775,-0.6562329183539691,-0.606666583795318,0.8233227456549621,-1.1006792057121941,-0.6038368427675496,-2.0685312197481656,-1.986812049601142,0.8016485809681733,0.08165263911139128,0.3018568326471051,1.4093206296813823,-0.1419959788866885,1.0068346160490198,-0.2135577872229478,-0.6212130211754662,2.91751459596935,-0.987940120823154,-0.9635950028352653,1.527761807710861,-2.660145662991958,0.9936137813400049,0.19720730910200923,1.9220446213364466,-1.9824981561511965,0.9563612107483108,1.2114572878639558,1.6761627962728234,1.1172822968710148,-0.852556826829526,0.5588420880177051,-0.48081412546774405,0.21619630678914495,0.28570481398274655,-0.26149968424397974,0.11408904413161775,1.2445996688810668,0.5878519772306224,0.03640300202301524,1.3429085752990346,0.31823227538228843,-0.44676448115245726,-0.32530669262862044,0.9727877924250453,-0.0016704124674436116,-1.704903047178396,0.06066998774211031,0.28333312677425526,-0.5461410231171553,1.1876633432998498,1.823974612474308,0.3496133196099635,1.447369161868816,-0.14884505603801926,0.2162416080437122,-0.5313346616861173,2.1559149096145016,0.4148938103042243,-0.07700947991227261,-0.17273927058773778,1.34532358448916,1.234205040365912,2.044149009033562,-0.009843940123830736,0.9337939733849073,1.087400634796986,0.3308251839280632,0.21105526600770663,1.1130421977450977,0.6499386149537946,-1.782007975306854,0.12607299045661263],\"yaxis\":\"y5\"},{\"histfunc\":\"count\",\"histnorm\":\"\",\"marker\":{\"color\":\"rgba(55, 128, 191, 1.0)\",\"line\":{\"color\":\"#4D5663\",\"width\":1.3}},\"name\":\"B\",\"nbinsx\":10,\"opacity\":0.8,\"orientation\":\"v\",\"type\":\"histogram\",\"x\":[0.8185633845691501,1.250081636706017,0.11665422761436443,-0.2819901305478438,-0.6630182612897098,-0.3976453012974691,-0.5142082474577344,1.432976072008938,-2.614656326430859,2.142350309515806,0.6315409739127879,-0.708523285057641,0.5887555771349915,-1.4670398225476153,0.38477474395597316,2.1580945911705522,-0.6516882359233838,-1.6072549511834457,1.9364025334076367,-0.3729478015325837,1.456366286150059,0.5439429577293267,-0.06266508726016042,0.08840851093159466,0.525358281417997,-0.3415948287709737,0.2782395112701509,-0.17363095306504372,1.6475287341175775,-0.6562329183539691,-0.606666583795318,0.8233227456549621,-1.1006792057121941,-0.6038368427675496,-2.0685312197481656,-1.986812049601142,0.8016485809681733,0.08165263911139128,0.3018568326471051,1.4093206296813823,-0.1419959788866885,1.0068346160490198,-0.2135577872229478,-0.6212130211754662,2.91751459596935,-0.987940120823154,-0.9635950028352653,1.527761807710861,-2.660145662991958,0.9936137813400049,0.19720730910200923,1.9220446213364466,-1.9824981561511965,0.9563612107483108,1.2114572878639558,1.6761627962728234,1.1172822968710148,-0.852556826829526,0.5588420880177051,-0.48081412546774405,0.21619630678914495,0.28570481398274655,-0.26149968424397974,0.11408904413161775,1.2445996688810668,0.5878519772306224,0.03640300202301524,1.3429085752990346,0.31823227538228843,-0.44676448115245726,-0.32530669262862044,0.9727877924250453,-0.0016704124674436116,-1.704903047178396,0.06066998774211031,0.28333312677425526,-0.5461410231171553,1.1876633432998498,1.823974612474308,0.3496133196099635,1.447369161868816,-0.14884505603801926,0.2162416080437122,-0.5313346616861173,2.1559149096145016,0.4148938103042243,-0.07700947991227261,-0.17273927058773778,1.34532358448916,1.234205040365912,2.044149009033562,-0.009843940123830736,0.9337939733849073,1.087400634796986,0.3308251839280632,0.21105526600770663,1.1130421977450977,0.6499386149537946,-1.782007975306854,0.12607299045661263],\"xaxis\":\"x6\",\"yaxis\":\"y6\"},{\"line\":{\"color\":\"rgba(128, 128, 128, 1.0)\",\"dash\":\"solid\",\"shape\":\"linear\",\"width\":1.3},\"marker\":{\"size\":2,\"symbol\":\"circle\"},\"mode\":\"markers\",\"name\":\"B\",\"text\":\"\",\"type\":\"scatter\",\"x\":[-0.893034094052463,0.32142774154723863,-0.3461919868219022,1.6561915760000439,-1.8166327223963545,1.040524839747155,0.9933425557883019,0.74754787649467,-1.3697550864677888,0.9475525316175184,0.5903154036144674,-0.7193204284641453,-1.9706838414463923,1.424327904930943,1.9116607052143617,-0.7403230847455231,0.32122402861502725,0.2666188237967878,-1.2472844827286877,-0.9864156678890039,-1.5740847455847609,2.4053623963015944,-0.18380770754266082,1.0100927924209668,0.008227393622940006,1.5040658984836761,0.35984666317500086,-0.010621694922587542,-0.9994973288590799,2.595693886950609,0.2353111613525256,0.6381246998827086,-0.817931135113251,-0.7312839667532411,-0.9516835966826418,0.9423829522251238,-0.49790466411485795,0.8650948398809166,-0.9622854165672089,-1.0009942771582916,-0.12384188866053221,-1.2762267019310556,0.7712920222160783,0.7201184409510004,0.779483744367753,-1.762828670711382,-0.0038623199058505603,-0.873829783639345,0.5522355139598802,-1.3762138498922944,-1.1066194220310017,1.2152314341907116,0.05727901067260451,0.15114641295756395,0.29208588700478477,-1.2926987542555897,0.9792888922932551,-0.9463140974925113,0.883439595680161,0.3706456171106732,-0.08177682307403422,-0.47332294991059815,1.3951761743033302,-1.6761156446064684,0.6266946201967991,0.2418690971931785,0.9757683977975071,-0.12448811651009352,0.5995728523890195,-0.32181688438111844,-0.3465102167045141,0.7450924421626615,-0.06462150137038737,-0.9730558453768658,-1.803169972606296,-1.415646240961098,-1.197401565341801,0.9075922706514219,-0.7091205077971906,-1.0276347737760627,0.5380829806883355,-1.3678380610816991,-0.384241833930092,1.0254937487462035,-1.0654007272260546,1.2815424921644067,-1.6442022248361263,1.1045538065374758,0.16939116563923345,-0.05036027322015534,0.1748085662363392,-0.8618252699045826,-0.2934214357447494,0.5215076797551154,0.6967115919183898,0.5030398497295235,-1.3726691115386644,-0.48476916140777454,-1.4189375538405415,-0.6137861683516325],\"xaxis\":\"x7\",\"y\":[0.8185633845691501,1.250081636706017,0.11665422761436443,-0.2819901305478438,-0.6630182612897098,-0.3976453012974691,-0.5142082474577344,1.432976072008938,-2.614656326430859,2.142350309515806,0.6315409739127879,-0.708523285057641,0.5887555771349915,-1.4670398225476153,0.38477474395597316,2.1580945911705522,-0.6516882359233838,-1.6072549511834457,1.9364025334076367,-0.3729478015325837,1.456366286150059,0.5439429577293267,-0.06266508726016042,0.08840851093159466,0.525358281417997,-0.3415948287709737,0.2782395112701509,-0.17363095306504372,1.6475287341175775,-0.6562329183539691,-0.606666583795318,0.8233227456549621,-1.1006792057121941,-0.6038368427675496,-2.0685312197481656,-1.986812049601142,0.8016485809681733,0.08165263911139128,0.3018568326471051,1.4093206296813823,-0.1419959788866885,1.0068346160490198,-0.2135577872229478,-0.6212130211754662,2.91751459596935,-0.987940120823154,-0.9635950028352653,1.527761807710861,-2.660145662991958,0.9936137813400049,0.19720730910200923,1.9220446213364466,-1.9824981561511965,0.9563612107483108,1.2114572878639558,1.6761627962728234,1.1172822968710148,-0.852556826829526,0.5588420880177051,-0.48081412546774405,0.21619630678914495,0.28570481398274655,-0.26149968424397974,0.11408904413161775,1.2445996688810668,0.5878519772306224,0.03640300202301524,1.3429085752990346,0.31823227538228843,-0.44676448115245726,-0.32530669262862044,0.9727877924250453,-0.0016704124674436116,-1.704903047178396,0.06066998774211031,0.28333312677425526,-0.5461410231171553,1.1876633432998498,1.823974612474308,0.3496133196099635,1.447369161868816,-0.14884505603801926,0.2162416080437122,-0.5313346616861173,2.1559149096145016,0.4148938103042243,-0.07700947991227261,-0.17273927058773778,1.34532358448916,1.234205040365912,2.044149009033562,-0.009843940123830736,0.9337939733849073,1.087400634796986,0.3308251839280632,0.21105526600770663,1.1130421977450977,0.6499386149537946,-1.782007975306854,0.12607299045661263],\"yaxis\":\"y7\"},{\"line\":{\"color\":\"rgba(128, 128, 128, 1.0)\",\"dash\":\"solid\",\"shape\":\"linear\",\"width\":1.3},\"marker\":{\"size\":2,\"symbol\":\"circle\"},\"mode\":\"markers\",\"name\":\"B\",\"text\":\"\",\"type\":\"scatter\",\"x\":[1.1090472642363909,0.3371178180290584,0.28296765784076466,0.6149689457809169,0.7211730147563021,-1.931355800765621,0.03680030435616002,1.2813817922133333,1.416789465032888,0.008902683668203053,1.8631248309084487,-1.1801272473457742,0.04401416854001588,0.4743579555480905,-0.21738334375790233,1.1026659700438266,0.29241381541813016,1.9837903562943187,-0.6046270328586335,-0.208238480202482,-1.2956492020082484,-0.37442784874958635,-1.003657298561281,1.3352433678906408,0.8956244986767935,0.5599092583174339,1.982762838089537,0.5291275601716697,1.1339893735070545,0.2102874001458619,1.2137571986048645,1.072855331697689,-0.3872297527707569,0.9522421483503503,-0.2483481445228857,0.9895580848046946,0.518066626851122,0.2371795910475936,1.093349591901714,-0.3405701235063494,1.0175990051495523,-0.2952900676832008,-1.8938460290296366,1.620709125112299,-0.5388766183964406,-0.01374413684704235,-1.265764045922524,0.9828292540798076,0.578019867098778,0.7479627043288422,0.44680889106332966,-0.049622289294041756,-1.8675176393309336,0.41784058977742944,-0.78069049218744,-0.05023129981822584,0.9259084674694911,0.6079049195138972,-0.39550342315557996,0.810143942297103,0.18919567905140158,-0.060299398658938505,-0.5525599961640696,1.7448446554934378,1.2423299530024818,-0.7695859381636041,2.6974847759337393,-0.07989190730872778,-1.2611950165908241,1.2276507805607053,-0.6760775174913568,-0.19419234359693743,-1.0456515261340296,0.930610378884731,-0.6337624543021817,1.1934863057915028,-0.46446474733013593,0.9204170401886379,-0.3590193707293201,0.9154528331732662,-0.8434896435775322,-0.05709711280818407,-1.1696974727005032,0.3806656393442269,0.10647308023301408,-1.8337572800242365,0.6746856155101841,0.36735808876414183,-0.009142462456620622,-0.6159435399443982,0.4399981957217681,-0.6886887756599419,-0.8040263573259767,1.8087612711383865,1.0287037258388427,-4.637040204721781,1.7028759081582905,2.150505776094501,0.7446413266198268,0.15277915723958443],\"xaxis\":\"x8\",\"y\":[0.8185633845691501,1.250081636706017,0.11665422761436443,-0.2819901305478438,-0.6630182612897098,-0.3976453012974691,-0.5142082474577344,1.432976072008938,-2.614656326430859,2.142350309515806,0.6315409739127879,-0.708523285057641,0.5887555771349915,-1.4670398225476153,0.38477474395597316,2.1580945911705522,-0.6516882359233838,-1.6072549511834457,1.9364025334076367,-0.3729478015325837,1.456366286150059,0.5439429577293267,-0.06266508726016042,0.08840851093159466,0.525358281417997,-0.3415948287709737,0.2782395112701509,-0.17363095306504372,1.6475287341175775,-0.6562329183539691,-0.606666583795318,0.8233227456549621,-1.1006792057121941,-0.6038368427675496,-2.0685312197481656,-1.986812049601142,0.8016485809681733,0.08165263911139128,0.3018568326471051,1.4093206296813823,-0.1419959788866885,1.0068346160490198,-0.2135577872229478,-0.6212130211754662,2.91751459596935,-0.987940120823154,-0.9635950028352653,1.527761807710861,-2.660145662991958,0.9936137813400049,0.19720730910200923,1.9220446213364466,-1.9824981561511965,0.9563612107483108,1.2114572878639558,1.6761627962728234,1.1172822968710148,-0.852556826829526,0.5588420880177051,-0.48081412546774405,0.21619630678914495,0.28570481398274655,-0.26149968424397974,0.11408904413161775,1.2445996688810668,0.5878519772306224,0.03640300202301524,1.3429085752990346,0.31823227538228843,-0.44676448115245726,-0.32530669262862044,0.9727877924250453,-0.0016704124674436116,-1.704903047178396,0.06066998774211031,0.28333312677425526,-0.5461410231171553,1.1876633432998498,1.823974612474308,0.3496133196099635,1.447369161868816,-0.14884505603801926,0.2162416080437122,-0.5313346616861173,2.1559149096145016,0.4148938103042243,-0.07700947991227261,-0.17273927058773778,1.34532358448916,1.234205040365912,2.044149009033562,-0.009843940123830736,0.9337939733849073,1.087400634796986,0.3308251839280632,0.21105526600770663,1.1130421977450977,0.6499386149537946,-1.782007975306854,0.12607299045661263],\"yaxis\":\"y8\"},{\"line\":{\"color\":\"rgba(128, 128, 128, 1.0)\",\"dash\":\"solid\",\"shape\":\"linear\",\"width\":1.3},\"marker\":{\"size\":2,\"symbol\":\"circle\"},\"mode\":\"markers\",\"name\":\"C\",\"text\":\"\",\"type\":\"scatter\",\"x\":[-0.12860260964606524,-1.635076306921547,-0.5868234739317386,0.20536526213217854,-0.7704148764243725,-0.608403118302665,-0.7771802124507576,0.8638616806968181,0.1987514763826788,0.5357468318854114,-0.805512501779021,2.818642095345587,-2.240429562821057,-0.9088716508414676,0.7688400036889937,1.3756705159878135,-0.14107448240173198,0.08435939863095848,-0.47542973557415535,-0.1674320741073042,-0.9928036010743042,-0.7456484563065178,0.3635481444242281,-0.5882618454120682,0.25414012281316667,0.8075350123432112,-2.17954988460998,1.0844212767816042,-0.6155401327201286,-0.8120677127265419,2.682095463168087,-0.8861062679388414,1.469866879622548,0.5739384835339598,-0.23539355790992364,0.3855826865292886,0.7186966464917793,0.3410797855162574,0.5082102613681312,-1.0232298776039623,0.094534363966649,-0.7468149471682591,0.6229276400590422,-1.006463292187963,0.43942570432402883,0.13999106174426013,-0.18938672474156987,-2.1591422816985486,-0.7712419228767906,-0.13630277784588765,1.8808542077379922,-0.03716927274838659,1.2639943341550404,-1.9816255138725716,-0.9559184241340777,0.3247446560710932,0.18749271902478037,0.07551280173086344,-0.49192181482586333,-0.4064583434602699,0.37686420304300106,-1.2662705459050974,0.8542971275153713,0.29222986412994945,-0.4357575569598363,-0.5029881280728328,-0.07342481701123633,-0.580731972963385,0.16814525256958246,0.7540617088613196,-2.807357263191882,0.2943652315452601,-0.9074105640013431,0.15419826504650516,-0.4020928330168706,-1.101935671902682,1.0590467937942818,-0.3873084367063922,0.850415751157854,-1.5268134381322997,0.17885452056056642,0.8598113461865062,-0.5332477857304616,0.42630320958643003,1.4763273314038519,1.0445069006882544,-2.029088486467021,-0.029734088032628603,-0.6745514583669592,-0.42394470279379776,-0.36594863842629466,-0.19923259224542597,-1.3006374051023517,-0.07018709569337656,-0.06322920059030304,0.09020414160573006,-0.42177867349612475,-1.4466636968930875,0.39394302890355015,-0.16504994921024868],\"xaxis\":\"x9\",\"y\":[-0.893034094052463,0.32142774154723863,-0.3461919868219022,1.6561915760000439,-1.8166327223963545,1.040524839747155,0.9933425557883019,0.74754787649467,-1.3697550864677888,0.9475525316175184,0.5903154036144674,-0.7193204284641453,-1.9706838414463923,1.424327904930943,1.9116607052143617,-0.7403230847455231,0.32122402861502725,0.2666188237967878,-1.2472844827286877,-0.9864156678890039,-1.5740847455847609,2.4053623963015944,-0.18380770754266082,1.0100927924209668,0.008227393622940006,1.5040658984836761,0.35984666317500086,-0.010621694922587542,-0.9994973288590799,2.595693886950609,0.2353111613525256,0.6381246998827086,-0.817931135113251,-0.7312839667532411,-0.9516835966826418,0.9423829522251238,-0.49790466411485795,0.8650948398809166,-0.9622854165672089,-1.0009942771582916,-0.12384188866053221,-1.2762267019310556,0.7712920222160783,0.7201184409510004,0.779483744367753,-1.762828670711382,-0.0038623199058505603,-0.873829783639345,0.5522355139598802,-1.3762138498922944,-1.1066194220310017,1.2152314341907116,0.05727901067260451,0.15114641295756395,0.29208588700478477,-1.2926987542555897,0.9792888922932551,-0.9463140974925113,0.883439595680161,0.3706456171106732,-0.08177682307403422,-0.47332294991059815,1.3951761743033302,-1.6761156446064684,0.6266946201967991,0.2418690971931785,0.9757683977975071,-0.12448811651009352,0.5995728523890195,-0.32181688438111844,-0.3465102167045141,0.7450924421626615,-0.06462150137038737,-0.9730558453768658,-1.803169972606296,-1.415646240961098,-1.197401565341801,0.9075922706514219,-0.7091205077971906,-1.0276347737760627,0.5380829806883355,-1.3678380610816991,-0.384241833930092,1.0254937487462035,-1.0654007272260546,1.2815424921644067,-1.6442022248361263,1.1045538065374758,0.16939116563923345,-0.05036027322015534,0.1748085662363392,-0.8618252699045826,-0.2934214357447494,0.5215076797551154,0.6967115919183898,0.5030398497295235,-1.3726691115386644,-0.48476916140777454,-1.4189375538405415,-0.6137861683516325],\"yaxis\":\"y9\"},{\"line\":{\"color\":\"rgba(128, 128, 128, 1.0)\",\"dash\":\"solid\",\"shape\":\"linear\",\"width\":1.3},\"marker\":{\"size\":2,\"symbol\":\"circle\"},\"mode\":\"markers\",\"name\":\"C\",\"text\":\"\",\"type\":\"scatter\",\"x\":[0.8185633845691501,1.250081636706017,0.11665422761436443,-0.2819901305478438,-0.6630182612897098,-0.3976453012974691,-0.5142082474577344,1.432976072008938,-2.614656326430859,2.142350309515806,0.6315409739127879,-0.708523285057641,0.5887555771349915,-1.4670398225476153,0.38477474395597316,2.1580945911705522,-0.6516882359233838,-1.6072549511834457,1.9364025334076367,-0.3729478015325837,1.456366286150059,0.5439429577293267,-0.06266508726016042,0.08840851093159466,0.525358281417997,-0.3415948287709737,0.2782395112701509,-0.17363095306504372,1.6475287341175775,-0.6562329183539691,-0.606666583795318,0.8233227456549621,-1.1006792057121941,-0.6038368427675496,-2.0685312197481656,-1.986812049601142,0.8016485809681733,0.08165263911139128,0.3018568326471051,1.4093206296813823,-0.1419959788866885,1.0068346160490198,-0.2135577872229478,-0.6212130211754662,2.91751459596935,-0.987940120823154,-0.9635950028352653,1.527761807710861,-2.660145662991958,0.9936137813400049,0.19720730910200923,1.9220446213364466,-1.9824981561511965,0.9563612107483108,1.2114572878639558,1.6761627962728234,1.1172822968710148,-0.852556826829526,0.5588420880177051,-0.48081412546774405,0.21619630678914495,0.28570481398274655,-0.26149968424397974,0.11408904413161775,1.2445996688810668,0.5878519772306224,0.03640300202301524,1.3429085752990346,0.31823227538228843,-0.44676448115245726,-0.32530669262862044,0.9727877924250453,-0.0016704124674436116,-1.704903047178396,0.06066998774211031,0.28333312677425526,-0.5461410231171553,1.1876633432998498,1.823974612474308,0.3496133196099635,1.447369161868816,-0.14884505603801926,0.2162416080437122,-0.5313346616861173,2.1559149096145016,0.4148938103042243,-0.07700947991227261,-0.17273927058773778,1.34532358448916,1.234205040365912,2.044149009033562,-0.009843940123830736,0.9337939733849073,1.087400634796986,0.3308251839280632,0.21105526600770663,1.1130421977450977,0.6499386149537946,-1.782007975306854,0.12607299045661263],\"xaxis\":\"x10\",\"y\":[-0.893034094052463,0.32142774154723863,-0.3461919868219022,1.6561915760000439,-1.8166327223963545,1.040524839747155,0.9933425557883019,0.74754787649467,-1.3697550864677888,0.9475525316175184,0.5903154036144674,-0.7193204284641453,-1.9706838414463923,1.424327904930943,1.9116607052143617,-0.7403230847455231,0.32122402861502725,0.2666188237967878,-1.2472844827286877,-0.9864156678890039,-1.5740847455847609,2.4053623963015944,-0.18380770754266082,1.0100927924209668,0.008227393622940006,1.5040658984836761,0.35984666317500086,-0.010621694922587542,-0.9994973288590799,2.595693886950609,0.2353111613525256,0.6381246998827086,-0.817931135113251,-0.7312839667532411,-0.9516835966826418,0.9423829522251238,-0.49790466411485795,0.8650948398809166,-0.9622854165672089,-1.0009942771582916,-0.12384188866053221,-1.2762267019310556,0.7712920222160783,0.7201184409510004,0.779483744367753,-1.762828670711382,-0.0038623199058505603,-0.873829783639345,0.5522355139598802,-1.3762138498922944,-1.1066194220310017,1.2152314341907116,0.05727901067260451,0.15114641295756395,0.29208588700478477,-1.2926987542555897,0.9792888922932551,-0.9463140974925113,0.883439595680161,0.3706456171106732,-0.08177682307403422,-0.47332294991059815,1.3951761743033302,-1.6761156446064684,0.6266946201967991,0.2418690971931785,0.9757683977975071,-0.12448811651009352,0.5995728523890195,-0.32181688438111844,-0.3465102167045141,0.7450924421626615,-0.06462150137038737,-0.9730558453768658,-1.803169972606296,-1.415646240961098,-1.197401565341801,0.9075922706514219,-0.7091205077971906,-1.0276347737760627,0.5380829806883355,-1.3678380610816991,-0.384241833930092,1.0254937487462035,-1.0654007272260546,1.2815424921644067,-1.6442022248361263,1.1045538065374758,0.16939116563923345,-0.05036027322015534,0.1748085662363392,-0.8618252699045826,-0.2934214357447494,0.5215076797551154,0.6967115919183898,0.5030398497295235,-1.3726691115386644,-0.48476916140777454,-1.4189375538405415,-0.6137861683516325],\"yaxis\":\"y10\"},{\"histfunc\":\"count\",\"histnorm\":\"\",\"marker\":{\"color\":\"rgba(50, 171, 96, 1.0)\",\"line\":{\"color\":\"#4D5663\",\"width\":1.3}},\"name\":\"C\",\"nbinsx\":10,\"opacity\":0.8,\"orientation\":\"v\",\"type\":\"histogram\",\"x\":[-0.893034094052463,0.32142774154723863,-0.3461919868219022,1.6561915760000439,-1.8166327223963545,1.040524839747155,0.9933425557883019,0.74754787649467,-1.3697550864677888,0.9475525316175184,0.5903154036144674,-0.7193204284641453,-1.9706838414463923,1.424327904930943,1.9116607052143617,-0.7403230847455231,0.32122402861502725,0.2666188237967878,-1.2472844827286877,-0.9864156678890039,-1.5740847455847609,2.4053623963015944,-0.18380770754266082,1.0100927924209668,0.008227393622940006,1.5040658984836761,0.35984666317500086,-0.010621694922587542,-0.9994973288590799,2.595693886950609,0.2353111613525256,0.6381246998827086,-0.817931135113251,-0.7312839667532411,-0.9516835966826418,0.9423829522251238,-0.49790466411485795,0.8650948398809166,-0.9622854165672089,-1.0009942771582916,-0.12384188866053221,-1.2762267019310556,0.7712920222160783,0.7201184409510004,0.779483744367753,-1.762828670711382,-0.0038623199058505603,-0.873829783639345,0.5522355139598802,-1.3762138498922944,-1.1066194220310017,1.2152314341907116,0.05727901067260451,0.15114641295756395,0.29208588700478477,-1.2926987542555897,0.9792888922932551,-0.9463140974925113,0.883439595680161,0.3706456171106732,-0.08177682307403422,-0.47332294991059815,1.3951761743033302,-1.6761156446064684,0.6266946201967991,0.2418690971931785,0.9757683977975071,-0.12448811651009352,0.5995728523890195,-0.32181688438111844,-0.3465102167045141,0.7450924421626615,-0.06462150137038737,-0.9730558453768658,-1.803169972606296,-1.415646240961098,-1.197401565341801,0.9075922706514219,-0.7091205077971906,-1.0276347737760627,0.5380829806883355,-1.3678380610816991,-0.384241833930092,1.0254937487462035,-1.0654007272260546,1.2815424921644067,-1.6442022248361263,1.1045538065374758,0.16939116563923345,-0.05036027322015534,0.1748085662363392,-0.8618252699045826,-0.2934214357447494,0.5215076797551154,0.6967115919183898,0.5030398497295235,-1.3726691115386644,-0.48476916140777454,-1.4189375538405415,-0.6137861683516325],\"xaxis\":\"x11\",\"yaxis\":\"y11\"},{\"line\":{\"color\":\"rgba(128, 128, 128, 1.0)\",\"dash\":\"solid\",\"shape\":\"linear\",\"width\":1.3},\"marker\":{\"size\":2,\"symbol\":\"circle\"},\"mode\":\"markers\",\"name\":\"C\",\"text\":\"\",\"type\":\"scatter\",\"x\":[1.1090472642363909,0.3371178180290584,0.28296765784076466,0.6149689457809169,0.7211730147563021,-1.931355800765621,0.03680030435616002,1.2813817922133333,1.416789465032888,0.008902683668203053,1.8631248309084487,-1.1801272473457742,0.04401416854001588,0.4743579555480905,-0.21738334375790233,1.1026659700438266,0.29241381541813016,1.9837903562943187,-0.6046270328586335,-0.208238480202482,-1.2956492020082484,-0.37442784874958635,-1.003657298561281,1.3352433678906408,0.8956244986767935,0.5599092583174339,1.982762838089537,0.5291275601716697,1.1339893735070545,0.2102874001458619,1.2137571986048645,1.072855331697689,-0.3872297527707569,0.9522421483503503,-0.2483481445228857,0.9895580848046946,0.518066626851122,0.2371795910475936,1.093349591901714,-0.3405701235063494,1.0175990051495523,-0.2952900676832008,-1.8938460290296366,1.620709125112299,-0.5388766183964406,-0.01374413684704235,-1.265764045922524,0.9828292540798076,0.578019867098778,0.7479627043288422,0.44680889106332966,-0.049622289294041756,-1.8675176393309336,0.41784058977742944,-0.78069049218744,-0.05023129981822584,0.9259084674694911,0.6079049195138972,-0.39550342315557996,0.810143942297103,0.18919567905140158,-0.060299398658938505,-0.5525599961640696,1.7448446554934378,1.2423299530024818,-0.7695859381636041,2.6974847759337393,-0.07989190730872778,-1.2611950165908241,1.2276507805607053,-0.6760775174913568,-0.19419234359693743,-1.0456515261340296,0.930610378884731,-0.6337624543021817,1.1934863057915028,-0.46446474733013593,0.9204170401886379,-0.3590193707293201,0.9154528331732662,-0.8434896435775322,-0.05709711280818407,-1.1696974727005032,0.3806656393442269,0.10647308023301408,-1.8337572800242365,0.6746856155101841,0.36735808876414183,-0.009142462456620622,-0.6159435399443982,0.4399981957217681,-0.6886887756599419,-0.8040263573259767,1.8087612711383865,1.0287037258388427,-4.637040204721781,1.7028759081582905,2.150505776094501,0.7446413266198268,0.15277915723958443],\"xaxis\":\"x12\",\"y\":[-0.893034094052463,0.32142774154723863,-0.3461919868219022,1.6561915760000439,-1.8166327223963545,1.040524839747155,0.9933425557883019,0.74754787649467,-1.3697550864677888,0.9475525316175184,0.5903154036144674,-0.7193204284641453,-1.9706838414463923,1.424327904930943,1.9116607052143617,-0.7403230847455231,0.32122402861502725,0.2666188237967878,-1.2472844827286877,-0.9864156678890039,-1.5740847455847609,2.4053623963015944,-0.18380770754266082,1.0100927924209668,0.008227393622940006,1.5040658984836761,0.35984666317500086,-0.010621694922587542,-0.9994973288590799,2.595693886950609,0.2353111613525256,0.6381246998827086,-0.817931135113251,-0.7312839667532411,-0.9516835966826418,0.9423829522251238,-0.49790466411485795,0.8650948398809166,-0.9622854165672089,-1.0009942771582916,-0.12384188866053221,-1.2762267019310556,0.7712920222160783,0.7201184409510004,0.779483744367753,-1.762828670711382,-0.0038623199058505603,-0.873829783639345,0.5522355139598802,-1.3762138498922944,-1.1066194220310017,1.2152314341907116,0.05727901067260451,0.15114641295756395,0.29208588700478477,-1.2926987542555897,0.9792888922932551,-0.9463140974925113,0.883439595680161,0.3706456171106732,-0.08177682307403422,-0.47332294991059815,1.3951761743033302,-1.6761156446064684,0.6266946201967991,0.2418690971931785,0.9757683977975071,-0.12448811651009352,0.5995728523890195,-0.32181688438111844,-0.3465102167045141,0.7450924421626615,-0.06462150137038737,-0.9730558453768658,-1.803169972606296,-1.415646240961098,-1.197401565341801,0.9075922706514219,-0.7091205077971906,-1.0276347737760627,0.5380829806883355,-1.3678380610816991,-0.384241833930092,1.0254937487462035,-1.0654007272260546,1.2815424921644067,-1.6442022248361263,1.1045538065374758,0.16939116563923345,-0.05036027322015534,0.1748085662363392,-0.8618252699045826,-0.2934214357447494,0.5215076797551154,0.6967115919183898,0.5030398497295235,-1.3726691115386644,-0.48476916140777454,-1.4189375538405415,-0.6137861683516325],\"yaxis\":\"y12\"},{\"line\":{\"color\":\"rgba(128, 128, 128, 1.0)\",\"dash\":\"solid\",\"shape\":\"linear\",\"width\":1.3},\"marker\":{\"size\":2,\"symbol\":\"circle\"},\"mode\":\"markers\",\"name\":\"D\",\"text\":\"\",\"type\":\"scatter\",\"x\":[-0.12860260964606524,-1.635076306921547,-0.5868234739317386,0.20536526213217854,-0.7704148764243725,-0.608403118302665,-0.7771802124507576,0.8638616806968181,0.1987514763826788,0.5357468318854114,-0.805512501779021,2.818642095345587,-2.240429562821057,-0.9088716508414676,0.7688400036889937,1.3756705159878135,-0.14107448240173198,0.08435939863095848,-0.47542973557415535,-0.1674320741073042,-0.9928036010743042,-0.7456484563065178,0.3635481444242281,-0.5882618454120682,0.25414012281316667,0.8075350123432112,-2.17954988460998,1.0844212767816042,-0.6155401327201286,-0.8120677127265419,2.682095463168087,-0.8861062679388414,1.469866879622548,0.5739384835339598,-0.23539355790992364,0.3855826865292886,0.7186966464917793,0.3410797855162574,0.5082102613681312,-1.0232298776039623,0.094534363966649,-0.7468149471682591,0.6229276400590422,-1.006463292187963,0.43942570432402883,0.13999106174426013,-0.18938672474156987,-2.1591422816985486,-0.7712419228767906,-0.13630277784588765,1.8808542077379922,-0.03716927274838659,1.2639943341550404,-1.9816255138725716,-0.9559184241340777,0.3247446560710932,0.18749271902478037,0.07551280173086344,-0.49192181482586333,-0.4064583434602699,0.37686420304300106,-1.2662705459050974,0.8542971275153713,0.29222986412994945,-0.4357575569598363,-0.5029881280728328,-0.07342481701123633,-0.580731972963385,0.16814525256958246,0.7540617088613196,-2.807357263191882,0.2943652315452601,-0.9074105640013431,0.15419826504650516,-0.4020928330168706,-1.101935671902682,1.0590467937942818,-0.3873084367063922,0.850415751157854,-1.5268134381322997,0.17885452056056642,0.8598113461865062,-0.5332477857304616,0.42630320958643003,1.4763273314038519,1.0445069006882544,-2.029088486467021,-0.029734088032628603,-0.6745514583669592,-0.42394470279379776,-0.36594863842629466,-0.19923259224542597,-1.3006374051023517,-0.07018709569337656,-0.06322920059030304,0.09020414160573006,-0.42177867349612475,-1.4466636968930875,0.39394302890355015,-0.16504994921024868],\"xaxis\":\"x13\",\"y\":[1.1090472642363909,0.3371178180290584,0.28296765784076466,0.6149689457809169,0.7211730147563021,-1.931355800765621,0.03680030435616002,1.2813817922133333,1.416789465032888,0.008902683668203053,1.8631248309084487,-1.1801272473457742,0.04401416854001588,0.4743579555480905,-0.21738334375790233,1.1026659700438266,0.29241381541813016,1.9837903562943187,-0.6046270328586335,-0.208238480202482,-1.2956492020082484,-0.37442784874958635,-1.003657298561281,1.3352433678906408,0.8956244986767935,0.5599092583174339,1.982762838089537,0.5291275601716697,1.1339893735070545,0.2102874001458619,1.2137571986048645,1.072855331697689,-0.3872297527707569,0.9522421483503503,-0.2483481445228857,0.9895580848046946,0.518066626851122,0.2371795910475936,1.093349591901714,-0.3405701235063494,1.0175990051495523,-0.2952900676832008,-1.8938460290296366,1.620709125112299,-0.5388766183964406,-0.01374413684704235,-1.265764045922524,0.9828292540798076,0.578019867098778,0.7479627043288422,0.44680889106332966,-0.049622289294041756,-1.8675176393309336,0.41784058977742944,-0.78069049218744,-0.05023129981822584,0.9259084674694911,0.6079049195138972,-0.39550342315557996,0.810143942297103,0.18919567905140158,-0.060299398658938505,-0.5525599961640696,1.7448446554934378,1.2423299530024818,-0.7695859381636041,2.6974847759337393,-0.07989190730872778,-1.2611950165908241,1.2276507805607053,-0.6760775174913568,-0.19419234359693743,-1.0456515261340296,0.930610378884731,-0.6337624543021817,1.1934863057915028,-0.46446474733013593,0.9204170401886379,-0.3590193707293201,0.9154528331732662,-0.8434896435775322,-0.05709711280818407,-1.1696974727005032,0.3806656393442269,0.10647308023301408,-1.8337572800242365,0.6746856155101841,0.36735808876414183,-0.009142462456620622,-0.6159435399443982,0.4399981957217681,-0.6886887756599419,-0.8040263573259767,1.8087612711383865,1.0287037258388427,-4.637040204721781,1.7028759081582905,2.150505776094501,0.7446413266198268,0.15277915723958443],\"yaxis\":\"y13\"},{\"line\":{\"color\":\"rgba(128, 128, 128, 1.0)\",\"dash\":\"solid\",\"shape\":\"linear\",\"width\":1.3},\"marker\":{\"size\":2,\"symbol\":\"circle\"},\"mode\":\"markers\",\"name\":\"D\",\"text\":\"\",\"type\":\"scatter\",\"x\":[0.8185633845691501,1.250081636706017,0.11665422761436443,-0.2819901305478438,-0.6630182612897098,-0.3976453012974691,-0.5142082474577344,1.432976072008938,-2.614656326430859,2.142350309515806,0.6315409739127879,-0.708523285057641,0.5887555771349915,-1.4670398225476153,0.38477474395597316,2.1580945911705522,-0.6516882359233838,-1.6072549511834457,1.9364025334076367,-0.3729478015325837,1.456366286150059,0.5439429577293267,-0.06266508726016042,0.08840851093159466,0.525358281417997,-0.3415948287709737,0.2782395112701509,-0.17363095306504372,1.6475287341175775,-0.6562329183539691,-0.606666583795318,0.8233227456549621,-1.1006792057121941,-0.6038368427675496,-2.0685312197481656,-1.986812049601142,0.8016485809681733,0.08165263911139128,0.3018568326471051,1.4093206296813823,-0.1419959788866885,1.0068346160490198,-0.2135577872229478,-0.6212130211754662,2.91751459596935,-0.987940120823154,-0.9635950028352653,1.527761807710861,-2.660145662991958,0.9936137813400049,0.19720730910200923,1.9220446213364466,-1.9824981561511965,0.9563612107483108,1.2114572878639558,1.6761627962728234,1.1172822968710148,-0.852556826829526,0.5588420880177051,-0.48081412546774405,0.21619630678914495,0.28570481398274655,-0.26149968424397974,0.11408904413161775,1.2445996688810668,0.5878519772306224,0.03640300202301524,1.3429085752990346,0.31823227538228843,-0.44676448115245726,-0.32530669262862044,0.9727877924250453,-0.0016704124674436116,-1.704903047178396,0.06066998774211031,0.28333312677425526,-0.5461410231171553,1.1876633432998498,1.823974612474308,0.3496133196099635,1.447369161868816,-0.14884505603801926,0.2162416080437122,-0.5313346616861173,2.1559149096145016,0.4148938103042243,-0.07700947991227261,-0.17273927058773778,1.34532358448916,1.234205040365912,2.044149009033562,-0.009843940123830736,0.9337939733849073,1.087400634796986,0.3308251839280632,0.21105526600770663,1.1130421977450977,0.6499386149537946,-1.782007975306854,0.12607299045661263],\"xaxis\":\"x14\",\"y\":[1.1090472642363909,0.3371178180290584,0.28296765784076466,0.6149689457809169,0.7211730147563021,-1.931355800765621,0.03680030435616002,1.2813817922133333,1.416789465032888,0.008902683668203053,1.8631248309084487,-1.1801272473457742,0.04401416854001588,0.4743579555480905,-0.21738334375790233,1.1026659700438266,0.29241381541813016,1.9837903562943187,-0.6046270328586335,-0.208238480202482,-1.2956492020082484,-0.37442784874958635,-1.003657298561281,1.3352433678906408,0.8956244986767935,0.5599092583174339,1.982762838089537,0.5291275601716697,1.1339893735070545,0.2102874001458619,1.2137571986048645,1.072855331697689,-0.3872297527707569,0.9522421483503503,-0.2483481445228857,0.9895580848046946,0.518066626851122,0.2371795910475936,1.093349591901714,-0.3405701235063494,1.0175990051495523,-0.2952900676832008,-1.8938460290296366,1.620709125112299,-0.5388766183964406,-0.01374413684704235,-1.265764045922524,0.9828292540798076,0.578019867098778,0.7479627043288422,0.44680889106332966,-0.049622289294041756,-1.8675176393309336,0.41784058977742944,-0.78069049218744,-0.05023129981822584,0.9259084674694911,0.6079049195138972,-0.39550342315557996,0.810143942297103,0.18919567905140158,-0.060299398658938505,-0.5525599961640696,1.7448446554934378,1.2423299530024818,-0.7695859381636041,2.6974847759337393,-0.07989190730872778,-1.2611950165908241,1.2276507805607053,-0.6760775174913568,-0.19419234359693743,-1.0456515261340296,0.930610378884731,-0.6337624543021817,1.1934863057915028,-0.46446474733013593,0.9204170401886379,-0.3590193707293201,0.9154528331732662,-0.8434896435775322,-0.05709711280818407,-1.1696974727005032,0.3806656393442269,0.10647308023301408,-1.8337572800242365,0.6746856155101841,0.36735808876414183,-0.009142462456620622,-0.6159435399443982,0.4399981957217681,-0.6886887756599419,-0.8040263573259767,1.8087612711383865,1.0287037258388427,-4.637040204721781,1.7028759081582905,2.150505776094501,0.7446413266198268,0.15277915723958443],\"yaxis\":\"y14\"},{\"line\":{\"color\":\"rgba(128, 128, 128, 1.0)\",\"dash\":\"solid\",\"shape\":\"linear\",\"width\":1.3},\"marker\":{\"size\":2,\"symbol\":\"circle\"},\"mode\":\"markers\",\"name\":\"D\",\"text\":\"\",\"type\":\"scatter\",\"x\":[-0.893034094052463,0.32142774154723863,-0.3461919868219022,1.6561915760000439,-1.8166327223963545,1.040524839747155,0.9933425557883019,0.74754787649467,-1.3697550864677888,0.9475525316175184,0.5903154036144674,-0.7193204284641453,-1.9706838414463923,1.424327904930943,1.9116607052143617,-0.7403230847455231,0.32122402861502725,0.2666188237967878,-1.2472844827286877,-0.9864156678890039,-1.5740847455847609,2.4053623963015944,-0.18380770754266082,1.0100927924209668,0.008227393622940006,1.5040658984836761,0.35984666317500086,-0.010621694922587542,-0.9994973288590799,2.595693886950609,0.2353111613525256,0.6381246998827086,-0.817931135113251,-0.7312839667532411,-0.9516835966826418,0.9423829522251238,-0.49790466411485795,0.8650948398809166,-0.9622854165672089,-1.0009942771582916,-0.12384188866053221,-1.2762267019310556,0.7712920222160783,0.7201184409510004,0.779483744367753,-1.762828670711382,-0.0038623199058505603,-0.873829783639345,0.5522355139598802,-1.3762138498922944,-1.1066194220310017,1.2152314341907116,0.05727901067260451,0.15114641295756395,0.29208588700478477,-1.2926987542555897,0.9792888922932551,-0.9463140974925113,0.883439595680161,0.3706456171106732,-0.08177682307403422,-0.47332294991059815,1.3951761743033302,-1.6761156446064684,0.6266946201967991,0.2418690971931785,0.9757683977975071,-0.12448811651009352,0.5995728523890195,-0.32181688438111844,-0.3465102167045141,0.7450924421626615,-0.06462150137038737,-0.9730558453768658,-1.803169972606296,-1.415646240961098,-1.197401565341801,0.9075922706514219,-0.7091205077971906,-1.0276347737760627,0.5380829806883355,-1.3678380610816991,-0.384241833930092,1.0254937487462035,-1.0654007272260546,1.2815424921644067,-1.6442022248361263,1.1045538065374758,0.16939116563923345,-0.05036027322015534,0.1748085662363392,-0.8618252699045826,-0.2934214357447494,0.5215076797551154,0.6967115919183898,0.5030398497295235,-1.3726691115386644,-0.48476916140777454,-1.4189375538405415,-0.6137861683516325],\"xaxis\":\"x15\",\"y\":[1.1090472642363909,0.3371178180290584,0.28296765784076466,0.6149689457809169,0.7211730147563021,-1.931355800765621,0.03680030435616002,1.2813817922133333,1.416789465032888,0.008902683668203053,1.8631248309084487,-1.1801272473457742,0.04401416854001588,0.4743579555480905,-0.21738334375790233,1.1026659700438266,0.29241381541813016,1.9837903562943187,-0.6046270328586335,-0.208238480202482,-1.2956492020082484,-0.37442784874958635,-1.003657298561281,1.3352433678906408,0.8956244986767935,0.5599092583174339,1.982762838089537,0.5291275601716697,1.1339893735070545,0.2102874001458619,1.2137571986048645,1.072855331697689,-0.3872297527707569,0.9522421483503503,-0.2483481445228857,0.9895580848046946,0.518066626851122,0.2371795910475936,1.093349591901714,-0.3405701235063494,1.0175990051495523,-0.2952900676832008,-1.8938460290296366,1.620709125112299,-0.5388766183964406,-0.01374413684704235,-1.265764045922524,0.9828292540798076,0.578019867098778,0.7479627043288422,0.44680889106332966,-0.049622289294041756,-1.8675176393309336,0.41784058977742944,-0.78069049218744,-0.05023129981822584,0.9259084674694911,0.6079049195138972,-0.39550342315557996,0.810143942297103,0.18919567905140158,-0.060299398658938505,-0.5525599961640696,1.7448446554934378,1.2423299530024818,-0.7695859381636041,2.6974847759337393,-0.07989190730872778,-1.2611950165908241,1.2276507805607053,-0.6760775174913568,-0.19419234359693743,-1.0456515261340296,0.930610378884731,-0.6337624543021817,1.1934863057915028,-0.46446474733013593,0.9204170401886379,-0.3590193707293201,0.9154528331732662,-0.8434896435775322,-0.05709711280818407,-1.1696974727005032,0.3806656393442269,0.10647308023301408,-1.8337572800242365,0.6746856155101841,0.36735808876414183,-0.009142462456620622,-0.6159435399443982,0.4399981957217681,-0.6886887756599419,-0.8040263573259767,1.8087612711383865,1.0287037258388427,-4.637040204721781,1.7028759081582905,2.150505776094501,0.7446413266198268,0.15277915723958443],\"yaxis\":\"y15\"},{\"histfunc\":\"count\",\"histnorm\":\"\",\"marker\":{\"color\":\"rgba(128, 0, 128, 1.0)\",\"line\":{\"color\":\"#4D5663\",\"width\":1.3}},\"name\":\"D\",\"nbinsx\":10,\"opacity\":0.8,\"orientation\":\"v\",\"type\":\"histogram\",\"x\":[1.1090472642363909,0.3371178180290584,0.28296765784076466,0.6149689457809169,0.7211730147563021,-1.931355800765621,0.03680030435616002,1.2813817922133333,1.416789465032888,0.008902683668203053,1.8631248309084487,-1.1801272473457742,0.04401416854001588,0.4743579555480905,-0.21738334375790233,1.1026659700438266,0.29241381541813016,1.9837903562943187,-0.6046270328586335,-0.208238480202482,-1.2956492020082484,-0.37442784874958635,-1.003657298561281,1.3352433678906408,0.8956244986767935,0.5599092583174339,1.982762838089537,0.5291275601716697,1.1339893735070545,0.2102874001458619,1.2137571986048645,1.072855331697689,-0.3872297527707569,0.9522421483503503,-0.2483481445228857,0.9895580848046946,0.518066626851122,0.2371795910475936,1.093349591901714,-0.3405701235063494,1.0175990051495523,-0.2952900676832008,-1.8938460290296366,1.620709125112299,-0.5388766183964406,-0.01374413684704235,-1.265764045922524,0.9828292540798076,0.578019867098778,0.7479627043288422,0.44680889106332966,-0.049622289294041756,-1.8675176393309336,0.41784058977742944,-0.78069049218744,-0.05023129981822584,0.9259084674694911,0.6079049195138972,-0.39550342315557996,0.810143942297103,0.18919567905140158,-0.060299398658938505,-0.5525599961640696,1.7448446554934378,1.2423299530024818,-0.7695859381636041,2.6974847759337393,-0.07989190730872778,-1.2611950165908241,1.2276507805607053,-0.6760775174913568,-0.19419234359693743,-1.0456515261340296,0.930610378884731,-0.6337624543021817,1.1934863057915028,-0.46446474733013593,0.9204170401886379,-0.3590193707293201,0.9154528331732662,-0.8434896435775322,-0.05709711280818407,-1.1696974727005032,0.3806656393442269,0.10647308023301408,-1.8337572800242365,0.6746856155101841,0.36735808876414183,-0.009142462456620622,-0.6159435399443982,0.4399981957217681,-0.6886887756599419,-0.8040263573259767,1.8087612711383865,1.0287037258388427,-4.637040204721781,1.7028759081582905,2.150505776094501,0.7446413266198268,0.15277915723958443],\"xaxis\":\"x16\",\"yaxis\":\"y16\"}],                        {\"bargap\":0.02,\"legend\":{\"bgcolor\":\"#F5F6F9\",\"font\":{\"color\":\"#4D5663\"}},\"paper_bgcolor\":\"#F5F6F9\",\"plot_bgcolor\":\"#F5F6F9\",\"showlegend\":false,\"template\":{\"data\":{\"bar\":[{\"error_x\":{\"color\":\"#2a3f5f\"},\"error_y\":{\"color\":\"#2a3f5f\"},\"marker\":{\"line\":{\"color\":\"#E5ECF6\",\"width\":0.5},\"pattern\":{\"fillmode\":\"overlay\",\"size\":10,\"solidity\":0.2}},\"type\":\"bar\"}],\"barpolar\":[{\"marker\":{\"line\":{\"color\":\"#E5ECF6\",\"width\":0.5},\"pattern\":{\"fillmode\":\"overlay\",\"size\":10,\"solidity\":0.2}},\"type\":\"barpolar\"}],\"carpet\":[{\"aaxis\":{\"endlinecolor\":\"#2a3f5f\",\"gridcolor\":\"white\",\"linecolor\":\"white\",\"minorgridcolor\":\"white\",\"startlinecolor\":\"#2a3f5f\"},\"baxis\":{\"endlinecolor\":\"#2a3f5f\",\"gridcolor\":\"white\",\"linecolor\":\"white\",\"minorgridcolor\":\"white\",\"startlinecolor\":\"#2a3f5f\"},\"type\":\"carpet\"}],\"choropleth\":[{\"colorbar\":{\"outlinewidth\":0,\"ticks\":\"\"},\"type\":\"choropleth\"}],\"contour\":[{\"colorbar\":{\"outlinewidth\":0,\"ticks\":\"\"},\"colorscale\":[[0.0,\"#0d0887\"],[0.1111111111111111,\"#46039f\"],[0.2222222222222222,\"#7201a8\"],[0.3333333333333333,\"#9c179e\"],[0.4444444444444444,\"#bd3786\"],[0.5555555555555556,\"#d8576b\"],[0.6666666666666666,\"#ed7953\"],[0.7777777777777778,\"#fb9f3a\"],[0.8888888888888888,\"#fdca26\"],[1.0,\"#f0f921\"]],\"type\":\"contour\"}],\"contourcarpet\":[{\"colorbar\":{\"outlinewidth\":0,\"ticks\":\"\"},\"type\":\"contourcarpet\"}],\"heatmap\":[{\"colorbar\":{\"outlinewidth\":0,\"ticks\":\"\"},\"colorscale\":[[0.0,\"#0d0887\"],[0.1111111111111111,\"#46039f\"],[0.2222222222222222,\"#7201a8\"],[0.3333333333333333,\"#9c179e\"],[0.4444444444444444,\"#bd3786\"],[0.5555555555555556,\"#d8576b\"],[0.6666666666666666,\"#ed7953\"],[0.7777777777777778,\"#fb9f3a\"],[0.8888888888888888,\"#fdca26\"],[1.0,\"#f0f921\"]],\"type\":\"heatmap\"}],\"heatmapgl\":[{\"colorbar\":{\"outlinewidth\":0,\"ticks\":\"\"},\"colorscale\":[[0.0,\"#0d0887\"],[0.1111111111111111,\"#46039f\"],[0.2222222222222222,\"#7201a8\"],[0.3333333333333333,\"#9c179e\"],[0.4444444444444444,\"#bd3786\"],[0.5555555555555556,\"#d8576b\"],[0.6666666666666666,\"#ed7953\"],[0.7777777777777778,\"#fb9f3a\"],[0.8888888888888888,\"#fdca26\"],[1.0,\"#f0f921\"]],\"type\":\"heatmapgl\"}],\"histogram\":[{\"marker\":{\"pattern\":{\"fillmode\":\"overlay\",\"size\":10,\"solidity\":0.2}},\"type\":\"histogram\"}],\"histogram2d\":[{\"colorbar\":{\"outlinewidth\":0,\"ticks\":\"\"},\"colorscale\":[[0.0,\"#0d0887\"],[0.1111111111111111,\"#46039f\"],[0.2222222222222222,\"#7201a8\"],[0.3333333333333333,\"#9c179e\"],[0.4444444444444444,\"#bd3786\"],[0.5555555555555556,\"#d8576b\"],[0.6666666666666666,\"#ed7953\"],[0.7777777777777778,\"#fb9f3a\"],[0.8888888888888888,\"#fdca26\"],[1.0,\"#f0f921\"]],\"type\":\"histogram2d\"}],\"histogram2dcontour\":[{\"colorbar\":{\"outlinewidth\":0,\"ticks\":\"\"},\"colorscale\":[[0.0,\"#0d0887\"],[0.1111111111111111,\"#46039f\"],[0.2222222222222222,\"#7201a8\"],[0.3333333333333333,\"#9c179e\"],[0.4444444444444444,\"#bd3786\"],[0.5555555555555556,\"#d8576b\"],[0.6666666666666666,\"#ed7953\"],[0.7777777777777778,\"#fb9f3a\"],[0.8888888888888888,\"#fdca26\"],[1.0,\"#f0f921\"]],\"type\":\"histogram2dcontour\"}],\"mesh3d\":[{\"colorbar\":{\"outlinewidth\":0,\"ticks\":\"\"},\"type\":\"mesh3d\"}],\"parcoords\":[{\"line\":{\"colorbar\":{\"outlinewidth\":0,\"ticks\":\"\"}},\"type\":\"parcoords\"}],\"pie\":[{\"automargin\":true,\"type\":\"pie\"}],\"scatter\":[{\"marker\":{\"colorbar\":{\"outlinewidth\":0,\"ticks\":\"\"}},\"type\":\"scatter\"}],\"scatter3d\":[{\"line\":{\"colorbar\":{\"outlinewidth\":0,\"ticks\":\"\"}},\"marker\":{\"colorbar\":{\"outlinewidth\":0,\"ticks\":\"\"}},\"type\":\"scatter3d\"}],\"scattercarpet\":[{\"marker\":{\"colorbar\":{\"outlinewidth\":0,\"ticks\":\"\"}},\"type\":\"scattercarpet\"}],\"scattergeo\":[{\"marker\":{\"colorbar\":{\"outlinewidth\":0,\"ticks\":\"\"}},\"type\":\"scattergeo\"}],\"scattergl\":[{\"marker\":{\"colorbar\":{\"outlinewidth\":0,\"ticks\":\"\"}},\"type\":\"scattergl\"}],\"scattermapbox\":[{\"marker\":{\"colorbar\":{\"outlinewidth\":0,\"ticks\":\"\"}},\"type\":\"scattermapbox\"}],\"scatterpolar\":[{\"marker\":{\"colorbar\":{\"outlinewidth\":0,\"ticks\":\"\"}},\"type\":\"scatterpolar\"}],\"scatterpolargl\":[{\"marker\":{\"colorbar\":{\"outlinewidth\":0,\"ticks\":\"\"}},\"type\":\"scatterpolargl\"}],\"scatterternary\":[{\"marker\":{\"colorbar\":{\"outlinewidth\":0,\"ticks\":\"\"}},\"type\":\"scatterternary\"}],\"surface\":[{\"colorbar\":{\"outlinewidth\":0,\"ticks\":\"\"},\"colorscale\":[[0.0,\"#0d0887\"],[0.1111111111111111,\"#46039f\"],[0.2222222222222222,\"#7201a8\"],[0.3333333333333333,\"#9c179e\"],[0.4444444444444444,\"#bd3786\"],[0.5555555555555556,\"#d8576b\"],[0.6666666666666666,\"#ed7953\"],[0.7777777777777778,\"#fb9f3a\"],[0.8888888888888888,\"#fdca26\"],[1.0,\"#f0f921\"]],\"type\":\"surface\"}],\"table\":[{\"cells\":{\"fill\":{\"color\":\"#EBF0F8\"},\"line\":{\"color\":\"white\"}},\"header\":{\"fill\":{\"color\":\"#C8D4E3\"},\"line\":{\"color\":\"white\"}},\"type\":\"table\"}]},\"layout\":{\"annotationdefaults\":{\"arrowcolor\":\"#2a3f5f\",\"arrowhead\":0,\"arrowwidth\":1},\"autotypenumbers\":\"strict\",\"coloraxis\":{\"colorbar\":{\"outlinewidth\":0,\"ticks\":\"\"}},\"colorscale\":{\"diverging\":[[0,\"#8e0152\"],[0.1,\"#c51b7d\"],[0.2,\"#de77ae\"],[0.3,\"#f1b6da\"],[0.4,\"#fde0ef\"],[0.5,\"#f7f7f7\"],[0.6,\"#e6f5d0\"],[0.7,\"#b8e186\"],[0.8,\"#7fbc41\"],[0.9,\"#4d9221\"],[1,\"#276419\"]],\"sequential\":[[0.0,\"#0d0887\"],[0.1111111111111111,\"#46039f\"],[0.2222222222222222,\"#7201a8\"],[0.3333333333333333,\"#9c179e\"],[0.4444444444444444,\"#bd3786\"],[0.5555555555555556,\"#d8576b\"],[0.6666666666666666,\"#ed7953\"],[0.7777777777777778,\"#fb9f3a\"],[0.8888888888888888,\"#fdca26\"],[1.0,\"#f0f921\"]],\"sequentialminus\":[[0.0,\"#0d0887\"],[0.1111111111111111,\"#46039f\"],[0.2222222222222222,\"#7201a8\"],[0.3333333333333333,\"#9c179e\"],[0.4444444444444444,\"#bd3786\"],[0.5555555555555556,\"#d8576b\"],[0.6666666666666666,\"#ed7953\"],[0.7777777777777778,\"#fb9f3a\"],[0.8888888888888888,\"#fdca26\"],[1.0,\"#f0f921\"]]},\"colorway\":[\"#636efa\",\"#EF553B\",\"#00cc96\",\"#ab63fa\",\"#FFA15A\",\"#19d3f3\",\"#FF6692\",\"#B6E880\",\"#FF97FF\",\"#FECB52\"],\"font\":{\"color\":\"#2a3f5f\"},\"geo\":{\"bgcolor\":\"white\",\"lakecolor\":\"white\",\"landcolor\":\"#E5ECF6\",\"showlakes\":true,\"showland\":true,\"subunitcolor\":\"white\"},\"hoverlabel\":{\"align\":\"left\"},\"hovermode\":\"closest\",\"mapbox\":{\"style\":\"light\"},\"paper_bgcolor\":\"white\",\"plot_bgcolor\":\"#E5ECF6\",\"polar\":{\"angularaxis\":{\"gridcolor\":\"white\",\"linecolor\":\"white\",\"ticks\":\"\"},\"bgcolor\":\"#E5ECF6\",\"radialaxis\":{\"gridcolor\":\"white\",\"linecolor\":\"white\",\"ticks\":\"\"}},\"scene\":{\"xaxis\":{\"backgroundcolor\":\"#E5ECF6\",\"gridcolor\":\"white\",\"gridwidth\":2,\"linecolor\":\"white\",\"showbackground\":true,\"ticks\":\"\",\"zerolinecolor\":\"white\"},\"yaxis\":{\"backgroundcolor\":\"#E5ECF6\",\"gridcolor\":\"white\",\"gridwidth\":2,\"linecolor\":\"white\",\"showbackground\":true,\"ticks\":\"\",\"zerolinecolor\":\"white\"},\"zaxis\":{\"backgroundcolor\":\"#E5ECF6\",\"gridcolor\":\"white\",\"gridwidth\":2,\"linecolor\":\"white\",\"showbackground\":true,\"ticks\":\"\",\"zerolinecolor\":\"white\"}},\"shapedefaults\":{\"line\":{\"color\":\"#2a3f5f\"}},\"ternary\":{\"aaxis\":{\"gridcolor\":\"white\",\"linecolor\":\"white\",\"ticks\":\"\"},\"baxis\":{\"gridcolor\":\"white\",\"linecolor\":\"white\",\"ticks\":\"\"},\"bgcolor\":\"#E5ECF6\",\"caxis\":{\"gridcolor\":\"white\",\"linecolor\":\"white\",\"ticks\":\"\"}},\"title\":{\"x\":0.05},\"xaxis\":{\"automargin\":true,\"gridcolor\":\"white\",\"linecolor\":\"white\",\"ticks\":\"\",\"title\":{\"standoff\":15},\"zerolinecolor\":\"white\",\"zerolinewidth\":2},\"yaxis\":{\"automargin\":true,\"gridcolor\":\"white\",\"linecolor\":\"white\",\"ticks\":\"\",\"title\":{\"standoff\":15},\"zerolinecolor\":\"white\",\"zerolinewidth\":2}}},\"title\":{\"font\":{\"color\":\"#4D5663\"}},\"xaxis\":{\"anchor\":\"y\",\"domain\":[0.0,0.2125],\"gridcolor\":\"#E1E5ED\",\"showgrid\":false,\"tickfont\":{\"color\":\"#4D5663\"},\"title\":{\"font\":{\"color\":\"#4D5663\"},\"text\":\"\"},\"zerolinecolor\":\"#E1E5ED\"},\"xaxis10\":{\"anchor\":\"y10\",\"domain\":[0.2625,0.475],\"gridcolor\":\"#E1E5ED\",\"showgrid\":false,\"tickfont\":{\"color\":\"#4D5663\"},\"title\":{\"font\":{\"color\":\"#4D5663\"},\"text\":\"\"},\"zerolinecolor\":\"#E1E5ED\"},\"xaxis11\":{\"anchor\":\"y11\",\"domain\":[0.525,0.7375],\"gridcolor\":\"#E1E5ED\",\"showgrid\":false,\"tickfont\":{\"color\":\"#4D5663\"},\"title\":{\"font\":{\"color\":\"#4D5663\"},\"text\":\"\"},\"zerolinecolor\":\"#E1E5ED\"},\"xaxis12\":{\"anchor\":\"y12\",\"domain\":[0.7875,1.0],\"gridcolor\":\"#E1E5ED\",\"showgrid\":false,\"tickfont\":{\"color\":\"#4D5663\"},\"title\":{\"font\":{\"color\":\"#4D5663\"},\"text\":\"\"},\"zerolinecolor\":\"#E1E5ED\"},\"xaxis13\":{\"anchor\":\"y13\",\"domain\":[0.0,0.2125],\"gridcolor\":\"#E1E5ED\",\"showgrid\":false,\"tickfont\":{\"color\":\"#4D5663\"},\"title\":{\"font\":{\"color\":\"#4D5663\"},\"text\":\"\"},\"zerolinecolor\":\"#E1E5ED\"},\"xaxis14\":{\"anchor\":\"y14\",\"domain\":[0.2625,0.475],\"gridcolor\":\"#E1E5ED\",\"showgrid\":false,\"tickfont\":{\"color\":\"#4D5663\"},\"title\":{\"font\":{\"color\":\"#4D5663\"},\"text\":\"\"},\"zerolinecolor\":\"#E1E5ED\"},\"xaxis15\":{\"anchor\":\"y15\",\"domain\":[0.525,0.7375],\"gridcolor\":\"#E1E5ED\",\"showgrid\":false,\"tickfont\":{\"color\":\"#4D5663\"},\"title\":{\"font\":{\"color\":\"#4D5663\"},\"text\":\"\"},\"zerolinecolor\":\"#E1E5ED\"},\"xaxis16\":{\"anchor\":\"y16\",\"domain\":[0.7875,1.0],\"gridcolor\":\"#E1E5ED\",\"showgrid\":false,\"tickfont\":{\"color\":\"#4D5663\"},\"title\":{\"font\":{\"color\":\"#4D5663\"},\"text\":\"\"},\"zerolinecolor\":\"#E1E5ED\"},\"xaxis2\":{\"anchor\":\"y2\",\"domain\":[0.2625,0.475],\"gridcolor\":\"#E1E5ED\",\"showgrid\":false,\"tickfont\":{\"color\":\"#4D5663\"},\"title\":{\"font\":{\"color\":\"#4D5663\"},\"text\":\"\"},\"zerolinecolor\":\"#E1E5ED\"},\"xaxis3\":{\"anchor\":\"y3\",\"domain\":[0.525,0.7375],\"gridcolor\":\"#E1E5ED\",\"showgrid\":false,\"tickfont\":{\"color\":\"#4D5663\"},\"title\":{\"font\":{\"color\":\"#4D5663\"},\"text\":\"\"},\"zerolinecolor\":\"#E1E5ED\"},\"xaxis4\":{\"anchor\":\"y4\",\"domain\":[0.7875,1.0],\"gridcolor\":\"#E1E5ED\",\"showgrid\":false,\"tickfont\":{\"color\":\"#4D5663\"},\"title\":{\"font\":{\"color\":\"#4D5663\"},\"text\":\"\"},\"zerolinecolor\":\"#E1E5ED\"},\"xaxis5\":{\"anchor\":\"y5\",\"domain\":[0.0,0.2125],\"gridcolor\":\"#E1E5ED\",\"showgrid\":false,\"tickfont\":{\"color\":\"#4D5663\"},\"title\":{\"font\":{\"color\":\"#4D5663\"},\"text\":\"\"},\"zerolinecolor\":\"#E1E5ED\"},\"xaxis6\":{\"anchor\":\"y6\",\"domain\":[0.2625,0.475],\"gridcolor\":\"#E1E5ED\",\"showgrid\":false,\"tickfont\":{\"color\":\"#4D5663\"},\"title\":{\"font\":{\"color\":\"#4D5663\"},\"text\":\"\"},\"zerolinecolor\":\"#E1E5ED\"},\"xaxis7\":{\"anchor\":\"y7\",\"domain\":[0.525,0.7375],\"gridcolor\":\"#E1E5ED\",\"showgrid\":false,\"tickfont\":{\"color\":\"#4D5663\"},\"title\":{\"font\":{\"color\":\"#4D5663\"},\"text\":\"\"},\"zerolinecolor\":\"#E1E5ED\"},\"xaxis8\":{\"anchor\":\"y8\",\"domain\":[0.7875,1.0],\"gridcolor\":\"#E1E5ED\",\"showgrid\":false,\"tickfont\":{\"color\":\"#4D5663\"},\"title\":{\"font\":{\"color\":\"#4D5663\"},\"text\":\"\"},\"zerolinecolor\":\"#E1E5ED\"},\"xaxis9\":{\"anchor\":\"y9\",\"domain\":[0.0,0.2125],\"gridcolor\":\"#E1E5ED\",\"showgrid\":false,\"tickfont\":{\"color\":\"#4D5663\"},\"title\":{\"font\":{\"color\":\"#4D5663\"},\"text\":\"\"},\"zerolinecolor\":\"#E1E5ED\"},\"yaxis\":{\"anchor\":\"x\",\"domain\":[0.8025,1.0],\"gridcolor\":\"#E1E5ED\",\"showgrid\":false,\"tickfont\":{\"color\":\"#4D5663\"},\"title\":{\"font\":{\"color\":\"#4D5663\"},\"text\":\"\"},\"zerolinecolor\":\"#E1E5ED\"},\"yaxis10\":{\"anchor\":\"x10\",\"domain\":[0.2675,0.465],\"gridcolor\":\"#E1E5ED\",\"showgrid\":false,\"tickfont\":{\"color\":\"#4D5663\"},\"title\":{\"font\":{\"color\":\"#4D5663\"},\"text\":\"\"},\"zerolinecolor\":\"#E1E5ED\"},\"yaxis11\":{\"anchor\":\"x11\",\"domain\":[0.2675,0.465],\"gridcolor\":\"#E1E5ED\",\"showgrid\":false,\"tickfont\":{\"color\":\"#4D5663\"},\"title\":{\"font\":{\"color\":\"#4D5663\"},\"text\":\"\"},\"zerolinecolor\":\"#E1E5ED\"},\"yaxis12\":{\"anchor\":\"x12\",\"domain\":[0.2675,0.465],\"gridcolor\":\"#E1E5ED\",\"showgrid\":false,\"tickfont\":{\"color\":\"#4D5663\"},\"title\":{\"font\":{\"color\":\"#4D5663\"},\"text\":\"\"},\"zerolinecolor\":\"#E1E5ED\"},\"yaxis13\":{\"anchor\":\"x13\",\"domain\":[0.0,0.1975],\"gridcolor\":\"#E1E5ED\",\"showgrid\":false,\"tickfont\":{\"color\":\"#4D5663\"},\"title\":{\"font\":{\"color\":\"#4D5663\"},\"text\":\"\"},\"zerolinecolor\":\"#E1E5ED\"},\"yaxis14\":{\"anchor\":\"x14\",\"domain\":[0.0,0.1975],\"gridcolor\":\"#E1E5ED\",\"showgrid\":false,\"tickfont\":{\"color\":\"#4D5663\"},\"title\":{\"font\":{\"color\":\"#4D5663\"},\"text\":\"\"},\"zerolinecolor\":\"#E1E5ED\"},\"yaxis15\":{\"anchor\":\"x15\",\"domain\":[0.0,0.1975],\"gridcolor\":\"#E1E5ED\",\"showgrid\":false,\"tickfont\":{\"color\":\"#4D5663\"},\"title\":{\"font\":{\"color\":\"#4D5663\"},\"text\":\"\"},\"zerolinecolor\":\"#E1E5ED\"},\"yaxis16\":{\"anchor\":\"x16\",\"domain\":[0.0,0.1975],\"gridcolor\":\"#E1E5ED\",\"showgrid\":false,\"tickfont\":{\"color\":\"#4D5663\"},\"title\":{\"font\":{\"color\":\"#4D5663\"},\"text\":\"\"},\"zerolinecolor\":\"#E1E5ED\"},\"yaxis2\":{\"anchor\":\"x2\",\"domain\":[0.8025,1.0],\"gridcolor\":\"#E1E5ED\",\"showgrid\":false,\"tickfont\":{\"color\":\"#4D5663\"},\"title\":{\"font\":{\"color\":\"#4D5663\"},\"text\":\"\"},\"zerolinecolor\":\"#E1E5ED\"},\"yaxis3\":{\"anchor\":\"x3\",\"domain\":[0.8025,1.0],\"gridcolor\":\"#E1E5ED\",\"showgrid\":false,\"tickfont\":{\"color\":\"#4D5663\"},\"title\":{\"font\":{\"color\":\"#4D5663\"},\"text\":\"\"},\"zerolinecolor\":\"#E1E5ED\"},\"yaxis4\":{\"anchor\":\"x4\",\"domain\":[0.8025,1.0],\"gridcolor\":\"#E1E5ED\",\"showgrid\":false,\"tickfont\":{\"color\":\"#4D5663\"},\"title\":{\"font\":{\"color\":\"#4D5663\"},\"text\":\"\"},\"zerolinecolor\":\"#E1E5ED\"},\"yaxis5\":{\"anchor\":\"x5\",\"domain\":[0.535,0.7325],\"gridcolor\":\"#E1E5ED\",\"showgrid\":false,\"tickfont\":{\"color\":\"#4D5663\"},\"title\":{\"font\":{\"color\":\"#4D5663\"},\"text\":\"\"},\"zerolinecolor\":\"#E1E5ED\"},\"yaxis6\":{\"anchor\":\"x6\",\"domain\":[0.535,0.7325],\"gridcolor\":\"#E1E5ED\",\"showgrid\":false,\"tickfont\":{\"color\":\"#4D5663\"},\"title\":{\"font\":{\"color\":\"#4D5663\"},\"text\":\"\"},\"zerolinecolor\":\"#E1E5ED\"},\"yaxis7\":{\"anchor\":\"x7\",\"domain\":[0.535,0.7325],\"gridcolor\":\"#E1E5ED\",\"showgrid\":false,\"tickfont\":{\"color\":\"#4D5663\"},\"title\":{\"font\":{\"color\":\"#4D5663\"},\"text\":\"\"},\"zerolinecolor\":\"#E1E5ED\"},\"yaxis8\":{\"anchor\":\"x8\",\"domain\":[0.535,0.7325],\"gridcolor\":\"#E1E5ED\",\"showgrid\":false,\"tickfont\":{\"color\":\"#4D5663\"},\"title\":{\"font\":{\"color\":\"#4D5663\"},\"text\":\"\"},\"zerolinecolor\":\"#E1E5ED\"},\"yaxis9\":{\"anchor\":\"x9\",\"domain\":[0.2675,0.465],\"gridcolor\":\"#E1E5ED\",\"showgrid\":false,\"tickfont\":{\"color\":\"#4D5663\"},\"title\":{\"font\":{\"color\":\"#4D5663\"},\"text\":\"\"},\"zerolinecolor\":\"#E1E5ED\"}},                        {\"showLink\": true, \"linkText\": \"Export to plot.ly\", \"plotlyServerURL\": \"https://plot.ly\", \"responsive\": true}                    ).then(function(){\n",
       "                            \n",
       "var gd = document.getElementById('11840916-bbe3-4577-8026-44be345041df');\n",
       "var x = new MutationObserver(function (mutations, observer) {{\n",
       "        var display = window.getComputedStyle(gd).display;\n",
       "        if (!display || display === 'none') {{\n",
       "            console.log([gd, 'removed!']);\n",
       "            Plotly.purge(gd);\n",
       "            observer.disconnect();\n",
       "        }}\n",
       "}});\n",
       "\n",
       "// Listen for the removal of the full notebook cells\n",
       "var notebookContainer = gd.closest('#notebook-container');\n",
       "if (notebookContainer) {{\n",
       "    x.observe(notebookContainer, {childList: true});\n",
       "}}\n",
       "\n",
       "// Listen for the clearing of the current output cell\n",
       "var outputEl = gd.closest('.output');\n",
       "if (outputEl) {{\n",
       "    x.observe(outputEl, {childList: true});\n",
       "}}\n",
       "\n",
       "                        })                };                });            </script>        </div>"
      ]
     },
     "metadata": {},
     "output_type": "display_data"
    }
   ],
   "source": [
    "df.scatter_matrix()"
   ]
  },
  {
   "cell_type": "markdown",
   "metadata": {
    "collapsed": true
   },
   "source": [
    "# Great Job!"
   ]
  }
 ],
 "metadata": {
  "kernelspec": {
   "display_name": "Python 3",
   "language": "python",
   "name": "python3"
  },
  "language_info": {
   "codemirror_mode": {
    "name": "ipython",
    "version": 3
   },
   "file_extension": ".py",
   "mimetype": "text/x-python",
   "name": "python",
   "nbconvert_exporter": "python",
   "pygments_lexer": "ipython3",
   "version": "3.8.8"
  }
 },
 "nbformat": 4,
 "nbformat_minor": 1
}
